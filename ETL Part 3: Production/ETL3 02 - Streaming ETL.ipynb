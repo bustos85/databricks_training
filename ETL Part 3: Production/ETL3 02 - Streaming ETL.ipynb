{
 "cells": [
  {
   "cell_type": "code",
   "execution_count": 5,
   "metadata": {},
   "outputs": [],
   "source": [
    "%run \"./Includes/Classroom-Setup\""
   ]
  },
  {
   "cell_type": "markdown",
   "metadata": {},
   "source": [
    "### ETL on Streaming Data\n",
    "\n",
    "Spark Streaming enables scalable and fault-tolerant ETL operations that continuously clean and aggregate data before pushing it to data stores.  Streaming applications can also incorporate machine learning and other Spark features to trigger actions in real time, such as flagging potentially fraudulent user activity.  This lesson is meant as an introduction to streaming applications as they pertain to production ETL jobs.  \n",
    "\n",
    "Streaming poses a number of specific obstacles. These obstacles include:<br><br>\n",
    "\n",
    "* *End-to-end reliability and correctness:* Applications must be resilient to failures of any element of the pipeline caused by network issues, traffic spikes, and/or hardware malfunctions\n",
    "* *Handle complex transformations:* applications receive many data formats that often involve complex business logic\n",
    "* *Late and out-of-order data:* network issues can result in data that arrives late and out of its intended order\n",
    "* *Integrate with other systems:* Applications must integrate with the rest of a data infrastructure\n",
    "\n",
    "Streaming data sources in Spark offer the same DataFrames API for interacting with your data.  The crucial difference is that in structured streaming, the DataFrame is unbounded.  In other words, data arrives in an input stream and new records are appended to the input DataFrame.\n"
   ]
  },
  {
   "cell_type": "markdown",
   "metadata": {},
   "source": [
    "### Connecting to the Stream\n",
    "\n",
    "As data technology matures, the industry has been converging on a set of technologies.  Apache Kafka and the AWS managed alternative Kinesis has become the ingestion engine at the heart of many pipelines.  \n",
    "\n",
    "This technology brokers messages between producers, such as an IoT device writing data, and consumers, such as a Spark cluster reading data to perform real time analytics. There can be a many-to-many relationship between producers and consumers and the broker itself is scalable and fault tolerant.\n",
    "\n",
    "Connect to a Kafka topic that is streaming Wikipedia event data."
   ]
  },
  {
   "cell_type": "markdown",
   "metadata": {},
   "source": [
    "Start by defining the schema of the data in the stream."
   ]
  },
  {
   "cell_type": "code",
   "execution_count": 10,
   "metadata": {},
   "outputs": [
    {
     "data": {
      "text/html": [
       "<style scoped>\n",
       "  .ansiout {\n",
       "    display: block;\n",
       "    unicode-bidi: embed;\n",
       "    white-space: pre-wrap;\n",
       "    word-wrap: break-word;\n",
       "    word-break: break-all;\n",
       "    font-family: \"Source Code Pro\", \"Menlo\", monospace;;\n",
       "    font-size: 13px;\n",
       "    color: #555;\n",
       "    margin-left: 4px;\n",
       "    line-height: 19px;\n",
       "  }\n",
       "</style>\n",
       "<div class=\"ansiout\"></div>"
      ]
     },
     "metadata": {},
     "output_type": "display_data"
    }
   ],
   "source": [
    "from pyspark.sql.types import BooleanType, IntegerType, StructType, StringType, StructField, TimestampType\n",
    "\n",
    "schema = (StructType()\n",
    "  .add(\"timestamp\", TimestampType())\n",
    "  .add(\"url\", StringType())\n",
    "  .add(\"userURL\", StringType())\n",
    "  .add(\"pageURL\", StringType())\n",
    "  .add(\"isNewPage\", BooleanType())\n",
    "  .add(\"geocoding\", StructType()\n",
    "    .add(\"countryCode2\", StringType())\n",
    "    .add(\"city\", StringType())\n",
    "    .add(\"latitude\", StringType())\n",
    "    .add(\"country\", StringType())\n",
    "    .add(\"longitude\", StringType())\n",
    "    .add(\"stateProvince\", StringType())\n",
    "    .add(\"countryCode3\", StringType())\n",
    "    .add(\"user\", StringType())\n",
    "    .add(\"namespace\", StringType()))\n",
    ")"
   ]
  },
  {
   "cell_type": "markdown",
   "metadata": {},
   "source": [
    "To read from a stream, use `spark.readStream()`, which returns a `DataStreamReader` class.  Then, configure the stream by adding the following options:<br><br>\n",
    "\n",
    "* The server endpoint: `server1.databricks.training:9092`\n",
    "* The topic to subscribe to: `en`\n",
    "* A location to log checkpoint metadata (more on this below)\n",
    "* The format: `kafka` \n",
    "\n",
    "Finally, use the load method, which loads the data stream from the Kafka source and returns it as an unbounded `DataFrame`."
   ]
  },
  {
   "cell_type": "code",
   "execution_count": 12,
   "metadata": {},
   "outputs": [
    {
     "data": {
      "text/html": [
       "<style scoped>\n",
       "  .ansiout {\n",
       "    display: block;\n",
       "    unicode-bidi: embed;\n",
       "    white-space: pre-wrap;\n",
       "    word-wrap: break-word;\n",
       "    word-break: break-all;\n",
       "    font-family: \"Source Code Pro\", \"Menlo\", monospace;;\n",
       "    font-size: 13px;\n",
       "    color: #555;\n",
       "    margin-left: 4px;\n",
       "    line-height: 19px;\n",
       "  }\n",
       "</style>\n",
       "<div class=\"ansiout\"></div>"
      ]
     },
     "metadata": {},
     "output_type": "display_data"
    }
   ],
   "source": [
    "spark.conf.set(\"spark.sql.shuffle.partitions\", sc.defaultParallelism)\n",
    "\n",
    "kafkaDF = (spark\n",
    "  .readStream\n",
    "  .option(\"kafka.bootstrap.servers\", \"server1.databricks.training:9092\")\n",
    "  .option(\"subscribe\", \"en\")\n",
    "  .format(\"kafka\")\n",
    "  .load()\n",
    ")"
   ]
  },
  {
   "cell_type": "markdown",
   "metadata": {},
   "source": [
    "Kafka transmits information using a key, value, and metadata such as topic and partition.  The information we're interested in is the `value` column.  Since this is a binary value, we must first cast it to a `StringType`.  We must also provide it with a schema.  Finally, we can expand the full structure of the JSON."
   ]
  },
  {
   "cell_type": "code",
   "execution_count": 14,
   "metadata": {},
   "outputs": [
    {
     "data": {
      "text/html": [
       "<style scoped>\n",
       "  .ansiout {\n",
       "    display: block;\n",
       "    unicode-bidi: embed;\n",
       "    white-space: pre-wrap;\n",
       "    word-wrap: break-word;\n",
       "    word-break: break-all;\n",
       "    font-family: \"Source Code Pro\", \"Menlo\", monospace;;\n",
       "    font-size: 13px;\n",
       "    color: #555;\n",
       "    margin-left: 4px;\n",
       "    line-height: 19px;\n",
       "  }\n",
       "</style>\n",
       "<div class=\"ansiout\"></div>"
      ]
     },
     "metadata": {},
     "output_type": "display_data"
    }
   ],
   "source": [
    "from pyspark.sql.functions import col, from_json\n",
    "from pyspark.sql.types import StringType\n",
    "\n",
    "kafkaCleanDF = (kafkaDF\n",
    "  .select(from_json(col(\"value\").cast(StringType()), schema).alias(\"message\"))\n",
    "  .select(\"message.*\")\n",
    ")"
   ]
  },
  {
   "cell_type": "code",
   "execution_count": 15,
   "metadata": {},
   "outputs": [
    {
     "data": {
      "text/html": [
       "<style scoped>\n",
       "  .table-result-container {\n",
       "    max-height: 300px;\n",
       "    overflow: auto;\n",
       "  }\n",
       "  table, th, td {\n",
       "    border: 1px solid black;\n",
       "    border-collapse: collapse;\n",
       "  }\n",
       "  th, td {\n",
       "    padding: 5px;\n",
       "  }\n",
       "  th {\n",
       "    text-align: left;\n",
       "  }\n",
       "</style><div class='table-result-container'><table class='table-result'><thead style='background-color: white'><tr><th>timestamp</th><th>url</th><th>userURL</th><th>pageURL</th><th>isNewPage</th><th>geocoding</th></tr></thead><tbody><tr><td>2020-04-14T09:14:40.499+0000</td><td>https://en.wikipedia.org/w/index.php?diff=950876037&oldid=946454889</td><td>http://en.wikipedia.org/wiki/User:OAbot</td><td>http://en.wikipedia.org/wiki/Single-domain_antibody</td><td>false</td><td>List(null, null, null, null, null, null, null, null, null)</td></tr><tr><td>2020-04-14T09:14:40.558+0000</td><td>https://en.wikipedia.org/w/index.php?diff=950876039&oldid=933302873</td><td>http://en.wikipedia.org/wiki/User:Jack1956</td><td>http://en.wikipedia.org/wiki/James_William_Wallack</td><td>false</td><td>List(null, null, null, null, null, null, null, null, null)</td></tr><tr><td>2020-04-14T09:14:40.558+0000</td><td>https://en.wikipedia.org/w/index.php?diff=950876038&oldid=949553251</td><td>http://en.wikipedia.org/wiki/User:Grimes2</td><td>http://en.wikipedia.org/wiki/Moll_Dyer</td><td>false</td><td>List(null, null, null, null, null, null, null, null, null)</td></tr><tr><td>2020-04-14T09:14:41.078+0000</td><td>https://en.wikipedia.org/w/index.php?diff=950876036&oldid=950871251</td><td>http://en.wikipedia.org/wiki/User:Yshibutani</td><td>http://en.wikipedia.org/wiki/User:Yshibutani/sandbox</td><td>false</td><td>List(null, null, null, null, null, null, null, null, null)</td></tr><tr><td>2020-04-14T09:14:41.195+0000</td><td>https://en.wikipedia.org/w/index.php?diff=950876040&oldid=950875827</td><td>http://en.wikipedia.org/wiki/User:Linguapalaeo</td><td>http://en.wikipedia.org/wiki/North_Korean_standard_language</td><td>false</td><td>List(null, null, null, null, null, null, null, null, null)</td></tr><tr><td>2020-04-14T09:14:41.525+0000</td><td>https://en.wikipedia.org/w/index.php?diff=950876041&oldid=949618595</td><td>http://en.wikipedia.org/wiki/User:Ss112</td><td>http://en.wikipedia.org/wiki/Lovelytheband</td><td>false</td><td>List(null, null, null, null, null, null, null, null, null)</td></tr><tr><td>2020-04-14T09:14:43.556+0000</td><td>https://en.wikipedia.org/w/index.php?diff=950876042&oldid=950876004</td><td>http://en.wikipedia.org/wiki/User:Iamthecheese44</td><td>http://en.wikipedia.org/wiki/Allison_McGourty</td><td>false</td><td>List(null, null, null, null, null, null, null, null, null)</td></tr><tr><td>2020-04-14T09:14:44.189+0000</td><td></td><td>http://en.wikipedia.org/wiki/User:Honeszt</td><td>http://en.wikipedia.org/wiki/Special:Log/newusers</td><td>false</td><td>List(null, null, null, null, null, null, null, null, null)</td></tr><tr><td>2020-04-14T09:14:44.253+0000</td><td>https://en.wikipedia.org/w/index.php?diff=950876043&oldid=889752296</td><td>http://en.wikipedia.org/wiki/User:Mvonthefloor</td><td>http://en.wikipedia.org/wiki/Kadhantharam</td><td>false</td><td>List(null, null, null, null, null, null, null, null, null)</td></tr><tr><td>2020-04-14T09:14:44.456+0000</td><td>https://en.wikipedia.org/w/index.php?diff=950876044&oldid=950431748</td><td>http://en.wikipedia.org/wiki/User:Panda2018 0</td><td>http://en.wikipedia.org/wiki/LGBT_rights_in_Nevada</td><td>false</td><td>List(null, null, null, null, null, null, null, null, null)</td></tr><tr><td>2020-04-14T09:14:44.688+0000</td><td>https://en.wikipedia.org/w/index.php?diff=950876046&oldid=950871567</td><td>http://en.wikipedia.org/wiki/User:Hzantema</td><td>http://en.wikipedia.org/wiki/Wikipedia:Articles_for_deletion/Word-representable_graph</td><td>false</td><td>List(null, null, null, null, null, null, null, null, null)</td></tr><tr><td>2020-04-14T09:14:45.075+0000</td><td>https://en.wikipedia.org/w/index.php?diff=950876045&oldid=950875956</td><td>http://en.wikipedia.org/wiki/User:Dormskirk</td><td>http://en.wikipedia.org/wiki/Kirkintilloch_Town_Hall</td><td>false</td><td>List(null, null, null, null, null, null, null, null, null)</td></tr><tr><td>2020-04-14T09:14:47.725+0000</td><td>https://en.wikipedia.org/w/index.php?diff=950876047&oldid=944303771</td><td>http://en.wikipedia.org/wiki/User:OAbot</td><td>http://en.wikipedia.org/wiki/HD_209458_b</td><td>false</td><td>List(null, null, null, null, null, null, null, null, null)</td></tr><tr><td>2020-04-14T09:14:48.998+0000</td><td>https://en.wikipedia.org/w/index.php?diff=950876048&oldid=948212192</td><td>http://en.wikipedia.org/wiki/User:187.21.252.18</td><td>http://en.wikipedia.org/wiki/Caio_Dantas</td><td>false</td><td>List(BR, null, -23.547700881958008, Brazil, -23.547700881958008, null, BRA, null, null)</td></tr><tr><td>2020-04-14T09:14:49.723+0000</td><td>https://en.wikipedia.org/w/index.php?diff=950876049&oldid=950875962</td><td>http://en.wikipedia.org/wiki/User:Markussep</td><td>http://en.wikipedia.org/wiki/Laurensberg</td><td>false</td><td>List(null, null, null, null, null, null, null, null, null)</td></tr><tr><td>2020-04-14T09:14:50.454+0000</td><td>https://en.wikipedia.org/w/index.php?diff=950876050&oldid=950874321</td><td>http://en.wikipedia.org/wiki/User:MotherofSnakes</td><td>http://en.wikipedia.org/wiki/I_Trust</td><td>false</td><td>List(null, null, null, null, null, null, null, null, null)</td></tr><tr><td>2020-04-14T09:14:51.152+0000</td><td>https://en.wikipedia.org/w/index.php?diff=950876051&oldid=945688739</td><td>http://en.wikipedia.org/wiki/User:Surtsicna</td><td>http://en.wikipedia.org/wiki/Pope_Nicholas_V</td><td>false</td><td>List(null, null, null, null, null, null, null, null, null)</td></tr><tr><td>2020-04-14T09:14:53.131+0000</td><td>https://en.wikipedia.org/w/index.php?diff=950876052&oldid=950869931</td><td>http://en.wikipedia.org/wiki/User:Reports bot</td><td>http://en.wikipedia.org/wiki/Wikipedia:WikiProject_Socialism/Discussions</td><td>false</td><td>List(null, null, null, null, null, null, null, null, null)</td></tr><tr><td>2020-04-14T09:14:53.698+0000</td><td>https://en.wikipedia.org/w/index.php?diff=950876054&oldid=950876035</td><td>http://en.wikipedia.org/wiki/User:94.2.107.234</td><td>http://en.wikipedia.org/wiki/Hangman's_Knot</td><td>false</td><td>List(GB, Doncaster, 53.57080078125, United Kingdom, 53.57080078125, DNC, GBR, null, null)</td></tr><tr><td>2020-04-14T09:14:53.921+0000</td><td>https://en.wikipedia.org/w/index.php?diff=950876053&oldid=948318742</td><td>http://en.wikipedia.org/wiki/User:87.74.188.144</td><td>http://en.wikipedia.org/wiki/Dogger_Bank_Wind_Farm</td><td>false</td><td>List(GB, null, 51.5, United Kingdom, 51.5, null, GBR, null, null)</td></tr><tr><td>2020-04-14T09:14:54.066+0000</td><td>https://en.wikipedia.org/w/index.php?diff=950876055&oldid=950870526</td><td>http://en.wikipedia.org/wiki/User:DPL bot</td><td>http://en.wikipedia.org/wiki/User:JaGa/Short_leaderboard</td><td>false</td><td>List(null, null, null, null, null, null, null, null, null)</td></tr><tr><td>2020-04-14T09:14:54.574+0000</td><td>https://en.wikipedia.org/w/index.php?diff=950876057&oldid=938357108</td><td>http://en.wikipedia.org/wiki/User:OAbot</td><td>http://en.wikipedia.org/wiki/Chordoma</td><td>false</td><td>List(null, null, null, null, null, null, null, null, null)</td></tr><tr><td>2020-04-14T09:14:54.724+0000</td><td>https://en.wikipedia.org/w/index.php?diff=950876058&oldid=950699407</td><td>http://en.wikipedia.org/wiki/User:Paladisious</td><td>http://en.wikipedia.org/wiki/List_of_disasters_in_Australia_by_death_toll</td><td>false</td><td>List(null, null, null, null, null, null, null, null, null)</td></tr><tr><td>2020-04-14T09:14:55.358+0000</td><td>https://en.wikipedia.org/w/index.php?diff=950876059&oldid=950875815</td><td>http://en.wikipedia.org/wiki/User:Kashish pall</td><td>http://en.wikipedia.org/wiki/User_talk:Kashish_pall</td><td>false</td><td>List(null, null, null, null, null, null, null, null, null)</td></tr><tr><td>2020-04-14T09:14:55.483+0000</td><td></td><td>http://en.wikipedia.org/wiki/User:119.74.208.207</td><td>http://en.wikipedia.org/wiki/Special:Log/abusefilter</td><td>false</td><td>List(SG, Singapore, 1.2930999994277954, Singapore, 1.2930999994277954, null, SGP, null, null)</td></tr><tr><td>2020-04-14T09:14:55.701+0000</td><td>https://en.wikipedia.org/w/index.php?diff=950876056&oldid=950875604</td><td>http://en.wikipedia.org/wiki/User:Akshar Ghosh</td><td>http://en.wikipedia.org/wiki/2020_coronavirus_pandemic_in_West_Bengal</td><td>false</td><td>List(null, null, null, null, null, null, null, null, null)</td></tr><tr><td>2020-04-14T09:14:55.952+0000</td><td>https://en.wikipedia.org/w/index.php?diff=950876061&oldid=950874700</td><td>http://en.wikipedia.org/wiki/User:Cyberbot I</td><td>http://en.wikipedia.org/wiki/User:Cyberbot_I/Requests_for_unblock_report</td><td>false</td><td>List(null, null, null, null, null, null, null, null, null)</td></tr><tr><td>2020-04-14T09:14:56.179+0000</td><td>https://en.wikipedia.org/w/index.php?diff=950876060&oldid=950530936</td><td>http://en.wikipedia.org/wiki/User:Andel</td><td>http://en.wikipedia.org/wiki/History_of_the_Islamic_Republic_of_Iran</td><td>false</td><td>List(null, null, null, null, null, null, null, null, null)</td></tr><tr><td>2020-04-14T09:14:56.314+0000</td><td>https://en.wikipedia.org/w/index.php?diff=950876062&oldid=919236491</td><td>http://en.wikipedia.org/wiki/User:Andrybak</td><td>http://en.wikipedia.org/wiki/Template:Related_portal_item</td><td>false</td><td>List(null, null, null, null, null, null, null, null, null)</td></tr><tr><td>2020-04-14T09:14:57.094+0000</td><td>https://en.wikipedia.org/w/index.php?diff=950876065&oldid=941902886</td><td>http://en.wikipedia.org/wiki/User:Doremo</td><td>http://en.wikipedia.org/wiki/Sydney_Ringer</td><td>false</td><td>List(null, null, null, null, null, null, null, null, null)</td></tr><tr><td>2020-04-14T09:14:57.153+0000</td><td>https://en.wikipedia.org/w/index.php?diff=950876064&oldid=950875748</td><td>http://en.wikipedia.org/wiki/User:Androidpar</td><td>http://en.wikipedia.org/wiki/Draft:Hessian_Hills_School</td><td>false</td><td>List(null, null, null, null, null, null, null, null, null)</td></tr><tr><td>2020-04-14T09:14:57.543+0000</td><td>https://en.wikipedia.org/w/index.php?diff=950876066&oldid=950875934</td><td>http://en.wikipedia.org/wiki/User:GRanemos1</td><td>http://en.wikipedia.org/wiki/Devis_Epassy</td><td>false</td><td>List(null, null, null, null, null, null, null, null, null)</td></tr><tr><td>2020-04-14T09:14:57.865+0000</td><td>https://en.wikipedia.org/w/index.php?diff=950876063&oldid=950771924</td><td>http://en.wikipedia.org/wiki/User:Charc2018</td><td>http://en.wikipedia.org/wiki/Rovno_Ghetto</td><td>false</td><td>List(null, null, null, null, null, null, null, null, null)</td></tr><tr><td>2020-04-14T09:14:58.078+0000</td><td>https://en.wikipedia.org/w/index.php?diff=950876067&oldid=947506230</td><td>http://en.wikipedia.org/wiki/User:2601:802:8300:A280:E5D6:9732:DBBA:9786</td><td>http://en.wikipedia.org/wiki/Let's_Get_Loud_(concerts)</td><td>false</td><td>List(US, null, 39.7599983215332, United States, 39.7599983215332, null, USA, null, null)</td></tr><tr><td>2020-04-14T09:14:58.437+0000</td><td></td><td>http://en.wikipedia.org/wiki/User:AeebaR</td><td>http://en.wikipedia.org/wiki/Special:Log/newusers</td><td>false</td><td>List(null, null, null, null, null, null, null, null, null)</td></tr><tr><td>2020-04-14T09:14:58.952+0000</td><td>https://en.wikipedia.org/w/index.php?diff=950876070&oldid=939722802</td><td>http://en.wikipedia.org/wiki/User:JMHamo</td><td>http://en.wikipedia.org/wiki/User_talk:Humorous1234</td><td>false</td><td>List(null, null, null, null, null, null, null, null, null)</td></tr><tr><td>2020-04-14T09:14:59.010+0000</td><td>https://en.wikipedia.org/w/index.php?diff=950876068&oldid=921044230</td><td>http://en.wikipedia.org/wiki/User:JMHamo</td><td>http://en.wikipedia.org/wiki/Draft:Apple_Watch_Series_4</td><td>false</td><td>List(null, null, null, null, null, null, null, null, null)</td></tr><tr><td>2020-04-14T09:14:59.235+0000</td><td>https://en.wikipedia.org/w/index.php?diff=950876069&oldid=941595132</td><td>http://en.wikipedia.org/wiki/User:WDM10</td><td>http://en.wikipedia.org/wiki/Kosovo_Derby</td><td>false</td><td>List(null, null, null, null, null, null, null, null, null)</td></tr><tr><td>2020-04-14T09:15:01.601+0000</td><td>https://en.wikipedia.org/w/index.php?diff=950876072&oldid=950876032</td><td>http://en.wikipedia.org/wiki/User:Radioandmediaguru</td><td>http://en.wikipedia.org/wiki/Rother_FM</td><td>false</td><td>List(null, null, null, null, null, null, null, null, null)</td></tr><tr><td>2020-04-14T09:15:01.776+0000</td><td>https://en.wikipedia.org/w/index.php?diff=950876071&oldid=949291463</td><td>http://en.wikipedia.org/wiki/User:OAbot</td><td>http://en.wikipedia.org/wiki/Mildred_Sanderson</td><td>false</td><td>List(null, null, null, null, null, null, null, null, null)</td></tr><tr><td>2020-04-14T09:15:04.303+0000</td><td>https://en.wikipedia.org/w/index.php?diff=950876073&oldid=937621921</td><td>http://en.wikipedia.org/wiki/User:Tingyat</td><td>http://en.wikipedia.org/wiki/Causeway_Bay</td><td>false</td><td>List(null, null, null, null, null, null, null, null, null)</td></tr><tr><td>2020-04-14T09:15:04.378+0000</td><td>https://en.wikipedia.org/w/index.php?diff=950876074&oldid=950875920</td><td>http://en.wikipedia.org/wiki/User:Arashinc</td><td>http://en.wikipedia.org/wiki/Godsmack_discography</td><td>false</td><td>List(null, null, null, null, null, null, null, null, null)</td></tr><tr><td>2020-04-14T09:15:04.881+0000</td><td>https://en.wikipedia.org/w/index.php?diff=950876076&oldid=950050070</td><td>http://en.wikipedia.org/wiki/User:Johnsoniensis</td><td>http://en.wikipedia.org/wiki/Demetrius_of_Antioch</td><td>false</td><td>List(null, null, null, null, null, null, null, null, null)</td></tr><tr><td>2020-04-14T09:15:06.591+0000</td><td>https://en.wikipedia.org/w/index.php?diff=950876078&oldid=831042532</td><td>http://en.wikipedia.org/wiki/User:Jwikip</td><td>http://en.wikipedia.org/wiki/Talk:Belarus_at_the_2018_Winter_Paralympics</td><td>false</td><td>List(null, null, null, null, null, null, null, null, null)</td></tr><tr><td>2020-04-14T09:15:06.921+0000</td><td>https://en.wikipedia.org/w/index.php?diff=950876077&oldid=944595355</td><td>http://en.wikipedia.org/wiki/User:Adamdaley</td><td>http://en.wikipedia.org/wiki/Kate_Germano</td><td>false</td><td>List(null, null, null, null, null, null, null, null, null)</td></tr><tr><td>2020-04-14T09:15:07.288+0000</td><td>https://en.wikipedia.org/w/index.php?diff=950876080&oldid=950449892</td><td>http://en.wikipedia.org/wiki/User:80.233.37.185</td><td>http://en.wikipedia.org/wiki/Liam_Neeson_filmography</td><td>false</td><td>List(IE, null, 53.347801208496094, Ireland, 53.347801208496094, null, IRL, null, null)</td></tr><tr><td>2020-04-14T09:15:07.414+0000</td><td>https://en.wikipedia.org/w/index.php?diff=950876075&oldid=950875716</td><td>http://en.wikipedia.org/wiki/User:Natanieluz</td><td>http://en.wikipedia.org/wiki/Template:2019–20_coronavirus_pandemic_data/Poland_medical_cases_by_voivodeship</td><td>false</td><td>List(null, null, null, null, null, null, null, null, null)</td></tr><tr><td>2020-04-14T09:15:07.589+0000</td><td>https://en.wikipedia.org/w/index.php?diff=950876081&oldid=891428984</td><td>http://en.wikipedia.org/wiki/User:OAbot</td><td>http://en.wikipedia.org/wiki/WDR36</td><td>false</td><td>List(null, null, null, null, null, null, null, null, null)</td></tr><tr><td>2020-04-14T09:15:07.705+0000</td><td>https://en.wikipedia.org/w/index.php?diff=950876079&oldid=860785586</td><td>http://en.wikipedia.org/wiki/User:87.115.120.137</td><td>http://en.wikipedia.org/wiki/Hartcliff_Folly</td><td>false</td><td>List(GB, null, 51.5, United Kingdom, 51.5, null, GBR, null, null)</td></tr><tr><td>2020-04-14T09:15:09.807+0000</td><td>https://en.wikipedia.org/w/index.php?oldid=950876083&rcid=1250735348</td><td>http://en.wikipedia.org/wiki/User:Andrybak</td><td>http://en.wikipedia.org/wiki/Template:Related_portal_item/doc</td><td>true</td><td>List(null, null, null, null, null, null, null, null, null)</td></tr><tr><td>2020-04-14T09:15:10.065+0000</td><td>https://en.wikipedia.org/w/index.php?diff=950876082&oldid=950117102</td><td>http://en.wikipedia.org/wiki/User:David Gerard</td><td>http://en.wikipedia.org/wiki/Kim_Jong-il</td><td>false</td><td>List(null, null, null, null, null, null, null, null, null)</td></tr><tr><td>2020-04-14T09:15:12.906+0000</td><td>https://en.wikipedia.org/w/index.php?diff=950876084&oldid=940258067</td><td>http://en.wikipedia.org/wiki/User:John of Reading</td><td>http://en.wikipedia.org/wiki/Bahram_Dabbagh</td><td>false</td><td>List(null, null, null, null, null, null, null, null, null)</td></tr><tr><td>2020-04-14T09:15:13.323+0000</td><td>https://en.wikipedia.org/w/index.php?diff=950876085&oldid=950875368</td><td>http://en.wikipedia.org/wiki/User:Carlm0404</td><td>http://en.wikipedia.org/wiki/Roman_Catholic_Archdiocese_of_Philadelphia</td><td>false</td><td>List(null, null, null, null, null, null, null, null, null)</td></tr><tr><td>2020-04-14T09:15:13.415+0000</td><td>https://en.wikipedia.org/w/index.php?diff=950876086&oldid=950875814</td><td>http://en.wikipedia.org/wiki/User:Rogermccart</td><td>http://en.wikipedia.org/wiki/North_Island_robin</td><td>false</td><td>List(null, null, null, null, null, null, null, null, null)</td></tr><tr><td>2020-04-14T09:15:14.425+0000</td><td></td><td>http://en.wikipedia.org/wiki/User:2405:6E00:E94:AB01:2453:619A:AA8C:DA2</td><td>http://en.wikipedia.org/wiki/Special:Log/abusefilter</td><td>false</td><td>List(AU, null, -25.0, Australia, -25.0, null, AUS, null, null)</td></tr><tr><td>2020-04-14T09:15:14.425+0000</td><td></td><td>http://en.wikipedia.org/wiki/User:2405:6E00:E94:AB01:2453:619A:AA8C:DA2</td><td>http://en.wikipedia.org/wiki/Special:Log/abusefilter</td><td>false</td><td>List(AU, null, -25.0, Australia, -25.0, null, AUS, null, null)</td></tr><tr><td>2020-04-14T09:15:14.425+0000</td><td></td><td>http://en.wikipedia.org/wiki/User:2405:6E00:E94:AB01:2453:619A:AA8C:DA2</td><td>http://en.wikipedia.org/wiki/Special:Log/abusefilter</td><td>false</td><td>List(AU, null, -25.0, Australia, -25.0, null, AUS, null, null)</td></tr><tr><td>2020-04-14T09:15:14.427+0000</td><td></td><td>http://en.wikipedia.org/wiki/User:2405:6E00:E94:AB01:2453:619A:AA8C:DA2</td><td>http://en.wikipedia.org/wiki/Special:Log/abusefilter</td><td>false</td><td>List(AU, null, -25.0, Australia, -25.0, null, AUS, null, null)</td></tr><tr><td>2020-04-14T09:15:14.485+0000</td><td>https://en.wikipedia.org/w/index.php?diff=950876087&oldid=950872942</td><td>http://en.wikipedia.org/wiki/User:Jâčôb.x.x.x</td><td>http://en.wikipedia.org/wiki/Blood_&_Chemistry</td><td>false</td><td>List(null, null, null, null, null, null, null, null, null)</td></tr><tr><td>2020-04-14T09:15:14.796+0000</td><td>https://en.wikipedia.org/w/index.php?diff=950876088&oldid=947534384</td><td>http://en.wikipedia.org/wiki/User:OAbot</td><td>http://en.wikipedia.org/wiki/Sexual_fluidity</td><td>false</td><td>List(null, null, null, null, null, null, null, null, null)</td></tr><tr><td>2020-04-14T09:15:15.209+0000</td><td>https://en.wikipedia.org/w/index.php?diff=950876091&oldid=950875750</td><td>http://en.wikipedia.org/wiki/User:Encyclopædius</td><td>http://en.wikipedia.org/wiki/User_talk:Encyclopædius</td><td>false</td><td>List(null, null, null, null, null, null, null, null, null)</td></tr><tr><td>2020-04-14T09:15:15.312+0000</td><td>https://en.wikipedia.org/w/index.php?diff=950876089&oldid=940858751</td><td>http://en.wikipedia.org/wiki/User:TheHauntedToaster</td><td>http://en.wikipedia.org/wiki/Tranz</td><td>false</td><td>List(null, null, null, null, null, null, null, null, null)</td></tr><tr><td>2020-04-14T09:15:15.370+0000</td><td>https://en.wikipedia.org/w/index.php?diff=950876090&oldid=950022766</td><td>http://en.wikipedia.org/wiki/User:Ss112</td><td>http://en.wikipedia.org/wiki/Heartless_(Diplo_song)</td><td>false</td><td>List(null, null, null, null, null, null, null, null, null)</td></tr><tr><td>2020-04-14T09:15:16.141+0000</td><td>https://en.wikipedia.org/w/index.php?diff=950876092&oldid=945831851</td><td>http://en.wikipedia.org/wiki/User:Headhitter</td><td>http://en.wikipedia.org/wiki/Breaking_the_Silence_(non-governmental_organization)</td><td>false</td><td>List(null, null, null, null, null, null, null, null, null)</td></tr><tr><td>2020-04-14T09:15:16.642+0000</td><td>https://en.wikipedia.org/w/index.php?diff=950876094&oldid=950876008</td><td>http://en.wikipedia.org/wiki/User:Störm</td><td>http://en.wikipedia.org/wiki/Wikipedia:Teahouse</td><td>false</td><td>List(null, null, null, null, null, null, null, null, null)</td></tr><tr><td>2020-04-14T09:15:17.545+0000</td><td>https://en.wikipedia.org/w/index.php?diff=950876095&oldid=939106215</td><td>http://en.wikipedia.org/wiki/User:Icarusgeek</td><td>http://en.wikipedia.org/wiki/Dylan_Arnold</td><td>false</td><td>List(null, null, null, null, null, null, null, null, null)</td></tr><tr><td>2020-04-14T09:15:17.612+0000</td><td>https://en.wikipedia.org/w/index.php?diff=950876093&oldid=950719934</td><td>http://en.wikipedia.org/wiki/User:Greg321</td><td>http://en.wikipedia.org/wiki/Template:2019–20_coronavirus_pandemic_data/United_Kingdom_medical_cases</td><td>false</td><td>List(null, null, null, null, null, null, null, null, null)</td></tr><tr><td>2020-04-14T09:15:17.700+0000</td><td>https://en.wikipedia.org/w/index.php?diff=950876096&oldid=950876019</td><td>http://en.wikipedia.org/wiki/User:MaeseLeon</td><td>http://en.wikipedia.org/wiki/Cable_transport</td><td>false</td><td>List(null, null, null, null, null, null, null, null, null)</td></tr><tr><td>2020-04-14T09:15:18.327+0000</td><td>https://en.wikipedia.org/w/index.php?diff=950876098&oldid=919236351</td><td>http://en.wikipedia.org/wiki/User:Andrybak</td><td>http://en.wikipedia.org/wiki/Template:Related_portal_item/sandbox</td><td>false</td><td>List(null, null, null, null, null, null, null, null, null)</td></tr><tr><td>2020-04-14T09:15:18.676+0000</td><td>https://en.wikipedia.org/w/index.php?oldid=950876097&rcid=1250735369</td><td>http://en.wikipedia.org/wiki/User:Daemonickangaroo2018</td><td>http://en.wikipedia.org/wiki/Talk:Arthur_Johnson_(historian)</td><td>true</td><td>List(null, null, null, null, null, null, null, null, null)</td></tr><tr><td>2020-04-14T09:15:18.676+0000</td><td></td><td>http://en.wikipedia.org/wiki/User:Tanishq0806</td><td>http://en.wikipedia.org/wiki/Special:Log/newusers</td><td>false</td><td>List(null, null, null, null, null, null, null, null, null)</td></tr><tr><td>2020-04-14T09:15:19.833+0000</td><td>https://en.wikipedia.org/w/index.php?diff=950876100&oldid=932815342</td><td>http://en.wikipedia.org/wiki/User:LWL12345</td><td>http://en.wikipedia.org/wiki/Norway_in_the_Eurovision_Song_Contest_2005</td><td>false</td><td>List(null, null, null, null, null, null, null, null, null)</td></tr><tr><td>2020-04-14T09:15:19.833+0000</td><td></td><td>http://en.wikipedia.org/wiki/User:2A02:A314:813F:1000:A9B7:CA13:577B:6045</td><td>http://en.wikipedia.org/wiki/Special:Log/abusefilter</td><td>false</td><td>List(PL, null, 52.0, Poland, 52.0, null, POL, null, null)</td></tr><tr><td>2020-04-14T09:15:19.834+0000</td><td>https://en.wikipedia.org/w/index.php?diff=950876099&oldid=950797019</td><td>http://en.wikipedia.org/wiki/User:2A02:A314:813F:1000:A9B7:CA13:577B:6045</td><td>http://en.wikipedia.org/wiki/Antonov_An-225_Mriya</td><td>false</td><td>List(PL, null, 52.0, Poland, 52.0, null, POL, null, null)</td></tr><tr><td>2020-04-14T09:15:19.892+0000</td><td>https://en.wikipedia.org/w/index.php?diff=950876102&oldid=950439551</td><td>http://en.wikipedia.org/wiki/User:Manudouz</td><td>http://en.wikipedia.org/wiki/Monoxenous_development</td><td>false</td><td>List(null, null, null, null, null, null, null, null, null)</td></tr><tr><td>2020-04-14T09:15:20.233+0000</td><td>https://en.wikipedia.org/w/index.php?diff=950876101&oldid=950870553</td><td>http://en.wikipedia.org/wiki/User:Robby.is.on</td><td>http://en.wikipedia.org/wiki/Gianluca_Vialli</td><td>false</td><td>List(null, null, null, null, null, null, null, null, null)</td></tr><tr><td>2020-04-14T09:15:21.568+0000</td><td>https://en.wikipedia.org/w/index.php?diff=950876103&oldid=950875237</td><td>http://en.wikipedia.org/wiki/User:Marisa Glez Glez Glez</td><td>http://en.wikipedia.org/wiki/Sonia_Sheridan</td><td>false</td><td>List(null, null, null, null, null, null, null, null, null)</td></tr><tr><td>2020-04-14T09:15:21.946+0000</td><td>https://en.wikipedia.org/w/index.php?diff=950876105&oldid=949037360</td><td>http://en.wikipedia.org/wiki/User:OAbot</td><td>http://en.wikipedia.org/wiki/Jeju_language</td><td>false</td><td>List(null, null, null, null, null, null, null, null, null)</td></tr><tr><td>2020-04-14T09:15:22.004+0000</td><td>https://en.wikipedia.org/w/index.php?oldid=950876106&rcid=1250735387</td><td>http://en.wikipedia.org/wiki/User:GregorB</td><td>http://en.wikipedia.org/wiki/Talk:William_Paton_(ecumenist)</td><td>true</td><td>List(null, null, null, null, null, null, null, null, null)</td></tr><tr><td>2020-04-14T09:15:23.013+0000</td><td>https://en.wikipedia.org/w/index.php?diff=950876107&oldid=950483097</td><td>http://en.wikipedia.org/wiki/User:84.65.170.50</td><td>http://en.wikipedia.org/wiki/Futari_wa_Pretty_Cure</td><td>false</td><td>List(IN, null, 20.0, India, 20.0, null, IND, null, null)</td></tr><tr><td>2020-04-14T09:15:24.037+0000</td><td>https://en.wikipedia.org/w/index.php?diff=950876104&oldid=924659209</td><td>http://en.wikipedia.org/wiki/User:Peacemaker67</td><td>http://en.wikipedia.org/wiki/Talk:Arthur_McDonald</td><td>false</td><td>List(null, null, null, null, null, null, null, null, null)</td></tr><tr><td>2020-04-14T09:15:24.336+0000</td><td>https://en.wikipedia.org/w/index.php?diff=950876109&oldid=950875957</td><td>http://en.wikipedia.org/wiki/User:Dan arndt</td><td>http://en.wikipedia.org/wiki/Draft:Apptime.me</td><td>false</td><td>List(null, null, null, null, null, null, null, null, null)</td></tr><tr><td>2020-04-14T09:15:24.544+0000</td><td>https://en.wikipedia.org/w/index.php?diff=950876108&oldid=948618728</td><td>http://en.wikipedia.org/wiki/User:IagoQnsi</td><td>http://en.wikipedia.org/wiki/Duke–North_Carolina_rivalry</td><td>false</td><td>List(null, null, null, null, null, null, null, null, null)</td></tr><tr><td>2020-04-14T09:15:24.928+0000</td><td>https://en.wikipedia.org/w/index.php?diff=950876110&oldid=921104160</td><td>http://en.wikipedia.org/wiki/User:JMHamo</td><td>http://en.wikipedia.org/wiki/Draft:Eiko_Otake</td><td>false</td><td>List(null, null, null, null, null, null, null, null, null)</td></tr><tr><td>2020-04-14T09:15:25.042+0000</td><td>https://en.wikipedia.org/w/index.php?diff=950876111&oldid=945449791</td><td>http://en.wikipedia.org/wiki/User:JMHamo</td><td>http://en.wikipedia.org/wiki/User_talk:Allisonhsu</td><td>false</td><td>List(null, null, null, null, null, null, null, null, null)</td></tr><tr><td>2020-04-14T09:15:26.570+0000</td><td>https://en.wikipedia.org/w/index.php?diff=950876112&oldid=950876053</td><td>http://en.wikipedia.org/wiki/User:87.74.188.144</td><td>http://en.wikipedia.org/wiki/Dogger_Bank_Wind_Farm</td><td>false</td><td>List(GB, null, 51.5, United Kingdom, 51.5, null, GBR, null, null)</td></tr><tr><td>2020-04-14T09:15:26.765+0000</td><td>https://en.wikipedia.org/w/index.php?oldid=950876113&rcid=1250735411</td><td>http://en.wikipedia.org/wiki/User:Dan arndt</td><td>http://en.wikipedia.org/wiki/User_talk:Apptime.me</td><td>true</td><td>List(null, null, null, null, null, null, null, null, null)</td></tr><tr><td>2020-04-14T09:15:27.675+0000</td><td>https://en.wikipedia.org/w/index.php?diff=950876114&oldid=950875301</td><td>http://en.wikipedia.org/wiki/User:92.211.217.213</td><td>http://en.wikipedia.org/wiki/Andrea_Sestini_Hlaváčková</td><td>false</td><td>List(DE, Leonberg, 48.78950119018555, Germany, 48.78950119018555, BW, DEU, null, null)</td></tr><tr><td>2020-04-14T09:15:27.675+0000</td><td></td><td>http://en.wikipedia.org/wiki/User:92.211.217.213</td><td>http://en.wikipedia.org/wiki/Special:Log/abusefilter</td><td>false</td><td>List(DE, Leonberg, 48.78950119018555, Germany, 48.78950119018555, BW, DEU, null, null)</td></tr><tr><td>2020-04-14T09:15:28.278+0000</td><td>https://en.wikipedia.org/w/index.php?diff=950876115&oldid=950711749</td><td>http://en.wikipedia.org/wiki/User:Fa alk</td><td>http://en.wikipedia.org/wiki/Massacres_of_Albanians_in_the_Balkan_Wars</td><td>false</td><td>List(null, null, null, null, null, null, null, null, null)</td></tr><tr><td>2020-04-14T09:15:28.695+0000</td><td>https://en.wikipedia.org/w/index.php?diff=950876117&oldid=950875637</td><td>http://en.wikipedia.org/wiki/User:Yemimas29</td><td>http://en.wikipedia.org/wiki/Isyana_Sarasvati</td><td>false</td><td>List(null, null, null, null, null, null, null, null, null)</td></tr><tr><td>2020-04-14T09:15:28.901+0000</td><td>https://en.wikipedia.org/w/index.php?diff=950876116&oldid=948476112</td><td>http://en.wikipedia.org/wiki/User:David Gerard</td><td>http://en.wikipedia.org/wiki/James_Joseph_Dresnok</td><td>false</td><td>List(null, null, null, null, null, null, null, null, null)</td></tr><tr><td>2020-04-14T09:15:28.982+0000</td><td>https://en.wikipedia.org/w/index.php?diff=950876119&oldid=940424185</td><td>http://en.wikipedia.org/wiki/User:OAbot</td><td>http://en.wikipedia.org/wiki/Fullerene_chemistry</td><td>false</td><td>List(null, null, null, null, null, null, null, null, null)</td></tr><tr><td>2020-04-14T09:15:29.141+0000</td><td>https://en.wikipedia.org/w/index.php?diff=950876118&oldid=950861921</td><td>http://en.wikipedia.org/wiki/User:Ætoms</td><td>http://en.wikipedia.org/wiki/Template:Cabinet_of_the_Netherlands</td><td>false</td><td>List(null, null, null, null, null, null, null, null, null)</td></tr><tr><td>2020-04-14T09:15:30.588+0000</td><td>https://en.wikipedia.org/w/index.php?diff=950876120&oldid=950876050</td><td>http://en.wikipedia.org/wiki/User:MotherofSnakes</td><td>http://en.wikipedia.org/wiki/I_Trust</td><td>false</td><td>List(null, null, null, null, null, null, null, null, null)</td></tr><tr><td>2020-04-14T09:15:31.155+0000</td><td>https://en.wikipedia.org/w/index.php?diff=950876121&oldid=950251451</td><td>http://en.wikipedia.org/wiki/User:86.31.229.129</td><td>http://en.wikipedia.org/wiki/I_Don't_Feel_Like_Dancin'</td><td>false</td><td>List(GB, null, 51.5, United Kingdom, 51.5, null, GBR, null, null)</td></tr><tr><td>2020-04-14T09:15:32.041+0000</td><td>https://en.wikipedia.org/w/index.php?diff=950876123&oldid=938100092</td><td>http://en.wikipedia.org/wiki/User:72.183.164.169</td><td>http://en.wikipedia.org/wiki/Lydia_Pense</td><td>false</td><td>List(US, null, 38.0, United States, 38.0, null, USA, null, null)</td></tr><tr><td>2020-04-14T09:15:33.010+0000</td><td>https://en.wikipedia.org/w/index.php?diff=950876122&oldid=950876056</td><td>http://en.wikipedia.org/wiki/User:Akshar Ghosh</td><td>http://en.wikipedia.org/wiki/2020_coronavirus_pandemic_in_West_Bengal</td><td>false</td><td>List(null, null, null, null, null, null, null, null, null)</td></tr><tr><td>2020-04-14T09:15:33.364+0000</td><td>https://en.wikipedia.org/w/index.php?diff=950876124&oldid=933276049</td><td>http://en.wikipedia.org/wiki/User:InternetArchiveBot</td><td>http://en.wikipedia.org/wiki/National_Heritage_Fellowship</td><td>false</td><td>List(null, null, null, null, null, null, null, null, null)</td></tr><tr><td>2020-04-14T09:15:34.529+0000</td><td>https://en.wikipedia.org/w/index.php?diff=950876125&oldid=856688992</td><td>http://en.wikipedia.org/wiki/User:Andrybak</td><td>http://en.wikipedia.org/wiki/Template:Add/doc</td><td>false</td><td>List(null, null, null, null, null, null, null, null, null)</td></tr><tr><td>2020-04-14T09:15:36.545+0000</td><td></td><td>http://en.wikipedia.org/wiki/User:DannyS712 bot III</td><td>http://en.wikipedia.org/wiki/Special:Log/pagetriage-curation</td><td>false</td><td>List(null, null, null, null, null, null, null, null, null)</td></tr><tr><td>2020-04-14T09:15:36.604+0000</td><td>https://en.wikipedia.org/w/index.php?diff=950876126&oldid=950874790</td><td>http://en.wikipedia.org/wiki/User:DannyS712 bot III</td><td>http://en.wikipedia.org/wiki/User:DannyS712_bot_III/Redirects.json</td><td>false</td><td>List(null, null, null, null, null, null, null, null, null)</td></tr><tr><td>2020-04-14T09:15:36.720+0000</td><td></td><td>http://en.wikipedia.org/wiki/User:DannyS712 bot III</td><td>http://en.wikipedia.org/wiki/Special:Log/patrol</td><td>false</td><td>List(null, null, null, null, null, null, null, null, null)</td></tr><tr><td>2020-04-14T09:15:36.720+0000</td><td></td><td>http://en.wikipedia.org/wiki/User:DannyS712 bot III</td><td>http://en.wikipedia.org/wiki/Special:Log/pagetriage-curation</td><td>false</td><td>List(null, null, null, null, null, null, null, null, null)</td></tr><tr><td>2020-04-14T09:15:36.967+0000</td><td></td><td>http://en.wikipedia.org/wiki/User:DannyS712 bot III</td><td>http://en.wikipedia.org/wiki/Special:Log/patrol</td><td>false</td><td>List(null, null, null, null, null, null, null, null, null)</td></tr><tr><td>2020-04-14T09:15:37.025+0000</td><td></td><td>http://en.wikipedia.org/wiki/User:DannyS712 bot III</td><td>http://en.wikipedia.org/wiki/Special:Log/pagetriage-curation</td><td>false</td><td>List(null, null, null, null, null, null, null, null, null)</td></tr><tr><td>2020-04-14T09:15:37.142+0000</td><td>https://en.wikipedia.org/w/index.php?diff=950876127&oldid=950749031</td><td>http://en.wikipedia.org/wiki/User:OAbot</td><td>http://en.wikipedia.org/wiki/Marketplace</td><td>false</td><td>List(null, null, null, null, null, null, null, null, null)</td></tr><tr><td>2020-04-14T09:15:37.591+0000</td><td></td><td>http://en.wikipedia.org/wiki/User:Nick.mon</td><td>http://en.wikipedia.org/wiki/Special:Log/upload</td><td>false</td><td>List(null, null, null, null, null, null, null, null, null)</td></tr><tr><td>2020-04-14T09:15:37.908+0000</td><td>https://en.wikipedia.org/w/index.php?diff=950876129&oldid=950875314</td><td>http://en.wikipedia.org/wiki/User:Ss112</td><td>http://en.wikipedia.org/wiki/Supalonely</td><td>false</td><td>List(null, null, null, null, null, null, null, null, null)</td></tr><tr><td>2020-04-14T09:15:38.543+0000</td><td>https://en.wikipedia.org/w/index.php?diff=950876130&oldid=946478442</td><td>http://en.wikipedia.org/wiki/User:2409:4063:2188:A9BA:0:0:585:80B0</td><td>http://en.wikipedia.org/wiki/Computer_art_scene</td><td>false</td><td>List(null, null, null, null, null, null, null, null, null)</td></tr><tr><td>2020-04-14T09:15:38.669+0000</td><td>https://en.wikipedia.org/w/index.php?diff=950876131&oldid=950862346</td><td>http://en.wikipedia.org/wiki/User:Johnuniq</td><td>http://en.wikipedia.org/wiki/Gilman_Bakalli</td><td>false</td><td>List(null, null, null, null, null, null, null, null, null)</td></tr><tr><td>2020-04-14T09:15:39.769+0000</td><td>https://en.wikipedia.org/w/index.php?diff=950876132&oldid=925567812</td><td>http://en.wikipedia.org/wiki/User:InternetArchiveBot</td><td>http://en.wikipedia.org/wiki/National_Heritage_Foundation_of_Bangladesh</td><td>false</td><td>List(null, null, null, null, null, null, null, null, null)</td></tr><tr><td>2020-04-14T09:15:40.193+0000</td><td>https://en.wikipedia.org/w/index.php?diff=950876134&oldid=950875831</td><td>http://en.wikipedia.org/wiki/User:Sohail ariyan</td><td>http://en.wikipedia.org/wiki/Tui_Shudhu_Amar</td><td>false</td><td>List(null, null, null, null, null, null, null, null, null)</td></tr><tr><td>2020-04-14T09:15:40.345+0000</td><td>https://en.wikipedia.org/w/index.php?diff=950876133&oldid=950875870</td><td>http://en.wikipedia.org/wiki/User:LaMèreVeille</td><td>http://en.wikipedia.org/wiki/COVID-19_apps</td><td>false</td><td>List(null, null, null, null, null, null, null, null, null)</td></tr><tr><td>2020-04-14T09:15:40.960+0000</td><td>https://en.wikipedia.org/w/index.php?diff=950876135&oldid=787250314</td><td>http://en.wikipedia.org/wiki/User:Fayenatic london</td><td>http://en.wikipedia.org/wiki/Category:Vancouver_articles_by_importance</td><td>false</td><td>List(null, null, null, null, null, null, null, null, null)</td></tr><tr><td>2020-04-14T09:15:42.573+0000</td><td>https://en.wikipedia.org/w/index.php?diff=950876136&oldid=944476111</td><td>http://en.wikipedia.org/wiki/User:125.164.224.249</td><td>http://en.wikipedia.org/wiki/Reisa_Kartikasari</td><td>false</td><td>List(ID, Banjarejo, -7.03879976272583, Indonesia, -7.03879976272583, JI, IDN, null, null)</td></tr><tr><td>2020-04-14T09:15:44.570+0000</td><td>https://en.wikipedia.org/w/index.php?diff=950876138&oldid=942285098</td><td>http://en.wikipedia.org/wiki/User:Andrybak</td><td>http://en.wikipedia.org/wiki/Template:Cm/doc</td><td>false</td><td>List(null, null, null, null, null, null, null, null, null)</td></tr><tr><td>2020-04-14T09:15:44.753+0000</td><td>https://en.wikipedia.org/w/index.php?diff=950876137&oldid=949679492</td><td>http://en.wikipedia.org/wiki/User:194.68.144.98</td><td>http://en.wikipedia.org/wiki/Canadian_Army</td><td>false</td><td>List(SE, Norrköping, 58.599998474121094, Sweden, 58.599998474121094, E, SWE, null, null)</td></tr><tr><td>2020-04-14T09:15:46.780+0000</td><td></td><td>http://en.wikipedia.org/wiki/User:Elcaba</td><td>http://en.wikipedia.org/wiki/Special:Log/abusefilter</td><td>false</td><td>List(null, null, null, null, null, null, null, null, null)</td></tr><tr><td>2020-04-14T09:15:46.838+0000</td><td>https://en.wikipedia.org/w/index.php?diff=950876141&oldid=920984408</td><td>http://en.wikipedia.org/wiki/User:JMHamo</td><td>http://en.wikipedia.org/wiki/Draft:Laura_Parker</td><td>false</td><td>List(null, null, null, null, null, null, null, null, null)</td></tr><tr><td>2020-04-14T09:15:46.838+0000</td><td>https://en.wikipedia.org/w/index.php?diff=950876140&oldid=950797236</td><td>http://en.wikipedia.org/wiki/User:Elcaba</td><td>http://en.wikipedia.org/wiki/2020_coronavirus_pandemic_in_Tanzania</td><td>false</td><td>List(null, null, null, null, null, null, null, null, null)</td></tr><tr><td>2020-04-14T09:15:46.945+0000</td><td>https://en.wikipedia.org/w/index.php?oldid=950876144&rcid=1250735484</td><td>http://en.wikipedia.org/wiki/User:JMHamo</td><td>http://en.wikipedia.org/wiki/User_talk:Labellepoque234</td><td>true</td><td>List(null, null, null, null, null, null, null, null, null)</td></tr><tr><td>2020-04-14T09:15:47.007+0000</td><td>https://en.wikipedia.org/w/index.php?diff=950876143&oldid=921896182</td><td>http://en.wikipedia.org/wiki/User:Adamdaley</td><td>http://en.wikipedia.org/wiki/Talk:Kate_Germano</td><td>false</td><td>List(null, null, null, null, null, null, null, null, null)</td></tr><tr><td>2020-04-14T09:15:47.222+0000</td><td>https://en.wikipedia.org/w/index.php?diff=950876139&oldid=949415763</td><td>http://en.wikipedia.org/wiki/User:OAbot</td><td>http://en.wikipedia.org/wiki/Owl</td><td>false</td><td>List(null, null, null, null, null, null, null, null, null)</td></tr><tr><td>2020-04-14T09:15:47.728+0000</td><td>https://en.wikipedia.org/w/index.php?diff=950876142&oldid=944798234</td><td>http://en.wikipedia.org/wiki/User:1292simon</td><td>http://en.wikipedia.org/wiki/Draft:Judge_Thenjiwe_Khambule</td><td>false</td><td>List(null, null, null, null, null, null, null, null, null)</td></tr><tr><td>2020-04-14T09:15:47.787+0000</td><td>https://en.wikipedia.org/w/index.php?diff=950876145&oldid=950803303</td><td>http://en.wikipedia.org/wiki/User:88.106.204.169</td><td>http://en.wikipedia.org/wiki/Myogenesis</td><td>false</td><td>List(GB, Blackwood, 51.66780090332031, United Kingdom, 51.66780090332031, CAY, GBR, null, null)</td></tr><tr><td>2020-04-14T09:15:49.784+0000</td><td>https://en.wikipedia.org/w/index.php?diff=950876146&oldid=947104179</td><td>http://en.wikipedia.org/wiki/User:Khreasat</td><td>http://en.wikipedia.org/wiki/User_talk:Khreasat</td><td>false</td><td>List(null, null, null, null, null, null, null, null, null)</td></tr><tr><td>2020-04-14T09:15:49.908+0000</td><td>https://en.wikipedia.org/w/index.php?diff=950876147&oldid=950876130</td><td>http://en.wikipedia.org/wiki/User:Serols</td><td>http://en.wikipedia.org/wiki/Computer_art_scene</td><td>false</td><td>List(null, null, null, null, null, null, null, null, null)</td></tr><tr><td>2020-04-14T09:15:50.389+0000</td><td>https://en.wikipedia.org/w/index.php?diff=950876148&oldid=948578542</td><td>http://en.wikipedia.org/wiki/User:Liggliluff</td><td>http://en.wikipedia.org/wiki/Kinabatangan_language</td><td>false</td><td>List(null, null, null, null, null, null, null, null, null)</td></tr><tr><td>2020-04-14T09:15:50.704+0000</td><td>https://en.wikipedia.org/w/index.php?diff=950876149&oldid=949802214</td><td>http://en.wikipedia.org/wiki/User:Oshwah</td><td>http://en.wikipedia.org/wiki/User_talk:2601:188:180:B8E0:65F5:930C:B0B2:CD63</td><td>false</td><td>List(null, null, null, null, null, null, null, null, null)</td></tr><tr><td>2020-04-14T09:15:51.505+0000</td><td>https://en.wikipedia.org/w/index.php?diff=950876150&oldid=855613184</td><td>http://en.wikipedia.org/wiki/User:Jack1956</td><td>http://en.wikipedia.org/wiki/John_Henry_Johnstone</td><td>false</td><td>List(null, null, null, null, null, null, null, null, null)</td></tr><tr><td>2020-04-14T09:15:51.713+0000</td><td>https://en.wikipedia.org/w/index.php?diff=950876152&oldid=941392631</td><td>http://en.wikipedia.org/wiki/User:John of Reading</td><td>http://en.wikipedia.org/wiki/Baldwin_Wallace_Yellow_Jackets</td><td>false</td><td>List(null, null, null, null, null, null, null, null, null)</td></tr><tr><td>2020-04-14T09:15:53.282+0000</td><td>https://en.wikipedia.org/w/index.php?diff=950876155&oldid=891677837</td><td>http://en.wikipedia.org/wiki/User:OAbot</td><td>http://en.wikipedia.org/wiki/CLDN6</td><td>false</td><td>List(null, null, null, null, null, null, null, null, null)</td></tr><tr><td>2020-04-14T09:15:53.282+0000</td><td>https://en.wikipedia.org/w/index.php?diff=950876151&oldid=950875973</td><td>http://en.wikipedia.org/wiki/User:2601:202:200:1BE0:3874:5F95:9532:449B</td><td>http://en.wikipedia.org/wiki/Taxi_Driver</td><td>false</td><td>List(US, null, 39.7599983215332, United States, 39.7599983215332, null, USA, null, null)</td></tr><tr><td>2020-04-14T09:15:53.340+0000</td><td>https://en.wikipedia.org/w/index.php?diff=950876153&oldid=950873886</td><td>http://en.wikipedia.org/wiki/User:2A02:587:6E46:D000:44EA:9336:B8BF:F5FF</td><td>http://en.wikipedia.org/wiki/Education_in_Greece</td><td>false</td><td>List(GR, null, 39.0, Greece, 39.0, null, GRC, null, null)</td></tr><tr><td>2020-04-14T09:15:53.553+0000</td><td>https://en.wikipedia.org/w/index.php?diff=950876154&oldid=939751568</td><td>http://en.wikipedia.org/wiki/User:Markussep</td><td>http://en.wikipedia.org/wiki/Spandau</td><td>false</td><td>List(null, null, null, null, null, null, null, null, null)</td></tr><tr><td>2020-04-14T09:15:53.746+0000</td><td>https://en.wikipedia.org/w/index.php?diff=950876156&oldid=950874810</td><td>http://en.wikipedia.org/wiki/User:DatBot</td><td>http://en.wikipedia.org/wiki/User:DatBot/pendingbacklog</td><td>false</td><td>List(null, null, null, null, null, null, null, null, null)</td></tr><tr><td>2020-04-14T09:15:55.396+0000</td><td>https://en.wikipedia.org/w/index.php?diff=950876157&oldid=950742378</td><td>http://en.wikipedia.org/wiki/User:SandyGeorgia</td><td>http://en.wikipedia.org/wiki/Wikipedia:Arbitration/Requests/Case/Medicine/Workshop</td><td>false</td><td>List(null, null, null, null, null, null, null, null, null)</td></tr><tr><td>2020-04-14T09:15:56.325+0000</td><td>https://en.wikipedia.org/w/index.php?diff=950876158&oldid=950337009</td><td>http://en.wikipedia.org/wiki/User:Capewearer</td><td>http://en.wikipedia.org/wiki/Coronavirus_(Scotland)_Act_2020</td><td>false</td><td>List(null, null, null, null, null, null, null, null, null)</td></tr><tr><td>2020-04-14T09:15:56.726+0000</td><td>https://en.wikipedia.org/w/index.php?diff=950876160&oldid=948467615</td><td>http://en.wikipedia.org/wiki/User:2A00:F41:4827:432:3D28:BF:D0E7:F2EF</td><td>http://en.wikipedia.org/wiki/List_of_Deadliest_Catch_episodes</td><td>false</td><td>List(PL, null, 52.0, Poland, 52.0, null, POL, null, null)</td></tr><tr><td>2020-04-14T09:15:57.143+0000</td><td>https://en.wikipedia.org/w/index.php?diff=950876161&oldid=866879734</td><td>http://en.wikipedia.org/wiki/User:Andrybak</td><td>http://en.wikipedia.org/wiki/Template:Non-free_media/doc</td><td>false</td><td>List(null, null, null, null, null, null, null, null, null)</td></tr><tr><td>2020-04-14T09:15:57.782+0000</td><td>https://en.wikipedia.org/w/index.php?diff=950876159&oldid=950768943</td><td>http://en.wikipedia.org/wiki/User:Netanel h</td><td>http://en.wikipedia.org/wiki/Template:2019–20_coronavirus_pandemic_data/Israel_medical_cases_chart</td><td>false</td><td>List(null, null, null, null, null, null, null, null, null)</td></tr><tr><td>2020-04-14T09:15:59.453+0000</td><td>https://en.wikipedia.org/w/index.php?diff=950876162&oldid=942518590</td><td>http://en.wikipedia.org/wiki/User:OAbot</td><td>http://en.wikipedia.org/wiki/Organosolv</td><td>false</td><td>List(null, null, null, null, null, null, null, null, null)</td></tr><tr><td>2020-04-14T09:16:00.776+0000</td><td></td><td>http://en.wikipedia.org/wiki/User:Qaym Ahmad</td><td>http://en.wikipedia.org/wiki/Special:Log/newusers</td><td>false</td><td>List(null, null, null, null, null, null, null, null, null)</td></tr><tr><td>2020-04-14T09:16:02.422+0000</td><td>https://en.wikipedia.org/w/index.php?diff=950876164&oldid=949589999</td><td>http://en.wikipedia.org/wiki/User:DanTheMusicMan2</td><td>http://en.wikipedia.org/wiki/List_of_number-one_Billboard_Tropical_Songs_of_2020</td><td>false</td><td>List(null, null, null, null, null, null, null, null, null)</td></tr><tr><td>2020-04-14T09:16:02.635+0000</td><td>https://en.wikipedia.org/w/index.php?diff=950876165&oldid=950874374</td><td>http://en.wikipedia.org/wiki/User:Applebaymedia</td><td>http://en.wikipedia.org/wiki/User_talk:Applebaymedia</td><td>false</td><td>List(null, null, null, null, null, null, null, null, null)</td></tr><tr><td>2020-04-14T09:16:03.198+0000</td><td>https://en.wikipedia.org/w/index.php?diff=950876163&oldid=924830646</td><td>http://en.wikipedia.org/wiki/User:Peacemaker67</td><td>http://en.wikipedia.org/wiki/Talk:Arthur_Lyttelton-Annesley</td><td>false</td><td>List(null, null, null, null, null, null, null, null, null)</td></tr><tr><td>2020-04-14T09:16:03.790+0000</td><td>https://en.wikipedia.org/w/index.php?diff=950876166&oldid=931065632</td><td>http://en.wikipedia.org/wiki/User:Stereorock</td><td>http://en.wikipedia.org/wiki/Template:Other_Radio_Stations_in_Florida</td><td>false</td><td>List(null, null, null, null, null, null, null, null, null)</td></tr><tr><td>2020-04-14T09:16:04.591+0000</td><td>https://en.wikipedia.org/w/index.php?diff=950876167&oldid=787497441</td><td>http://en.wikipedia.org/wiki/User:Johnsoniensis</td><td>http://en.wikipedia.org/wiki/Talk:Academy_of_Gondishapur</td><td>false</td><td>List(null, null, null, null, null, null, null, null, null)</td></tr><tr><td>2020-04-14T09:16:05.633+0000</td><td>https://en.wikipedia.org/w/index.php?diff=950876168&oldid=920984559</td><td>http://en.wikipedia.org/wiki/User:JMHamo</td><td>http://en.wikipedia.org/wiki/Draft:Valhalla</td><td>false</td><td>List(null, null, null, null, null, null, null, null, null)</td></tr><tr><td>2020-04-14T09:16:05.793+0000</td><td>https://en.wikipedia.org/w/index.php?diff=950876171&oldid=941684696</td><td>http://en.wikipedia.org/wiki/User:OAbot</td><td>http://en.wikipedia.org/wiki/Beijerinckia_derxii</td><td>false</td><td>List(null, null, null, null, null, null, null, null, null)</td></tr><tr><td>2020-04-14T09:16:06.075+0000</td><td>https://en.wikipedia.org/w/index.php?oldid=950876172&rcid=1250735541</td><td>http://en.wikipedia.org/wiki/User:JMHamo</td><td>http://en.wikipedia.org/wiki/User_talk:Sarakeber</td><td>true</td><td>List(null, null, null, null, null, null, null, null, null)</td></tr><tr><td>2020-04-14T09:16:06.133+0000</td><td>https://en.wikipedia.org/w/index.php?diff=950876170&oldid=942669770</td><td>http://en.wikipedia.org/wiki/User:151.192.140.45</td><td>http://en.wikipedia.org/wiki/Zong_Zijie</td><td>false</td><td>List(US, null, 38.0, United States, 38.0, null, USA, null, null)</td></tr><tr><td>2020-04-14T09:16:06.745+0000</td><td>https://en.wikipedia.org/w/index.php?diff=950876173&oldid=950875924</td><td>http://en.wikipedia.org/wiki/User:Apcbg</td><td>http://en.wikipedia.org/wiki/Brigid_of_Kildare</td><td>false</td><td>List(null, null, null, null, null, null, null, null, null)</td></tr><tr><td>2020-04-14T09:16:07.001+0000</td><td>https://en.wikipedia.org/w/index.php?diff=950876169&oldid=950199514</td><td>http://en.wikipedia.org/wiki/User:Grimes2</td><td>http://en.wikipedia.org/wiki/Josip_Broz_Tito</td><td>false</td><td>List(null, null, null, null, null, null, null, null, null)</td></tr><tr><td>2020-04-14T09:16:07.742+0000</td><td>https://en.wikipedia.org/w/index.php?diff=950876175&oldid=950796567</td><td>http://en.wikipedia.org/wiki/User:Flourbomb</td><td>http://en.wikipedia.org/wiki/User:Flourbomb/sandbox</td><td>false</td><td>List(null, null, null, null, null, null, null, null, null)</td></tr><tr><td>2020-04-14T09:16:08.328+0000</td><td>https://en.wikipedia.org/w/index.php?diff=950876174&oldid=950876100</td><td>http://en.wikipedia.org/wiki/User:LWL12345</td><td>http://en.wikipedia.org/wiki/Norway_in_the_Eurovision_Song_Contest_2005</td><td>false</td><td>List(null, null, null, null, null, null, null, null, null)</td></tr><tr><td>2020-04-14T09:16:08.639+0000</td><td>https://en.wikipedia.org/w/index.php?diff=950876176&oldid=950464893</td><td>http://en.wikipedia.org/wiki/User:182.30.192.44</td><td>http://en.wikipedia.org/wiki/Automotive_industry_in_Indonesia</td><td>false</td><td>List(ID, null, -6.993199825286865, Indonesia, -6.993199825286865, JT, IDN, null, null)</td></tr><tr><td>2020-04-14T09:16:09.274+0000</td><td></td><td>http://en.wikipedia.org/wiki/User:Borikabok</td><td>http://en.wikipedia.org/wiki/Special:Log/newusers</td><td>false</td><td>List(null, null, null, null, null, null, null, null, null)</td></tr><tr><td>2020-04-14T09:16:09.417+0000</td><td></td><td>http://en.wikipedia.org/wiki/User:LukeHarrigan</td><td>http://en.wikipedia.org/wiki/Special:Log/newusers</td><td>false</td><td>List(null, null, null, null, null, null, null, null, null)</td></tr><tr><td>2020-04-14T09:16:10.057+0000</td><td>https://en.wikipedia.org/w/index.php?diff=950876177&oldid=928374999</td><td>http://en.wikipedia.org/wiki/User:Charles Leclerc's Future Husband</td><td>http://en.wikipedia.org/wiki/Changes:_A_Love_Story</td><td>false</td><td>List(null, null, null, null, null, null, null, null, null)</td></tr><tr><td>2020-04-14T09:16:10.382+0000</td><td>https://en.wikipedia.org/w/index.php?diff=950876179&oldid=787250316</td><td>http://en.wikipedia.org/wiki/User:Fayenatic london</td><td>http://en.wikipedia.org/wiki/Category:Vancouver_articles_by_quality</td><td>false</td><td>List(null, null, null, null, null, null, null, null, null)</td></tr><tr><td>2020-04-14T09:16:10.661+0000</td><td>https://en.wikipedia.org/w/index.php?diff=950876178&oldid=950875666</td><td>http://en.wikipedia.org/wiki/User:Space4Time3Continuum2x</td><td>http://en.wikipedia.org/wiki/Elaine_Chao</td><td>false</td><td>List(null, null, null, null, null, null, null, null, null)</td></tr><tr><td>2020-04-14T09:16:11.264+0000</td><td>https://en.wikipedia.org/w/index.php?diff=950876180&oldid=946561856</td><td>http://en.wikipedia.org/wiki/User:-- -- --</td><td>http://en.wikipedia.org/wiki/Bozorg_Alavi</td><td>false</td><td>List(null, null, null, null, null, null, null, null, null)</td></tr><tr><td>2020-04-14T09:16:12.487+0000</td><td>https://en.wikipedia.org/w/index.php?diff=950876181&oldid=941106069</td><td>http://en.wikipedia.org/wiki/User:OAbot</td><td>http://en.wikipedia.org/wiki/Deaths_in_January_1998</td><td>false</td><td>List(null, null, null, null, null, null, null, null, null)</td></tr><tr><td>2020-04-14T09:16:13.291+0000</td><td>https://en.wikipedia.org/w/index.php?diff=950876182&oldid=950872149</td><td>http://en.wikipedia.org/wiki/User:Artoria2e5</td><td>http://en.wikipedia.org/wiki/Lokiarchaeota</td><td>false</td><td>List(null, null, null, null, null, null, null, null, null)</td></tr><tr><td>2020-04-14T09:16:14.310+0000</td><td>https://en.wikipedia.org/w/index.php?diff=950876183&oldid=950876102</td><td>http://en.wikipedia.org/wiki/User:Manudouz</td><td>http://en.wikipedia.org/wiki/Monoxenous_development</td><td>false</td><td>List(null, null, null, null, null, null, null, null, null)</td></tr><tr><td>2020-04-14T09:16:15.328+0000</td><td>https://en.wikipedia.org/w/index.php?diff=950876185&oldid=950874022</td><td>http://en.wikipedia.org/wiki/User:Pygoscelis adeliae</td><td>http://en.wikipedia.org/wiki/Lloyd_Spencer_Davis</td><td>false</td><td>List(null, null, null, null, null, null, null, null, null)</td></tr><tr><td>2020-04-14T09:16:15.488+0000</td><td>https://en.wikipedia.org/w/index.php?diff=950876186&oldid=950875126</td><td>http://en.wikipedia.org/wiki/User:HickoryOughtShirt?4</td><td>http://en.wikipedia.org/wiki/Draft:Singapore_Blog</td><td>false</td><td>List(null, null, null, null, null, null, null, null, null)</td></tr><tr><td>2020-04-14T09:16:15.661+0000</td><td>https://en.wikipedia.org/w/index.php?diff=950876184&oldid=950875898</td><td>http://en.wikipedia.org/wiki/User:Johnn Francis</td><td>http://en.wikipedia.org/wiki/Oregon</td><td>false</td><td>List(null, null, null, null, null, null, null, null, null)</td></tr><tr><td>2020-04-14T09:16:16.174+0000</td><td>https://en.wikipedia.org/w/index.php?diff=950876188&oldid=933195327</td><td>http://en.wikipedia.org/wiki/User:WhisperToMe</td><td>http://en.wikipedia.org/wiki/Tokyopop</td><td>false</td><td>List(null, null, null, null, null, null, null, null, null)</td></tr><tr><td>2020-04-14T09:16:16.268+0000</td><td>https://en.wikipedia.org/w/index.php?diff=950876187&oldid=950876103</td><td>http://en.wikipedia.org/wiki/User:Marisa Glez Glez Glez</td><td>http://en.wikipedia.org/wiki/Sonia_Sheridan</td><td>false</td><td>List(null, null, null, null, null, null, null, null, null)</td></tr><tr><td>2020-04-14T09:16:16.679+0000</td><td>https://en.wikipedia.org/w/index.php?diff=950876189&oldid=948829419</td><td>http://en.wikipedia.org/wiki/User:Jwikip</td><td>http://en.wikipedia.org/wiki/Dzmitry_Loban</td><td>false</td><td>List(null, null, null, null, null, null, null, null, null)</td></tr><tr><td>2020-04-14T09:16:16.935+0000</td><td>https://en.wikipedia.org/w/index.php?diff=950876190&oldid=950863117</td><td>http://en.wikipedia.org/wiki/User:Dimadick</td><td>http://en.wikipedia.org/wiki/Wikipedia:Categories_for_discussion/Log/2020_April_12</td><td>false</td><td>List(null, null, null, null, null, null, null, null, null)</td></tr><tr><td>2020-04-14T09:16:17.121+0000</td><td>https://en.wikipedia.org/w/index.php?diff=950876191&oldid=950874423</td><td>http://en.wikipedia.org/wiki/User:Vycl1994</td><td>http://en.wikipedia.org/wiki/Antoine_Caill</td><td>false</td><td>List(null, null, null, null, null, null, null, null, null)</td></tr><tr><td>2020-04-14T09:16:18.002+0000</td><td>https://en.wikipedia.org/w/index.php?diff=950876194&oldid=950876091</td><td>http://en.wikipedia.org/wiki/User:Encyclopædius</td><td>http://en.wikipedia.org/wiki/User_talk:Encyclopædius</td><td>false</td><td>List(null, null, null, null, null, null, null, null, null)</td></tr><tr><td>2020-04-14T09:16:18.404+0000</td><td>https://en.wikipedia.org/w/index.php?diff=950876192&oldid=939165120</td><td>http://en.wikipedia.org/wiki/User:EchetusXe</td><td>http://en.wikipedia.org/wiki/Jock_Cameron_(footballer)</td><td>false</td><td>List(null, null, null, null, null, null, null, null, null)</td></tr><tr><td>2020-04-14T09:16:18.548+0000</td><td>https://en.wikipedia.org/w/index.php?diff=950876193&oldid=949720158</td><td>http://en.wikipedia.org/wiki/User:Nucleus hydro elemon</td><td>http://en.wikipedia.org/wiki/Sulfur_hexafluoride</td><td>false</td><td>List(null, null, null, null, null, null, null, null, null)</td></tr></tbody></table></div>"
      ]
     },
     "metadata": {},
     "output_type": "display_data"
    }
   ],
   "source": [
    "myStreamName = \"lesson02_ps\"\n",
    "display(kafkaCleanDF, streamName = myStreamName)"
   ]
  },
  {
   "cell_type": "code",
   "execution_count": 16,
   "metadata": {},
   "outputs": [
    {
     "data": {
      "text/html": [
       "<style scoped>\n",
       "  .ansiout {\n",
       "    display: block;\n",
       "    unicode-bidi: embed;\n",
       "    white-space: pre-wrap;\n",
       "    word-wrap: break-word;\n",
       "    word-break: break-all;\n",
       "    font-family: \"Source Code Pro\", \"Menlo\", monospace;;\n",
       "    font-size: 13px;\n",
       "    color: #555;\n",
       "    margin-left: 4px;\n",
       "    line-height: 19px;\n",
       "  }\n",
       "</style>\n",
       "<div class=\"ansiout\">The stream lesson02_ps is active and ready.\n",
       "</div>"
      ]
     },
     "metadata": {},
     "output_type": "display_data"
    }
   ],
   "source": [
    "# Wait until the stream is ready...\n",
    "untilStreamIsReady(myStreamName)"
   ]
  },
  {
   "cell_type": "markdown",
   "metadata": {},
   "source": [
    "Now we have a live stream of Wikipedia data.  Now stop the stream (and any other active streams) to reduce resource consumption."
   ]
  },
  {
   "cell_type": "code",
   "execution_count": 18,
   "metadata": {},
   "outputs": [
    {
     "data": {
      "text/html": [
       "<style scoped>\n",
       "  .ansiout {\n",
       "    display: block;\n",
       "    unicode-bidi: embed;\n",
       "    white-space: pre-wrap;\n",
       "    word-wrap: break-word;\n",
       "    word-break: break-all;\n",
       "    font-family: \"Source Code Pro\", \"Menlo\", monospace;;\n",
       "    font-size: 13px;\n",
       "    color: #555;\n",
       "    margin-left: 4px;\n",
       "    line-height: 19px;\n",
       "  }\n",
       "</style>\n",
       "<div class=\"ansiout\"></div>"
      ]
     },
     "metadata": {},
     "output_type": "display_data"
    }
   ],
   "source": [
    "for s in spark.streams.active:\n",
    "  s.stop()"
   ]
  },
  {
   "cell_type": "markdown",
   "metadata": {},
   "source": [
    "### Transform the Stream\n",
    "\n",
    "We can now start to apply transformation logic to our data in real time.  Parse out only the non-null country data."
   ]
  },
  {
   "cell_type": "code",
   "execution_count": 20,
   "metadata": {},
   "outputs": [
    {
     "data": {
      "text/html": [
       "<style scoped>\n",
       "  .table-result-container {\n",
       "    max-height: 300px;\n",
       "    overflow: auto;\n",
       "  }\n",
       "  table, th, td {\n",
       "    border: 1px solid black;\n",
       "    border-collapse: collapse;\n",
       "  }\n",
       "  th, td {\n",
       "    padding: 5px;\n",
       "  }\n",
       "  th {\n",
       "    text-align: left;\n",
       "  }\n",
       "</style><div class='table-result-container'><table class='table-result'><thead style='background-color: white'><tr><th>timestamp</th><th>pageURL</th><th>countryCode2</th><th>city</th></tr></thead><tbody><tr><td>2020-04-14T09:30:14.945+0000</td><td>http://en.wikipedia.org/wiki/Seelbach_Hotel</td><td>US</td><td>Green Bay</td></tr><tr><td>2020-04-14T09:30:16.877+0000</td><td>http://en.wikipedia.org/wiki/Tarabai</td><td>IN</td><td>Kundan</td></tr><tr><td>2020-04-14T09:30:17.627+0000</td><td>http://en.wikipedia.org/wiki/Legislative_Assembly_of_the_Cayman_Islands</td><td>KY</td><td>George Town</td></tr><tr><td>2020-04-14T09:30:26.094+0000</td><td>http://en.wikipedia.org/wiki/List_of_infantry_weapons_of_World_War_I</td><td>MY</td><td>Kuala Lumpur</td></tr><tr><td>2020-04-14T09:30:29.483+0000</td><td>http://en.wikipedia.org/wiki/Category:German_noble_families</td><td>US</td><td>Petaluma</td></tr><tr><td>2020-04-14T09:30:35.175+0000</td><td>http://en.wikipedia.org/wiki/Liam_Hayes</td><td>CA</td><td>Vieux-Saint-Laurent</td></tr><tr><td>2020-04-14T09:30:44.036+0000</td><td>http://en.wikipedia.org/wiki/Legislative_Assembly_of_the_Cayman_Islands</td><td>KY</td><td>George Town</td></tr><tr><td>2020-04-14T09:30:52.010+0000</td><td>http://en.wikipedia.org/wiki/Draft:1990_Cupa_Romaniei_Final</td><td>RO</td><td>null</td></tr><tr><td>2020-04-14T09:30:56.630+0000</td><td>http://en.wikipedia.org/wiki/Talk:Lexus_LFA</td><td>ID</td><td>null</td></tr><tr><td>2020-04-14T09:31:00.526+0000</td><td>http://en.wikipedia.org/wiki/Special:Log/abusefilter</td><td>AU</td><td>null</td></tr><tr><td>2020-04-14T09:31:00.780+0000</td><td>http://en.wikipedia.org/wiki/Hurricane_Ophelia_(2017)</td><td>GB</td><td>null</td></tr><tr><td>2020-04-14T09:31:06.501+0000</td><td>http://en.wikipedia.org/wiki/Special:Log/abusefilter</td><td>IN</td><td>Kundan</td></tr><tr><td>2020-04-14T09:31:06.560+0000</td><td>http://en.wikipedia.org/wiki/Sudeep</td><td>IN</td><td>Kundan</td></tr><tr><td>2020-04-14T09:31:10.602+0000</td><td>http://en.wikipedia.org/wiki/Marivan</td><td>GB</td><td>null</td></tr><tr><td>2020-04-14T09:31:20.162+0000</td><td>http://en.wikipedia.org/wiki/List_of_Shaun_the_Sheep_episodes</td><td>GB</td><td>null</td></tr><tr><td>2020-04-14T09:31:22.760+0000</td><td>http://en.wikipedia.org/wiki/Ulla_Löfvén</td><td>SE</td><td>Huddinge</td></tr><tr><td>2020-04-14T09:31:24.218+0000</td><td>http://en.wikipedia.org/wiki/David_Arnold</td><td>GB</td><td>null</td></tr><tr><td>2020-04-14T09:31:24.532+0000</td><td>http://en.wikipedia.org/wiki/Special:Log/abusefilter</td><td>ZA</td><td>null</td></tr><tr><td>2020-04-14T09:31:24.591+0000</td><td>http://en.wikipedia.org/wiki/Romans_8</td><td>ZA</td><td>null</td></tr><tr><td>2020-04-14T09:31:25.040+0000</td><td>http://en.wikipedia.org/wiki/Special:Log/abusefilter</td><td>AU</td><td>null</td></tr><tr><td>2020-04-14T09:31:25.099+0000</td><td>http://en.wikipedia.org/wiki/Ace</td><td>AU</td><td>null</td></tr><tr><td>2020-04-14T09:31:27.416+0000</td><td>http://en.wikipedia.org/wiki/Pandemic_Studios</td><td>US</td><td>Bristol</td></tr><tr><td>2020-04-14T09:31:28.003+0000</td><td>http://en.wikipedia.org/wiki/List_of_massacres_in_Australia</td><td>AU</td><td>null</td></tr><tr><td>2020-04-14T09:31:36.715+0000</td><td>http://en.wikipedia.org/wiki/Hurricane_Ophelia_(2017)</td><td>GB</td><td>null</td></tr><tr><td>2020-04-14T09:31:37.856+0000</td><td>http://en.wikipedia.org/wiki/Don_Brash</td><td>AU</td><td>Liverpool</td></tr><tr><td>2020-04-14T09:31:41.122+0000</td><td>http://en.wikipedia.org/wiki/Rodel_Naval</td><td>PH</td><td>Roxas City</td></tr><tr><td>2020-04-14T09:31:41.731+0000</td><td>http://en.wikipedia.org/wiki/Seelbach_Hotel</td><td>US</td><td>Green Bay</td></tr><tr><td>2020-04-14T09:31:42.168+0000</td><td>http://en.wikipedia.org/wiki/Special:Log/abusefilter</td><td>GB</td><td>null</td></tr><tr><td>2020-04-14T09:31:42.226+0000</td><td>http://en.wikipedia.org/wiki/Special:Log/abusefilter</td><td>GB</td><td>null</td></tr><tr><td>2020-04-14T09:31:42.226+0000</td><td>http://en.wikipedia.org/wiki/Special:Log/abusefilter</td><td>GB</td><td>null</td></tr><tr><td>2020-04-14T09:31:44.839+0000</td><td>http://en.wikipedia.org/wiki/Escape_from_the_Bronx</td><td>IT</td><td>Arzergrande</td></tr><tr><td>2020-04-14T09:31:47.349+0000</td><td>http://en.wikipedia.org/wiki/Talk:Lexus_LFA</td><td>ID</td><td>null</td></tr><tr><td>2020-04-14T09:31:47.820+0000</td><td>http://en.wikipedia.org/wiki/Draft:1990_Cupa_Romaniei_Final</td><td>RO</td><td>null</td></tr><tr><td>2020-04-14T09:31:48.204+0000</td><td>http://en.wikipedia.org/wiki/ITV_Choice</td><td>AE</td><td>null</td></tr><tr><td>2020-04-14T09:31:49.276+0000</td><td>http://en.wikipedia.org/wiki/DJ_Quik</td><td>NZ</td><td>Christchurch</td></tr><tr><td>2020-04-14T09:31:50.430+0000</td><td>http://en.wikipedia.org/wiki/Norman_Osborn</td><td>MX</td><td>null</td></tr><tr><td>2020-04-14T09:32:03.685+0000</td><td>http://en.wikipedia.org/wiki/Ulla_Löfvén</td><td>SE</td><td>Huddinge</td></tr><tr><td>2020-04-14T09:32:06.916+0000</td><td>http://en.wikipedia.org/wiki/Special:Log/abusefilter</td><td>GB</td><td>Gourock</td></tr><tr><td>2020-04-14T09:32:16.258+0000</td><td>http://en.wikipedia.org/wiki/Green_Eggs_and_Ham</td><td>GB</td><td>Aberdeen</td></tr><tr><td>2020-04-14T09:32:17.662+0000</td><td>http://en.wikipedia.org/wiki/Bubble_Guppies</td><td>SG</td><td>Singapore</td></tr><tr><td>2020-04-14T09:32:35.659+0000</td><td>http://en.wikipedia.org/wiki/Indigenous_peoples</td><td>FI</td><td>null</td></tr><tr><td>2020-04-14T09:32:42.502+0000</td><td>http://en.wikipedia.org/wiki/Brodie</td><td>AU</td><td>null</td></tr></tbody></table></div>"
      ]
     },
     "metadata": {},
     "output_type": "display_data"
    }
   ],
   "source": [
    "goeocodingDF = (kafkaCleanDF\n",
    "  .filter(col(\"geocoding.country\").isNotNull())\n",
    "  .select(\"timestamp\", \"pageURL\", \"geocoding.countryCode2\", \"geocoding.city\")\n",
    ")\n",
    "\n",
    "display(goeocodingDF, streamName = myStreamName)"
   ]
  },
  {
   "cell_type": "code",
   "execution_count": 21,
   "metadata": {},
   "outputs": [
    {
     "data": {
      "text/html": [
       "<style scoped>\n",
       "  .ansiout {\n",
       "    display: block;\n",
       "    unicode-bidi: embed;\n",
       "    white-space: pre-wrap;\n",
       "    word-wrap: break-word;\n",
       "    word-break: break-all;\n",
       "    font-family: \"Source Code Pro\", \"Menlo\", monospace;;\n",
       "    font-size: 13px;\n",
       "    color: #555;\n",
       "    margin-left: 4px;\n",
       "    line-height: 19px;\n",
       "  }\n",
       "</style>\n",
       "<div class=\"ansiout\">The stream lesson02_ps is active and ready.\n",
       "</div>"
      ]
     },
     "metadata": {},
     "output_type": "display_data"
    }
   ],
   "source": [
    "# Wait until the stream is ready...\n",
    "untilStreamIsReady(myStreamName)"
   ]
  },
  {
   "cell_type": "markdown",
   "metadata": {},
   "source": [
    "Stop the stream"
   ]
  },
  {
   "cell_type": "code",
   "execution_count": 23,
   "metadata": {},
   "outputs": [
    {
     "data": {
      "text/html": [
       "<style scoped>\n",
       "  .ansiout {\n",
       "    display: block;\n",
       "    unicode-bidi: embed;\n",
       "    white-space: pre-wrap;\n",
       "    word-wrap: break-word;\n",
       "    word-break: break-all;\n",
       "    font-family: \"Source Code Pro\", \"Menlo\", monospace;;\n",
       "    font-size: 13px;\n",
       "    color: #555;\n",
       "    margin-left: 4px;\n",
       "    line-height: 19px;\n",
       "  }\n",
       "</style>\n",
       "<div class=\"ansiout\"></div>"
      ]
     },
     "metadata": {},
     "output_type": "display_data"
    }
   ],
   "source": [
    "for s in spark.streams.active:\n",
    "  s.stop()"
   ]
  },
  {
   "cell_type": "markdown",
   "metadata": {},
   "source": [
    "### Combine with Historical Data\n",
    "\n",
    "Joins between historical data and streams operate in much the same way that other joins work.  Join the stream of Wikipedia data on country metadata"
   ]
  },
  {
   "cell_type": "markdown",
   "metadata": {},
   "source": [
    "Import a lookup table of country data."
   ]
  },
  {
   "cell_type": "code",
   "execution_count": 26,
   "metadata": {},
   "outputs": [
    {
     "data": {
      "text/html": [
       "<style scoped>\n",
       "  .table-result-container {\n",
       "    max-height: 300px;\n",
       "    overflow: auto;\n",
       "  }\n",
       "  table, th, td {\n",
       "    border: 1px solid black;\n",
       "    border-collapse: collapse;\n",
       "  }\n",
       "  th, td {\n",
       "    padding: 5px;\n",
       "  }\n",
       "  th {\n",
       "    text-align: left;\n",
       "  }\n",
       "</style><div class='table-result-container'><table class='table-result'><thead style='background-color: white'><tr><th>EnglishShortName</th><th>alpha2Code</th><th>alpha3Code</th><th>numericCode</th><th>ISO31662SubdivisionCode</th><th>independentTerritory</th></tr></thead><tbody><tr><td>Afghanistan</td><td>AF</td><td>AFG</td><td>004</td><td>ISO 3166-2:AF</td><td>Yes</td></tr><tr><td>Åland Islands</td><td>AX</td><td>ALA</td><td>248</td><td>ISO 3166-2:AX</td><td>No</td></tr><tr><td>Albania</td><td>AL</td><td>ALB</td><td>008</td><td>ISO 3166-2:AL</td><td>Yes</td></tr><tr><td>Algeria</td><td>DZ</td><td>DZA</td><td>012</td><td>ISO 3166-2:DZ</td><td>Yes</td></tr><tr><td>American Samoa</td><td>AS</td><td>ASM</td><td>016</td><td>ISO 3166-2:AS</td><td>No</td></tr><tr><td>Andorra</td><td>AD</td><td>AND</td><td>020</td><td>ISO 3166-2:AD</td><td>Yes</td></tr><tr><td>Angola</td><td>AO</td><td>AGO</td><td>024</td><td>ISO 3166-2:AO</td><td>Yes</td></tr><tr><td>Anguilla</td><td>AI</td><td>AIA</td><td>660</td><td>ISO 3166-2:AI</td><td>No</td></tr><tr><td>Antarctica</td><td>AQ</td><td>ATA</td><td>010</td><td>ISO 3166-2:AQ</td><td>No</td></tr><tr><td>Antigua and Barbuda</td><td>AG</td><td>ATG</td><td>028</td><td>ISO 3166-2:AG</td><td>Yes</td></tr><tr><td>Argentina</td><td>AR</td><td>ARG</td><td>032</td><td>ISO 3166-2:AR</td><td>Yes</td></tr><tr><td>Armenia</td><td>AM</td><td>ARM</td><td>051</td><td>ISO 3166-2:AM</td><td>Yes</td></tr><tr><td>Aruba</td><td>AW</td><td>ABW</td><td>533</td><td>ISO 3166-2:AW</td><td>No</td></tr><tr><td>Australia</td><td>AU</td><td>AUS</td><td>036</td><td>ISO 3166-2:AU</td><td>Yes</td></tr><tr><td>Austria</td><td>AT</td><td>AUT</td><td>040</td><td>ISO 3166-2:AT</td><td>Yes</td></tr><tr><td>Azerbaijan</td><td>AZ</td><td>AZE</td><td>031</td><td>ISO 3166-2:AZ</td><td>Yes</td></tr><tr><td>Bahamas</td><td>BS</td><td>BHS</td><td>044</td><td>ISO 3166-2:BS</td><td>Yes</td></tr><tr><td>Bahrain</td><td>BH</td><td>BHR</td><td>048</td><td>ISO 3166-2:BH</td><td>Yes</td></tr><tr><td>Bangladesh</td><td>BD</td><td>BGD</td><td>050</td><td>ISO 3166-2:BD</td><td>Yes</td></tr><tr><td>Barbados</td><td>BB</td><td>BRB</td><td>052</td><td>ISO 3166-2:BB</td><td>Yes</td></tr><tr><td>Belarus</td><td>BY</td><td>BLR</td><td>112</td><td>ISO 3166-2:BY</td><td>Yes</td></tr><tr><td>Belgium</td><td>BE</td><td>BEL</td><td>056</td><td>ISO 3166-2:BE</td><td>Yes</td></tr><tr><td>Belize</td><td>BZ</td><td>BLZ</td><td>084</td><td>ISO 3166-2:BZ</td><td>Yes</td></tr><tr><td>Benin</td><td>BJ</td><td>BEN</td><td>204</td><td>ISO 3166-2:BJ</td><td>Yes</td></tr><tr><td>Bermuda</td><td>BM</td><td>BMU</td><td>060</td><td>ISO 3166-2:BM</td><td>No</td></tr><tr><td>Bhutan</td><td>BT</td><td>BTN</td><td>064</td><td>ISO 3166-2:BT</td><td>Yes</td></tr><tr><td>Bolivia (Plurinational State of)</td><td>BO</td><td>BOL</td><td>068</td><td>ISO 3166-2:BO</td><td>Yes</td></tr><tr><td>Netherlands Bonaire Sint Eustatius and Saba</td><td>BQ</td><td>BES</td><td>535</td><td>ISO 3166-2:BQ</td><td>No</td></tr><tr><td>Bosnia and Herzegovina</td><td>BA</td><td>BIH</td><td>070</td><td>ISO 3166-2:BA</td><td>Yes</td></tr><tr><td>Botswana</td><td>BW</td><td>BWA</td><td>072</td><td>ISO 3166-2:BW</td><td>Yes</td></tr><tr><td>Bouvet Island</td><td>BV</td><td>BVT</td><td>074</td><td>ISO 3166-2:BV</td><td>No</td></tr><tr><td>Brazil</td><td>BR</td><td>BRA</td><td>076</td><td>ISO 3166-2:BR</td><td>Yes</td></tr><tr><td>British Indian Ocean Territory</td><td>IO</td><td>IOT</td><td>086</td><td>ISO 3166-2:IO</td><td>No</td></tr><tr><td>Brunei Darussalam</td><td>BN</td><td>BRN</td><td>096</td><td>ISO 3166-2:BN</td><td>Yes</td></tr><tr><td>Bulgaria</td><td>BG</td><td>BGR</td><td>100</td><td>ISO 3166-2:BG</td><td>Yes</td></tr><tr><td>Burkina Faso</td><td>BF</td><td>BFA</td><td>854</td><td>ISO 3166-2:BF</td><td>Yes</td></tr><tr><td>Burundi</td><td>BI</td><td>BDI</td><td>108</td><td>ISO 3166-2:BI</td><td>Yes</td></tr><tr><td>Cabo Verde</td><td>CV</td><td>CPV</td><td>132</td><td>ISO 3166-2:CV</td><td>Yes</td></tr><tr><td>Cambodia</td><td>KH</td><td>KHM</td><td>116</td><td>ISO 3166-2:KH</td><td>Yes</td></tr><tr><td>Cameroon</td><td>CM</td><td>CMR</td><td>120</td><td>ISO 3166-2:CM</td><td>Yes</td></tr><tr><td>Canada</td><td>CA</td><td>CAN</td><td>124</td><td>ISO 3166-2:CA</td><td>Yes</td></tr><tr><td>Cayman Islands</td><td>KY</td><td>CYM</td><td>136</td><td>ISO 3166-2:KY</td><td>No</td></tr><tr><td>Central African Republic</td><td>CF</td><td>CAF</td><td>140</td><td>ISO 3166-2:CF</td><td>Yes</td></tr><tr><td>Chad</td><td>TD</td><td>TCD</td><td>148</td><td>ISO 3166-2:TD</td><td>Yes</td></tr><tr><td>Chile</td><td>CL</td><td>CHL</td><td>152</td><td>ISO 3166-2:CL</td><td>Yes</td></tr><tr><td>China</td><td>CN</td><td>CHN</td><td>156</td><td>ISO 3166-2:CN</td><td>Yes</td></tr><tr><td>Christmas Island</td><td>CX</td><td>CXR</td><td>162</td><td>ISO 3166-2:CX</td><td>No</td></tr><tr><td>Cocos (Keeling) Islands</td><td>CC</td><td>CCK</td><td>166</td><td>ISO 3166-2:CC</td><td>No</td></tr><tr><td>Colombia</td><td>CO</td><td>COL</td><td>170</td><td>ISO 3166-2:CO</td><td>Yes</td></tr><tr><td>Comoros</td><td>KM</td><td>COM</td><td>174</td><td>ISO 3166-2:KM</td><td>Yes</td></tr><tr><td>Congo</td><td>CG</td><td>COG</td><td>178</td><td>ISO 3166-2:CG</td><td>Yes</td></tr><tr><td>Congo (Democratic Republic of the)</td><td>CD</td><td>COD</td><td>180</td><td>ISO 3166-2:CD</td><td>Yes</td></tr><tr><td>Cook Islands</td><td>CK</td><td>COK</td><td>184</td><td>ISO 3166-2:CK</td><td>No</td></tr><tr><td>Costa Rica</td><td>CR</td><td>CRI</td><td>188</td><td>ISO 3166-2:CR</td><td>Yes</td></tr><tr><td>Côte d'Ivoire</td><td>CI</td><td>CIV</td><td>384</td><td>ISO 3166-2:CI</td><td>Yes</td></tr><tr><td>Croatia</td><td>HR</td><td>HRV</td><td>191</td><td>ISO 3166-2:HR</td><td>Yes</td></tr><tr><td>Cuba</td><td>CU</td><td>CUB</td><td>192</td><td>ISO 3166-2:CU</td><td>Yes</td></tr><tr><td>Curaçao</td><td>CW</td><td>CUW</td><td>531</td><td>ISO 3166-2:CW</td><td>No</td></tr><tr><td>Cyprus</td><td>CY</td><td>CYP</td><td>196</td><td>ISO 3166-2:CY</td><td>Yes</td></tr><tr><td>Republic Czechia</td><td>CZ</td><td>CZE</td><td>203</td><td>ISO 3166-2:CZ</td><td>Yes</td></tr><tr><td>Denmark</td><td>DK</td><td>DNK</td><td>208</td><td>ISO 3166-2:DK</td><td>Yes</td></tr><tr><td>Djibouti</td><td>DJ</td><td>DJI</td><td>262</td><td>ISO 3166-2:DJ</td><td>Yes</td></tr><tr><td>Dominica</td><td>DM</td><td>DMA</td><td>212</td><td>ISO 3166-2:DM</td><td>Yes</td></tr><tr><td>Dominican Republic</td><td>DO</td><td>DOM</td><td>214</td><td>ISO 3166-2:DO</td><td>Yes</td></tr><tr><td>Ecuador</td><td>EC</td><td>ECU</td><td>218</td><td>ISO 3166-2:EC</td><td>Yes</td></tr><tr><td>Egypt</td><td>EG</td><td>EGY</td><td>818</td><td>ISO 3166-2:EG</td><td>Yes</td></tr><tr><td>El Salvador</td><td>SV</td><td>SLV</td><td>222</td><td>ISO 3166-2:SV</td><td>Yes</td></tr><tr><td>Equatorial Guinea</td><td>GQ</td><td>GNQ</td><td>226</td><td>ISO 3166-2:GQ</td><td>Yes</td></tr><tr><td>Eritrea</td><td>ER</td><td>ERI</td><td>232</td><td>ISO 3166-2:ER</td><td>Yes</td></tr><tr><td>Estonia</td><td>EE</td><td>EST</td><td>233</td><td>ISO 3166-2:EE</td><td>Yes</td></tr><tr><td>Ethiopia</td><td>ET</td><td>ETH</td><td>231</td><td>ISO 3166-2:ET</td><td>Yes</td></tr><tr><td>Falkland Islands (Malvinas)</td><td>FK</td><td>FLK</td><td>238</td><td>ISO 3166-2:FK</td><td>No</td></tr><tr><td>Faroe Islands</td><td>FO</td><td>FRO</td><td>234</td><td>ISO 3166-2:FO</td><td>No</td></tr><tr><td>Fiji</td><td>FJ</td><td>FJI</td><td>242</td><td>ISO 3166-2:FJ</td><td>Yes</td></tr><tr><td>Finland</td><td>FI</td><td>FIN</td><td>246</td><td>ISO 3166-2:FI</td><td>Yes</td></tr><tr><td>France</td><td>FR</td><td>FRA</td><td>250</td><td>ISO 3166-2:FR</td><td>Yes</td></tr><tr><td>French Guiana</td><td>GF</td><td>GUF</td><td>254</td><td>ISO 3166-2:GF</td><td>No</td></tr><tr><td>French Polynesia</td><td>PF</td><td>PYF</td><td>258</td><td>ISO 3166-2:PF</td><td>No</td></tr><tr><td>French Southern Territories</td><td>TF</td><td>ATF</td><td>260</td><td>ISO 3166-2:TF</td><td>No</td></tr><tr><td>Gabon</td><td>GA</td><td>GAB</td><td>266</td><td>ISO 3166-2:GA</td><td>Yes</td></tr><tr><td>Gambia</td><td>GM</td><td>GMB</td><td>270</td><td>ISO 3166-2:GM</td><td>Yes</td></tr><tr><td>Georgia</td><td>GE</td><td>GEO</td><td>268</td><td>ISO 3166-2:GE</td><td>Yes</td></tr><tr><td>Germany</td><td>DE</td><td>DEU</td><td>276</td><td>ISO 3166-2:DE</td><td>Yes</td></tr><tr><td>Ghana</td><td>GH</td><td>GHA</td><td>288</td><td>ISO 3166-2:GH</td><td>Yes</td></tr><tr><td>Gibraltar</td><td>GI</td><td>GIB</td><td>292</td><td>ISO 3166-2:GI</td><td>No</td></tr><tr><td>Greece</td><td>GR</td><td>GRC</td><td>300</td><td>ISO 3166-2:GR</td><td>Yes</td></tr><tr><td>Greenland</td><td>GL</td><td>GRL</td><td>304</td><td>ISO 3166-2:GL</td><td>No</td></tr><tr><td>Grenada</td><td>GD</td><td>GRD</td><td>308</td><td>ISO 3166-2:GD</td><td>Yes</td></tr><tr><td>Guadeloupe</td><td>GP</td><td>GLP</td><td>312</td><td>ISO 3166-2:GP</td><td>No</td></tr><tr><td>Guam</td><td>GU</td><td>GUM</td><td>316</td><td>ISO 3166-2:GU</td><td>No</td></tr><tr><td>Guatemala</td><td>GT</td><td>GTM</td><td>320</td><td>ISO 3166-2:GT</td><td>Yes</td></tr><tr><td>Guernsey</td><td>GG</td><td>GGY</td><td>831</td><td>ISO 3166-2:GG</td><td>No</td></tr><tr><td>Guinea</td><td>GN</td><td>GIN</td><td>324</td><td>ISO 3166-2:GN</td><td>Yes</td></tr><tr><td>Guinea-Bissau</td><td>GW</td><td>GNB</td><td>624</td><td>ISO 3166-2:GW</td><td>Yes</td></tr><tr><td>Guyana</td><td>GY</td><td>GUY</td><td>328</td><td>ISO 3166-2:GY</td><td>Yes</td></tr><tr><td>Haiti</td><td>HT</td><td>HTI</td><td>332</td><td>ISO 3166-2:HT</td><td>Yes</td></tr><tr><td>Heard Island and McDonald Islands</td><td>HM</td><td>HMD</td><td>334</td><td>ISO 3166-2:HM</td><td>No</td></tr><tr><td>Holy See</td><td>VA</td><td>VAT</td><td>336</td><td>ISO 3166-2:VA</td><td>Yes</td></tr><tr><td>Honduras</td><td>HN</td><td>HND</td><td>340</td><td>ISO 3166-2:HN</td><td>Yes</td></tr><tr><td>Hong Kong</td><td>HK</td><td>HKG</td><td>344</td><td>ISO 3166-2:HK</td><td>No</td></tr><tr><td>Hungary</td><td>HU</td><td>HUN</td><td>348</td><td>ISO 3166-2:HU</td><td>Yes</td></tr><tr><td>Iceland</td><td>IS</td><td>ISL</td><td>352</td><td>ISO 3166-2:IS</td><td>Yes</td></tr><tr><td>India</td><td>IN</td><td>IND</td><td>356</td><td>ISO 3166-2:IN</td><td>Yes</td></tr><tr><td>Indonesia</td><td>ID</td><td>IDN</td><td>360</td><td>ISO 3166-2:ID</td><td>Yes</td></tr><tr><td>Iran (Islamic Republic of)</td><td>IR</td><td>IRN</td><td>364</td><td>ISO 3166-2:IR</td><td>Yes</td></tr><tr><td>Iraq</td><td>IQ</td><td>IRQ</td><td>368</td><td>ISO 3166-2:IQ</td><td>Yes</td></tr><tr><td>Ireland</td><td>IE</td><td>IRL</td><td>372</td><td>ISO 3166-2:IE</td><td>Yes</td></tr><tr><td>Isle of Man</td><td>IM</td><td>IMN</td><td>833</td><td>ISO 3166-2:IM</td><td>No</td></tr><tr><td>Israel</td><td>IL</td><td>ISR</td><td>376</td><td>ISO 3166-2:IL</td><td>Yes</td></tr><tr><td>Italy</td><td>IT</td><td>ITA</td><td>380</td><td>ISO 3166-2:IT</td><td>Yes</td></tr><tr><td>Jamaica</td><td>JM</td><td>JAM</td><td>388</td><td>ISO 3166-2:JM</td><td>Yes</td></tr><tr><td>Japan</td><td>JP</td><td>JPN</td><td>392</td><td>ISO 3166-2:JP</td><td>Yes</td></tr><tr><td>Jersey</td><td>JE</td><td>JEY</td><td>832</td><td>ISO 3166-2:JE</td><td>No</td></tr><tr><td>Jordan</td><td>JO</td><td>JOR</td><td>400</td><td>ISO 3166-2:JO</td><td>Yes</td></tr><tr><td>Kazakhstan</td><td>KZ</td><td>KAZ</td><td>398</td><td>ISO 3166-2:KZ</td><td>Yes</td></tr><tr><td>Kenya</td><td>KE</td><td>KEN</td><td>404</td><td>ISO 3166-2:KE</td><td>Yes</td></tr><tr><td>Kiribati</td><td>KI</td><td>KIR</td><td>296</td><td>ISO 3166-2:KI</td><td>Yes</td></tr><tr><td>Korea (Democratic People's Republic of)</td><td>KP</td><td>PRK</td><td>408</td><td>ISO 3166-2:KP</td><td>Yes</td></tr><tr><td>Korea (Republic of)</td><td>KR</td><td>KOR</td><td>410</td><td>ISO 3166-2:KR</td><td>Yes</td></tr><tr><td>Kuwait</td><td>KW</td><td>KWT</td><td>414</td><td>ISO 3166-2:KW</td><td>Yes</td></tr><tr><td>Kyrgyzstan</td><td>KG</td><td>KGZ</td><td>417</td><td>ISO 3166-2:KG</td><td>Yes</td></tr><tr><td>People's Democratic Republic</td><td>LA</td><td>LAO</td><td>418</td><td>ISO 3166-2:LA</td><td>Yes</td></tr><tr><td>Latvia</td><td>LV</td><td>LVA</td><td>428</td><td>ISO 3166-2:LV</td><td>Yes</td></tr><tr><td>Lebanon</td><td>LB</td><td>LBN</td><td>422</td><td>ISO 3166-2:LB</td><td>Yes</td></tr><tr><td>Lesotho</td><td>LS</td><td>LSO</td><td>426</td><td>ISO 3166-2:LS</td><td>Yes</td></tr><tr><td>Liberia</td><td>LR</td><td>LBR</td><td>430</td><td>ISO 3166-2:LR</td><td>Yes</td></tr><tr><td>Libya</td><td>LY</td><td>LBY</td><td>434</td><td>ISO 3166-2:LY</td><td>Yes</td></tr><tr><td>Liechtenstein</td><td>LI</td><td>LIE</td><td>438</td><td>ISO 3166-2:LI</td><td>Yes</td></tr><tr><td>Lithuania</td><td>LT</td><td>LTU</td><td>440</td><td>ISO 3166-2:LT</td><td>Yes</td></tr><tr><td>Luxembourg</td><td>LU</td><td>LUX</td><td>442</td><td>ISO 3166-2:LU</td><td>Yes</td></tr><tr><td>Macao</td><td>MO</td><td>MAC</td><td>446</td><td>ISO 3166-2:MO</td><td>No</td></tr><tr><td>Macedonia (the former Yugoslav Republic of)</td><td>MK</td><td>MKD</td><td>807</td><td>ISO 3166-2:MK</td><td>Yes</td></tr><tr><td>Madagascar</td><td>MG</td><td>MDG</td><td>450</td><td>ISO 3166-2:MG</td><td>Yes</td></tr><tr><td>Malawi</td><td>MW</td><td>MWI</td><td>454</td><td>ISO 3166-2:MW</td><td>Yes</td></tr><tr><td>Malaysia</td><td>MY</td><td>MYS</td><td>458</td><td>ISO 3166-2:MY</td><td>Yes</td></tr><tr><td>Maldives</td><td>MV</td><td>MDV</td><td>462</td><td>ISO 3166-2:MV</td><td>Yes</td></tr><tr><td>Mali</td><td>ML</td><td>MLI</td><td>466</td><td>ISO 3166-2:ML</td><td>Yes</td></tr><tr><td>Malta</td><td>MT</td><td>MLT</td><td>470</td><td>ISO 3166-2:MT</td><td>Yes</td></tr><tr><td>Marshall Islands</td><td>MH</td><td>MHL</td><td>584</td><td>ISO 3166-2:MH</td><td>Yes</td></tr><tr><td>Martinique</td><td>MQ</td><td>MTQ</td><td>474</td><td>ISO 3166-2:MQ</td><td>No</td></tr><tr><td>Mauritania</td><td>MR</td><td>MRT</td><td>478</td><td>ISO 3166-2:MR</td><td>Yes</td></tr><tr><td>Mauritius</td><td>MU</td><td>MUS</td><td>480</td><td>ISO 3166-2:MU</td><td>Yes</td></tr><tr><td>Mayotte</td><td>YT</td><td>MYT</td><td>175</td><td>ISO 3166-2:YT</td><td>No</td></tr><tr><td>Mexico</td><td>MX</td><td>MEX</td><td>484</td><td>ISO 3166-2:MX</td><td>Yes</td></tr><tr><td>Micronesia (Federated States of)</td><td>FM</td><td>FSM</td><td>583</td><td>ISO 3166-2:FM</td><td>Yes</td></tr><tr><td>Moldova (Republic of)</td><td>MD</td><td>MDA</td><td>498</td><td>ISO 3166-2:MD</td><td>Yes</td></tr><tr><td>Monaco</td><td>MC</td><td>MCO</td><td>492</td><td>ISO 3166-2:MC</td><td>Yes</td></tr><tr><td>Mongolia</td><td>MN</td><td>MNG</td><td>496</td><td>ISO 3166-2:MN</td><td>Yes</td></tr><tr><td>Montenegro</td><td>ME</td><td>MNE</td><td>499</td><td>ISO 3166-2:ME</td><td>Yes</td></tr><tr><td>Montserrat</td><td>MS</td><td>MSR</td><td>500</td><td>ISO 3166-2:MS</td><td>No</td></tr><tr><td>Morocco</td><td>MA</td><td>MAR</td><td>504</td><td>ISO 3166-2:MA</td><td>Yes</td></tr><tr><td>Mozambique</td><td>MZ</td><td>MOZ</td><td>508</td><td>ISO 3166-2:MZ</td><td>Yes</td></tr><tr><td>Myanmar</td><td>MM</td><td>MMR</td><td>104</td><td>ISO 3166-2:MM</td><td>Yes</td></tr><tr><td>Namibia</td><td>NA</td><td>NAM</td><td>516</td><td>ISO 3166-2:NA</td><td>Yes</td></tr><tr><td>Nauru</td><td>NR</td><td>NRU</td><td>520</td><td>ISO 3166-2:NR</td><td>Yes</td></tr><tr><td>Nepal</td><td>NP</td><td>NPL</td><td>524</td><td>ISO 3166-2:NP</td><td>Yes</td></tr><tr><td>Netherlands</td><td>NL</td><td>NLD</td><td>528</td><td>ISO 3166-2:NL</td><td>Yes</td></tr><tr><td>New Caledonia</td><td>NC</td><td>NCL</td><td>540</td><td>ISO 3166-2:NC</td><td>No</td></tr><tr><td>New Zealand</td><td>NZ</td><td>NZL</td><td>554</td><td>ISO 3166-2:NZ</td><td>Yes</td></tr><tr><td>Nicaragua</td><td>NI</td><td>NIC</td><td>558</td><td>ISO 3166-2:NI</td><td>Yes</td></tr><tr><td>Niger</td><td>NE</td><td>NER</td><td>562</td><td>ISO 3166-2:NE</td><td>Yes</td></tr><tr><td>Nigeria</td><td>NG</td><td>NGA</td><td>566</td><td>ISO 3166-2:NG</td><td>Yes</td></tr><tr><td>Niue</td><td>NU</td><td>NIU</td><td>570</td><td>ISO 3166-2:NU</td><td>No</td></tr><tr><td>Norfolk Island</td><td>NF</td><td>NFK</td><td>574</td><td>ISO 3166-2:NF</td><td>No</td></tr><tr><td>Northern Mariana Islands</td><td>MP</td><td>MNP</td><td>580</td><td>ISO 3166-2:MP</td><td>No</td></tr><tr><td>Norway</td><td>NO</td><td>NOR</td><td>578</td><td>ISO 3166-2:NO</td><td>Yes</td></tr><tr><td>Oman</td><td>OM</td><td>OMN</td><td>512</td><td>ISO 3166-2:OM</td><td>Yes</td></tr><tr><td>Pakistan</td><td>PK</td><td>PAK</td><td>586</td><td>ISO 3166-2:PK</td><td>Yes</td></tr><tr><td>Palau</td><td>PW</td><td>PLW</td><td>585</td><td>ISO 3166-2:PW</td><td>Yes</td></tr><tr><td>State of Palestine</td><td>PS</td><td>PSE</td><td>275</td><td>ISO 3166-2:PS</td><td>No</td></tr><tr><td>Panama</td><td>PA</td><td>PAN</td><td>591</td><td>ISO 3166-2:PA</td><td>Yes</td></tr><tr><td>Papua New Guinea</td><td>PG</td><td>PNG</td><td>598</td><td>ISO 3166-2:PG</td><td>Yes</td></tr><tr><td>Paraguay</td><td>PY</td><td>PRY</td><td>600</td><td>ISO 3166-2:PY</td><td>Yes</td></tr><tr><td>Peru</td><td>PE</td><td>PER</td><td>604</td><td>ISO 3166-2:PE</td><td>Yes</td></tr><tr><td>Philippines</td><td>PH</td><td>PHL</td><td>608</td><td>ISO 3166-2:PH</td><td>Yes</td></tr><tr><td>Pitcairn</td><td>PN</td><td>PCN</td><td>612</td><td>ISO 3166-2:PN</td><td>No</td></tr><tr><td>Poland</td><td>PL</td><td>POL</td><td>616</td><td>ISO 3166-2:PL</td><td>Yes</td></tr><tr><td>Portugal</td><td>PT</td><td>PRT</td><td>620</td><td>ISO 3166-2:PT</td><td>Yes</td></tr><tr><td>Puerto Rico</td><td>PR</td><td>PRI</td><td>630</td><td>ISO 3166-2:PR</td><td>No</td></tr><tr><td>Qatar</td><td>QA</td><td>QAT</td><td>634</td><td>ISO 3166-2:QA</td><td>Yes</td></tr><tr><td>Réunion</td><td>RE</td><td>REU</td><td>638</td><td>ISO 3166-2:RE</td><td>No</td></tr><tr><td>Romania</td><td>RO</td><td>ROU</td><td>642</td><td>ISO 3166-2:RO</td><td>Yes</td></tr><tr><td>Russian Federation</td><td>RU</td><td>RUS</td><td>643</td><td>ISO 3166-2:RU</td><td>Yes</td></tr><tr><td>Rwanda</td><td>RW</td><td>RWA</td><td>646</td><td>ISO 3166-2:RW</td><td>Yes</td></tr><tr><td>Saint Barthélemy</td><td>BL</td><td>BLM</td><td>652</td><td>ISO 3166-2:BL</td><td>No</td></tr><tr><td>Saint Helena Ascension and Tristan da Cunha</td><td>SH</td><td>SHN</td><td>654</td><td>ISO 3166-2:SH</td><td>No</td></tr><tr><td>Saint Kitts and Nevis</td><td>KN</td><td>KNA</td><td>659</td><td>ISO 3166-2:KN</td><td>Yes</td></tr><tr><td>Saint Lucia</td><td>LC</td><td>LCA</td><td>662</td><td>ISO 3166-2:LC</td><td>Yes</td></tr><tr><td>Saint Martin (French part)</td><td>MF</td><td>MAF</td><td>663</td><td>ISO 3166-2:MF</td><td>No</td></tr><tr><td>Saint Pierre and Miquelon</td><td>PM</td><td>SPM</td><td>666</td><td>ISO 3166-2:PM</td><td>No</td></tr><tr><td>Saint Vincent and the Grenadines</td><td>VC</td><td>VCT</td><td>670</td><td>ISO 3166-2:VC</td><td>Yes</td></tr><tr><td>Samoa</td><td>WS</td><td>WSM</td><td>882</td><td>ISO 3166-2:WS</td><td>Yes</td></tr><tr><td>San Marino</td><td>SM</td><td>SMR</td><td>674</td><td>ISO 3166-2:SM</td><td>Yes</td></tr><tr><td>Sao Tome and Principe</td><td>ST</td><td>STP</td><td>678</td><td>ISO 3166-2:ST</td><td>Yes</td></tr><tr><td>Saudi Arabia</td><td>SA</td><td>SAU</td><td>682</td><td>ISO 3166-2:SA</td><td>Yes</td></tr><tr><td>Senegal</td><td>SN</td><td>SEN</td><td>686</td><td>ISO 3166-2:SN</td><td>Yes</td></tr><tr><td>Serbia</td><td>RS</td><td>SRB</td><td>688</td><td>ISO 3166-2:RS</td><td>Yes</td></tr><tr><td>Seychelles</td><td>SC</td><td>SYC</td><td>690</td><td>ISO 3166-2:SC</td><td>Yes</td></tr><tr><td>Sierra Leone</td><td>SL</td><td>SLE</td><td>694</td><td>ISO 3166-2:SL</td><td>Yes</td></tr><tr><td>Singapore</td><td>SG</td><td>SGP</td><td>702</td><td>ISO 3166-2:SG</td><td>Yes</td></tr><tr><td>Sint Maarten (Dutch part)</td><td>SX</td><td>SXM</td><td>534</td><td>ISO 3166-2:SX</td><td>No</td></tr><tr><td>Slovakia</td><td>SK</td><td>SVK</td><td>703</td><td>ISO 3166-2:SK</td><td>Yes</td></tr><tr><td>Slovenia</td><td>SI</td><td>SVN</td><td>705</td><td>ISO 3166-2:SI</td><td>Yes</td></tr><tr><td>Solomon Islands</td><td>SB</td><td>SLB</td><td>090</td><td>ISO 3166-2:SB</td><td>Yes</td></tr><tr><td>Somalia</td><td>SO</td><td>SOM</td><td>706</td><td>ISO 3166-2:SO</td><td>Yes</td></tr><tr><td>South Africa</td><td>ZA</td><td>ZAF</td><td>710</td><td>ISO 3166-2:ZA</td><td>Yes</td></tr><tr><td>South Georgia and the South Sandwich Islands</td><td>GS</td><td>SGS</td><td>239</td><td>ISO 3166-2:GS</td><td>No</td></tr><tr><td>South Sudan</td><td>SS</td><td>SSD</td><td>728</td><td>ISO 3166-2:SS</td><td>Yes</td></tr><tr><td>Spain</td><td>ES</td><td>ESP</td><td>724</td><td>ISO 3166-2:ES</td><td>Yes</td></tr><tr><td>Sri Lanka</td><td>LK</td><td>LKA</td><td>144</td><td>ISO 3166-2:LK</td><td>Yes</td></tr><tr><td>Sudan</td><td>SD</td><td>SDN</td><td>729</td><td>ISO 3166-2:SD</td><td>Yes</td></tr><tr><td>Suriname</td><td>SR</td><td>SUR</td><td>740</td><td>ISO 3166-2:SR</td><td>Yes</td></tr><tr><td>Svalbard and Jan Mayen</td><td>SJ</td><td>SJM</td><td>744</td><td>ISO 3166-2:SJ</td><td>No</td></tr><tr><td>Swaziland</td><td>SZ</td><td>SWZ</td><td>748</td><td>ISO 3166-2:SZ</td><td>Yes</td></tr><tr><td>Sweden</td><td>SE</td><td>SWE</td><td>752</td><td>ISO 3166-2:SE</td><td>Yes</td></tr><tr><td>Switzerland</td><td>CH</td><td>CHE</td><td>756</td><td>ISO 3166-2:CH</td><td>Yes</td></tr><tr><td>Syrian Arab Republic</td><td>SY</td><td>SYR</td><td>760</td><td>ISO 3166-2:SY</td><td>Yes</td></tr><tr><td>Taiwan Province of China[a]</td><td>TW</td><td>TWN</td><td>158</td><td>ISO 3166-2:TW</td><td>No</td></tr><tr><td>Tajikistan</td><td>TJ</td><td>TJK</td><td>762</td><td>ISO 3166-2:TJ</td><td>Yes</td></tr><tr><td>Tanzania United Republic of</td><td>TZ</td><td>TZA</td><td>834</td><td>ISO 3166-2:TZ</td><td>Yes</td></tr><tr><td>Thailand</td><td>TH</td><td>THA</td><td>764</td><td>ISO 3166-2:TH</td><td>Yes</td></tr><tr><td>Timor-Leste</td><td>TL</td><td>TLS</td><td>626</td><td>ISO 3166-2:TL</td><td>Yes</td></tr><tr><td>Togo</td><td>TG</td><td>TGO</td><td>768</td><td>ISO 3166-2:TG</td><td>Yes</td></tr><tr><td>Tokelau</td><td>TK</td><td>TKL</td><td>772</td><td>ISO 3166-2:TK</td><td>No</td></tr><tr><td>Tonga</td><td>TO</td><td>TON</td><td>776</td><td>ISO 3166-2:TO</td><td>Yes</td></tr><tr><td>Trinidad and Tobago</td><td>TT</td><td>TTO</td><td>780</td><td>ISO 3166-2:TT</td><td>Yes</td></tr><tr><td>Tunisia</td><td>TN</td><td>TUN</td><td>788</td><td>ISO 3166-2:TN</td><td>Yes</td></tr><tr><td>Turkey</td><td>TR</td><td>TUR</td><td>792</td><td>ISO 3166-2:TR</td><td>Yes</td></tr><tr><td>Turkmenistan</td><td>TM</td><td>TKM</td><td>795</td><td>ISO 3166-2:TM</td><td>Yes</td></tr><tr><td>Turks and Caicos Islands</td><td>TC</td><td>TCA</td><td>796</td><td>ISO 3166-2:TC</td><td>No</td></tr><tr><td>Tuvalu</td><td>TV</td><td>TUV</td><td>798</td><td>ISO 3166-2:TV</td><td>Yes</td></tr><tr><td>Uganda</td><td>UG</td><td>UGA</td><td>800</td><td>ISO 3166-2:UG</td><td>Yes</td></tr><tr><td>Ukraine</td><td>UA</td><td>UKR</td><td>804</td><td>ISO 3166-2:UA</td><td>Yes</td></tr><tr><td>United Arab Emirates</td><td>AE</td><td>ARE</td><td>784</td><td>ISO 3166-2:AE</td><td>Yes</td></tr><tr><td>United Kingdom of Great Britain and Northern Ireland</td><td>GB</td><td>GBR</td><td>826</td><td>ISO 3166-2:GB</td><td>Yes</td></tr><tr><td>United States of America</td><td>US</td><td>USA</td><td>840</td><td>ISO 3166-2:US</td><td>Yes</td></tr><tr><td>United States Minor Outlying Islands</td><td>UM</td><td>UMI</td><td>581</td><td>ISO 3166-2:UM</td><td>No</td></tr><tr><td>Uruguay</td><td>UY</td><td>URY</td><td>858</td><td>ISO 3166-2:UY</td><td>Yes</td></tr><tr><td>Uzbekistan</td><td>UZ</td><td>UZB</td><td>860</td><td>ISO 3166-2:UZ</td><td>Yes</td></tr><tr><td>Vanuatu</td><td>VU</td><td>VUT</td><td>548</td><td>ISO 3166-2:VU</td><td>Yes</td></tr><tr><td>Venezuela (Bolivarian Republic of)</td><td>VE</td><td>VEN</td><td>862</td><td>ISO 3166-2:VE</td><td>Yes</td></tr><tr><td>Viet Nam</td><td>VN</td><td>VNM</td><td>704</td><td>ISO 3166-2:VN</td><td>Yes</td></tr><tr><td>Virgin Islands (British)</td><td>VG</td><td>VGB</td><td>092</td><td>ISO 3166-2:VG</td><td>No</td></tr><tr><td>Virgin Islands (U.S.)</td><td>VI</td><td>VIR</td><td>850</td><td>ISO 3166-2:VI</td><td>No</td></tr><tr><td>Wallis and Futuna</td><td>WF</td><td>WLF</td><td>876</td><td>ISO 3166-2:WF</td><td>No</td></tr><tr><td>Western Sahara</td><td>EH</td><td>ESH</td><td>732</td><td>ISO 3166-2:EH</td><td>No</td></tr><tr><td>Yemen</td><td>YE</td><td>YEM</td><td>887</td><td>ISO 3166-2:YE</td><td>Yes</td></tr><tr><td>Zambia</td><td>ZM</td><td>ZMB</td><td>894</td><td>ISO 3166-2:ZM</td><td>Yes</td></tr><tr><td>Zimbabwe</td><td>ZW</td><td>ZWE</td><td>716</td><td>ISO 3166-2:ZW</td><td>Yes</td></tr></tbody></table></div>"
      ]
     },
     "metadata": {},
     "output_type": "display_data"
    }
   ],
   "source": [
    "countries = spark.read.parquet(\"/mnt/training/countries/ISOCountryCodes/ISOCountryLookup.parquet\")\n",
    "\n",
    "display(countries)"
   ]
  },
  {
   "cell_type": "markdown",
   "metadata": {},
   "source": [
    "Join the two `DataFrame`s on their two-letter country code."
   ]
  },
  {
   "cell_type": "code",
   "execution_count": 28,
   "metadata": {},
   "outputs": [
    {
     "data": {
      "text/html": [
       "<style scoped>\n",
       "  .table-result-container {\n",
       "    max-height: 300px;\n",
       "    overflow: auto;\n",
       "  }\n",
       "  table, th, td {\n",
       "    border: 1px solid black;\n",
       "    border-collapse: collapse;\n",
       "  }\n",
       "  th, td {\n",
       "    padding: 5px;\n",
       "  }\n",
       "  th {\n",
       "    text-align: left;\n",
       "  }\n",
       "</style><div class='table-result-container'><table class='table-result'><thead style='background-color: white'><tr><th>timestamp</th><th>pageURL</th><th>countryCode2</th><th>city</th><th>EnglishShortName</th><th>alpha2Code</th><th>alpha3Code</th><th>numericCode</th><th>ISO31662SubdivisionCode</th><th>independentTerritory</th></tr></thead><tbody><tr><td>2020-04-14T09:33:35.944+0000</td><td>http://en.wikipedia.org/wiki/ITV_Choice</td><td>AE</td><td>null</td><td>United Arab Emirates</td><td>AE</td><td>ARE</td><td>784</td><td>ISO 3166-2:AE</td><td>Yes</td></tr><tr><td>2020-04-14T09:33:38.799+0000</td><td>http://en.wikipedia.org/wiki/Mohamed_Afrah_Qanyare</td><td>CA</td><td>London</td><td>Canada</td><td>CA</td><td>CAN</td><td>124</td><td>ISO 3166-2:CA</td><td>Yes</td></tr><tr><td>2020-04-14T09:33:39.082+0000</td><td>http://en.wikipedia.org/wiki/1976–77_UEFA_Cup</td><td>RO</td><td>null</td><td>Romania</td><td>RO</td><td>ROU</td><td>642</td><td>ISO 3166-2:RO</td><td>Yes</td></tr><tr><td>2020-04-14T09:33:42.108+0000</td><td>http://en.wikipedia.org/wiki/Pandemic_Studios</td><td>US</td><td>Bristol</td><td>United States of America</td><td>US</td><td>USA</td><td>840</td><td>ISO 3166-2:US</td><td>Yes</td></tr><tr><td>2020-04-14T09:33:48.513+0000</td><td>http://en.wikipedia.org/wiki/American_Airlines_fleet</td><td>KR</td><td>null</td><td>Korea (Republic of)</td><td>KR</td><td>KOR</td><td>410</td><td>ISO 3166-2:KR</td><td>Yes</td></tr><tr><td>2020-04-14T09:34:00.906+0000</td><td>http://en.wikipedia.org/wiki/Global_Offset_Table</td><td>AU</td><td>null</td><td>Australia</td><td>AU</td><td>AUS</td><td>036</td><td>ISO 3166-2:AU</td><td>Yes</td></tr><tr><td>2020-04-14T09:34:03.290+0000</td><td>http://en.wikipedia.org/wiki/Template:About/doc</td><td>TH</td><td>null</td><td>Thailand</td><td>TH</td><td>THA</td><td>764</td><td>ISO 3166-2:TH</td><td>Yes</td></tr><tr><td>2020-04-14T09:34:04.450+0000</td><td>http://en.wikipedia.org/wiki/Western_Sahara_conflict</td><td>MA</td><td>null</td><td>Morocco</td><td>MA</td><td>MAR</td><td>504</td><td>ISO 3166-2:MA</td><td>Yes</td></tr><tr><td>2020-04-14T09:34:08.162+0000</td><td>http://en.wikipedia.org/wiki/1976–77_UEFA_Cup</td><td>RO</td><td>null</td><td>Romania</td><td>RO</td><td>ROU</td><td>642</td><td>ISO 3166-2:RO</td><td>Yes</td></tr><tr><td>2020-04-14T09:34:10.177+0000</td><td>http://en.wikipedia.org/wiki/ITV_Choice</td><td>AE</td><td>null</td><td>United Arab Emirates</td><td>AE</td><td>ARE</td><td>784</td><td>ISO 3166-2:AE</td><td>Yes</td></tr><tr><td>2020-04-14T09:34:12.366+0000</td><td>http://en.wikipedia.org/wiki/Special:Log/abusefilter</td><td>IN</td><td>null</td><td>India</td><td>IN</td><td>IND</td><td>356</td><td>ISO 3166-2:IN</td><td>Yes</td></tr><tr><td>2020-04-14T09:34:12.425+0000</td><td>http://en.wikipedia.org/wiki/GiMA_Award_for_Best_Film_Song</td><td>IN</td><td>null</td><td>India</td><td>IN</td><td>IND</td><td>356</td><td>ISO 3166-2:IN</td><td>Yes</td></tr><tr><td>2020-04-14T09:34:14.017+0000</td><td>http://en.wikipedia.org/wiki/Global_Offset_Table</td><td>AU</td><td>null</td><td>Australia</td><td>AU</td><td>AUS</td><td>036</td><td>ISO 3166-2:AU</td><td>Yes</td></tr><tr><td>2020-04-14T09:34:15.499+0000</td><td>http://en.wikipedia.org/wiki/Body_modification</td><td>BR</td><td>null</td><td>Brazil</td><td>BR</td><td>BRA</td><td>076</td><td>ISO 3166-2:BR</td><td>Yes</td></tr><tr><td>2020-04-14T09:34:17.679+0000</td><td>http://en.wikipedia.org/wiki/List_of_infantry_weapons_of_World_War_I</td><td>MY</td><td>Kuala Lumpur</td><td>Malaysia</td><td>MY</td><td>MYS</td><td>458</td><td>ISO 3166-2:MY</td><td>Yes</td></tr><tr><td>2020-04-14T09:34:29.296+0000</td><td>http://en.wikipedia.org/wiki/Bhumi_Pednekar</td><td>IN</td><td>null</td><td>India</td><td>IN</td><td>IND</td><td>356</td><td>ISO 3166-2:IN</td><td>Yes</td></tr></tbody></table></div>"
      ]
     },
     "metadata": {},
     "output_type": "display_data"
    }
   ],
   "source": [
    "joinedDF = goeocodingDF.join(countries, goeocodingDF.countryCode2 == countries.alpha2Code)\n",
    "\n",
    "display(joinedDF, streamName = myStreamName)"
   ]
  },
  {
   "cell_type": "code",
   "execution_count": 29,
   "metadata": {},
   "outputs": [
    {
     "data": {
      "text/html": [
       "<style scoped>\n",
       "  .ansiout {\n",
       "    display: block;\n",
       "    unicode-bidi: embed;\n",
       "    white-space: pre-wrap;\n",
       "    word-wrap: break-word;\n",
       "    word-break: break-all;\n",
       "    font-family: \"Source Code Pro\", \"Menlo\", monospace;;\n",
       "    font-size: 13px;\n",
       "    color: #555;\n",
       "    margin-left: 4px;\n",
       "    line-height: 19px;\n",
       "  }\n",
       "</style>\n",
       "<div class=\"ansiout\">The stream lesson02_ps is active and ready.\n",
       "</div>"
      ]
     },
     "metadata": {},
     "output_type": "display_data"
    }
   ],
   "source": [
    "# Wait until the stream is ready...\n",
    "untilStreamIsReady(myStreamName)"
   ]
  },
  {
   "cell_type": "markdown",
   "metadata": {},
   "source": [
    "Stop the stream"
   ]
  },
  {
   "cell_type": "code",
   "execution_count": 31,
   "metadata": {},
   "outputs": [
    {
     "data": {
      "text/html": [
       "<style scoped>\n",
       "  .ansiout {\n",
       "    display: block;\n",
       "    unicode-bidi: embed;\n",
       "    white-space: pre-wrap;\n",
       "    word-wrap: break-word;\n",
       "    word-break: break-all;\n",
       "    font-family: \"Source Code Pro\", \"Menlo\", monospace;;\n",
       "    font-size: 13px;\n",
       "    color: #555;\n",
       "    margin-left: 4px;\n",
       "    line-height: 19px;\n",
       "  }\n",
       "</style>\n",
       "<div class=\"ansiout\"></div>"
      ]
     },
     "metadata": {},
     "output_type": "display_data"
    }
   ],
   "source": [
    "for s in spark.streams.active:\n",
    "  s.stop()"
   ]
  },
  {
   "cell_type": "markdown",
   "metadata": {},
   "source": [
    "### Batch and Streaming Writes\n",
    "\n",
    "The logic that applies to batch processing can be ported over to streaming often with only minor modifications.  One best practice is to run batch operations as streaming jobs using a single trigger.  By using a checkpoint location, the metadata on which data has already been processed will be maintained so the cluster can be shut down without a loss of information.  This works best on streaming from a directory, where new files that appear are added to the stream.\n",
    "\n",
    "Writes can be done against always up-to-date parquet files or a Databricks Delta table, which offers ACID compliant transactions on top of parquet."
   ]
  },
  {
   "cell_type": "markdown",
   "metadata": {},
   "source": [
    "Confirm that Delta is enabled on your cluster."
   ]
  },
  {
   "cell_type": "code",
   "execution_count": 34,
   "metadata": {},
   "outputs": [
    {
     "data": {
      "text/html": [
       "<style scoped>\n",
       "  .ansiout {\n",
       "    display: block;\n",
       "    unicode-bidi: embed;\n",
       "    white-space: pre-wrap;\n",
       "    word-wrap: break-word;\n",
       "    word-break: break-all;\n",
       "    font-family: \"Source Code Pro\", \"Menlo\", monospace;;\n",
       "    font-size: 13px;\n",
       "    color: #555;\n",
       "    margin-left: 4px;\n",
       "    line-height: 19px;\n",
       "  }\n",
       "</style>\n",
       "<div class=\"ansiout\">Out[27]: DataFrame[key: string, value: string]</div>"
      ]
     },
     "metadata": {},
     "output_type": "display_data"
    }
   ],
   "source": [
    "spark.sql(\"set spark.databricks.delta.preview.enabled=true\")"
   ]
  },
  {
   "cell_type": "markdown",
   "metadata": {},
   "source": [
    "Write to a Databricks Delta table and partition by country."
   ]
  },
  {
   "cell_type": "code",
   "execution_count": 36,
   "metadata": {},
   "outputs": [
    {
     "data": {
      "text/html": [
       "<style scoped>\n",
       "  .ansiout {\n",
       "    display: block;\n",
       "    unicode-bidi: embed;\n",
       "    white-space: pre-wrap;\n",
       "    word-wrap: break-word;\n",
       "    word-break: break-all;\n",
       "    font-family: \"Source Code Pro\", \"Menlo\", monospace;;\n",
       "    font-size: 13px;\n",
       "    color: #555;\n",
       "    margin-left: 4px;\n",
       "    line-height: 19px;\n",
       "  }\n",
       "</style>\n",
       "<div class=\"ansiout\">Out[28]: &lt;pyspark.sql.streaming.StreamingQuery at 0x7fdb87f44f60&gt;</div>"
      ]
     },
     "metadata": {},
     "output_type": "display_data"
    }
   ],
   "source": [
    "basePath = \"{}/etl3p\".format(getUserhome())\n",
    "checkpointPath = \"{}/joined.checkpoint\".format(basePath)\n",
    "joinedPath = \"{}/joined\".format(basePath)\n",
    "\n",
    "(joinedDF\n",
    "  .writeStream                                   # Write the stream\n",
    "  .format(\"delta\")                               # Use the delta format\n",
    "  .partitionBy(\"countryCode2\")                   # Specify a feature to partition on\n",
    "  .option(\"checkpointLocation\", checkpointPath)  # Specify where to log metadata\n",
    "  .option(\"path\", joinedPath)                    # Specify the output path\n",
    "  .outputMode(\"append\")                          # Append new records to the output path\n",
    "  .queryName(myStreamName)                       # The name of the stream\n",
    "  .start()                                       # Start the operation\n",
    ")"
   ]
  },
  {
   "cell_type": "code",
   "execution_count": 37,
   "metadata": {},
   "outputs": [
    {
     "data": {
      "text/html": [
       "<style scoped>\n",
       "  .ansiout {\n",
       "    display: block;\n",
       "    unicode-bidi: embed;\n",
       "    white-space: pre-wrap;\n",
       "    word-wrap: break-word;\n",
       "    word-break: break-all;\n",
       "    font-family: \"Source Code Pro\", \"Menlo\", monospace;;\n",
       "    font-size: 13px;\n",
       "    color: #555;\n",
       "    margin-left: 4px;\n",
       "    line-height: 19px;\n",
       "  }\n",
       "</style>\n",
       "<div class=\"ansiout\">The stream lesson02_ps is active and ready.\n",
       "</div>"
      ]
     },
     "metadata": {},
     "output_type": "display_data"
    }
   ],
   "source": [
    "# Wait until the stream is ready...\n",
    "untilStreamIsReady(myStreamName)"
   ]
  },
  {
   "cell_type": "markdown",
   "metadata": {},
   "source": [
    "Check to see that the data is there."
   ]
  },
  {
   "cell_type": "code",
   "execution_count": 39,
   "metadata": {},
   "outputs": [
    {
     "data": {
      "text/html": [
       "<style scoped>\n",
       "  .table-result-container {\n",
       "    max-height: 300px;\n",
       "    overflow: auto;\n",
       "  }\n",
       "  table, th, td {\n",
       "    border: 1px solid black;\n",
       "    border-collapse: collapse;\n",
       "  }\n",
       "  th, td {\n",
       "    padding: 5px;\n",
       "  }\n",
       "  th {\n",
       "    text-align: left;\n",
       "  }\n",
       "</style><div class='table-result-container'><table class='table-result'><thead style='background-color: white'><tr><th>count</th></tr></thead><tbody><tr><td>12</td></tr></tbody></table></div>"
      ]
     },
     "metadata": {},
     "output_type": "display_data"
    }
   ],
   "source": [
    "from pyspark.sql.functions import count\n",
    "\n",
    "countsDF = (spark.read.format(\"delta\").load(joinedPath)\n",
    "  .select(count(\"*\").alias(\"count\"))\n",
    ")\n",
    "\n",
    "display(countsDF)"
   ]
  },
  {
   "cell_type": "markdown",
   "metadata": {},
   "source": [
    "Now stop all streams"
   ]
  },
  {
   "cell_type": "code",
   "execution_count": 41,
   "metadata": {},
   "outputs": [
    {
     "data": {
      "text/html": [
       "<style scoped>\n",
       "  .ansiout {\n",
       "    display: block;\n",
       "    unicode-bidi: embed;\n",
       "    white-space: pre-wrap;\n",
       "    word-wrap: break-word;\n",
       "    word-break: break-all;\n",
       "    font-family: \"Source Code Pro\", \"Menlo\", monospace;;\n",
       "    font-size: 13px;\n",
       "    color: #555;\n",
       "    margin-left: 4px;\n",
       "    line-height: 19px;\n",
       "  }\n",
       "</style>\n",
       "<div class=\"ansiout\"></div>"
      ]
     },
     "metadata": {},
     "output_type": "display_data"
    }
   ],
   "source": [
    "for s in spark.streams.active:\n",
    "  s.stop()"
   ]
  },
  {
   "cell_type": "markdown",
   "metadata": {},
   "source": [
    "### Failure Recovery\n",
    "\n",
    "To recover from cluster failure, Spark uses checkpointing for maintaining state.  In our initial command, we accomplished this using `.option(\"checkpointLocation\", checkpointPath)`.  The checkpoint directory is per query and while that query is active, Spark continuously writes metadata of the processed data to this checkpoint directory.  Even if the entire cluster fails, the query can be restarted on a new cluster using the same directory and Spark can use this to start a new query where the failed one left off.  \n",
    "\n",
    "**This is how Spark ensures end-to-end, exactly-once guarantees and how Spark maintains metadata on what data it has already seen between streaming jobs.**"
   ]
  },
  {
   "cell_type": "code",
   "execution_count": 43,
   "metadata": {},
   "outputs": [
    {
     "data": {
      "text/html": [
       "<style scoped>\n",
       "  .table-result-container {\n",
       "    max-height: 300px;\n",
       "    overflow: auto;\n",
       "  }\n",
       "  table, th, td {\n",
       "    border: 1px solid black;\n",
       "    border-collapse: collapse;\n",
       "  }\n",
       "  th, td {\n",
       "    padding: 5px;\n",
       "  }\n",
       "  th {\n",
       "    text-align: left;\n",
       "  }\n",
       "</style><div class='table-result-container'><table class='table-result'><thead style='background-color: white'><tr><th>path</th><th>name</th><th>size</th></tr></thead><tbody><tr><td>dbfs:/user/jose.manuel.bustos.munoz@everis.com/etl3p/joined.checkpoint/commits/</td><td>commits/</td><td>0</td></tr><tr><td>dbfs:/user/jose.manuel.bustos.munoz@everis.com/etl3p/joined.checkpoint/metadata</td><td>metadata</td><td>45</td></tr><tr><td>dbfs:/user/jose.manuel.bustos.munoz@everis.com/etl3p/joined.checkpoint/offsets/</td><td>offsets/</td><td>0</td></tr><tr><td>dbfs:/user/jose.manuel.bustos.munoz@everis.com/etl3p/joined.checkpoint/sources/</td><td>sources/</td><td>0</td></tr></tbody></table></div>"
      ]
     },
     "metadata": {},
     "output_type": "display_data"
    }
   ],
   "source": [
    "display(dbutils.fs.ls(checkpointPath))"
   ]
  },
  {
   "cell_type": "markdown",
   "metadata": {},
   "source": [
    "## Exercise 1: Streaming ETL\n",
    "\n",
    "This exercise entails reading from a Kafka stream of product orders and writing the results to a Delta table."
   ]
  },
  {
   "cell_type": "markdown",
   "metadata": {},
   "source": [
    "### Step 1: Create a Streaming DataFrame\n",
    "\n",
    "Create the streaming DataFrame `productsDF` using the following specifics:<br><br>\n",
    "\n",
    "* Server endpoint: `server1.databricks.training:9092`\n",
    "* Topic name: `product-orders`\n",
    "* Format: `kafka`"
   ]
  },
  {
   "cell_type": "code",
   "execution_count": 46,
   "metadata": {},
   "outputs": [
    {
     "data": {
      "text/html": [
       "<style scoped>\n",
       "  .ansiout {\n",
       "    display: block;\n",
       "    unicode-bidi: embed;\n",
       "    white-space: pre-wrap;\n",
       "    word-wrap: break-word;\n",
       "    word-break: break-all;\n",
       "    font-family: \"Source Code Pro\", \"Menlo\", monospace;;\n",
       "    font-size: 13px;\n",
       "    color: #555;\n",
       "    margin-left: 4px;\n",
       "    line-height: 19px;\n",
       "  }\n",
       "</style>\n",
       "<div class=\"ansiout\"></div>"
      ]
     },
     "metadata": {},
     "output_type": "display_data"
    }
   ],
   "source": [
    "# TODO\n",
    "productsDF = (spark\n",
    "  .readStream\n",
    "  .option(\"kafka.bootstrap.servers\", \"server1.databricks.training:9092\")\n",
    "  .option(\"subscribe\", \"product-orders\")\n",
    "  .format(\"kafka\")\n",
    "  .load()\n",
    ")"
   ]
  },
  {
   "cell_type": "code",
   "execution_count": 47,
   "metadata": {},
   "outputs": [
    {
     "data": {
      "text/html": [
       "<style scoped>\n",
       "  .ansiout {\n",
       "    display: block;\n",
       "    unicode-bidi: embed;\n",
       "    white-space: pre-wrap;\n",
       "    word-wrap: break-word;\n",
       "    word-break: break-all;\n",
       "    font-family: \"Source Code Pro\", \"Menlo\", monospace;;\n",
       "    font-size: 13px;\n",
       "    color: #555;\n",
       "    margin-left: 4px;\n",
       "    line-height: 19px;\n",
       "  }\n",
       "</style>\n",
       "<div class=\"ansiout\">Tests passed!\n",
       "</div>"
      ]
     },
     "metadata": {},
     "output_type": "display_data"
    }
   ],
   "source": [
    "# TEST - Run this cell to test your solution\n",
    "from pyspark.sql.types import *\n",
    "\n",
    "dbTest(\"ET3-P-02-01-01\", True, productsDF.schema['key'].dataType in [BinaryType(), StringType()])\n",
    "dbTest(\"ET3-P-02-01-02\", True, productsDF.schema['value'].dataType in [BinaryType(), StringType()])\n",
    "dbTest(\"ET3-P-02-01-03\", True, productsDF.schema['topic'].dataType == StringType())\n",
    "dbTest(\"ET3-P-02-01-04\", True, productsDF.schema['partition'].dataType == IntegerType())\n",
    "dbTest(\"ET3-P-02-01-05\", True, productsDF.schema['offset'].dataType == LongType())\n",
    "dbTest(\"ET3-P-02-01-06\", True, productsDF.schema['timestamp'].dataType in [TimestampType(), StringType()])\n",
    "dbTest(\"ET3-P-02-01-07\", True, productsDF.schema['timestampType'].dataType == IntegerType())\n",
    "\n",
    "print(\"Tests passed!\")"
   ]
  },
  {
   "cell_type": "markdown",
   "metadata": {},
   "source": [
    "### Step 2: Defining a Schema\n",
    "\n",
    "Define a schema that consists of the following values.  Save it as `productSchema`<br>\n",
    "\n",
    "| Field            | Type             |\n",
    "|:-----------------|:-----------------|\n",
    "| `orderID`        | `IntegerType()`  |\n",
    "| `productID`      | `IntegerType()`  |\n",
    "| `orderTimestamp` | `TimestampType()`|\n",
    "| `orderQty`       | `IntegerType()`  |"
   ]
  },
  {
   "cell_type": "code",
   "execution_count": 49,
   "metadata": {},
   "outputs": [
    {
     "data": {
      "text/html": [
       "<style scoped>\n",
       "  .ansiout {\n",
       "    display: block;\n",
       "    unicode-bidi: embed;\n",
       "    white-space: pre-wrap;\n",
       "    word-wrap: break-word;\n",
       "    word-break: break-all;\n",
       "    font-family: \"Source Code Pro\", \"Menlo\", monospace;;\n",
       "    font-size: 13px;\n",
       "    color: #555;\n",
       "    margin-left: 4px;\n",
       "    line-height: 19px;\n",
       "  }\n",
       "</style>\n",
       "<div class=\"ansiout\"></div>"
      ]
     },
     "metadata": {},
     "output_type": "display_data"
    }
   ],
   "source": [
    "# TODO\n",
    "from pyspark.sql.types import IntegerType, StructField, StructType, TimestampType\n",
    "\n",
    "productSchema = StructType([\n",
    "  StructField(\"orderID\", IntegerType(), nullable=True),\n",
    "  StructField(\"productID\", IntegerType(), nullable=True),\n",
    "  StructField(\"orderTimestamp\", TimestampType(), nullable=True),\n",
    "  StructField(\"orderQty\", IntegerType(), nullable=True)\n",
    "])"
   ]
  },
  {
   "cell_type": "code",
   "execution_count": 50,
   "metadata": {},
   "outputs": [
    {
     "data": {
      "text/html": [
       "<style scoped>\n",
       "  .ansiout {\n",
       "    display: block;\n",
       "    unicode-bidi: embed;\n",
       "    white-space: pre-wrap;\n",
       "    word-wrap: break-word;\n",
       "    word-break: break-all;\n",
       "    font-family: \"Source Code Pro\", \"Menlo\", monospace;;\n",
       "    font-size: 13px;\n",
       "    color: #555;\n",
       "    margin-left: 4px;\n",
       "    line-height: 19px;\n",
       "  }\n",
       "</style>\n",
       "<div class=\"ansiout\">Tests passed!\n",
       "</div>"
      ]
     },
     "metadata": {},
     "output_type": "display_data"
    }
   ],
   "source": [
    "# TEST - Run this cell to test your solution.\n",
    "from pyspark.sql.types import IntegerType, StringType, TimestampType\n",
    "\n",
    "dbTest(\"ET3-P-02-02-01\", True, productSchema['orderID'].dataType == IntegerType())\n",
    "dbTest(\"ET3-P-02-02-02\", True, productSchema['productID'].dataType == IntegerType())\n",
    "dbTest(\"ET3-P-02-02-03\", True, productSchema['orderTimestamp'].dataType in [StringType(), TimestampType()])\n",
    "dbTest(\"ET3-P-02-02-04\", True, productSchema['orderQty'].dataType == IntegerType())\n",
    "\n",
    "print(\"Tests passed!\")"
   ]
  },
  {
   "cell_type": "markdown",
   "metadata": {},
   "source": [
    "### Step 3: Parsing the Kafka Data\n",
    "\n",
    "Parse the `value` column of the Kafka data.  Remember to use the `from_json()` function and apply your schema.  Save the results to `ordersDF`"
   ]
  },
  {
   "cell_type": "code",
   "execution_count": 52,
   "metadata": {},
   "outputs": [
    {
     "data": {
      "text/html": [
       "<style scoped>\n",
       "  .ansiout {\n",
       "    display: block;\n",
       "    unicode-bidi: embed;\n",
       "    white-space: pre-wrap;\n",
       "    word-wrap: break-word;\n",
       "    word-break: break-all;\n",
       "    font-family: \"Source Code Pro\", \"Menlo\", monospace;;\n",
       "    font-size: 13px;\n",
       "    color: #555;\n",
       "    margin-left: 4px;\n",
       "    line-height: 19px;\n",
       "  }\n",
       "</style>\n",
       "<div class=\"ansiout\"></div>"
      ]
     },
     "metadata": {},
     "output_type": "display_data"
    }
   ],
   "source": [
    "# TODO\n",
    "from pyspark.sql.functions import from_json, col\n",
    "from pyspark.sql.types import StringType\n",
    "\n",
    "ordersDF = productsDF.select(from_json(col(\"value\").cast(StringType()), productSchema).alias(\"order\"))"
   ]
  },
  {
   "cell_type": "code",
   "execution_count": 53,
   "metadata": {},
   "outputs": [
    {
     "data": {
      "text/html": [
       "<style scoped>\n",
       "  .ansiout {\n",
       "    display: block;\n",
       "    unicode-bidi: embed;\n",
       "    white-space: pre-wrap;\n",
       "    word-wrap: break-word;\n",
       "    word-break: break-all;\n",
       "    font-family: \"Source Code Pro\", \"Menlo\", monospace;;\n",
       "    font-size: 13px;\n",
       "    color: #555;\n",
       "    margin-left: 4px;\n",
       "    line-height: 19px;\n",
       "  }\n",
       "</style>\n",
       "<div class=\"ansiout\">Tests passed!\n",
       "</div>"
      ]
     },
     "metadata": {},
     "output_type": "display_data"
    }
   ],
   "source": [
    "# TEST - Run this cell to test your solution.\n",
    "from pyspark.sql.types import IntegerType, TimestampType\n",
    "\n",
    "_df = ordersDF.select(col(\"order.orderID\").alias(\"orderID\"),\n",
    "                       col(\"order.productID\").alias(\"productID\"),\n",
    "                       col(\"order.orderTimestamp\").alias(\"orderTimestamp\"),\n",
    "                       col(\"order.orderQty\").alias(\"orderQty\"))\n",
    "\n",
    "expected = {\"orderID\": IntegerType(), \"orderQty\": IntegerType(), \"orderTimestamp\": TimestampType(), \"productID\": IntegerType()}\n",
    "sch = {c.name: c.dataType for c in _df.schema}\n",
    "\n",
    "dbTest(\"ET3-P-02-03-01\", True, sch == expected)\n",
    "\n",
    "print(\"Tests passed!\")"
   ]
  },
  {
   "cell_type": "markdown",
   "metadata": {},
   "source": [
    "### Step 4: Write to a Delta Table\n",
    "\n",
    "Write the results to an always up-to-date Databricks Delta table to the provided path.  The table should have the following columns:<br><br>\n",
    "\n",
    "1. `orderID`\n",
    "1. `productID`\n",
    "1. `orderTimestamp`\n",
    "1. `orderQty`"
   ]
  },
  {
   "cell_type": "code",
   "execution_count": 55,
   "metadata": {},
   "outputs": [
    {
     "data": {
      "text/html": [
       "<style scoped>\n",
       "  .ansiout {\n",
       "    display: block;\n",
       "    unicode-bidi: embed;\n",
       "    white-space: pre-wrap;\n",
       "    word-wrap: break-word;\n",
       "    word-break: break-all;\n",
       "    font-family: \"Source Code Pro\", \"Menlo\", monospace;;\n",
       "    font-size: 13px;\n",
       "    color: #555;\n",
       "    margin-left: 4px;\n",
       "    line-height: 19px;\n",
       "  }\n",
       "</style>\n",
       "<div class=\"ansiout\">Out[39]: &lt;pyspark.sql.streaming.StreamingQuery at 0x7fdb87641710&gt;</div>"
      ]
     },
     "metadata": {},
     "output_type": "display_data"
    }
   ],
   "source": [
    "ordersPath = \"{}/orders\".format(basePath)\n",
    "checkpointPath = \"{}/orders.checkpoint\".format(basePath)\n",
    "\n",
    "(ordersDF\n",
    "  .select(\"order.orderID\", \"order.orderQty\", \"order.orderTimestamp\", \"order.productID\")\n",
    "  .writeStream\n",
    "  .format(\"delta\")\n",
    "  .partitionBy(\"productID\")\n",
    "  .option(\"checkpointLocation\", checkpointPath)\n",
    "  .option(\"path\", ordersPath)\n",
    "  .outputMode(\"append\")\n",
    "  .queryName(myStreamName)\n",
    "  .start()\n",
    ")"
   ]
  },
  {
   "cell_type": "code",
   "execution_count": 56,
   "metadata": {},
   "outputs": [
    {
     "data": {
      "text/html": [
       "<style scoped>\n",
       "  .ansiout {\n",
       "    display: block;\n",
       "    unicode-bidi: embed;\n",
       "    white-space: pre-wrap;\n",
       "    word-wrap: break-word;\n",
       "    word-break: break-all;\n",
       "    font-family: \"Source Code Pro\", \"Menlo\", monospace;;\n",
       "    font-size: 13px;\n",
       "    color: #555;\n",
       "    margin-left: 4px;\n",
       "    line-height: 19px;\n",
       "  }\n",
       "</style>\n",
       "<div class=\"ansiout\">The stream lesson02_ps is active and ready.\n",
       "</div>"
      ]
     },
     "metadata": {},
     "output_type": "display_data"
    }
   ],
   "source": [
    "# Wait until the stream is ready...\n",
    "untilStreamIsReady(myStreamName)"
   ]
  },
  {
   "cell_type": "code",
   "execution_count": 57,
   "metadata": {},
   "outputs": [
    {
     "data": {
      "text/html": [
       "<style scoped>\n",
       "  .ansiout {\n",
       "    display: block;\n",
       "    unicode-bidi: embed;\n",
       "    white-space: pre-wrap;\n",
       "    word-wrap: break-word;\n",
       "    word-break: break-all;\n",
       "    font-family: \"Source Code Pro\", \"Menlo\", monospace;;\n",
       "    font-size: 13px;\n",
       "    color: #555;\n",
       "    margin-left: 4px;\n",
       "    line-height: 19px;\n",
       "  }\n",
       "</style>\n",
       "<div class=\"ansiout\">Tests passed!\n",
       "</div>"
      ]
     },
     "metadata": {},
     "output_type": "display_data"
    }
   ],
   "source": [
    "# TEST - Run this cell to test your solution.\n",
    "from pyspark.sql.types import *\n",
    "\n",
    "ordersPath = \"{}/orders\".format(basePath)\n",
    "_df = spark.read.format(\"delta\").load(ordersPath)\n",
    "\n",
    "expected = {\"orderID\": IntegerType(), \"orderQty\": IntegerType(), \"orderTimestamp\": TimestampType(), \"productID\": IntegerType()}\n",
    "sch = {c.name: c.dataType for c in _df.schema}\n",
    "\n",
    "dbTest(\"ET3-P-02-04-01\", True, sch == expected)\n",
    "\n",
    "print(\"Tests passed!\")"
   ]
  },
  {
   "cell_type": "markdown",
   "metadata": {},
   "source": [
    "### Step 5: Now Stop the Stream and Delete Files\n",
    "\n",
    "Stop the stream."
   ]
  },
  {
   "cell_type": "code",
   "execution_count": 59,
   "metadata": {},
   "outputs": [
    {
     "data": {
      "text/html": [
       "<style scoped>\n",
       "  .ansiout {\n",
       "    display: block;\n",
       "    unicode-bidi: embed;\n",
       "    white-space: pre-wrap;\n",
       "    word-wrap: break-word;\n",
       "    word-break: break-all;\n",
       "    font-family: \"Source Code Pro\", \"Menlo\", monospace;;\n",
       "    font-size: 13px;\n",
       "    color: #555;\n",
       "    margin-left: 4px;\n",
       "    line-height: 19px;\n",
       "  }\n",
       "</style>\n",
       "<div class=\"ansiout\"></div>"
      ]
     },
     "metadata": {},
     "output_type": "display_data"
    }
   ],
   "source": [
    "for s in spark.streams.active:\n",
    "  s.stop()"
   ]
  },
  {
   "cell_type": "markdown",
   "metadata": {},
   "source": [
    "Recursively delete the files you created (this is a permanent operation)."
   ]
  },
  {
   "cell_type": "code",
   "execution_count": 61,
   "metadata": {},
   "outputs": [
    {
     "data": {
      "text/html": [
       "<style scoped>\n",
       "  .ansiout {\n",
       "    display: block;\n",
       "    unicode-bidi: embed;\n",
       "    white-space: pre-wrap;\n",
       "    word-wrap: break-word;\n",
       "    word-break: break-all;\n",
       "    font-family: \"Source Code Pro\", \"Menlo\", monospace;;\n",
       "    font-size: 13px;\n",
       "    color: #555;\n",
       "    margin-left: 4px;\n",
       "    line-height: 19px;\n",
       "  }\n",
       "</style>\n",
       "<div class=\"ansiout\">Out[43]: True</div>"
      ]
     },
     "metadata": {},
     "output_type": "display_data"
    }
   ],
   "source": [
    "dbutils.fs.rm(basePath, True)"
   ]
  },
  {
   "cell_type": "markdown",
   "metadata": {},
   "source": [
    "## Review\n",
    "**Question:** What is the best practice for different versions of ETL jobs?  \n",
    "**Answer:** Generally speaking, an ETL solution should have three versions:\n",
    "0. *Batch* or the ability to run a periodic workload\n",
    "0. *Streaming* or the ability to process incoming data in real time\n",
    "0. *Incremental* or the ability to process a specific set of data, especially in the case of job failure.<br>\n",
    "In practice, batch and streaming jobs are oftentimes combined where a batch job is a streaming workload using a single trigger.\n",
    "\n",
    "**Question:** What are commonly approached as data streams?  \n",
    "**Answer:** Apache Kafka and the AWS managed alternative Kinesis are common data streams.  Additionally, it's common to monitor a directory for incoming files.  When a new file appears, it is brought into the stream for processing.\n",
    "\n",
    "**Question:** How does Spark ensure exactly-once data delivery and maintain metadata on a stream?  \n",
    "**Answer:** Checkpoints give Spark this fault tolerance through the ability to maintain state off of the cluster.\n",
    "\n",
    "**Question:** How does the Spark approach to streaming integrate with other Spark features?  \n",
    "**Answer:** Spark Streaming uses the same DataFrame API, allowing easy integration with other Spark functionality."
   ]
  },
  {
   "cell_type": "code",
   "execution_count": 64,
   "metadata": {},
   "outputs": [],
   "source": [
    "%run \"./Includes/Classroom-Cleanup\""
   ]
  }
 ],
 "metadata": {
  "kernelspec": {
   "display_name": "Python 3",
   "language": "python",
   "name": "python3"
  },
  "language_info": {
   "codemirror_mode": {
    "name": "ipython",
    "version": 3
   },
   "file_extension": ".py",
   "mimetype": "text/x-python",
   "name": "python",
   "nbconvert_exporter": "python",
   "pygments_lexer": "ipython3",
   "version": "3.7.3"
  },
  "name": "ETL3 02 - Streaming ETL",
  "notebookId": 318591916144058
 },
 "nbformat": 4,
 "nbformat_minor": 1
}
