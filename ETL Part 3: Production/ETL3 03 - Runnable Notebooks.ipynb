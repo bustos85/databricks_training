{
 "cells": [
  {
   "cell_type": "code",
   "execution_count": 4,
   "metadata": {},
   "outputs": [],
   "source": [
    "%run \"./Includes/Classroom-Setup\""
   ]
  },
  {
   "cell_type": "markdown",
   "metadata": {},
   "source": [
    "### A Step Toward Full Automation\n",
    "\n",
    "Notebooks are one--and not the only--way of interacting with the Spark and Databricks environment.  Notebooks can be executed independently and as recurring jobs.  They can also be exported and versioned using git.  Python files and Scala/Java jars can be executed against a Databricks cluster as well, allowing full integration with a developer's normal workflow.  Since notebooks can be executed like code files and compiled binaries, they offer a way of building production pipelines.\n",
    "\n",
    "Functional programming design principles aid in thinking about pipelines.  In functional programming, your code always has known inputs and outputs without any side effects.  In the case of automating notebooks, coding notebooks in this way helps reduce any unintended side effects where each stage in a pipeline can operate independently from the rest.\n",
    "\n",
    "More complex workflows using notebooks require managing dependencies between tasks and passing parameters into notebooks.  Dependency management can done by chaining notebooks together, for instance to run reporting logic after having completed a database write. Sometimes, when these pipelines become especially complex, chaining notebooks together isn't sufficient. In those cases, scheduling with Apache Airflow has become the preferred solution. Notebook widgets can be used to pass parameters to a notebook when the parameters are determined at runtime."
   ]
  },
  {
   "cell_type": "markdown",
   "metadata": {},
   "source": [
    "### Widgets\n",
    "\n",
    "Widgets allow for the customization of notebooks without editing the code itself.  They also allow for passing parameters into notebooks.  There are 4 types of widgets:\n",
    "\n",
    "| Type          | Description                                                                                        |\n",
    "|:--------------|:---------------------------------------------------------------------------------------------------|\n",
    "| `text`        | Input a value in a text box.                                                                       |\n",
    "| `dropdown`    | Select a value from a list of provided values.                                                     |\n",
    "| `combobox`    | Combination of text and dropdown. Select a value from a provided list or input one in the text box.|\n",
    "| `multiselect` | Select one or more values from a list of provided values.                                          |\n",
    "\n",
    "Widgets are Databricks utility functions that can be accessed using the `dbutils.widgets` package and take a name, default value, and values (if not a `text` widget)."
   ]
  },
  {
   "cell_type": "code",
   "execution_count": 8,
   "metadata": {},
   "outputs": [
    {
     "data": {
      "text/html": [
       "<style scoped>\n",
       "  .ansiout {\n",
       "    display: block;\n",
       "    unicode-bidi: embed;\n",
       "    white-space: pre-wrap;\n",
       "    word-wrap: break-word;\n",
       "    word-break: break-all;\n",
       "    font-family: \"Source Code Pro\", \"Menlo\", monospace;;\n",
       "    font-size: 13px;\n",
       "    color: #555;\n",
       "    margin-left: 4px;\n",
       "    line-height: 19px;\n",
       "  }\n",
       "</style>\n",
       "<div class=\"ansiout\"></div>"
      ]
     },
     "metadata": {},
     "output_type": "display_data"
    }
   ],
   "source": [
    "dbutils.widgets.dropdown(\"MyWidget\", \"1\", [str(x) for x in range(1, 5)])"
   ]
  },
  {
   "cell_type": "markdown",
   "metadata": {},
   "source": [
    "Notice the widget created at the top of the screen.  Choose a number from the dropdown menu.  Now, bring that value into your code using the `get` method."
   ]
  },
  {
   "cell_type": "code",
   "execution_count": 10,
   "metadata": {},
   "outputs": [
    {
     "data": {
      "text/html": [
       "<style scoped>\n",
       "  .ansiout {\n",
       "    display: block;\n",
       "    unicode-bidi: embed;\n",
       "    white-space: pre-wrap;\n",
       "    word-wrap: break-word;\n",
       "    word-break: break-all;\n",
       "    font-family: \"Source Code Pro\", \"Menlo\", monospace;;\n",
       "    font-size: 13px;\n",
       "    color: #555;\n",
       "    margin-left: 4px;\n",
       "    line-height: 19px;\n",
       "  }\n",
       "</style>\n",
       "<div class=\"ansiout\">Out[16]: &#39;1&#39;</div>"
      ]
     },
     "metadata": {},
     "output_type": "display_data"
    }
   ],
   "source": [
    "dbutils.widgets.get(\"MyWidget\")"
   ]
  },
  {
   "cell_type": "markdown",
   "metadata": {},
   "source": [
    "Clear the widgets using either `remove()` or `removeAll()`"
   ]
  },
  {
   "cell_type": "code",
   "execution_count": 12,
   "metadata": {},
   "outputs": [
    {
     "data": {
      "text/html": [
       "<style scoped>\n",
       "  .ansiout {\n",
       "    display: block;\n",
       "    unicode-bidi: embed;\n",
       "    white-space: pre-wrap;\n",
       "    word-wrap: break-word;\n",
       "    word-break: break-all;\n",
       "    font-family: \"Source Code Pro\", \"Menlo\", monospace;;\n",
       "    font-size: 13px;\n",
       "    color: #555;\n",
       "    margin-left: 4px;\n",
       "    line-height: 19px;\n",
       "  }\n",
       "</style>\n",
       "<div class=\"ansiout\"></div>"
      ]
     },
     "metadata": {},
     "output_type": "display_data"
    }
   ],
   "source": [
    "dbutils.widgets.removeAll()"
   ]
  },
  {
   "cell_type": "markdown",
   "metadata": {},
   "source": [
    "While great for adding parameters to notebooks and dashboards, widgets also allow us to pass parameters into notebooks when we run them like a Python or JAR file."
   ]
  },
  {
   "cell_type": "markdown",
   "metadata": {},
   "source": [
    "### Running Notebooks\n",
    "\n",
    "There are two options for running notebooks.  The first is using `dbutils.notebook.run(\"<path>\", \"<timeout>\")`.  \n",
    "\n",
    "Now run the notebook with the following command."
   ]
  },
  {
   "cell_type": "code",
   "execution_count": null,
   "metadata": {},
   "outputs": [],
   "source": [
    "return_value = dbutils.notebook.run(\"./Runnable/Runnable-1\", 30)\n",
    "\n",
    "print(\"Notebook successfully ran with return value: {}\".format(return_value))"
   ]
  },
  {
   "cell_type": "markdown",
   "metadata": {},
   "source": [
    "Notice how the `Runnable-1` notebook ends with the command `dbutils.notebook.exit(\"returnValue\")`.  This is a `string` that's passed back into the running notebook's environment."
   ]
  },
  {
   "cell_type": "markdown",
   "metadata": {},
   "source": [
    "Run the following cell and note how the variable doesn't exist."
   ]
  },
  {
   "cell_type": "markdown",
   "metadata": {},
   "source": [
    "This variable is not passed into our current environment.  The difference between `dbutils.notebook.run()` and `%run` is that the parent notebook will inherit variables from the ran notebook with `%run`."
   ]
  },
  {
   "cell_type": "code",
   "execution_count": 20,
   "metadata": {},
   "outputs": [],
   "source": [
    "%run ./Runnable/Runnable-1"
   ]
  },
  {
   "cell_type": "markdown",
   "metadata": {},
   "source": [
    "Now this variable is available for use in this notebook"
   ]
  },
  {
   "cell_type": "code",
   "execution_count": 22,
   "metadata": {},
   "outputs": [
    {
     "data": {
      "text/html": [
       "<style scoped>\n",
       "  .ansiout {\n",
       "    display: block;\n",
       "    unicode-bidi: embed;\n",
       "    white-space: pre-wrap;\n",
       "    word-wrap: break-word;\n",
       "    word-break: break-all;\n",
       "    font-family: \"Source Code Pro\", \"Menlo\", monospace;;\n",
       "    font-size: 13px;\n",
       "    color: #555;\n",
       "    margin-left: 4px;\n",
       "    line-height: 19px;\n",
       "  }\n",
       "</style>\n",
       "<div class=\"ansiout\">12\n",
       "</div>"
      ]
     },
     "metadata": {},
     "output_type": "display_data"
    }
   ],
   "source": [
    "print(my_variable)"
   ]
  },
  {
   "cell_type": "markdown",
   "metadata": {},
   "source": [
    "### Parameter Passing and Debugging\n",
    "\n",
    "Notebook widgets allow us to pass parameters into notebooks.  This can be done in the form of a dictionary that maps the widget name to a value as a `string`.\n"
   ]
  },
  {
   "cell_type": "markdown",
   "metadata": {},
   "source": [
    "Pass your parameters into `dbutils.notebook.run` and save the resulting return value"
   ]
  },
  {
   "cell_type": "code",
   "execution_count": null,
   "metadata": {},
   "outputs": [],
   "source": [
    "basePath =  \"{}/etl3p/\".format(getUserhome())\n",
    "dest_path = \"{}/academy/raw_logs.parquet\".format(basePath)\n",
    "\n",
    "result = dbutils.notebook.run(\"./Runnable/Runnable-2\", 60, {\"date\": \"11-27-2013\", \"dest_path\": dest_path})"
   ]
  },
  {
   "cell_type": "markdown",
   "metadata": {},
   "source": [
    "Click on `Notebook job #XXX` above to view the output of the notebook.  **This is helpful for debugging any problems.**"
   ]
  },
  {
   "cell_type": "markdown",
   "metadata": {},
   "source": [
    "Parse the JSON string results"
   ]
  },
  {
   "cell_type": "code",
   "execution_count": null,
   "metadata": {},
   "outputs": [],
   "source": [
    "import json\n",
    "print(json.loads(result))"
   ]
  },
  {
   "cell_type": "markdown",
   "metadata": {},
   "source": [
    "Now look at what this accomplished: cell phone logs were parsed corresponding to the date of the parameter passed into the notebook.  The results were saved to the given destination path."
   ]
  },
  {
   "cell_type": "code",
   "execution_count": null,
   "metadata": {},
   "outputs": [],
   "source": [
    "display(spark.read.parquet(dest_path))"
   ]
  },
  {
   "cell_type": "markdown",
   "metadata": {},
   "source": [
    "### Dependency Management, Timeouts, Retries, and Passing Data\n",
    "\n",
    "Running notebooks can allow for more advanced workflows in the following ways:<br><br>\n",
    "\n",
    "* Managing **dependencies** can be ensured by running a notebook that triggers other notebooks in the desired order\n",
    "* Setting **timeouts** ensures that jobs have a set limit on when they must either complete or fail\n",
    "* **Retry logic** ensures that fleeting failures do not prevent the proper execution of a notebook\n",
    "* **Data can passed** between notebooks by saving the data to a blob store or table and passing the path as an exit parameter\n"
   ]
  },
  {
   "cell_type": "markdown",
   "metadata": {},
   "source": [
    "## Exercise 1: Building a Generalized Notebook\n",
    "\n",
    "Build a notebook that allows for customization using input parameters"
   ]
  },
  {
   "cell_type": "markdown",
   "metadata": {},
   "source": [
    "### Step 1: Filter an Hour of Log Data\n",
    "\n",
    "1. Takes two parameters: `hour` and `output_path`\n",
    "1. Reads the following log file: `/mnt/training/EDGAR-Log-20170329/enhanced/EDGAR-Log-20170329-sample.parquet`\n",
    "1. Filters the data for the hour provided\n",
    "1. Writes the result to the `output_path`\n",
    "1. Exits with the `output_path` as the exit parameter"
   ]
  },
  {
   "cell_type": "code",
   "execution_count": null,
   "metadata": {},
   "outputs": [],
   "source": [
    "path = \"{}/hour_03.parquet\".format(basePath)\n",
    "\n",
    "dbutils.notebook.run(\"./Runnable/Runnable-3\", 60, {\"hour\": \"03\", \"output_path\": path})"
   ]
  },
  {
   "cell_type": "code",
   "execution_count": 35,
   "metadata": {},
   "outputs": [],
   "source": [
    "# TEST - Run this cell to test your solution\n",
    "import random\n",
    "\n",
    "r = str(random.randint(0, 10**10))\n",
    "_path = \"{}/hour_08_{}.parquet\".format(basePath, r)\n",
    "\n",
    "_returnValue = dbutils.notebook.run(\"./Runnable/Runnable-3\", 60, {\"hour\": \"08\", \"output_path\": _path})\n",
    "_df = spark.read.parquet(_returnValue)\n",
    "\n",
    "dbTest(\"ET3-P-03-01-01\", True, _path == _returnValue)\n",
    "dbTest(\"ET3-P-03-01-02\", 54206, _df.count())\n",
    "\n",
    "dbutils.fs.rm(_path, True)\n",
    "\n",
    "print(\"Tests passed!\")"
   ]
  },
  {
   "cell_type": "markdown",
   "metadata": {},
   "source": [
    "## Review\n",
    "**Question:** How can I start to transition from notebooks to production environments?  \n",
    "**Answer:** Runnable notebooks are the first step towards transitioning into production environments since they allow us to generalize and parameterize our code.  There are other options, including running Python files and Scala/Java jars against a cluster as well.\n",
    "\n",
    "**Question:** How does passing parameters into and out of notebooks work?  \n",
    "**Answer:** Widgets allow for the customization of notebooks and passing parameters into them.  This takes place in the form of a dictionary (Python) or map (Scala) of key/value pairs that match the names of widgets.  Only strings can be passed out of a notebook as an exit parameter.\n",
    "\n",
    "**Question:** Since I can only pass strings of a limited length out of a notebook, how can I pass data out of a notebook?  \n",
    "**Answer:** The preferred way is to save your data to a blob store or Spark table.  On the notebook's exit, pass the location of that data as a string.  It can then be easily imported and manipulated in another notebook."
   ]
  },
  {
   "cell_type": "code",
   "execution_count": 38,
   "metadata": {},
   "outputs": [],
   "source": [
    "%run \"./Includes/Classroom-Cleanup\""
   ]
  }
 ],
 "metadata": {
  "kernelspec": {
   "display_name": "Python 3",
   "language": "python",
   "name": "python3"
  },
  "language_info": {
   "codemirror_mode": {
    "name": "ipython",
    "version": 3
   },
   "file_extension": ".py",
   "mimetype": "text/x-python",
   "name": "python",
   "nbconvert_exporter": "python",
   "pygments_lexer": "ipython3",
   "version": "3.7.3"
  },
  "name": "ETL3 03 - Runnable Notebooks",
  "notebookId": 318591916144242
 },
 "nbformat": 4,
 "nbformat_minor": 1
}
