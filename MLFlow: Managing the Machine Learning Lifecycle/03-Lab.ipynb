{
 "cells": [
  {
   "cell_type": "code",
   "execution_count": 4,
   "metadata": {},
   "outputs": [],
   "source": [
    "%run \"../Includes/Classroom-Setup\""
   ]
  },
  {
   "cell_type": "markdown",
   "metadata": {},
   "source": [
    "## Defining the MLproject file\n",
    "\n",
    "Write an MLproject file called `MLproject` to the path defined for you below."
   ]
  },
  {
   "cell_type": "code",
   "execution_count": 6,
   "metadata": {},
   "outputs": [
    {
     "data": {
      "text/html": [
       "<style scoped>\n",
       "  .ansiout {\n",
       "    display: block;\n",
       "    unicode-bidi: embed;\n",
       "    white-space: pre-wrap;\n",
       "    word-wrap: break-word;\n",
       "    word-break: break-all;\n",
       "    font-family: \"Source Code Pro\", \"Menlo\", monospace;;\n",
       "    font-size: 13px;\n",
       "    color: #555;\n",
       "    margin-left: 4px;\n",
       "    line-height: 19px;\n",
       "  }\n",
       "</style>\n",
       "<div class=\"ansiout\">Created directory `dbfs:/user/jose.manuel.bustos.munoz@everis.com/mlflow/03_lab_psp/03-lab/` to house the project files.\n",
       "</div>"
      ]
     },
     "metadata": {},
     "output_type": "display_data"
    }
   ],
   "source": [
    "path = f\"{workingDir}/03-lab/\"\n",
    "\n",
    "dbutils.fs.rm(path, True) # Clears the directory if it already exists\n",
    "dbutils.fs.mkdirs(path)\n",
    "\n",
    "print(\"Created directory `{}` to house the project files.\".format(path))"
   ]
  },
  {
   "cell_type": "markdown",
   "metadata": {},
   "source": [
    "The file should consist of the following aspects:<br><br>\n",
    "\n",
    "0. The name should be `Lab-03`\n",
    "0. It should use the environment `conda.yaml`\n",
    "0. It should take the following parameters:\n",
    "   - `data_path`: a string with a default of `/dbfs/mnt/training/airbnb/sf-listings/airbnb-cleaned-mlflow.csv`\n",
    "   - `bootstrap`: a boolean with a default of `True`\n",
    "   - `min_impurity_decrease`: a float with a default of `0.`\n",
    "0. The command that uses the parameters listed above"
   ]
  },
  {
   "cell_type": "code",
   "execution_count": 8,
   "metadata": {},
   "outputs": [
    {
     "data": {
      "text/html": [
       "<style scoped>\n",
       "  .ansiout {\n",
       "    display: block;\n",
       "    unicode-bidi: embed;\n",
       "    white-space: pre-wrap;\n",
       "    word-wrap: break-word;\n",
       "    word-break: break-all;\n",
       "    font-family: \"Source Code Pro\", \"Menlo\", monospace;;\n",
       "    font-size: 13px;\n",
       "    color: #555;\n",
       "    margin-left: 4px;\n",
       "    line-height: 19px;\n",
       "  }\n",
       "</style>\n",
       "<div class=\"ansiout\">Wrote 407 bytes.\n",
       "Out[14]: True</div>"
      ]
     },
     "metadata": {},
     "output_type": "display_data"
    }
   ],
   "source": [
    "#  TODO\n",
    "dbutils.fs.put(path + \"MLproject\", \n",
    "'''\n",
    "name: Lab-03\n",
    "\n",
    "conda_env: conda.yaml\n",
    "\n",
    "entry_points:\n",
    "  main:\n",
    "    parameters:\n",
    "      data_path: {type: str, default: \"/dbfs/mnt/training/airbnb/sf-listings/airbnb-cleaned-mlflow.csv\"}\n",
    "      bootstrap: {type: bool, default: True}\n",
    "      min_impurity_decrease: {type: float, default: 0.}\n",
    "    command: \"python train.py --data_path {data_path} --bootstrap {bootstrap} --min_impurity_decrease {min_impurity_decrease}\"\n",
    "'''.strip())"
   ]
  },
  {
   "cell_type": "markdown",
   "metadata": {},
   "source": [
    "## Defining the Environment\n",
    "\n",
    "Define the conda environment.  It should include the following libraries:<br><br>\n",
    "\n",
    "  - `cloudpickle=0.5.3`\n",
    "  - `numpy=1.14.3`\n",
    "  - `pandas=0.23.0`\n",
    "  - `scikit-learn=0.19.1`\n",
    "  - `pip:`\n",
    "    - `mlflow==1.0.0`"
   ]
  },
  {
   "cell_type": "code",
   "execution_count": 10,
   "metadata": {},
   "outputs": [
    {
     "data": {
      "text/html": [
       "<style scoped>\n",
       "  .ansiout {\n",
       "    display: block;\n",
       "    unicode-bidi: embed;\n",
       "    white-space: pre-wrap;\n",
       "    word-wrap: break-word;\n",
       "    word-break: break-all;\n",
       "    font-family: \"Source Code Pro\", \"Menlo\", monospace;;\n",
       "    font-size: 13px;\n",
       "    color: #555;\n",
       "    margin-left: 4px;\n",
       "    line-height: 19px;\n",
       "  }\n",
       "</style>\n",
       "<div class=\"ansiout\">Wrote 159 bytes.\n",
       "Out[15]: True</div>"
      ]
     },
     "metadata": {},
     "output_type": "display_data"
    }
   ],
   "source": [
    "#  TODO\n",
    "dbutils.fs.put(path + \"conda.yaml\", \n",
    "'''\n",
    "name: Lab-03\n",
    "channels:\n",
    "  - defaults\n",
    "dependencies:\n",
    "  - cloudpickle=0.5.3\n",
    "  - numpy=1.14.3\n",
    "  - pandas=0.23.0\n",
    "  - scikit-learn=0.19.1\n",
    "  - pip:\n",
    "    - mlflow==1.0.0\n",
    "'''.strip())"
   ]
  },
  {
   "cell_type": "markdown",
   "metadata": {},
   "source": [
    "## Defining the Machine Learning Script\n",
    "\n",
    "Based on the script from Lesson 3, create a Random Forest model that uses the parameters `data_path`, `bootstrap`, and `min_impurity_decrease`."
   ]
  },
  {
   "cell_type": "code",
   "execution_count": 12,
   "metadata": {},
   "outputs": [
    {
     "data": {
      "text/html": [
       "<style scoped>\n",
       "  .ansiout {\n",
       "    display: block;\n",
       "    unicode-bidi: embed;\n",
       "    white-space: pre-wrap;\n",
       "    word-wrap: break-word;\n",
       "    word-break: break-all;\n",
       "    font-family: \"Source Code Pro\", \"Menlo\", monospace;;\n",
       "    font-size: 13px;\n",
       "    color: #555;\n",
       "    margin-left: 4px;\n",
       "    line-height: 19px;\n",
       "  }\n",
       "</style>\n",
       "<div class=\"ansiout\">Wrote 1519 bytes.\n",
       "Out[16]: True</div>"
      ]
     },
     "metadata": {},
     "output_type": "display_data"
    }
   ],
   "source": [
    "#  TODO\n",
    "dbutils.fs.put(path + \"train.py\", \n",
    "'''\n",
    "import click\n",
    "import mlflow.sklearn\n",
    "import pandas as pd\n",
    "from sklearn.ensemble import RandomForestRegressor\n",
    "from sklearn.metrics import mean_squared_error, mean_absolute_error, r2_score\n",
    "from sklearn.model_selection import train_test_split\n",
    "\n",
    "@click.command()\n",
    "@click.option(\"--data_path\", default=\"/dbfs/mnt/training/airbnb/sf-listings/airbnb-cleaned-mlflow.csv\", type=str)\n",
    "@click.option(\"--bootstrap\", default=True, type=bool)\n",
    "@click.option(\"--min_impurity_decrease\", default=0., type=float)\n",
    "def mlflow_rf(data_path, bootstrap, min_impurity_decrease):\n",
    "\n",
    "  with mlflow.start_run() as run:\n",
    "    # Import the data\n",
    "    df = pd.read_csv(data_path)\n",
    "    X_train, X_test, y_train, y_test = train_test_split(df.drop([\"price\"], axis=1), df[[\"price\"]].values.ravel(), random_state=42)\n",
    "    \n",
    "    # Create model, train it, and create predictions\n",
    "    rf = RandomForestRegressor(bootstrap=bootstrap, min_impurity_decrease=min_impurity_decrease)\n",
    "    rf.fit(X_train, y_train)\n",
    "    predictions = rf.predict(X_test)\n",
    "\n",
    "    # Log model\n",
    "    mlflow.sklearn.log_model(rf, \"random-forest-model\")\n",
    "    \n",
    "    # Log params\n",
    "    mlflow.log_param(\"min_impurity_decrease\", min_impurity_decrease)\n",
    "    mlflow.log_param(\"bootstrap\", bootstrap)\n",
    "\n",
    "    # Log metrics\n",
    "    mlflow.log_metric(\"mse\", mean_squared_error(y_test, predictions))\n",
    "    mlflow.log_metric(\"mae\", mean_absolute_error(y_test, predictions))  \n",
    "    mlflow.log_metric(\"r2\", r2_score(y_test, predictions))  \n",
    "\n",
    "if __name__ == \"__main__\":\n",
    "  mlflow_rf() # Note that this does not need arguments thanks to click\n",
    "'''.strip())"
   ]
  },
  {
   "cell_type": "markdown",
   "metadata": {},
   "source": [
    "## Executing your Solution\n",
    "\n",
    "First make sure that the three necessary files are where they need to be."
   ]
  },
  {
   "cell_type": "code",
   "execution_count": 14,
   "metadata": {},
   "outputs": [
    {
     "data": {
      "text/html": [
       "<style scoped>\n",
       "  .ansiout {\n",
       "    display: block;\n",
       "    unicode-bidi: embed;\n",
       "    white-space: pre-wrap;\n",
       "    word-wrap: break-word;\n",
       "    word-break: break-all;\n",
       "    font-family: \"Source Code Pro\", \"Menlo\", monospace;;\n",
       "    font-size: 13px;\n",
       "    color: #555;\n",
       "    margin-left: 4px;\n",
       "    line-height: 19px;\n",
       "  }\n",
       "</style>\n",
       "<div class=\"ansiout\">Out[17]: [FileInfo(path=&#39;dbfs:/user/jose.manuel.bustos.munoz@everis.com/mlflow/03_lab_psp/03-lab/MLproject&#39;, name=&#39;MLproject&#39;, size=407),\n",
       " FileInfo(path=&#39;dbfs:/user/jose.manuel.bustos.munoz@everis.com/mlflow/03_lab_psp/03-lab/conda.yaml&#39;, name=&#39;conda.yaml&#39;, size=159),\n",
       " FileInfo(path=&#39;dbfs:/user/jose.manuel.bustos.munoz@everis.com/mlflow/03_lab_psp/03-lab/train.py&#39;, name=&#39;train.py&#39;, size=1519)]</div>"
      ]
     },
     "metadata": {},
     "output_type": "display_data"
    }
   ],
   "source": [
    "dbutils.fs.ls(path)"
   ]
  },
  {
   "cell_type": "markdown",
   "metadata": {},
   "source": [
    "Execute your solution with the following code."
   ]
  },
  {
   "cell_type": "code",
   "execution_count": 16,
   "metadata": {},
   "outputs": [
    {
     "data": {
      "text/html": [
       "<style scoped>\n",
       "  .ansiout {\n",
       "    display: block;\n",
       "    unicode-bidi: embed;\n",
       "    white-space: pre-wrap;\n",
       "    word-wrap: break-word;\n",
       "    word-break: break-all;\n",
       "    font-family: \"Source Code Pro\", \"Menlo\", monospace;;\n",
       "    font-size: 13px;\n",
       "    color: #555;\n",
       "    margin-left: 4px;\n",
       "    line-height: 19px;\n",
       "  }\n",
       "</style>\n",
       "<div class=\"ansiout\">Out[18]: &lt;mlflow.projects.submitted_run.LocalSubmittedRun at 0x7f0bac06da58&gt;</div>"
      ]
     },
     "metadata": {},
     "output_type": "display_data"
    }
   ],
   "source": [
    "import mlflow\n",
    "\n",
    "mlflow.projects.run(uri=path.replace(\"dbfs:\",\"/dbfs\"),\n",
    "  parameters={\n",
    "    \"data_path\": \"/dbfs/mnt/training/airbnb/sf-listings/airbnb-cleaned-mlflow.csv\",\n",
    "    \"bootstrap\": False,\n",
    "    \"min_impurity_decrease\": .1\n",
    "})"
   ]
  },
  {
   "cell_type": "code",
   "execution_count": 19,
   "metadata": {},
   "outputs": [],
   "source": [
    "%run \"../Includes/Classroom-Cleanup\""
   ]
  }
 ],
 "metadata": {
  "kernelspec": {
   "display_name": "Python 3",
   "language": "python",
   "name": "python3"
  },
  "language_info": {
   "codemirror_mode": {
    "name": "ipython",
    "version": 3
   },
   "file_extension": ".py",
   "mimetype": "text/x-python",
   "name": "python",
   "nbconvert_exporter": "python",
   "pygments_lexer": "ipython3",
   "version": "3.7.3"
  },
  "name": "03-Lab",
  "notebookId": 3227357976396175
 },
 "nbformat": 4,
 "nbformat_minor": 1
}
