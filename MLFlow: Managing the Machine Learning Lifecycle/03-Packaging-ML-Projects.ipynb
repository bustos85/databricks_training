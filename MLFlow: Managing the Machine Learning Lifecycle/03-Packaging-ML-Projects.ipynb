{
 "cells": [
  {
   "cell_type": "code",
   "execution_count": 4,
   "metadata": {},
   "outputs": [],
   "source": [
    "%run \"./Includes/Classroom-Setup\""
   ]
  },
  {
   "cell_type": "markdown",
   "metadata": {},
   "source": [
    "### The Case for Packaging\n",
    "\n",
    "There are a number of different reasons why teams need to package their machine learning projects:<br><br>\n",
    "\n",
    "1. Projects have various library dependencies so shipping a machine learning solution involves the environment in which it was built.  MLflow allows for this environment to be a conda environment or docker container.  This means that teams can easily share and publish their code for others to use.\n",
    "2. Machine learning projects become increasingly complex as time goes on.  This includes ETL and featurization steps, machine learning models used for pre-processing, and finally the model training itself.\n",
    "3. Each component of a machine learning pipeline needs to allow for tracing its lineage.  If there's a failure at some point, tracing the full end-to-end lineage of a model allows for easier debugging.\n",
    "\n",
    "**ML Projects is a specification for how to organize code in a project.**  The heart of this is an **MLproject file,** a YAML specification for the components of an ML project.  This allows for more complex workflows since a project can execute another project, allowing for encapsulation of each stage of a more complex machine learning architecture.  This means that teams can collaborate more easily using this architecture."
   ]
  },
  {
   "cell_type": "markdown",
   "metadata": {},
   "source": [
    "### Packaging a Simple Project\n",
    "\n",
    "First we're going to create a simple MLflow project consisting of the following elements:<br><br>\n",
    "\n",
    "1. MLProject file\n",
    "2. Conda environment\n",
    "3. Basic machine learning script\n",
    "\n",
    "We're going to want to be able to pass parameters into this code so that we can try different hyperparameter options."
   ]
  },
  {
   "cell_type": "markdown",
   "metadata": {},
   "source": [
    "Create a new experiment for this exercise.  Navigate to the UI in another tab."
   ]
  },
  {
   "cell_type": "code",
   "execution_count": 9,
   "metadata": {},
   "outputs": [
    {
     "data": {
      "text/html": [
       "<style scoped>\n",
       "  .ansiout {\n",
       "    display: block;\n",
       "    unicode-bidi: embed;\n",
       "    white-space: pre-wrap;\n",
       "    word-wrap: break-word;\n",
       "    word-break: break-all;\n",
       "    font-family: \"Source Code Pro\", \"Menlo\", monospace;;\n",
       "    font-size: 13px;\n",
       "    color: #555;\n",
       "    margin-left: 4px;\n",
       "    line-height: 19px;\n",
       "  }\n",
       "</style>\n",
       "<div class=\"ansiout\"></div>"
      ]
     },
     "metadata": {},
     "output_type": "display_data"
    }
   ],
   "source": [
    "experimentPath = \"/Users/\" + username + \"/experiment-SPL3\""
   ]
  },
  {
   "cell_type": "code",
   "execution_count": 10,
   "metadata": {},
   "outputs": [
    {
     "data": {
      "text/html": [
       "<style scoped>\n",
       "  .ansiout {\n",
       "    display: block;\n",
       "    unicode-bidi: embed;\n",
       "    white-space: pre-wrap;\n",
       "    word-wrap: break-word;\n",
       "    word-break: break-all;\n",
       "    font-family: \"Source Code Pro\", \"Menlo\", monospace;;\n",
       "    font-size: 13px;\n",
       "    color: #555;\n",
       "    margin-left: 4px;\n",
       "    line-height: 19px;\n",
       "  }\n",
       "</style>\n",
       "<div class=\"ansiout\">INFO: &#39;/Users/jose.manuel.bustos.munoz@everis.com/experiment-SPL3&#39; does not exist. Creating a new experiment\n",
       "The experiment can be found at the path `/Users/jose.manuel.bustos.munoz@everis.com/experiment-SPL3` and has an experiment_id of `33850450030010`\n",
       "</div>"
      ]
     },
     "metadata": {},
     "output_type": "display_data"
    }
   ],
   "source": [
    "import mlflow\n",
    "\n",
    "mlflow.set_experiment(experimentPath)\n",
    "mlflow_client = mlflow.tracking.MlflowClient()\n",
    "experimentID = mlflow_client.get_experiment_by_name(name=experimentPath).experiment_id\n",
    "\n",
    "print(f\"The experiment can be found at the path `{experimentPath}` and has an experiment_id of `{experimentID}`\")"
   ]
  },
  {
   "cell_type": "markdown",
   "metadata": {},
   "source": [
    "First, examine the code we're going to run.  This looks similar to what we ran in the last lesson with the addition of decorators from the `click` library.  This allows us to parameterize our code."
   ]
  },
  {
   "cell_type": "code",
   "execution_count": 12,
   "metadata": {},
   "outputs": [
    {
     "data": {
      "text/html": [
       "<style scoped>\n",
       "  .ansiout {\n",
       "    display: block;\n",
       "    unicode-bidi: embed;\n",
       "    white-space: pre-wrap;\n",
       "    word-wrap: break-word;\n",
       "    word-break: break-all;\n",
       "    font-family: \"Source Code Pro\", \"Menlo\", monospace;;\n",
       "    font-size: 13px;\n",
       "    color: #555;\n",
       "    margin-left: 4px;\n",
       "    line-height: 19px;\n",
       "  }\n",
       "</style>\n",
       "<div class=\"ansiout\"></div>"
      ]
     },
     "metadata": {},
     "output_type": "display_data"
    }
   ],
   "source": [
    "import click\n",
    "import mlflow.sklearn\n",
    "import pandas as pd\n",
    "from sklearn.ensemble import RandomForestRegressor\n",
    "from sklearn.metrics import mean_squared_error, mean_absolute_error, r2_score\n",
    "from sklearn.model_selection import train_test_split\n",
    "\n",
    "@click.command()\n",
    "@click.option(\"--data_path\", default=\"/dbfs/mnt/training/airbnb/sf-listings/airbnb-cleaned-mlflow.csv\", type=str)\n",
    "@click.option(\"--n_estimators\", default=10, type=int)\n",
    "@click.option(\"--max_depth\", default=20, type=int)\n",
    "@click.option(\"--max_features\", default=\"auto\", type=str)\n",
    "def mlflow_rf(data_path, n_estimators, max_depth, max_features):\n",
    "\n",
    "  with mlflow.start_run() as run:\n",
    "    # Import the data\n",
    "    df = pd.read_csv(data_path)\n",
    "    X_train, X_test, y_train, y_test = train_test_split(df.drop([\"price\"], axis=1), df[[\"price\"]].values.ravel(), random_state=42)\n",
    "    \n",
    "    # Create model, train it, and create predictions\n",
    "    rf = RandomForestRegressor(n_estimators=n_estimators, max_depth=max_depth, max_features=max_features)\n",
    "    rf.fit(X_train, y_train)\n",
    "    predictions = rf.predict(X_test)\n",
    "\n",
    "    # Log model\n",
    "    mlflow.sklearn.log_model(rf, \"random-forest-model\")\n",
    "    \n",
    "    # Log params\n",
    "    mlflow.log_param(\"n_estimators\", n_estimators)\n",
    "    mlflow.log_param(\"max_depth\", max_depth)\n",
    "    mlflow.log_param(\"max_features\", max_features)\n",
    "\n",
    "    # Log metrics\n",
    "    mlflow.log_metric(\"mse\", mean_squared_error(y_test, predictions))\n",
    "    mlflow.log_metric(\"mae\", mean_absolute_error(y_test, predictions))  \n",
    "    mlflow.log_metric(\"r2\", r2_score(y_test, predictions))  \n",
    "\n",
    "# if __name__ == \"__main__\":\n",
    "#   mlflow_rf() # Note that this does not need arguments thanks to click"
   ]
  },
  {
   "cell_type": "markdown",
   "metadata": {},
   "source": [
    "Test that it works using the `click` `CliRunner`, which will execute the code in the same way we expect to."
   ]
  },
  {
   "cell_type": "code",
   "execution_count": 14,
   "metadata": {},
   "outputs": [
    {
     "data": {
      "text/html": [
       "<style scoped>\n",
       "  .ansiout {\n",
       "    display: block;\n",
       "    unicode-bidi: embed;\n",
       "    white-space: pre-wrap;\n",
       "    word-wrap: break-word;\n",
       "    word-break: break-all;\n",
       "    font-family: \"Source Code Pro\", \"Menlo\", monospace;;\n",
       "    font-size: 13px;\n",
       "    color: #555;\n",
       "    margin-left: 4px;\n",
       "    line-height: 19px;\n",
       "  }\n",
       "</style>\n",
       "<div class=\"ansiout\">Success!\n",
       "</div>"
      ]
     },
     "metadata": {},
     "output_type": "display_data"
    }
   ],
   "source": [
    "from click.testing import CliRunner\n",
    "\n",
    "runner = CliRunner()\n",
    "result = runner.invoke(mlflow_rf, ['--n_estimators', 10, '--max_depth', 20], catch_exceptions=True)\n",
    "\n",
    "assert result.exit_code == 0, \"Code failed\" # Check to see that it worked\n",
    "\n",
    "print(\"Success!\")"
   ]
  },
  {
   "cell_type": "markdown",
   "metadata": {},
   "source": [
    "Now create a directory to hold our project files.  This will be a unique directory for this lesson."
   ]
  },
  {
   "cell_type": "code",
   "execution_count": 16,
   "metadata": {},
   "outputs": [
    {
     "data": {
      "text/html": [
       "<style scoped>\n",
       "  .ansiout {\n",
       "    display: block;\n",
       "    unicode-bidi: embed;\n",
       "    white-space: pre-wrap;\n",
       "    word-wrap: break-word;\n",
       "    word-break: break-all;\n",
       "    font-family: \"Source Code Pro\", \"Menlo\", monospace;;\n",
       "    font-size: 13px;\n",
       "    color: #555;\n",
       "    margin-left: 4px;\n",
       "    line-height: 19px;\n",
       "  }\n",
       "</style>\n",
       "<div class=\"ansiout\"></div>"
      ]
     },
     "metadata": {},
     "output_type": "display_data"
    }
   ],
   "source": [
    "# Adust our working directory from what DBFS sees to what python actually sees\n",
    "working_path = workingDir.replace(\"dbfs:\", \"/dbfs\")"
   ]
  },
  {
   "cell_type": "markdown",
   "metadata": {},
   "source": [
    "Create the `MLproject` file.  This is the heart of an MLflow project.  It includes pointers to the conda environment and a `main` entry point, which is backed by the file `train.py`.\n",
    "\n",
    "Any `.py` or `.sh` file can be an entry point."
   ]
  },
  {
   "cell_type": "code",
   "execution_count": 18,
   "metadata": {},
   "outputs": [
    {
     "data": {
      "text/html": [
       "<style scoped>\n",
       "  .ansiout {\n",
       "    display: block;\n",
       "    unicode-bidi: embed;\n",
       "    white-space: pre-wrap;\n",
       "    word-wrap: break-word;\n",
       "    word-break: break-all;\n",
       "    font-family: \"Source Code Pro\", \"Menlo\", monospace;;\n",
       "    font-size: 13px;\n",
       "    color: #555;\n",
       "    margin-left: 4px;\n",
       "    line-height: 19px;\n",
       "  }\n",
       "</style>\n",
       "<div class=\"ansiout\">Wrote 471 bytes.\n",
       "Out[18]: True</div>"
      ]
     },
     "metadata": {},
     "output_type": "display_data"
    }
   ],
   "source": [
    "dbutils.fs.put(f\"{workingDir}/MLproject\", \n",
    "'''\n",
    "name: Lesson-3-Model-Training\n",
    "\n",
    "conda_env: conda.yaml\n",
    "\n",
    "entry_points:\n",
    "  main:\n",
    "    parameters:\n",
    "      data_path: {type: str, default: \"/dbfs/mnt/training/airbnb/sf-listings/airbnb-cleaned-mlflow.csv\"}\n",
    "      n_estimators: {type: int, default: 10}\n",
    "      max_depth: {type: int, default: 20}\n",
    "      max_features: {type: str, default: \"auto\"}\n",
    "    command: \"python train.py --data_path {data_path} --n_estimators {n_estimators} --max_depth {max_depth} --max_features {max_features}\"\n",
    "'''.strip())"
   ]
  },
  {
   "cell_type": "markdown",
   "metadata": {},
   "source": [
    "Create the conda environment.\n",
    "\n",
    "You can also dynamically view and use a package version by calling `.__version__` on the package."
   ]
  },
  {
   "cell_type": "code",
   "execution_count": 20,
   "metadata": {},
   "outputs": [
    {
     "data": {
      "text/html": [
       "<style scoped>\n",
       "  .ansiout {\n",
       "    display: block;\n",
       "    unicode-bidi: embed;\n",
       "    white-space: pre-wrap;\n",
       "    word-wrap: break-word;\n",
       "    word-break: break-all;\n",
       "    font-family: \"Source Code Pro\", \"Menlo\", monospace;;\n",
       "    font-size: 13px;\n",
       "    color: #555;\n",
       "    margin-left: 4px;\n",
       "    line-height: 19px;\n",
       "  }\n",
       "</style>\n",
       "<div class=\"ansiout\">Wrote 162 bytes.\n",
       "name: Lesson-03\n",
       "channels:\n",
       "  - defaults\n",
       "dependencies:\n",
       "  - cloudpickle=1.3.0\n",
       "  - numpy=1.16.2\n",
       "  - pandas=0.24.2\n",
       "  - scikit-learn=0.20.3\n",
       "  - pip:\n",
       "    - mlflow==1.7.2\n",
       "</div>"
      ]
     },
     "metadata": {},
     "output_type": "display_data"
    }
   ],
   "source": [
    "import cloudpickle, numpy, pandas, sklearn\n",
    "\n",
    "file_contents = f\"\"\"\n",
    "name: Lesson-03\n",
    "channels:\n",
    "  - defaults\n",
    "dependencies:\n",
    "  - cloudpickle={cloudpickle.__version__}\n",
    "  - numpy={numpy.__version__}\n",
    "  - pandas={pandas.__version__}\n",
    "  - scikit-learn={sklearn.__version__}\n",
    "  - pip:\n",
    "    - mlflow=={mlflow.__version__}\n",
    "\"\"\".strip()\n",
    "\n",
    "dbutils.fs.put(f\"{workingDir}/conda.yaml\", file_contents, overwrite=True)\n",
    "\n",
    "print(file_contents)"
   ]
  },
  {
   "cell_type": "markdown",
   "metadata": {},
   "source": [
    "Now create the code itself.  This is the same as above except for with the `__main__` is included.  Note how there are no arguments passed into `mlflow_rf()` on the final line.  `click` is handling the arguments for us."
   ]
  },
  {
   "cell_type": "code",
   "execution_count": 22,
   "metadata": {},
   "outputs": [
    {
     "data": {
      "text/html": [
       "<style scoped>\n",
       "  .ansiout {\n",
       "    display: block;\n",
       "    unicode-bidi: embed;\n",
       "    white-space: pre-wrap;\n",
       "    word-wrap: break-word;\n",
       "    word-break: break-all;\n",
       "    font-family: \"Source Code Pro\", \"Menlo\", monospace;;\n",
       "    font-size: 13px;\n",
       "    color: #555;\n",
       "    margin-left: 4px;\n",
       "    line-height: 19px;\n",
       "  }\n",
       "</style>\n",
       "<div class=\"ansiout\">Wrote 1610 bytes.\n",
       "Out[20]: True</div>"
      ]
     },
     "metadata": {},
     "output_type": "display_data"
    }
   ],
   "source": [
    "dbutils.fs.put(f\"{workingDir}/train.py\", \n",
    "'''\n",
    "import click\n",
    "import mlflow.sklearn\n",
    "import pandas as pd\n",
    "from sklearn.ensemble import RandomForestRegressor\n",
    "from sklearn.metrics import mean_squared_error, mean_absolute_error, r2_score\n",
    "from sklearn.model_selection import train_test_split\n",
    "\n",
    "@click.command()\n",
    "@click.option(\"--data_path\", default=\"/dbfs/mnt/training/airbnb/sf-listings/airbnb-cleaned-mlflow.csv\", type=str)\n",
    "@click.option(\"--n_estimators\", default=10, type=int)\n",
    "@click.option(\"--max_depth\", default=20, type=int)\n",
    "@click.option(\"--max_features\", default=\"auto\", type=str)\n",
    "def mlflow_rf(data_path, n_estimators, max_depth, max_features):\n",
    "\n",
    "  with mlflow.start_run() as run:\n",
    "    # Import the data\n",
    "    df = pd.read_csv(data_path)\n",
    "    X_train, X_test, y_train, y_test = train_test_split(df.drop([\"price\"], axis=1), df[[\"price\"]].values.ravel(), random_state=42)\n",
    "    \n",
    "    # Create model, train it, and create predictions\n",
    "    rf = RandomForestRegressor(n_estimators=n_estimators, max_depth=max_depth, max_features=max_features)\n",
    "    rf.fit(X_train, y_train)\n",
    "    predictions = rf.predict(X_test)\n",
    "\n",
    "    # Log model\n",
    "    mlflow.sklearn.log_model(rf, \"random-forest-model\")\n",
    "    \n",
    "    # Log params\n",
    "    mlflow.log_param(\"n_estimators\", n_estimators)\n",
    "    mlflow.log_param(\"max_depth\", max_depth)\n",
    "    mlflow.log_param(\"max_features\", max_features)\n",
    "\n",
    "    # Log metrics\n",
    "    mlflow.log_metric(\"mse\", mean_squared_error(y_test, predictions))\n",
    "    mlflow.log_metric(\"mae\", mean_absolute_error(y_test, predictions))  \n",
    "    mlflow.log_metric(\"r2\", r2_score(y_test, predictions))  \n",
    "\n",
    "if __name__ == \"__main__\":\n",
    "  mlflow_rf() # Note that this does not need arguments thanks to click\n",
    "'''.strip(), True)"
   ]
  },
  {
   "cell_type": "markdown",
   "metadata": {},
   "source": [
    "To summarize, you now have three files: `MLproject`, `conda.yaml`, and `train.py`"
   ]
  },
  {
   "cell_type": "code",
   "execution_count": 24,
   "metadata": {},
   "outputs": [
    {
     "data": {
      "text/html": [
       "<style scoped>\n",
       "  .table-result-container {\n",
       "    max-height: 300px;\n",
       "    overflow: auto;\n",
       "  }\n",
       "  table, th, td {\n",
       "    border: 1px solid black;\n",
       "    border-collapse: collapse;\n",
       "  }\n",
       "  th, td {\n",
       "    padding: 5px;\n",
       "  }\n",
       "  th {\n",
       "    text-align: left;\n",
       "  }\n",
       "</style><div class='table-result-container'><table class='table-result'><thead style='background-color: white'><tr><th>path</th><th>name</th><th>size</th></tr></thead><tbody><tr><td>dbfs:/user/jose.manuel.bustos.munoz@everis.com/mlflow/03_packaging_ml_projects_psp/MLproject</td><td>MLproject</td><td>471</td></tr><tr><td>dbfs:/user/jose.manuel.bustos.munoz@everis.com/mlflow/03_packaging_ml_projects_psp/conda.yaml</td><td>conda.yaml</td><td>162</td></tr><tr><td>dbfs:/user/jose.manuel.bustos.munoz@everis.com/mlflow/03_packaging_ml_projects_psp/train.py</td><td>train.py</td><td>1610</td></tr></tbody></table></div>"
      ]
     },
     "metadata": {},
     "output_type": "display_data"
    }
   ],
   "source": [
    "display( dbutils.fs.ls(workingDir) )"
   ]
  },
  {
   "cell_type": "markdown",
   "metadata": {},
   "source": [
    "### Running Projects\n",
    "\n",
    "Now you have the three files we need to run the project, we can trigger the run.  We'll do this in a few different ways:<br><br>\n",
    "\n",
    "1. On the driver node of our Spark cluster\n",
    "2. On a new Spark cluster submitted as a job\n",
    "3. Using files backed by GitHub"
   ]
  },
  {
   "cell_type": "markdown",
   "metadata": {},
   "source": [
    "Now run the experiment.  This command will execute against the driver node of a Spark cluster, though it could be running locally or on a different remote VM.\n",
    "\n",
    "First set the experiment using the `experimentPath` defined earlier.  Prepend `/dbfs` to the file path, which allows the cluster's file system to access DBFS.  Then, pass your parameters.\n",
    "\n",
    "This will take a few minutes to build the environment for the first time.  Subsequent runs are faster since `mlflow` can reuse the same environment after it has been built."
   ]
  },
  {
   "cell_type": "code",
   "execution_count": 27,
   "metadata": {},
   "outputs": [
    {
     "data": {
      "text/html": [
       "<style scoped>\n",
       "  .ansiout {\n",
       "    display: block;\n",
       "    unicode-bidi: embed;\n",
       "    white-space: pre-wrap;\n",
       "    word-wrap: break-word;\n",
       "    word-break: break-all;\n",
       "    font-family: \"Source Code Pro\", \"Menlo\", monospace;;\n",
       "    font-size: 13px;\n",
       "    color: #555;\n",
       "    margin-left: 4px;\n",
       "    line-height: 19px;\n",
       "  }\n",
       "</style>\n",
       "<div class=\"ansiout\">Out[22]: &lt;mlflow.projects.submitted_run.LocalSubmittedRun at 0x7f8c491c1668&gt;</div>"
      ]
     },
     "metadata": {},
     "output_type": "display_data"
    }
   ],
   "source": [
    "import mlflow\n",
    "\n",
    "mlflow.projects.run(uri=working_path,\n",
    "  parameters={\n",
    "    \"data_path\": \"/dbfs/mnt/training/airbnb/sf-listings/airbnb-cleaned-mlflow.csv\",\n",
    "    \"n_estimators\": 10,\n",
    "    \"max_depth\": 20,\n",
    "    \"max_features\": \"auto\"\n",
    "})"
   ]
  },
  {
   "cell_type": "markdown",
   "metadata": {},
   "source": [
    "Check the run in the UI.  Notice that you can see the run command.  **This is very helpful in debugging.**\n",
    "\n",
    "Now that it's working, experiment with other parameters."
   ]
  },
  {
   "cell_type": "code",
   "execution_count": 29,
   "metadata": {},
   "outputs": [
    {
     "data": {
      "text/html": [
       "<style scoped>\n",
       "  .ansiout {\n",
       "    display: block;\n",
       "    unicode-bidi: embed;\n",
       "    white-space: pre-wrap;\n",
       "    word-wrap: break-word;\n",
       "    word-break: break-all;\n",
       "    font-family: \"Source Code Pro\", \"Menlo\", monospace;;\n",
       "    font-size: 13px;\n",
       "    color: #555;\n",
       "    margin-left: 4px;\n",
       "    line-height: 19px;\n",
       "  }\n",
       "</style>\n",
       "<div class=\"ansiout\">Out[23]: &lt;mlflow.projects.submitted_run.LocalSubmittedRun at 0x7f8c491c1e48&gt;</div>"
      ]
     },
     "metadata": {},
     "output_type": "display_data"
    }
   ],
   "source": [
    "mlflow.projects.run(working_path,\n",
    "  parameters={\n",
    "    \"data_path\": \"/dbfs/mnt/training/airbnb/sf-listings/airbnb-cleaned-mlflow.csv\",\n",
    "    \"n_estimators\": 1000,\n",
    "    \"max_depth\": 10,\n",
    "    \"max_features\": \"log2\"\n",
    "})"
   ]
  },
  {
   "cell_type": "markdown",
   "metadata": {},
   "source": [
    "How did the new model do?"
   ]
  },
  {
   "cell_type": "markdown",
   "metadata": {},
   "source": [
    "Now try executing this code against a new Databricks cluster.  This needs cluster specifications in order for Databricks to know what kind of cluster to use.  Uncomment the following to run it."
   ]
  },
  {
   "cell_type": "code",
   "execution_count": 32,
   "metadata": {},
   "outputs": [],
   "source": [
    "# clusterspecs = {\n",
    "#     \"num_workers\": 2,\n",
    "#     \"spark_version\": \"5.2.x-scala2.11\",\n",
    "#     \"spark_conf\": {},\n",
    "#     \"aws_attributes\": {\n",
    "#         \"first_on_demand\": 1,\n",
    "#         \"availability\": \"SPOT_WITH_FALLBACK\",\n",
    "#         \"zone_id\": \"us-west-1c\",\n",
    "#         \"spot_bid_price_percent\": 100,\n",
    "#         \"ebs_volume_count\": 0\n",
    "#     },\n",
    "#     \"node_type_id\": \"i3.xlarge\",\n",
    "#     \"driver_node_type_id\": \"i3.xlarge\"\n",
    "#   }\n",
    "\n",
    "# mlflow.projects.run(\n",
    "#   uri=working_path,\n",
    "#   parameters={\n",
    "#     \"data_path\": \"/dbfs/mnt/training/airbnb/sf-listings/airbnb-cleaned-mlflow.csv\",\n",
    "#     \"n_estimators\": 1500,\n",
    "#     \"max_depth\": 5,\n",
    "#     \"max_features\": \"sqrt\"\n",
    "# },\n",
    "#   backend=\"databricks\",\n",
    "#   backend_config=clusterspecs\n",
    "# )"
   ]
  },
  {
   "cell_type": "markdown",
   "metadata": {},
   "source": [
    "Finally, run this example, which is <a href=\"https://github.com/mlflow/mlflow-example\" target=\"_blank\">a project backed by GitHub.</a>"
   ]
  },
  {
   "cell_type": "code",
   "execution_count": 34,
   "metadata": {},
   "outputs": [
    {
     "data": {
      "text/html": [
       "<style scoped>\n",
       "  .ansiout {\n",
       "    display: block;\n",
       "    unicode-bidi: embed;\n",
       "    white-space: pre-wrap;\n",
       "    word-wrap: break-word;\n",
       "    word-break: break-all;\n",
       "    font-family: \"Source Code Pro\", \"Menlo\", monospace;;\n",
       "    font-size: 13px;\n",
       "    color: #555;\n",
       "    margin-left: 4px;\n",
       "    line-height: 19px;\n",
       "  }\n",
       "</style>\n",
       "<div class=\"ansiout\">Out[24]: &lt;mlflow.projects.submitted_run.LocalSubmittedRun at 0x7f8c491a0f60&gt;</div>"
      ]
     },
     "metadata": {},
     "output_type": "display_data"
    }
   ],
   "source": [
    "mlflow.run(\n",
    "  uri=\"https://github.com/mlflow/mlflow-example\",\n",
    "  parameters={'alpha':0.4}\n",
    ")"
   ]
  },
  {
   "cell_type": "markdown",
   "metadata": {},
   "source": [
    "## Review\n",
    "\n",
    "**Question:** Why is packaging important?  \n",
    "**Answer:** Packaging not only manages your code but the environment in which it was run.  This environment can be a Conda or Docker environment.  This ensures that you have reproducible code and models that can be used in a number of downstream environments.\n",
    "\n",
    "**Question:** What are the core components of MLflow projects?  \n",
    "**Answer:** An MLmodel specifies the project components using YAML.  The environment file contains specifics about the environment.  The code itself contains the steps to create a model or process data.\n",
    "\n",
    "**Question:** What code can I run and where can I run it?  \n",
    "**Answer:** Arbitrary code can be run in any number of different languages.  It can be run locally or remotely, whether on a remote VM, Spark cluster, or submitted as a Databricks job."
   ]
  },
  {
   "cell_type": "code",
   "execution_count": 37,
   "metadata": {},
   "outputs": [],
   "source": [
    "%run \"./Includes/Classroom-Cleanup\""
   ]
  }
 ],
 "metadata": {
  "kernelspec": {
   "display_name": "Python 3",
   "language": "python",
   "name": "python3"
  },
  "language_info": {
   "codemirror_mode": {
    "name": "ipython",
    "version": 3
   },
   "file_extension": ".py",
   "mimetype": "text/x-python",
   "name": "python",
   "nbconvert_exporter": "python",
   "pygments_lexer": "ipython3",
   "version": "3.7.3"
  },
  "name": "03-Packaging-ML-Projects",
  "notebookId": 3227357976396790
 },
 "nbformat": 4,
 "nbformat_minor": 1
}
