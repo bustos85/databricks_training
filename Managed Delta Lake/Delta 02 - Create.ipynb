{
 "cells": [
  {
   "cell_type": "code",
   "execution_count": 4,
   "metadata": {},
   "outputs": [],
   "source": [
    "%run \"./Includes/Classroom-Setup\""
   ]
  },
  {
   "cell_type": "markdown",
   "metadata": {},
   "source": [
    "### Getting Started\n",
    "\n",
    "You will notice that throughout this course, there is a lot of context switching between PySpark, Scala and SQL.\n",
    "\n",
    "This is because:\n",
    "* `read` and `write` operations are performed on DataFrames using PySpark or Scala\n",
    "* table creates and queries are performed directly off Databricks Delta tables using SQL\n",
    "\n",
    "Run the following cell to configure our \"classroom.\""
   ]
  },
  {
   "cell_type": "markdown",
   "metadata": {},
   "source": [
    "Set up relevant paths."
   ]
  },
  {
   "cell_type": "code",
   "execution_count": 8,
   "metadata": {},
   "outputs": [
    {
     "data": {
      "text/html": [
       "<style scoped>\n",
       "  .ansiout {\n",
       "    display: block;\n",
       "    unicode-bidi: embed;\n",
       "    white-space: pre-wrap;\n",
       "    word-wrap: break-word;\n",
       "    word-break: break-all;\n",
       "    font-family: \"Source Code Pro\", \"Menlo\", monospace;;\n",
       "    font-size: 13px;\n",
       "    color: #555;\n",
       "    margin-left: 4px;\n",
       "    line-height: 19px;\n",
       "  }\n",
       "</style>\n",
       "<div class=\"ansiout\"></div>"
      ]
     },
     "metadata": {},
     "output_type": "display_data"
    }
   ],
   "source": [
    "inputPath = \"/mnt/training/online_retail/data-001/data.csv\"\n",
    "\n",
    "parquetDataPath  = workingDir + \"/customer-data/\"\n",
    "deltaDataPath    = workingDir + \"/customer-data-delta/\""
   ]
  },
  {
   "cell_type": "markdown",
   "metadata": {},
   "source": [
    "###  READ CSV Data\n",
    "\n",
    "Read the data into a DataFrame. We supply the schema.\n",
    "\n",
    "Partition on `Country` because there are only a few unique countries and because we will use `Country` as a predicate in a `WHERE` clause.\n",
    "\n",
    "More information on table partitioning is contained in the links at the bottom of this notebook."
   ]
  },
  {
   "cell_type": "code",
   "execution_count": 10,
   "metadata": {},
   "outputs": [
    {
     "data": {
      "text/html": [
       "<style scoped>\n",
       "  .ansiout {\n",
       "    display: block;\n",
       "    unicode-bidi: embed;\n",
       "    white-space: pre-wrap;\n",
       "    word-wrap: break-word;\n",
       "    word-break: break-all;\n",
       "    font-family: \"Source Code Pro\", \"Menlo\", monospace;;\n",
       "    font-size: 13px;\n",
       "    color: #555;\n",
       "    margin-left: 4px;\n",
       "    line-height: 19px;\n",
       "  }\n",
       "</style>\n",
       "<div class=\"ansiout\"></div>"
      ]
     },
     "metadata": {},
     "output_type": "display_data"
    }
   ],
   "source": [
    "inputSchema = \"InvoiceNo STRING, StockCode STRING, Description STRING, Quantity INT, InvoiceDate STRING, UnitPrice DOUBLE, CustomerID INT, Country STRING\"\n",
    "\n",
    "rawDF = (spark.read \n",
    "  .option(\"header\", \"true\")\n",
    "  .schema(inputSchema)\n",
    "  .csv(inputPath) \n",
    ")"
   ]
  },
  {
   "cell_type": "markdown",
   "metadata": {},
   "source": [
    "###  WRITE to Parquet and Databricks Delta\n",
    "\n",
    "Use `overwrite` mode so that it is not a problem to re-write data in case you end up running the cell again."
   ]
  },
  {
   "cell_type": "code",
   "execution_count": 12,
   "metadata": {},
   "outputs": [
    {
     "data": {
      "text/html": [
       "<style scoped>\n",
       "  .ansiout {\n",
       "    display: block;\n",
       "    unicode-bidi: embed;\n",
       "    white-space: pre-wrap;\n",
       "    word-wrap: break-word;\n",
       "    word-break: break-all;\n",
       "    font-family: \"Source Code Pro\", \"Menlo\", monospace;;\n",
       "    font-size: 13px;\n",
       "    color: #555;\n",
       "    margin-left: 4px;\n",
       "    line-height: 19px;\n",
       "  }\n",
       "</style>\n",
       "<div class=\"ansiout\"></div>"
      ]
     },
     "metadata": {},
     "output_type": "display_data"
    }
   ],
   "source": [
    "# write using Parquet format\n",
    "(rawDF.write\n",
    "  .mode(\"overwrite\")\n",
    "  .format(\"parquet\")\n",
    "  .partitionBy(\"Country\")\n",
    "  .save(parquetDataPath) )"
   ]
  },
  {
   "cell_type": "code",
   "execution_count": 13,
   "metadata": {},
   "outputs": [
    {
     "data": {
      "text/html": [
       "<style scoped>\n",
       "  .ansiout {\n",
       "    display: block;\n",
       "    unicode-bidi: embed;\n",
       "    white-space: pre-wrap;\n",
       "    word-wrap: break-word;\n",
       "    word-break: break-all;\n",
       "    font-family: \"Source Code Pro\", \"Menlo\", monospace;;\n",
       "    font-size: 13px;\n",
       "    color: #555;\n",
       "    margin-left: 4px;\n",
       "    line-height: 19px;\n",
       "  }\n",
       "</style>\n",
       "<div class=\"ansiout\"></div>"
      ]
     },
     "metadata": {},
     "output_type": "display_data"
    }
   ],
   "source": [
    "# write using Databricks Delta format\n",
    "(rawDF.write\n",
    "  .mode(\"overwrite\")\n",
    "  .format(\"delta\")\n",
    "  .partitionBy(\"Country\")\n",
    "  .save(deltaDataPath) )"
   ]
  },
  {
   "cell_type": "markdown",
   "metadata": {},
   "source": [
    "### CREATE Statement Using Non-Databricks Delta Pipeline\n",
    "\n",
    "Create a table called `customer_data` using `parquet` out of the above data."
   ]
  },
  {
   "cell_type": "code",
   "execution_count": 15,
   "metadata": {},
   "outputs": [
    {
     "data": {
      "text/html": [
       "<style scoped>\n",
       "  .ansiout {\n",
       "    display: block;\n",
       "    unicode-bidi: embed;\n",
       "    white-space: pre-wrap;\n",
       "    word-wrap: break-word;\n",
       "    word-break: break-all;\n",
       "    font-family: \"Source Code Pro\", \"Menlo\", monospace;;\n",
       "    font-size: 13px;\n",
       "    color: #555;\n",
       "    margin-left: 4px;\n",
       "    line-height: 19px;\n",
       "  }\n",
       "</style>\n",
       "<div class=\"ansiout\">Out[35]: DataFrame[]</div>"
      ]
     },
     "metadata": {},
     "output_type": "display_data"
    }
   ],
   "source": [
    "spark.sql(\"\"\"\n",
    "    CREATE TABLE IF NOT EXISTS customer_data \n",
    "    USING parquet \n",
    "    OPTIONS (path = '{}')\n",
    "  \"\"\".format(parquetDataPath))"
   ]
  },
  {
   "cell_type": "markdown",
   "metadata": {},
   "source": [
    "Perform a simple `count` query to verify the number of records."
   ]
  },
  {
   "cell_type": "markdown",
   "metadata": {},
   "source": [
    "### Why 0 records? \n",
    "\n",
    "It's the concept of\n",
    "<b>schema on read</b> where data is applied to a plan or schema as it is pulled out of a stored location, rather than as it goes into a stored location.\n",
    "\n",
    "In the traditional data lake architecture (including our pre-Databricks Delta), \n",
    " * The data backing the table **`customer_data`** is located in **`parquetDataPath`** (which you can see below).\n",
    " * The paths to the meta data backing the table **`customer-data`** (the schema, partitioning info and other table properties) are stored elsewhere \n",
    "  - This is called the **metastore**.\n",
    "\n",
    "Suppose, we add more data to **`parquetDataPath`**, \n",
    " * Then, we need to run a separate step for the metastore to become aware of this.\n",
    " * We use the **`MSCK REPAIR TABLE`** command. \n",
    " * **`MSCK`** stands for \"**M**eta**S**tore **C**hec**K**\", modeled after Unix **`FSCK`** (**F**ile **S**ystem **C**hec**K**)\n",
    "\n",
    "Schema on read is explained in more detail <a href=\"https://stackoverflow.com/a/11764519/53495#\" target=\"_blank\">in this article</a>."
   ]
  },
  {
   "cell_type": "code",
   "execution_count": 18,
   "metadata": {},
   "outputs": [
    {
     "data": {
      "text/html": [
       "<style scoped>\n",
       "  .ansiout {\n",
       "    display: block;\n",
       "    unicode-bidi: embed;\n",
       "    white-space: pre-wrap;\n",
       "    word-wrap: break-word;\n",
       "    word-break: break-all;\n",
       "    font-family: \"Source Code Pro\", \"Menlo\", monospace;;\n",
       "    font-size: 13px;\n",
       "    color: #555;\n",
       "    margin-left: 4px;\n",
       "    line-height: 19px;\n",
       "  }\n",
       "</style>\n",
       "<div class=\"ansiout\">dbfs:/user/jose.manuel.bustos.munoz@everis.com/delta/delta_02_create_psp/customer-data/\n",
       "</div>"
      ]
     },
     "metadata": {},
     "output_type": "display_data"
    }
   ],
   "source": [
    "print(parquetDataPath)"
   ]
  },
  {
   "cell_type": "markdown",
   "metadata": {},
   "source": [
    "After using `MSCK REPAIR TABLE`, the count is correct."
   ]
  },
  {
   "cell_type": "markdown",
   "metadata": {},
   "source": [
    "### CREATE Statement Using Databricks Delta Pipeline\n",
    "\n",
    "Create a table called `<database-name>.customer_data_delta` using `DELTA` out of `<path-to-data> = deltaDataPath`     \n",
    "\n",
    "The notation is:\n",
    "> `CREATE TABLE IF NOT EXISTS <database-name>.customer_data_delta` <br>\n",
    "  `USING DELTA` <br>\n",
    "  `LOCATION <path-to-data> ` <br>\n",
    "  \n",
    "Then, perform SQL queries on the table you just created.\n",
    "> `SELECT count(*) FROM <database-name>.customer_data_delta`\n",
    "\n",
    "Notice how you do not have to specify a schema or partition info here:\n",
    "* Databricks Delta stores schema and partition info in the `_delta_log` directory.\n",
    "* It infers schema from the data sitting in `<path-to-data>`."
   ]
  },
  {
   "cell_type": "code",
   "execution_count": 21,
   "metadata": {},
   "outputs": [
    {
     "data": {
      "text/html": [
       "<style scoped>\n",
       "  .ansiout {\n",
       "    display: block;\n",
       "    unicode-bidi: embed;\n",
       "    white-space: pre-wrap;\n",
       "    word-wrap: break-word;\n",
       "    word-break: break-all;\n",
       "    font-family: \"Source Code Pro\", \"Menlo\", monospace;;\n",
       "    font-size: 13px;\n",
       "    color: #555;\n",
       "    margin-left: 4px;\n",
       "    line-height: 19px;\n",
       "  }\n",
       "</style>\n",
       "<div class=\"ansiout\">Out[37]: DataFrame[]</div>"
      ]
     },
     "metadata": {},
     "output_type": "display_data"
    }
   ],
   "source": [
    "spark.sql(\"\"\"\n",
    "  CREATE TABLE IF NOT EXISTS customer_data_delta \n",
    "  USING DELTA \n",
    "  LOCATION '{}' \n",
    "\"\"\".format(deltaDataPath))"
   ]
  },
  {
   "cell_type": "markdown",
   "metadata": {},
   "source": [
    "Perform a simple `count` query to verify the number of records.\n",
    "\n",
    "Notice how the count is right off the bat; no need to worry about table repairs."
   ]
  },
  {
   "cell_type": "markdown",
   "metadata": {},
   "source": [
    "## A New Notation\n",
    "\n",
    "But, there is a more compact notation as well, one where you do not explicitly have to create a table.\n",
    "\n",
    "Simply specify `delta.` along with the path to your Databricks Delta directory (in backticks!) directly in the SQL query.\n",
    "* The dot in ```delta.`<path>` ``` means \"Spark, recognize `<path>` as a Databricks Delta directory\"\n",
    "\n",
    "> ```SELECT count(*) FROM delta.`<path-to-Delta-data>` ```\n",
    "\n",
    "We will use this notation extensively throughout the rest of the course.\n",
    "\n",
    "In your own work, you may chose either notation:\n",
    "* Sometimes, SQL queries are more readable than DataFrame queries.\n",
    "\n",
    "Make sure you use BACKTICKS in the statement ``` delta.`<path-to-Delta-data>` ``` ."
   ]
  },
  {
   "cell_type": "code",
   "execution_count": 24,
   "metadata": {},
   "outputs": [
    {
     "data": {
      "text/html": [
       "<style scoped>\n",
       "  .table-result-container {\n",
       "    max-height: 300px;\n",
       "    overflow: auto;\n",
       "  }\n",
       "  table, th, td {\n",
       "    border: 1px solid black;\n",
       "    border-collapse: collapse;\n",
       "  }\n",
       "  th, td {\n",
       "    padding: 5px;\n",
       "  }\n",
       "  th {\n",
       "    text-align: left;\n",
       "  }\n",
       "</style><div class='table-result-container'><table class='table-result'><thead style='background-color: white'><tr><th>count(1)</th></tr></thead><tbody><tr><td>65499</td></tr></tbody></table></div>"
      ]
     },
     "metadata": {},
     "output_type": "display_data"
    }
   ],
   "source": [
    "sqlCmd = \"SELECT count(*) FROM delta.`{}` \".format(deltaDataPath)\n",
    "display(spark.sql(sqlCmd))"
   ]
  },
  {
   "cell_type": "markdown",
   "metadata": {},
   "source": [
    "##  The Transaction Log (Metadata)\n",
    "Databricks Delta stores the schema, partitioning info and other table properties in the same place as the data:\n",
    " * The schema and partition info is located in the `00000000000000000000.json` file under the `_delta_log` directory as shown below.\n",
    " * Subsequent `write` operations create additional `json` files.\n",
    " * In addition to the schema, the `json` file(s) contain information such as\n",
    "   - Which files were added.\n",
    "   - Which files were removed.\n",
    "   - Transaction IDs.\n",
    " * Each Delta table should correspond to a unique `_delta_log` directory."
   ]
  },
  {
   "cell_type": "code",
   "execution_count": 26,
   "metadata": {},
   "outputs": [
    {
     "data": {
      "text/html": [
       "<style scoped>\n",
       "  .ansiout {\n",
       "    display: block;\n",
       "    unicode-bidi: embed;\n",
       "    white-space: pre-wrap;\n",
       "    word-wrap: break-word;\n",
       "    word-break: break-all;\n",
       "    font-family: \"Source Code Pro\", \"Menlo\", monospace;;\n",
       "    font-size: 13px;\n",
       "    color: #555;\n",
       "    margin-left: 4px;\n",
       "    line-height: 19px;\n",
       "  }\n",
       "</style>\n",
       "<div class=\"ansiout\">Out[39]: &#39;{&#34;commitInfo&#34;:{&#34;timestamp&#34;:1586939991260,&#34;userId&#34;:&#34;6416048947235169&#34;,&#34;userName&#34;:&#34;jose.manuel.bustos.munoz@everis.com&#34;,&#34;operation&#34;:&#34;WRITE&#34;,&#34;operationParameters&#34;:{&#34;mode&#34;:&#34;Overwrite&#34;,&#34;partitionBy&#34;:&#34;[\\\\&#34;Country\\\\&#34;]&#34;},&#34;notebook&#34;:{&#34;notebookId&#34;:&#34;3227357976395175&#34;},&#34;clusterId&#34;:&#34;0415-064629-sign74&#34;,&#34;isolationLevel&#34;:&#34;WriteSerializable&#34;,&#34;isBlindAppend&#34;:false}}\\n{&#34;protocol&#34;:{&#34;minReaderVersion&#34;:1,&#34;minWriterVersion&#34;:2}}\\n{&#34;metaData&#34;:{&#34;id&#34;:&#34;74d08d98-36cc-43b9-aeff-b4f5993c0a27&#34;,&#34;format&#34;:{&#34;provider&#34;:&#34;parquet&#34;,&#34;options&#34;:{}},&#34;schemaString&#34;:&#34;{\\\\&#34;type\\\\&#34;:\\\\&#34;struct\\\\&#34;,\\\\&#34;fields\\\\&#34;:[{\\\\&#34;name\\\\&#34;:\\\\&#34;InvoiceNo\\\\&#34;,\\\\&#34;type\\\\&#34;:\\\\&#34;string\\\\&#34;,\\\\&#34;nullable\\\\&#34;:true,\\\\&#34;metadata\\\\&#34;:{}},{\\\\&#34;name\\\\&#34;:\\\\&#34;StockCode\\\\&#34;,\\\\&#34;type\\\\&#34;:\\\\&#34;string\\\\&#34;,\\\\&#34;nullable\\\\&#34;:true,\\\\&#34;metadata\\\\&#34;:{}},{\\\\&#34;name\\\\&#34;:\\\\&#34;Description\\\\&#34;,\\\\&#34;type\\\\&#34;:\\\\&#34;string\\\\&#34;,\\\\&#34;nullable\\\\&#34;:true,\\\\&#34;metadata\\\\&#34;:{}},{\\\\&#34;name\\\\&#34;:\\\\&#34;Quantity\\\\&#34;,\\\\&#34;type\\\\&#34;:\\\\&#34;integer\\\\&#34;,\\\\&#34;nullable\\\\&#34;:true,\\\\&#34;metadata\\\\&#34;:{}},{\\\\&#34;name\\\\&#34;:\\\\&#34;InvoiceDate\\\\&#34;,\\\\&#34;type\\\\&#34;:\\\\&#34;string\\\\&#34;,\\\\&#34;nullable\\\\&#34;:true,\\\\&#34;metadata\\\\&#34;:{}},{\\\\&#34;name\\\\&#34;:\\\\&#34;UnitPrice\\\\&#34;,\\\\&#34;type\\\\&#34;:\\\\&#34;double\\\\&#34;,\\\\&#34;nullable\\\\&#34;:true,\\\\&#34;metadata\\\\&#34;:{}},{\\\\&#34;name\\\\&#34;:\\\\&#34;CustomerID\\\\&#34;,\\\\&#34;type\\\\&#34;:\\\\&#34;integer\\\\&#34;,\\\\&#34;nullable\\\\&#34;:true,\\\\&#34;metadata\\\\&#34;:{}},{\\\\&#34;name\\\\&#34;:\\\\&#34;Country\\\\&#34;,\\\\&#34;type\\\\&#34;:\\\\&#34;string\\\\&#34;,\\\\&#34;nullable\\\\&#34;:true,\\\\&#34;metadata\\\\&#34;:{}}]}&#34;,&#34;partitionColumns&#34;:[&#34;Country&#34;],&#34;configuration&#34;:{},&#34;createdTime&#34;:1586939975766}}\\n{&#34;add&#34;:{&#34;path&#34;:&#34;Country=Australia/part-00000-e62c0524-8b26-436f-a30f-7cf883a8a433.c000.snappy.parquet&#34;,&#34;partitionValues&#34;:{&#34;Country&#34;:&#34;Australia&#34;},&#34;size&#34;:4580,&#34;modificationTime&#34;:1586939978000,&#34;dataChange&#34;:true,&#34;stats&#34;:&#34;{\\\\&#34;numRecords\\\\&#34;:84,\\\\&#34;minValues\\\\&#34;:{\\\\&#34;InvoiceNo\\\\&#34;:\\\\&#34;536389\\\\&#34;,\\\\&#34;StockCode\\\\&#34;:\\\\&#34;20675\\\\&#34;,\\\\&#34;Description\\\\&#34;:\\\\&#34;20 DOLLY PEGS RETROSPOT\\\\&#34;,\\\\&#34;Quantity\\\\&#34;:-7,\\\\&#34;InvoiceDate\\\\&#34;:\\\\&#34;1/10/11 9:58\\\\&#34;,\\\\&#34;UnitPrice\\\\&#34;:0.36,\\\\&#34;CustomerID\\\\&#34;:12386},\\\\&#34;maxValues\\\\&#34;:{\\\\&#34;InvoiceNo\\\\&#34;:\\\\&#34;C538723\\\\&#34;,\\\\&#34;StockCode\\\\&#34;:\\\\&#34;85099B\\\\&#34;,\\\\&#34;Description\\\\&#34;:\\\\&#34;WALL TIDY RETROSPOT \\\\&#34;,\\\\&#34;Quantity\\\\&#34;:576,\\\\&#34;InvoiceDate\\\\&#34;:\\\\&#34;12/8/10 9:53\\\\&#34;,\\\\&#34;UnitPrice\\\\&#34;:9.95,\\\\&#34;CustomerID\\\\&#34;:12434},\\\\&#34;nullCount\\\\&#34;:{\\\\&#34;InvoiceNo\\\\&#34;:0,\\\\&#34;StockCode\\\\&#34;:0,\\\\&#34;Description\\\\&#34;:0,\\\\&#34;Quantity\\\\&#34;:0,\\\\&#34;InvoiceDate\\\\&#34;:0,\\\\&#34;UnitPrice\\\\&#34;:0,\\\\&#34;CustomerID\\\\&#34;:0}}&#34;}}\\n{&#34;add&#34;:{&#34;path&#34;:&#34;Country=Austria/part-00000-13fba671-3d25-4fba-83ae-bdd7a5d65d44.c000.snappy.parquet&#34;,&#34;partitionValues&#34;:{&#34;Country&#34;:&#34;Austria&#34;},&#34;size&#34;:2442,&#34;modificationTime&#34;:1586939978000,&#34;dataChange&#34;:true,&#34;stats&#34;:&#34;{\\\\&#34;numRecords\\\\&#34;:9,\\\\&#34;minValues\\\\&#34;:{\\\\&#34;InvoiceNo\\\\&#34;:\\\\&#34;539330\\\\&#34;,\\\\&#34;StockCode\\\\&#34;:\\\\&#34;21428\\\\&#34;,\\\\&#34;Description\\\\&#34;:\\\\&#34;ANGEL DECORATION STARS ON DRESS\\\\&#34;,\\\\&#34;Quantity\\\\&#34;:-48,\\\\&#34;InvoiceDate\\\\&#34;:\\\\&#34;12/15/10 11:39\\\\&#34;,\\\\&#34;UnitPrice\\\\&#34;:0.42,\\\\&#34;CustomerID\\\\&#34;:12370},\\\\&#34;maxValues\\\\&#34;:{\\\\&#34;InvoiceNo\\\\&#34;:\\\\&#34;C538971\\\\&#34;,\\\\&#34;StockCode\\\\&#34;:\\\\&#34;POST\\\\&#34;,\\\\&#34;Description\\\\&#34;:\\\\&#34;SET3 BOOK BOX GREEN GINGHAM FLOW�\\\\&#34;,\\\\&#34;Quantity\\\\&#34;:12,\\\\&#34;InvoiceDate\\\\&#34;:\\\\&#34;12/17/10 9:38\\\\&#34;,\\\\&#34;UnitPrice\\\\&#34;:40.0,\\\\&#34;CustomerID\\\\&#34;:12865},\\\\&#34;nullCount\\\\&#34;:{\\\\&#34;InvoiceNo\\\\&#34;:0,\\\\&#34;StockCode\\\\&#34;:0,\\\\&#34;Description\\\\&#34;:0,\\\\&#34;Quantity\\\\&#34;:0,\\\\&#34;InvoiceDate\\\\&#34;:0,\\\\&#34;UnitPrice\\\\&#34;:0,\\\\&#34;CustomerID\\\\&#34;:0}}&#34;}}\\n{&#34;add&#34;:{&#34;path&#34;:&#34;Country=Bahrain/part-00000-97d8db9c-72c8-48ec-9f45-11b57fcec1f8.c000.snappy.parquet&#34;,&#34;partitionValues&#34;:{&#34;Country&#34;:&#34;Bahrain&#34;},&#34;size&#34;:2220,&#34;modificationTime&#34;:1586939979000,&#34;dataChange&#34;:true,&#34;stats&#34;:&#34;{\\\\&#34;numRecords\\\\&#34;:2,\\\\&#34;minValues\\\\&#34;:{\\\\&#34;InvoiceNo\\\\&#34;:\\\\&#34;539500\\\\&#34;,\\\\&#34;StockCode\\\\&#34;:\\\\&#34;72802B\\\\&#34;,\\\\&#34;Description\\\\&#34;:\\\\&#34;OCEAN SCENT CANDLE IN JEWELLED B\\\\&#34;,\\\\&#34;Quantity\\\\&#34;:-54,\\\\&#34;InvoiceDate\\\\&#34;:\\\\&#34;1/5/11 11:31\\\\&#34;,\\\\&#34;UnitPrice\\\\&#34;:3.81},\\\\&#34;maxValues\\\\&#34;:{\\\\&#34;InvoiceNo\\\\&#34;:\\\\&#34;C540155\\\\&#34;,\\\\&#34;StockCode\\\\&#34;:\\\\&#34;72802B\\\\&#34;,\\\\&#34;Description\\\\&#34;:\\\\&#34;OCEAN SCENT CANDLE IN JEWELLED B�\\\\&#34;,\\\\&#34;Quantity\\\\&#34;:54,\\\\&#34;InvoiceDate\\\\&#34;:\\\\&#34;12/20/10 11:02\\\\&#34;,\\\\&#34;UnitPrice\\\\&#34;:3.81},\\\\&#34;nullCount\\\\&#34;:{\\\\&#34;InvoiceNo\\\\&#34;:0,\\\\&#34;StockCode\\\\&#34;:0,\\\\&#34;Description\\\\&#34;:0,\\\\&#34;Quantity\\\\&#34;:0,\\\\&#34;InvoiceDate\\\\&#34;:0,\\\\&#34;UnitPrice\\\\&#34;:0,\\\\&#34;CustomerID\\\\&#34;:2}}&#34;}}\\n{&#34;add&#34;:{&#34;path&#34;:&#34;Country=Belgium/part-00000-72be42a1-2728-4d44-b1ba-0064f7c3987e.c000.snappy.parquet&#34;,&#34;partitionValues&#34;:{&#34;Country&#34;:&#34;Belgium&#34;},&#34;size&#34;:4899,&#34;modificationTime&#34;:1586939979000,&#34;dataChange&#34;:true,&#34;stats&#34;:&#34;{\\\\&#34;numRecords\\\\&#34;:99,\\\\&#34;minValues\\\\&#34;:{\\\\&#34;InvoiceNo\\\\&#34;:\\\\&#34;537026\\\\&#34;,\\\\&#34;StockCode\\\\&#34;:\\\\&#34;16045\\\\&#34;,\\\\&#34;Description\\\\&#34;:\\\\&#34;12 PENCIL SMALL TUBE WOODLAND\\\\&#34;,\\\\&#34;Quantity\\\\&#34;:-3,\\\\&#34;InvoiceDate\\\\&#34;:\\\\&#34;1/5/11 11:21\\\\&#34;,\\\\&#34;UnitPrice\\\\&#34;:0.12,\\\\&#34;CustomerID\\\\&#34;:12383},\\\\&#34;maxValues\\\\&#34;:{\\\\&#34;InvoiceNo\\\\&#34;:\\\\&#34;C540386\\\\&#34;,\\\\&#34;StockCode\\\\&#34;:\\\\&#34;POST\\\\&#34;,\\\\&#34;Description\\\\&#34;:\\\\&#34;WOODLAND CHARLOTTE BAG\\\\&#34;,\\\\&#34;Quantity\\\\&#34;:120,\\\\&#34;InvoiceDate\\\\&#34;:\\\\&#34;12/3/10 16:35\\\\&#34;,\\\\&#34;UnitPrice\\\\&#34;:18.0,\\\\&#34;CustomerID\\\\&#34;:12423},\\\\&#34;nullCount\\\\&#34;:{\\\\&#34;InvoiceNo\\\\&#34;:0,\\\\&#34;StockCode\\\\&#34;:0,\\\\&#34;Description\\\\&#34;:0,\\\\&#34;Quantity\\\\&#34;:0,\\\\&#34;InvoiceDate\\\\&#34;:0,\\\\&#34;UnitPrice\\\\&#34;:0,\\\\&#34;CustomerID\\\\&#34;:0}}&#34;}}\\n{&#34;add&#34;:{&#34;path&#34;:&#34;Country=Channel%20Islands/part-00000-f23c83bb-9f5e-4a89-8999-c63f9d9d5408.c000.snappy.parquet&#34;,&#34;partitionValues&#34;:{&#34;Country&#34;:&#34;Channel Islands&#34;},&#34;size&#34;:2687,&#34;modificationTime&#34;:1586939980000,&#34;dataChange&#34;:true,&#34;stats&#34;:&#34;{\\\\&#34;numRecords\\\\&#34;:17,\\\\&#34;minValues\\\\&#34;:{\\\\&#34;InvoiceNo\\\\&#34;:\\\\&#34;538002\\\\&#34;,\\\\&#34;StockCode\\\\&#34;:\\\\&#34;20685\\\\&#34;,\\\\&#34;Description\\\\&#34;:\\\\&#34;CARRIAGE\\\\&#34;,\\\\&#34;Quantity\\\\&#34;:1,\\\\&#34;InvoiceDate\\\\&#34;:\\\\&#34;12/9/10 11:48\\\\&#34;,\\\\&#34;UnitPrice\\\\&#34;:1.25,\\\\&#34;CustomerID\\\\&#34;:14932},\\\\&#34;maxValues\\\\&#34;:{\\\\&#34;InvoiceNo\\\\&#34;:\\\\&#34;538002\\\\&#34;,\\\\&#34;StockCode\\\\&#34;:\\\\&#34;C2\\\\&#34;,\\\\&#34;Description\\\\&#34;:\\\\&#34;YOU\\&#39;RE CONFUSING ME METAL SIGN \\\\&#34;,\\\\&#34;Quantity\\\\&#34;:24,\\\\&#34;InvoiceDate\\\\&#34;:\\\\&#34;12/9/10 11:48\\\\&#34;,\\\\&#34;UnitPrice\\\\&#34;:50.0,\\\\&#34;CustomerID\\\\&#34;:14932},\\\\&#34;nullCount\\\\&#34;:{\\\\&#34;InvoiceNo\\\\&#34;:0,\\\\&#34;StockCode\\\\&#34;:0,\\\\&#34;Description\\\\&#34;:0,\\\\&#34;Quantity\\\\&#34;:0,\\\\&#34;InvoiceDate\\\\&#34;:0,\\\\&#34;UnitPrice\\\\&#34;:0,\\\\&#34;CustomerID\\\\&#34;:0}}&#34;}}\\n{&#34;add&#34;:{&#34;path&#34;:&#34;Country=Cyprus/part-00000-4cdfde00-eb81-44d0-a517-4113bf7a809c.c000.snappy.parquet&#34;,&#34;partitionValues&#34;:{&#34;Country&#34;:&#34;Cyprus&#34;},&#34;size&#34;:4319,&#34;modificationTime&#34;:1586939980000,&#34;dataChange&#34;:true,&#34;stats&#34;:&#34;{\\\\&#34;numRecords\\\\&#34;:83,\\\\&#34;minValues\\\\&#34;:{\\\\&#34;InvoiceNo\\\\&#34;:\\\\&#34;538826\\\\&#34;,\\\\&#34;StockCode\\\\&#34;:\\\\&#34;18097C\\\\&#34;,\\\\&#34;Description\\\\&#34;:\\\\&#34;12 PENCILS SMALL TUBE SKULL\\\\&#34;,\\\\&#34;Quantity\\\\&#34;:1,\\\\&#34;InvoiceDate\\\\&#34;:\\\\&#34;12/14/10 12:58\\\\&#34;,\\\\&#34;UnitPrice\\\\&#34;:0.65,\\\\&#34;CustomerID\\\\&#34;:12370},\\\\&#34;maxValues\\\\&#34;:{\\\\&#34;InvoiceNo\\\\&#34;:\\\\&#34;538826\\\\&#34;,\\\\&#34;StockCode\\\\&#34;:\\\\&#34;85195\\\\&#34;,\\\\&#34;Description\\\\&#34;:\\\\&#34;ZINC HEART LATTICE T-LIGHT HOLDE�\\\\&#34;,\\\\&#34;Quantity\\\\&#34;:96,\\\\&#34;InvoiceDate\\\\&#34;:\\\\&#34;12/14/10 12:58\\\\&#34;,\\\\&#34;UnitPrice\\\\&#34;:6.75,\\\\&#34;CustomerID\\\\&#34;:12370},\\\\&#34;nullCount\\\\&#34;:{\\\\&#34;InvoiceNo\\\\&#34;:0,\\\\&#34;StockCode\\\\&#34;:0,\\\\&#34;Description\\\\&#34;:0,\\\\&#34;Quantity\\\\&#34;:0,\\\\&#34;InvoiceDate\\\\&#34;:0,\\\\&#34;UnitPrice\\\\&#34;:0,\\\\&#34;CustomerID\\\\&#34;:0}}&#34;}}\\n{&#34;add&#34;:{&#34;path&#34;:&#34;Country=Denmark/part-00000-eeb610d8-7202-4b4a-9041-ab8b4a6b039b.c000.snappy.parquet&#34;,&#34;partitionValues&#34;:{&#34;Country&#34;:&#34;Denmark&#34;},&#34;size&#34;:2838,&#34;modificationTime&#34;:1586939980000,&#34;dataChange&#34;:true,&#34;stats&#34;:&#34;{\\\\&#34;numRecords\\\\&#34;:20,\\\\&#34;minValues\\\\&#34;:{\\\\&#34;InvoiceNo\\\\&#34;:\\\\&#34;538003\\\\&#34;,\\\\&#34;StockCode\\\\&#34;:\\\\&#34;22326\\\\&#34;,\\\\&#34;Description\\\\&#34;:\\\\&#34;20 DOLLY PEGS RETROSPOT\\\\&#34;,\\\\&#34;Quantity\\\\&#34;:2,\\\\&#34;InvoiceDate\\\\&#34;:\\\\&#34;12/9/10 12:05\\\\&#34;,\\\\&#34;UnitPrice\\\\&#34;:0.42,\\\\&#34;CustomerID\\\\&#34;:12429},\\\\&#34;maxValues\\\\&#34;:{\\\\&#34;InvoiceNo\\\\&#34;:\\\\&#34;538003\\\\&#34;,\\\\&#34;StockCode\\\\&#34;:\\\\&#34;POST\\\\&#34;,\\\\&#34;Description\\\\&#34;:\\\\&#34;WOODLAND PARTY BAG + STICKER SET�\\\\&#34;,\\\\&#34;Quantity\\\\&#34;:120,\\\\&#34;InvoiceDate\\\\&#34;:\\\\&#34;12/9/10 12:05\\\\&#34;,\\\\&#34;UnitPrice\\\\&#34;:18.0,\\\\&#34;CustomerID\\\\&#34;:12429},\\\\&#34;nullCount\\\\&#34;:{\\\\&#34;InvoiceNo\\\\&#34;:0,\\\\&#34;StockCode\\\\&#34;:0,\\\\&#34;Description\\\\&#34;:0,\\\\&#34;Quantity\\\\&#34;:0,\\\\&#34;InvoiceDate\\\\&#34;:0,\\\\&#34;UnitPrice\\\\&#34;:0,\\\\&#34;CustomerID\\\\&#34;:0}}&#34;}}\\n{&#34;add&#34;:{&#34;path&#34;:&#34;Country=EIRE/part-00000-f62a7af5-4a1a-444a-9700-70e01e385719.c000.snappy.parquet&#34;,&#34;partitionValues&#34;:{&#34;Country&#34;:&#34;EIRE&#34;},&#34;size&#34;:11905,&#34;modificationTime&#34;:1586939981000,&#34;dataChange&#34;:true,&#34;stats&#34;:&#34;{\\\\&#34;numRecords\\\\&#34;:432,\\\\&#34;minValues\\\\&#34;:{\\\\&#34;InvoiceNo\\\\&#34;:\\\\&#34;536540\\\\&#34;,\\\\&#34;StockCode\\\\&#34;:\\\\&#34;10002\\\\&#34;,\\\\&#34;Description\\\\&#34;:\\\\&#34;\\\\\\\\\\\\&#34;CHARLIE+LOLA\\\\\\\\\\\\&#34;\\\\\\\\\\\\&#34;EXTREMELY BUSY\\\\\\\\\\\\&#34;\\\\\\\\\\\\&#34; \\\\&#34;,\\\\&#34;Quantity\\\\&#34;:-96,\\\\&#34;InvoiceDate\\\\&#34;:\\\\&#34;1/10/11 10:07\\\\&#34;,\\\\&#34;UnitPrice\\\\&#34;:0.0,\\\\&#34;CustomerID\\\\&#34;:14016},\\\\&#34;maxValues\\\\&#34;:{\\\\&#34;InvoiceNo\\\\&#34;:\\\\&#34;C540559\\\\&#34;,\\\\&#34;StockCode\\\\&#34;:\\\\&#34;C2\\\\&#34;,\\\\&#34;Description\\\\&#34;:\\\\&#34;ZINC WILLIE WINKIE  CANDLE STICK�\\\\&#34;,\\\\&#34;Quantity\\\\&#34;:1440,\\\\&#34;InvoiceDate\\\\&#34;:\\\\&#34;12/9/10 12:17\\\\&#34;,\\\\&#34;UnitPrice\\\\&#34;:65.0,\\\\&#34;CustomerID\\\\&#34;:14911},\\\\&#34;nullCount\\\\&#34;:{\\\\&#34;InvoiceNo\\\\&#34;:0,\\\\&#34;StockCode\\\\&#34;:0,\\\\&#34;Description\\\\&#34;:0,\\\\&#34;Quantity\\\\&#34;:0,\\\\&#34;InvoiceDate\\\\&#34;:0,\\\\&#34;UnitPrice\\\\&#34;:0,\\\\&#34;CustomerID\\\\&#34;:42}}&#34;}}\\n{&#34;add&#34;:{&#34;path&#34;:&#34;Country=Finland/part-00000-1b2d2695-f491-48b3-9d72-7ae84b70c218.c000.snappy.parquet&#34;,&#34;partitionValues&#34;:{&#34;Country&#34;:&#34;Finland&#34;},&#34;size&#34;:2649,&#34;modificationTime&#34;:1586939981000,&#34;dataChange&#34;:true,&#34;stats&#34;:&#34;{\\\\&#34;numRecords\\\\&#34;:17,\\\\&#34;minValues\\\\&#34;:{\\\\&#34;InvoiceNo\\\\&#34;:\\\\&#34;539318\\\\&#34;,\\\\&#34;StockCode\\\\&#34;:\\\\&#34;21211\\\\&#34;,\\\\&#34;Description\\\\&#34;:\\\\&#34;60 CAKE CASES DOLLY GIRL DESIGN\\\\&#34;,\\\\&#34;Quantity\\\\&#34;:6,\\\\&#34;InvoiceDate\\\\&#34;:\\\\&#34;12/16/10 19:09\\\\&#34;,\\\\&#34;UnitPrice\\\\&#34;:0.29,\\\\&#34;CustomerID\\\\&#34;:12348},\\\\&#34;maxValues\\\\&#34;:{\\\\&#34;InvoiceNo\\\\&#34;:\\\\&#34;539318\\\\&#34;,\\\\&#34;StockCode\\\\&#34;:\\\\&#34;POST\\\\&#34;,\\\\&#34;Description\\\\&#34;:\\\\&#34;SWEETIES  STICKERS\\\\&#34;,\\\\&#34;Quantity\\\\&#34;:144,\\\\&#34;InvoiceDate\\\\&#34;:\\\\&#34;12/16/10 19:09\\\\&#34;,\\\\&#34;UnitPrice\\\\&#34;:40.0,\\\\&#34;CustomerID\\\\&#34;:12348},\\\\&#34;nullCount\\\\&#34;:{\\\\&#34;InvoiceNo\\\\&#34;:0,\\\\&#34;StockCode\\\\&#34;:0,\\\\&#34;Description\\\\&#34;:0,\\\\&#34;Quantity\\\\&#34;:0,\\\\&#34;InvoiceDate\\\\&#34;:0,\\\\&#34;UnitPrice\\\\&#34;:0,\\\\&#34;CustomerID\\\\&#34;:0}}&#34;}}\\n{&#34;add&#34;:{&#34;path&#34;:&#34;Country=France/part-00000-8c047bcf-efa5-4cc1-8460-062879fe1002.c000.snappy.parquet&#34;,&#34;partitionValues&#34;:{&#34;Country&#34;:&#34;France&#34;},&#34;size&#34;:13678,&#34;modificationTime&#34;:1586939982000,&#34;dataChange&#34;:true,&#34;stats&#34;:&#34;{\\\\&#34;numRecords\\\\&#34;:658,\\\\&#34;minValues\\\\&#34;:{\\\\&#34;InvoiceNo\\\\&#34;:\\\\&#34;536370\\\\&#34;,\\\\&#34;StockCode\\\\&#34;:\\\\&#34;10002\\\\&#34;,\\\\&#34;Description\\\\&#34;:\\\\&#34; SET 2 TEA TOWELS I LOVE LONDON \\\\&#34;,\\\\&#34;Quantity\\\\&#34;:-3,\\\\&#34;InvoiceDate\\\\&#34;:\\\\&#34;1/10/11 13:22\\\\&#34;,\\\\&#34;UnitPrice\\\\&#34;:0.19,\\\\&#34;CustomerID\\\\&#34;:12413},\\\\&#34;maxValues\\\\&#34;:{\\\\&#34;InvoiceNo\\\\&#34;:\\\\&#34;C540367\\\\&#34;,\\\\&#34;StockCode\\\\&#34;:\\\\&#34;POST\\\\&#34;,\\\\&#34;Description\\\\&#34;:\\\\&#34;ZINC METAL HEART DECORATION\\\\&#34;,\\\\&#34;Quantity\\\\&#34;:192,\\\\&#34;InvoiceDate\\\\&#34;:\\\\&#34;12/9/10 14:49\\\\&#34;,\\\\&#34;UnitPrice\\\\&#34;:150.0,\\\\&#34;CustomerID\\\\&#34;:12735},\\\\&#34;nullCount\\\\&#34;:{\\\\&#34;InvoiceNo\\\\&#34;:0,\\\\&#34;StockCode\\\\&#34;:0,\\\\&#34;Description\\\\&#34;:0,\\\\&#34;Quantity\\\\&#34;:0,\\\\&#34;InvoiceDate\\\\&#34;:0,\\\\&#34;UnitPrice\\\\&#34;:0,\\\\&#34;CustomerID\\\\&#34;:0}}&#34;}}\\n{&#34;add&#34;:{&#34;path&#34;:&#34;Country=Germany/part-00000-4e8f491d-3652-4ffc-b8ac-fcb9e9a8660f.c000.snappy.parquet&#34;,&#34;partitionValues&#34;:{&#34;Country&#34;:&#34;Germany&#34;},&#34;size&#34;:16760,&#34;modificationTime&#34;:1586939982000,&#34;dataChange&#34;:true,&#34;stats&#34;:&#34;{\\\\&#34;numRecords\\\\&#34;:833,\\\\&#34;minValues\\\\&#34;:{\\\\&#34;InvoiceNo\\\\&#34;:\\\\&#34;536527\\\\&#34;,\\\\&#34;StockCode\\\\&#34;:\\\\&#34;10125\\\\&#34;,\\\\&#34;Description\\\\&#34;:\\\\&#34;12 IVORY ROSE PEG PLACE SETTINGS\\\\&#34;,\\\\&#34;Quantity\\\\&#34;:-21,\\\\&#34;InvoiceDate\\\\&#34;:\\\\&#34;1/10/11 10:35\\\\&#34;,\\\\&#34;UnitPrice\\\\&#34;:0.0,\\\\&#34;CustomerID\\\\&#34;:12427},\\\\&#34;maxValues\\\\&#34;:{\\\\&#34;InvoiceNo\\\\&#34;:\\\\&#34;C540643\\\\&#34;,\\\\&#34;StockCode\\\\&#34;:\\\\&#34;POST\\\\&#34;,\\\\&#34;Description\\\\&#34;:\\\\&#34;WRAP, BILLBOARD FONTS DESIGN\\\\&#34;,\\\\&#34;Quantity\\\\&#34;:144,\\\\&#34;InvoiceDate\\\\&#34;:\\\\&#34;12/9/10 15:41\\\\&#34;,\\\\&#34;UnitPrice\\\\&#34;:34.95,\\\\&#34;CustomerID\\\\&#34;:13817},\\\\&#34;nullCount\\\\&#34;:{\\\\&#34;InvoiceNo\\\\&#34;:0,\\\\&#34;StockCode\\\\&#34;:0,\\\\&#34;Description\\\\&#34;:0,\\\\&#34;Quantity\\\\&#34;:0,\\\\&#34;InvoiceDate\\\\&#34;:0,\\\\&#34;UnitPrice\\\\&#34;:0,\\\\&#34;CustomerID\\\\&#34;:0}}&#34;}}\\n{&#34;add&#34;:{&#34;path&#34;:&#34;Country=Iceland/part-00000-392d7cd3-1d86-4c12-b9fd-c0ea25285a37.c000.snappy.parquet&#34;,&#34;partitionValues&#34;:{&#34;Country&#34;:&#34;Iceland&#34;},&#34;size&#34;:3115,&#34;modificationTime&#34;:1586939983000,&#34;dataChange&#34;:true,&#34;stats&#34;:&#34;{\\\\&#34;numRecords\\\\&#34;:31,\\\\&#34;minValues\\\\&#34;:{\\\\&#34;InvoiceNo\\\\&#34;:\\\\&#34;537626\\\\&#34;,\\\\&#34;StockCode\\\\&#34;:\\\\&#34;20780\\\\&#34;,\\\\&#34;Description\\\\&#34;:\\\\&#34;3D DOG PICTURE PLAYING CARDS\\\\&#34;,\\\\&#34;Quantity\\\\&#34;:3,\\\\&#34;InvoiceDate\\\\&#34;:\\\\&#34;12/7/10 14:57\\\\&#34;,\\\\&#34;UnitPrice\\\\&#34;:0.65,\\\\&#34;CustomerID\\\\&#34;:12347},\\\\&#34;maxValues\\\\&#34;:{\\\\&#34;InvoiceNo\\\\&#34;:\\\\&#34;537626\\\\&#34;,\\\\&#34;StockCode\\\\&#34;:\\\\&#34;85232D\\\\&#34;,\\\\&#34;Description\\\\&#34;:\\\\&#34;SET/3 DECOUPAGE STACKING TINS\\\\&#34;,\\\\&#34;Quantity\\\\&#34;:36,\\\\&#34;InvoiceDate\\\\&#34;:\\\\&#34;12/7/10 14:57\\\\&#34;,\\\\&#34;UnitPrice\\\\&#34;:5.95,\\\\&#34;CustomerID\\\\&#34;:12347},\\\\&#34;nullCount\\\\&#34;:{\\\\&#34;InvoiceNo\\\\&#34;:0,\\\\&#34;StockCode\\\\&#34;:0,\\\\&#34;Description\\\\&#34;:0,\\\\&#34;Quantity\\\\&#34;:0,\\\\&#34;InvoiceDate\\\\&#34;:0,\\\\&#34;UnitPrice\\\\&#34;:0,\\\\&#34;CustomerID\\\\&#34;:0}}&#34;}}\\n{&#34;add&#34;:{&#34;path&#34;:&#34;Country=Israel/part-00000-cc97ac53-f1ba-454f-bea6-3b46b47df713.c000.snappy.parquet&#34;,&#34;partitionValues&#34;:{&#34;Country&#34;:&#34;Israel&#34;},&#34;size&#34;:2706,&#34;modificationTime&#34;:1586939983000,&#34;dataChange&#34;:true,&#34;stats&#34;:&#34;{\\\\&#34;numRecords\\\\&#34;:16,\\\\&#34;minValues\\\\&#34;:{\\\\&#34;InvoiceNo\\\\&#34;:\\\\&#34;540556\\\\&#34;,\\\\&#34;StockCode\\\\&#34;:\\\\&#34;21115\\\\&#34;,\\\\&#34;Description\\\\&#34;:\\\\&#34;BABUSHKA LIGHTS STRING OF 10\\\\&#34;,\\\\&#34;Quantity\\\\&#34;:-32,\\\\&#34;InvoiceDate\\\\&#34;:\\\\&#34;1/10/11 9:58\\\\&#34;,\\\\&#34;UnitPrice\\\\&#34;:1.25,\\\\&#34;CustomerID\\\\&#34;:12666},\\\\&#34;maxValues\\\\&#34;:{\\\\&#34;InvoiceNo\\\\&#34;:\\\\&#34;C539037\\\\&#34;,\\\\&#34;StockCode\\\\&#34;:\\\\&#34;84792\\\\&#34;,\\\\&#34;Description\\\\&#34;:\\\\&#34;SPACEBOY TV DINNER TRAY\\\\&#34;,\\\\&#34;Quantity\\\\&#34;:16,\\\\&#34;InvoiceDate\\\\&#34;:\\\\&#34;12/15/10 14:42\\\\&#34;,\\\\&#34;UnitPrice\\\\&#34;:7.65,\\\\&#34;CustomerID\\\\&#34;:12666},\\\\&#34;nullCount\\\\&#34;:{\\\\&#34;InvoiceNo\\\\&#34;:0,\\\\&#34;StockCode\\\\&#34;:0,\\\\&#34;Description\\\\&#34;:0,\\\\&#34;Quantity\\\\&#34;:0,\\\\&#34;InvoiceDate\\\\&#34;:0,\\\\&#34;UnitPrice\\\\&#34;:0,\\\\&#34;CustomerID\\\\&#34;:14}}&#34;}}\\n{&#34;add&#34;:{&#34;path&#34;:&#34;Country=Italy/part-00000-77bf5abb-9938-4357-bd76-635f68ada37b.c000.snappy.parquet&#34;,&#34;partitionValues&#34;:{&#34;Country&#34;:&#34;Italy&#34;},&#34;size&#34;:3557,&#34;modificationTime&#34;:1586939983000,&#34;dataChange&#34;:true,&#34;stats&#34;:&#34;{\\\\&#34;numRecords\\\\&#34;:42,\\\\&#34;minValues\\\\&#34;:{\\\\&#34;InvoiceNo\\\\&#34;:\\\\&#34;537022\\\\&#34;,\\\\&#34;StockCode\\\\&#34;:\\\\&#34;15036\\\\&#34;,\\\\&#34;Description\\\\&#34;:\\\\&#34;3 GARDENIA MORRIS BOXED CANDLES\\\\&#34;,\\\\&#34;Quantity\\\\&#34;:-3,\\\\&#34;InvoiceDate\\\\&#34;:\\\\&#34;1/5/11 10:46\\\\&#34;,\\\\&#34;UnitPrice\\\\&#34;:0.55,\\\\&#34;CustomerID\\\\&#34;:12515},\\\\&#34;maxValues\\\\&#34;:{\\\\&#34;InvoiceNo\\\\&#34;:\\\\&#34;C540129\\\\&#34;,\\\\&#34;StockCode\\\\&#34;:\\\\&#34;POST\\\\&#34;,\\\\&#34;Description\\\\&#34;:\\\\&#34;T-LIGHT GLASS FLUTED ANTIQUE\\\\&#34;,\\\\&#34;Quantity\\\\&#34;:24,\\\\&#34;InvoiceDate\\\\&#34;:\\\\&#34;12/6/10 9:31\\\\&#34;,\\\\&#34;UnitPrice\\\\&#34;:35.0,\\\\&#34;CustomerID\\\\&#34;:12725},\\\\&#34;nullCount\\\\&#34;:{\\\\&#34;InvoiceNo\\\\&#34;:0,\\\\&#34;StockCode\\\\&#34;:0,\\\\&#34;Description\\\\&#34;:0,\\\\&#34;Quantity\\\\&#34;:0,\\\\&#34;InvoiceDate\\\\&#34;:0,\\\\&#34;UnitPrice\\\\&#34;:0,\\\\&#34;CustomerID\\\\&#34;:0}}&#34;}}\\n{&#34;add&#34;:{&#34;path&#34;:&#34;Country=Japan/part-00000-e9d42e87-defd-4922-a2f9-c7c598d6ef69.c000.snappy.parquet&#34;,&#34;partitionValues&#34;:{&#34;Country&#34;:&#34;Japan&#34;},&#34;size&#34;:4201,&#34;modificationTime&#34;:1586939984000,&#34;dataChange&#34;:true,&#34;stats&#34;:&#34;{\\\\&#34;numRecords\\\\&#34;:69,\\\\&#34;minValues\\\\&#34;:{\\\\&#34;InvoiceNo\\\\&#34;:\\\\&#34;537218\\\\&#34;,\\\\&#34;StockCode\\\\&#34;:\\\\&#34;21078\\\\&#34;,\\\\&#34;Description\\\\&#34;:\\\\&#34;20 DOLLY PEGS RETROSPOT\\\\&#34;,\\\\&#34;Quantity\\\\&#34;:-40,\\\\&#34;InvoiceDate\\\\&#34;:\\\\&#34;1/6/11 18:06\\\\&#34;,\\\\&#34;UnitPrice\\\\&#34;:0.36,\\\\&#34;CustomerID\\\\&#34;:12753},\\\\&#34;maxValues\\\\&#34;:{\\\\&#34;InvoiceNo\\\\&#34;:\\\\&#34;C540392\\\\&#34;,\\\\&#34;StockCode\\\\&#34;:\\\\&#34;85177\\\\&#34;,\\\\&#34;Description\\\\&#34;:\\\\&#34;WOODEN HAPPY BIRTHDAY GARLAND\\\\&#34;,\\\\&#34;Quantity\\\\&#34;:1488,\\\\&#34;InvoiceDate\\\\&#34;:\\\\&#34;12/9/10 10:44\\\\&#34;,\\\\&#34;UnitPrice\\\\&#34;:5.95,\\\\&#34;CustomerID\\\\&#34;:12763},\\\\&#34;nullCount\\\\&#34;:{\\\\&#34;InvoiceNo\\\\&#34;:0,\\\\&#34;StockCode\\\\&#34;:0,\\\\&#34;Description\\\\&#34;:0,\\\\&#34;Quantity\\\\&#34;:0,\\\\&#34;InvoiceDate\\\\&#34;:0,\\\\&#34;UnitPrice\\\\&#34;:0,\\\\&#34;CustomerID\\\\&#34;:0}}&#34;}}\\n{&#34;add&#34;:{&#34;path&#34;:&#34;Country=Lithuania/part-00000-9ba3a3f1-ecdb-4d5c-ad56-0cdc47be0681.c000.snappy.parquet&#34;,&#34;partitionValues&#34;:{&#34;Country&#34;:&#34;Lithuania&#34;},&#34;size&#34;:3148,&#34;modificationTime&#34;:1586939984000,&#34;dataChange&#34;:true,&#34;stats&#34;:&#34;{\\\\&#34;numRecords\\\\&#34;:35,\\\\&#34;minValues\\\\&#34;:{\\\\&#34;InvoiceNo\\\\&#34;:\\\\&#34;537081\\\\&#34;,\\\\&#34;StockCode\\\\&#34;:\\\\&#34;15056BL\\\\&#34;,\\\\&#34;Description\\\\&#34;:\\\\&#34;BLUE FELT EASTER EGG BASKET\\\\&#34;,\\\\&#34;Quantity\\\\&#34;:6,\\\\&#34;InvoiceDate\\\\&#34;:\\\\&#34;12/5/10 12:00\\\\&#34;,\\\\&#34;UnitPrice\\\\&#34;:1.25,\\\\&#34;CustomerID\\\\&#34;:15332},\\\\&#34;maxValues\\\\&#34;:{\\\\&#34;InvoiceNo\\\\&#34;:\\\\&#34;537827\\\\&#34;,\\\\&#34;StockCode\\\\&#34;:\\\\&#34;85206A\\\\&#34;,\\\\&#34;Description\\\\&#34;:\\\\&#34;SILVER MUG BONE CHINA TREE OF LI�\\\\&#34;,\\\\&#34;Quantity\\\\&#34;:48,\\\\&#34;InvoiceDate\\\\&#34;:\\\\&#34;12/8/10 14:43\\\\&#34;,\\\\&#34;UnitPrice\\\\&#34;:5.95,\\\\&#34;CustomerID\\\\&#34;:15332},\\\\&#34;nullCount\\\\&#34;:{\\\\&#34;InvoiceNo\\\\&#34;:0,\\\\&#34;StockCode\\\\&#34;:0,\\\\&#34;Description\\\\&#34;:0,\\\\&#34;Quantity\\\\&#34;:0,\\\\&#34;InvoiceDate\\\\&#34;:0,\\\\&#34;UnitPrice\\\\&#34;:0,\\\\&#34;CustomerID\\\\&#34;:0}}&#34;}}\\n{&#34;add&#34;:{&#34;path&#34;:&#34;Country=Netherlands/part-00000-eaad0d38-fcf4-4ffa-aa18-0cb1a57ee8f9.c000.snappy.parquet&#34;,&#34;partitionValues&#34;:{&#34;Country&#34;:&#34;Netherlands&#34;},&#34;size&#34;:4177,&#34;modificationTime&#34;:1586939984000,&#34;dataChange&#34;:true,&#34;stats&#34;:&#34;{\\\\&#34;numRecords\\\\&#34;:72,\\\\&#34;minValues\\\\&#34;:{\\\\&#34;InvoiceNo\\\\&#34;:\\\\&#34;536403\\\\&#34;,\\\\&#34;StockCode\\\\&#34;:\\\\&#34;20719\\\\&#34;,\\\\&#34;Description\\\\&#34;:\\\\&#34;200 RED + WHITE BENDY STRAWS\\\\&#34;,\\\\&#34;Quantity\\\\&#34;:1,\\\\&#34;InvoiceDate\\\\&#34;:\\\\&#34;12/1/10 11:27\\\\&#34;,\\\\&#34;UnitPrice\\\\&#34;:0.21,\\\\&#34;CustomerID\\\\&#34;:12791},\\\\&#34;maxValues\\\\&#34;:{\\\\&#34;InvoiceNo\\\\&#34;:\\\\&#34;539731\\\\&#34;,\\\\&#34;StockCode\\\\&#34;:\\\\&#34;POST\\\\&#34;,\\\\&#34;Description\\\\&#34;:\\\\&#34;YELLOW METAL CHICKEN HEART \\\\&#34;,\\\\&#34;Quantity\\\\&#34;:300,\\\\&#34;InvoiceDate\\\\&#34;:\\\\&#34;12/21/10 15:05\\\\&#34;,\\\\&#34;UnitPrice\\\\&#34;:15.0,\\\\&#34;CustomerID\\\\&#34;:14646},\\\\&#34;nullCount\\\\&#34;:{\\\\&#34;InvoiceNo\\\\&#34;:0,\\\\&#34;StockCode\\\\&#34;:0,\\\\&#34;Description\\\\&#34;:0,\\\\&#34;Quantity\\\\&#34;:0,\\\\&#34;InvoiceDate\\\\&#34;:0,\\\\&#34;UnitPrice\\\\&#34;:0,\\\\&#34;CustomerID\\\\&#34;:0}}&#34;}}\\n{&#34;add&#34;:{&#34;path&#34;:&#34;Country=Norway/part-00000-e0c6e513-d5bd-4001-be23-19df40c14b8a.c000.snappy.parquet&#34;,&#34;partitionValues&#34;:{&#34;Country&#34;:&#34;Norway&#34;},&#34;size&#34;:4602,&#34;modificationTime&#34;:1586939985000,&#34;dataChange&#34;:true,&#34;stats&#34;:&#34;{\\\\&#34;numRecords\\\\&#34;:147,\\\\&#34;minValues\\\\&#34;:{\\\\&#34;InvoiceNo\\\\&#34;:\\\\&#34;536532\\\\&#34;,\\\\&#34;StockCode\\\\&#34;:\\\\&#34;20685\\\\&#34;,\\\\&#34;Description\\\\&#34;:\\\\&#34;20 DOLLY PEGS RETROSPOT\\\\&#34;,\\\\&#34;Quantity\\\\&#34;:2,\\\\&#34;InvoiceDate\\\\&#34;:\\\\&#34;12/1/10 13:24\\\\&#34;,\\\\&#34;UnitPrice\\\\&#34;:0.29,\\\\&#34;CustomerID\\\\&#34;:12433},\\\\&#34;maxValues\\\\&#34;:{\\\\&#34;InvoiceNo\\\\&#34;:\\\\&#34;537868\\\\&#34;,\\\\&#34;StockCode\\\\&#34;:\\\\&#34;85152\\\\&#34;,\\\\&#34;Description\\\\&#34;:\\\\&#34;WOODEN SCHOOL COLOURING SET\\\\&#34;,\\\\&#34;Quantity\\\\&#34;:96,\\\\&#34;InvoiceDate\\\\&#34;:\\\\&#34;12/8/10 16:49\\\\&#34;,\\\\&#34;UnitPrice\\\\&#34;:8.5,\\\\&#34;CustomerID\\\\&#34;:12433},\\\\&#34;nullCount\\\\&#34;:{\\\\&#34;InvoiceNo\\\\&#34;:0,\\\\&#34;StockCode\\\\&#34;:0,\\\\&#34;Description\\\\&#34;:0,\\\\&#34;Quantity\\\\&#34;:0,\\\\&#34;InvoiceDate\\\\&#34;:0,\\\\&#34;UnitPrice\\\\&#34;:0,\\\\&#34;CustomerID\\\\&#34;:0}}&#34;}}\\n{&#34;add&#34;:{&#34;path&#34;:&#34;Country=Poland/part-00000-ab13e744-7db3-4dbb-a348-793f609555e8.c000.snappy.parquet&#34;,&#34;partitionValues&#34;:{&#34;Country&#34;:&#34;Poland&#34;},&#34;size&#34;:2520,&#34;modificationTime&#34;:1586939985000,&#34;dataChange&#34;:true,&#34;stats&#34;:&#34;{\\\\&#34;numRecords\\\\&#34;:8,\\\\&#34;minValues\\\\&#34;:{\\\\&#34;InvoiceNo\\\\&#34;:\\\\&#34;536971\\\\&#34;,\\\\&#34;StockCode\\\\&#34;:\\\\&#34;21232\\\\&#34;,\\\\&#34;Description\\\\&#34;:\\\\&#34;BIG DOUGHNUT FRIDGE MAGNETS\\\\&#34;,\\\\&#34;Quantity\\\\&#34;:4,\\\\&#34;InvoiceDate\\\\&#34;:\\\\&#34;12/3/10 13:40\\\\&#34;,\\\\&#34;UnitPrice\\\\&#34;:0.85,\\\\&#34;CustomerID\\\\&#34;:12779},\\\\&#34;maxValues\\\\&#34;:{\\\\&#34;InvoiceNo\\\\&#34;:\\\\&#34;536971\\\\&#34;,\\\\&#34;StockCode\\\\&#34;:\\\\&#34;37448\\\\&#34;,\\\\&#34;Description\\\\&#34;:\\\\&#34;VINTAGE CREAM DOG FOOD CONTAINER�\\\\&#34;,\\\\&#34;Quantity\\\\&#34;:32,\\\\&#34;InvoiceDate\\\\&#34;:\\\\&#34;12/3/10 13:40\\\\&#34;,\\\\&#34;UnitPrice\\\\&#34;:8.5,\\\\&#34;CustomerID\\\\&#34;:12779},\\\\&#34;nullCount\\\\&#34;:{\\\\&#34;InvoiceNo\\\\&#34;:0,\\\\&#34;StockCode\\\\&#34;:0,\\\\&#34;Description\\\\&#34;:0,\\\\&#34;Quantity\\\\&#34;:0,\\\\&#34;InvoiceDate\\\\&#34;:0,\\\\&#34;UnitPrice\\\\&#34;:0,\\\\&#34;CustomerID\\\\&#34;:0}}&#34;}}\\n{&#34;add&#34;:{&#34;path&#34;:&#34;Country=Portugal/part-00000-7c157c9b-01d5-4869-8e64-2c4138743465.c000.snappy.parquet&#34;,&#34;partitionValues&#34;:{&#34;Country&#34;:&#34;Portugal&#34;},&#34;size&#34;:6371,&#34;modificationTime&#34;:1586939986000,&#34;dataChange&#34;:true,&#34;stats&#34;:&#34;{\\\\&#34;numRecords\\\\&#34;:176,\\\\&#34;minValues\\\\&#34;:{\\\\&#34;InvoiceNo\\\\&#34;:\\\\&#34;536990\\\\&#34;,\\\\&#34;StockCode\\\\&#34;:\\\\&#34;10133\\\\&#34;,\\\\&#34;Description\\\\&#34;:\\\\&#34;10 COLOUR SPACEBOY PEN\\\\&#34;,\\\\&#34;Quantity\\\\&#34;:-12,\\\\&#34;InvoiceDate\\\\&#34;:\\\\&#34;1/5/11 10:50\\\\&#34;,\\\\&#34;UnitPrice\\\\&#34;:0.21,\\\\&#34;CustomerID\\\\&#34;:12766},\\\\&#34;maxValues\\\\&#34;:{\\\\&#34;InvoiceNo\\\\&#34;:\\\\&#34;C540142\\\\&#34;,\\\\&#34;StockCode\\\\&#34;:\\\\&#34;POST\\\\&#34;,\\\\&#34;Description\\\\&#34;:\\\\&#34;WOODLAND CHARLOTTE BAG\\\\&#34;,\\\\&#34;Quantity\\\\&#34;:48,\\\\&#34;InvoiceDate\\\\&#34;:\\\\&#34;12/9/10 10:55\\\\&#34;,\\\\&#34;UnitPrice\\\\&#34;:28.0,\\\\&#34;CustomerID\\\\&#34;:12808},\\\\&#34;nullCount\\\\&#34;:{\\\\&#34;InvoiceNo\\\\&#34;:0,\\\\&#34;StockCode\\\\&#34;:0,\\\\&#34;Description\\\\&#34;:0,\\\\&#34;Quantity\\\\&#34;:0,\\\\&#34;InvoiceDate\\\\&#34;:0,\\\\&#34;UnitPrice\\\\&#34;:0,\\\\&#34;CustomerID\\\\&#34;:0}}&#34;}}\\n{&#34;add&#34;:{&#34;path&#34;:&#34;Country=Spain/part-00000-fe89b5ad-8730-4dd5-8d94-1d6df75777a4.c000.snappy.parquet&#34;,&#34;partitionValues&#34;:{&#34;Country&#34;:&#34;Spain&#34;},&#34;size&#34;:9015,&#34;modificationTime&#34;:1586939986000,&#34;dataChange&#34;:true,&#34;stats&#34;:&#34;{\\\\&#34;numRecords\\\\&#34;:267,\\\\&#34;minValues\\\\&#34;:{\\\\&#34;InvoiceNo\\\\&#34;:\\\\&#34;536944\\\\&#34;,\\\\&#34;StockCode\\\\&#34;:\\\\&#34;20712\\\\&#34;,\\\\&#34;Description\\\\&#34;:\\\\&#34; SET 2 TEA TOWELS I LOVE LONDON \\\\&#34;,\\\\&#34;Quantity\\\\&#34;:-1,\\\\&#34;InvoiceDate\\\\&#34;:\\\\&#34;1/10/11 9:11\\\\&#34;,\\\\&#34;UnitPrice\\\\&#34;:0.19,\\\\&#34;CustomerID\\\\&#34;:12484},\\\\&#34;maxValues\\\\&#34;:{\\\\&#34;InvoiceNo\\\\&#34;:\\\\&#34;C540271\\\\&#34;,\\\\&#34;StockCode\\\\&#34;:\\\\&#34;POST\\\\&#34;,\\\\&#34;Description\\\\&#34;:\\\\&#34;YELLOW FLOWERS FELT HANDBAG KIT\\\\&#34;,\\\\&#34;Quantity\\\\&#34;:100,\\\\&#34;InvoiceDate\\\\&#34;:\\\\&#34;12/9/10 14:55\\\\&#34;,\\\\&#34;UnitPrice\\\\&#34;:1126.0,\\\\&#34;CustomerID\\\\&#34;:17097},\\\\&#34;nullCount\\\\&#34;:{\\\\&#34;InvoiceNo\\\\&#34;:0,\\\\&#34;StockCode\\\\&#34;:0,\\\\&#34;Description\\\\&#34;:0,\\\\&#34;Quantity\\\\&#34;:0,\\\\&#34;InvoiceDate\\\\&#34;:0,\\\\&#34;UnitPrice\\\\&#34;:0,\\\\&#34;CustomerID\\\\&#34;:0}}&#34;}}\\n{&#34;add&#34;:{&#34;path&#34;:&#34;Country=Sweden/part-00000-06d1f04a-c4cd-4cae-a52f-21c6c2bfb122.c000.snappy.parquet&#34;,&#34;partitionValues&#34;:{&#34;Country&#34;:&#34;Sweden&#34;},&#34;size&#34;:3547,&#34;modificationTime&#34;:1586939987000,&#34;dataChange&#34;:true,&#34;stats&#34;:&#34;{\\\\&#34;numRecords\\\\&#34;:41,\\\\&#34;minValues\\\\&#34;:{\\\\&#34;InvoiceNo\\\\&#34;:\\\\&#34;538848\\\\&#34;,\\\\&#34;StockCode\\\\&#34;:\\\\&#34;20704\\\\&#34;,\\\\&#34;Description\\\\&#34;:\\\\&#34;36 DOILIES DOLLY GIRL\\\\&#34;,\\\\&#34;Quantity\\\\&#34;:-240,\\\\&#34;InvoiceDate\\\\&#34;:\\\\&#34;1/4/11 14:20\\\\&#34;,\\\\&#34;UnitPrice\\\\&#34;:0.19,\\\\&#34;CustomerID\\\\&#34;:12483},\\\\&#34;maxValues\\\\&#34;:{\\\\&#34;InvoiceNo\\\\&#34;:\\\\&#34;C540057\\\\&#34;,\\\\&#34;StockCode\\\\&#34;:\\\\&#34;POST\\\\&#34;,\\\\&#34;Description\\\\&#34;:\\\\&#34;WORLD WAR 2 GLIDERS ASSTD DESIGN�\\\\&#34;,\\\\&#34;Quantity\\\\&#34;:576,\\\\&#34;InvoiceDate\\\\&#34;:\\\\&#34;12/17/10 10:54\\\\&#34;,\\\\&#34;UnitPrice\\\\&#34;:40.0,\\\\&#34;CustomerID\\\\&#34;:17404},\\\\&#34;nullCount\\\\&#34;:{\\\\&#34;InvoiceNo\\\\&#34;:0,\\\\&#34;StockCode\\\\&#34;:0,\\\\&#34;Description\\\\&#34;:0,\\\\&#34;Quantity\\\\&#34;:0,\\\\&#34;InvoiceDate\\\\&#34;:0,\\\\&#34;UnitPrice\\\\&#34;:0,\\\\&#34;CustomerID\\\\&#34;:0}}&#34;}}\\n{&#34;add&#34;:{&#34;path&#34;:&#34;Country=Switzerland/part-00000-79c91f50-b828-4bde-b417-a9474d2ba67b.c000.snappy.parquet&#34;,&#34;partitionValues&#34;:{&#34;Country&#34;:&#34;Switzerland&#34;},&#34;size&#34;:3357,&#34;modificationTime&#34;:1586939987000,&#34;dataChange&#34;:true,&#34;stats&#34;:&#34;{\\\\&#34;numRecords\\\\&#34;:49,\\\\&#34;minValues\\\\&#34;:{\\\\&#34;InvoiceNo\\\\&#34;:\\\\&#34;536858\\\\&#34;,\\\\&#34;StockCode\\\\&#34;:\\\\&#34;20677\\\\&#34;,\\\\&#34;Description\\\\&#34;:\\\\&#34;ALARM CLOCK BAKELIKE CHOCOLATE\\\\&#34;,\\\\&#34;Quantity\\\\&#34;:2,\\\\&#34;InvoiceDate\\\\&#34;:\\\\&#34;12/20/10 9:37\\\\&#34;,\\\\&#34;UnitPrice\\\\&#34;:0.42,\\\\&#34;CustomerID\\\\&#34;:12377},\\\\&#34;maxValues\\\\&#34;:{\\\\&#34;InvoiceNo\\\\&#34;:\\\\&#34;539488\\\\&#34;,\\\\&#34;StockCode\\\\&#34;:\\\\&#34;POST\\\\&#34;,\\\\&#34;Description\\\\&#34;:\\\\&#34;TOOTHPASTE TUBE PEN\\\\&#34;,\\\\&#34;Quantity\\\\&#34;:36,\\\\&#34;InvoiceDate\\\\&#34;:\\\\&#34;12/3/10 10:36\\\\&#34;,\\\\&#34;UnitPrice\\\\&#34;:40.0,\\\\&#34;CustomerID\\\\&#34;:13520},\\\\&#34;nullCount\\\\&#34;:{\\\\&#34;InvoiceNo\\\\&#34;:0,\\\\&#34;StockCode\\\\&#34;:0,\\\\&#34;Description\\\\&#34;:0,\\\\&#34;Quantity\\\\&#34;:0,\\\\&#34;InvoiceDate\\\\&#34;:0,\\\\&#34;UnitPrice\\\\&#34;:0,\\\\&#34;CustomerID\\\\&#34;:0}}&#34;}}\\n{&#34;add&#34;:{&#34;path&#34;:&#34;Country=United%20Kingdom/part-00000-74240550-8527-4f90-953a-44669e465675.c000.snappy.parquet&#34;,&#34;partitionValues&#34;:{&#34;Country&#34;:&#34;United Kingdom&#34;},&#34;size&#34;:341809,&#34;modificationTime&#34;:1586939988000,&#34;dataChange&#34;:true,&#34;stats&#34;:&#34;{\\\\&#34;numRecords\\\\&#34;:47958,\\\\&#34;minValues\\\\&#34;:{\\\\&#34;InvoiceNo\\\\&#34;:\\\\&#34;536365\\\\&#34;,\\\\&#34;StockCode\\\\&#34;:\\\\&#34;10002\\\\&#34;,\\\\&#34;Description\\\\&#34;:\\\\&#34; 4 PURPLE FLOCK DINNER CANDLES\\\\&#34;,\\\\&#34;Quantity\\\\&#34;:-9360,\\\\&#34;InvoiceDate\\\\&#34;:\\\\&#34;1/10/11 10:04\\\\&#34;,\\\\&#34;UnitPrice\\\\&#34;:0.0,\\\\&#34;CustomerID\\\\&#34;:12747},\\\\&#34;maxValues\\\\&#34;:{\\\\&#34;InvoiceNo\\\\&#34;:\\\\&#34;C540634\\\\&#34;,\\\\&#34;StockCode\\\\&#34;:\\\\&#34;m\\\\&#34;,\\\\&#34;Description\\\\&#34;:\\\\&#34;reverse 21/5/10 adjustment\\\\&#34;,\\\\&#34;Quantity\\\\&#34;:2880,\\\\&#34;InvoiceDate\\\\&#34;:\\\\&#34;12/9/10 9:49\\\\&#34;,\\\\&#34;UnitPrice\\\\&#34;:16888.02,\\\\&#34;CustomerID\\\\&#34;:18283},\\\\&#34;nullCount\\\\&#34;:{\\\\&#34;InvoiceNo\\\\&#34;:0,\\\\&#34;StockCode\\\\&#34;:0,\\\\&#34;Description\\\\&#34;:145,\\\\&#34;Quantity\\\\&#34;:0,\\\\&#34;InvoiceDate\\\\&#34;:0,\\\\&#34;UnitPrice\\\\&#34;:0,\\\\&#34;CustomerID\\\\&#34;:18346}}&#34;}}\\n{&#34;add&#34;:{&#34;path&#34;:&#34;Country=Australia/part-00001-3cb262ac-cf5a-4bce-bec2-9cc0ffb04547.c000.snappy.parquet&#34;,&#34;partitionValues&#34;:{&#34;Country&#34;:&#34;Australia&#34;},&#34;size&#34;:3854,&#34;modificationTime&#34;:1586939977000,&#34;dataChange&#34;:true,&#34;stats&#34;:&#34;{\\\\&#34;numRecords\\\\&#34;:58,\\\\&#34;minValues\\\\&#34;:{\\\\&#34;InvoiceNo\\\\&#34;:\\\\&#34;540700\\\\&#34;,\\\\&#34;StockCode\\\\&#34;:\\\\&#34;20712\\\\&#34;,\\\\&#34;Description\\\\&#34;:\\\\&#34;3 HOOK HANGER MAGIC GARDEN\\\\&#34;,\\\\&#34;Quantity\\\\&#34;:3,\\\\&#34;InvoiceDate\\\\&#34;:\\\\&#34;1/11/11 9:47\\\\&#34;,\\\\&#34;UnitPrice\\\\&#34;:0.85,\\\\&#34;CustomerID\\\\&#34;:12388},\\\\&#34;maxValues\\\\&#34;:{\\\\&#34;InvoiceNo\\\\&#34;:\\\\&#34;541657\\\\&#34;,\\\\&#34;StockCode\\\\&#34;:\\\\&#34;85123A\\\\&#34;,\\\\&#34;Description\\\\&#34;:\\\\&#34;WOODLAND DESIGN  COTTON TOTE BAG�\\\\&#34;,\\\\&#34;Quantity\\\\&#34;:48,\\\\&#34;InvoiceDate\\\\&#34;:\\\\&#34;1/20/11 12:11\\\\&#34;,\\\\&#34;UnitPrice\\\\&#34;:12.75,\\\\&#34;CustomerID\\\\&#34;:16321},\\\\&#34;nullCount\\\\&#34;:{\\\\&#34;InvoiceNo\\\\&#34;:0,\\\\&#34;StockCode\\\\&#34;:0,\\\\&#34;Description\\\\&#34;:0,\\\\&#34;Quantity\\\\&#34;:0,\\\\&#34;InvoiceDate\\\\&#34;:0,\\\\&#34;UnitPrice\\\\&#34;:0,\\\\&#34;CustomerID\\\\&#34;:0}}&#34;}}\\n{&#34;add&#34;:{&#34;path&#34;:&#34;Country=Belgium/part-00001-e3b3ebec-f192-42f7-bf48-31bc4c4c5d47.c000.snappy.parquet&#34;,&#34;partitionValues&#34;:{&#34;Country&#34;:&#34;Belgium&#34;},&#34;size&#34;:3283,&#34;modificationTime&#34;:1586939978000,&#34;dataChange&#34;:true,&#34;stats&#34;:&#34;{\\\\&#34;numRecords\\\\&#34;:43,\\\\&#34;minValues\\\\&#34;:{\\\\&#34;InvoiceNo\\\\&#34;:\\\\&#34;540971\\\\&#34;,\\\\&#34;StockCode\\\\&#34;:\\\\&#34;20675\\\\&#34;,\\\\&#34;Description\\\\&#34;:\\\\&#34;3 TRADITIONAl BISCUIT CUTTERS  S\\\\&#34;,\\\\&#34;Quantity\\\\&#34;:-3,\\\\&#34;InvoiceDate\\\\&#34;:\\\\&#34;1/12/11 14:10\\\\&#34;,\\\\&#34;UnitPrice\\\\&#34;:0.36,\\\\&#34;CustomerID\\\\&#34;:12383},\\\\&#34;maxValues\\\\&#34;:{\\\\&#34;InvoiceNo\\\\&#34;:\\\\&#34;C541586\\\\&#34;,\\\\&#34;StockCode\\\\&#34;:\\\\&#34;POST\\\\&#34;,\\\\&#34;Description\\\\&#34;:\\\\&#34;WATERING CAN PINK BUNNY\\\\&#34;,\\\\&#34;Quantity\\\\&#34;:144,\\\\&#34;InvoiceDate\\\\&#34;:\\\\&#34;1/20/11 13:49\\\\&#34;,\\\\&#34;UnitPrice\\\\&#34;:15.0,\\\\&#34;CustomerID\\\\&#34;:12402},\\\\&#34;nullCount\\\\&#34;:{\\\\&#34;InvoiceNo\\\\&#34;:0,\\\\&#34;StockCode\\\\&#34;:0,\\\\&#34;Description\\\\&#34;:0,\\\\&#34;Quantity\\\\&#34;:0,\\\\&#34;InvoiceDate\\\\&#34;:0,\\\\&#34;UnitPrice\\\\&#34;:0,\\\\&#34;CustomerID\\\\&#34;:0}}&#34;}}\\n{&#34;add&#34;:{&#34;path&#34;:&#34;Country=Cyprus/part-00001-d55dc0ae-a6d1-4333-8339-82ef55501df1.c000.snappy.parquet&#34;,&#34;partitionValues&#34;:{&#34;Country&#34;:&#34;Cyprus&#34;},&#34;size&#34;:2728,&#34;modificationTime&#34;:1586939978000,&#34;dataChange&#34;:true,&#34;stats&#34;:&#34;{\\\\&#34;numRecords\\\\&#34;:16,\\\\&#34;minValues\\\\&#34;:{\\\\&#34;InvoiceNo\\\\&#34;:\\\\&#34;540946\\\\&#34;,\\\\&#34;StockCode\\\\&#34;:\\\\&#34;20704\\\\&#34;,\\\\&#34;Description\\\\&#34;:\\\\&#34;FRENCH ENAMEL POT W LID\\\\&#34;,\\\\&#34;Quantity\\\\&#34;:1,\\\\&#34;InvoiceDate\\\\&#34;:\\\\&#34;1/12/11 12:43\\\\&#34;,\\\\&#34;UnitPrice\\\\&#34;:0.42,\\\\&#34;CustomerID\\\\&#34;:12359},\\\\&#34;maxValues\\\\&#34;:{\\\\&#34;InvoiceNo\\\\&#34;:\\\\&#34;540946\\\\&#34;,\\\\&#34;StockCode\\\\&#34;:\\\\&#34;85054\\\\&#34;,\\\\&#34;Description\\\\&#34;:\\\\&#34;WOOD BLACK BOARD ANT WHITE FINIS�\\\\&#34;,\\\\&#34;Quantity\\\\&#34;:20,\\\\&#34;InvoiceDate\\\\&#34;:\\\\&#34;1/12/11 12:43\\\\&#34;,\\\\&#34;UnitPrice\\\\&#34;:125.0,\\\\&#34;CustomerID\\\\&#34;:12359},\\\\&#34;nullCount\\\\&#34;:{\\\\&#34;InvoiceNo\\\\&#34;:0,\\\\&#34;StockCode\\\\&#34;:0,\\\\&#34;Description\\\\&#34;:0,\\\\&#34;Quantity\\\\&#34;:0,\\\\&#34;InvoiceDate\\\\&#34;:0,\\\\&#34;UnitPrice\\\\&#34;:0,\\\\&#34;CustomerID\\\\&#34;:0}}&#34;}}\\n{&#34;add&#34;:{&#34;path&#34;:&#34;Country=EIRE/part-00001-ffafce24-1577-48fc-a77b-1ec7614c7886.c000.snappy.parquet&#34;,&#34;partitionValues&#34;:{&#34;Country&#34;:&#34;EIRE&#34;},&#34;size&#34;:4307,&#34;modificationTime&#34;:1586939979000,&#34;dataChange&#34;:true,&#34;stats&#34;:&#34;{\\\\&#34;numRecords\\\\&#34;:72,\\\\&#34;minValues\\\\&#34;:{\\\\&#34;InvoiceNo\\\\&#34;:\\\\&#34;541220\\\\&#34;,\\\\&#34;StockCode\\\\&#34;:\\\\&#34;18097C\\\\&#34;,\\\\&#34;Description\\\\&#34;:\\\\&#34;3 TIER CAKE TIN RED AND CREAM\\\\&#34;,\\\\&#34;Quantity\\\\&#34;:1,\\\\&#34;InvoiceDate\\\\&#34;:\\\\&#34;1/14/11 14:11\\\\&#34;,\\\\&#34;UnitPrice\\\\&#34;:0.64,\\\\&#34;CustomerID\\\\&#34;:14156},\\\\&#34;maxValues\\\\&#34;:{\\\\&#34;InvoiceNo\\\\&#34;:\\\\&#34;541670\\\\&#34;,\\\\&#34;StockCode\\\\&#34;:\\\\&#34;C2\\\\&#34;,\\\\&#34;Description\\\\&#34;:\\\\&#34;WOODEN SCHOOL COLOURING SET\\\\&#34;,\\\\&#34;Quantity\\\\&#34;:384,\\\\&#34;InvoiceDate\\\\&#34;:\\\\&#34;1/20/11 12:34\\\\&#34;,\\\\&#34;UnitPrice\\\\&#34;:50.0,\\\\&#34;CustomerID\\\\&#34;:14911},\\\\&#34;nullCount\\\\&#34;:{\\\\&#34;InvoiceNo\\\\&#34;:0,\\\\&#34;StockCode\\\\&#34;:0,\\\\&#34;Description\\\\&#34;:0,\\\\&#34;Quantity\\\\&#34;:0,\\\\&#34;InvoiceDate\\\\&#34;:0,\\\\&#34;UnitPrice\\\\&#34;:0,\\\\&#34;CustomerID\\\\&#34;:0}}&#34;}}\\n{&#34;add&#34;:{&#34;path&#34;:&#34;Country=France/part-00001-27a191b7-aad5-4df3-9c58-80763ce4cbd1.c000.snappy.parquet&#34;,&#34;partitionValues&#34;:{&#34;Country&#34;:&#34;France&#34;},&#34;size&#34;:9008,&#34;modificationTime&#34;:1586939979000,&#34;dataChange&#34;:true,&#34;stats&#34;:&#34;{\\\\&#34;numRecords\\\\&#34;:309,\\\\&#34;minValues\\\\&#34;:{\\\\&#34;InvoiceNo\\\\&#34;:\\\\&#34;540688\\\\&#34;,\\\\&#34;StockCode\\\\&#34;:\\\\&#34;10002\\\\&#34;,\\\\&#34;Description\\\\&#34;:\\\\&#34; SET 2 TEA TOWELS I LOVE LONDON \\\\&#34;,\\\\&#34;Quantity\\\\&#34;:-4,\\\\&#34;InvoiceDate\\\\&#34;:\\\\&#34;1/11/11 11:48\\\\&#34;,\\\\&#34;UnitPrice\\\\&#34;:0.19,\\\\&#34;CustomerID\\\\&#34;:12413},\\\\&#34;maxValues\\\\&#34;:{\\\\&#34;InvoiceNo\\\\&#34;:\\\\&#34;C541688\\\\&#34;,\\\\&#34;StockCode\\\\&#34;:\\\\&#34;POST\\\\&#34;,\\\\&#34;Description\\\\&#34;:\\\\&#34;WRAP RED APPLES \\\\&#34;,\\\\&#34;Quantity\\\\&#34;:576,\\\\&#34;InvoiceDate\\\\&#34;:\\\\&#34;1/20/11 16:15\\\\&#34;,\\\\&#34;UnitPrice\\\\&#34;:18.0,\\\\&#34;CustomerID\\\\&#34;:12736},\\\\&#34;nullCount\\\\&#34;:{\\\\&#34;InvoiceNo\\\\&#34;:0,\\\\&#34;StockCode\\\\&#34;:0,\\\\&#34;Description\\\\&#34;:0,\\\\&#34;Quantity\\\\&#34;:0,\\\\&#34;InvoiceDate\\\\&#34;:0,\\\\&#34;UnitPrice\\\\&#34;:0,\\\\&#34;CustomerID\\\\&#34;:0}}&#34;}}\\n{&#34;add&#34;:{&#34;path&#34;:&#34;Country=Germany/part-00001-688e1bbe-f956-4b2a-b2c8-3f976813fc85.c000.snappy.parquet&#34;,&#34;partitionValues&#34;:{&#34;Country&#34;:&#34;Germany&#34;},&#34;size&#34;:6284,&#34;modificationTime&#34;:1586939980000,&#34;dataChange&#34;:true,&#34;stats&#34;:&#34;{\\\\&#34;numRecords\\\\&#34;:149,\\\\&#34;minValues\\\\&#34;:{\\\\&#34;InvoiceNo\\\\&#34;:\\\\&#34;540769\\\\&#34;,\\\\&#34;StockCode\\\\&#34;:\\\\&#34;10002\\\\&#34;,\\\\&#34;Description\\\\&#34;:\\\\&#34;12 PENCILS SMALL TUBE RED RETROS\\\\&#34;,\\\\&#34;Quantity\\\\&#34;:-1,\\\\&#34;InvoiceDate\\\\&#34;:\\\\&#34;1/11/11 10:38\\\\&#34;,\\\\&#34;UnitPrice\\\\&#34;:0.21,\\\\&#34;CustomerID\\\\&#34;:12471},\\\\&#34;maxValues\\\\&#34;:{\\\\&#34;InvoiceNo\\\\&#34;:\\\\&#34;C540850\\\\&#34;,\\\\&#34;StockCode\\\\&#34;:\\\\&#34;POST\\\\&#34;,\\\\&#34;Description\\\\&#34;:\\\\&#34;WRAP ENGLISH ROSE \\\\&#34;,\\\\&#34;Quantity\\\\&#34;:48,\\\\&#34;InvoiceDate\\\\&#34;:\\\\&#34;1/19/11 8:34\\\\&#34;,\\\\&#34;UnitPrice\\\\&#34;:18.0,\\\\&#34;CustomerID\\\\&#34;:12712},\\\\&#34;nullCount\\\\&#34;:{\\\\&#34;InvoiceNo\\\\&#34;:0,\\\\&#34;StockCode\\\\&#34;:0,\\\\&#34;Description\\\\&#34;:0,\\\\&#34;Quantity\\\\&#34;:0,\\\\&#34;InvoiceDate\\\\&#34;:0,\\\\&#34;UnitPrice\\\\&#34;:0,\\\\&#34;CustomerID\\\\&#34;:0}}&#34;}}\\n{&#34;add&#34;:{&#34;path&#34;:&#34;Country=Italy/part-00001-d5d8dd7a-ed5e-44a0-9dfb-f61362cf712a.c000.snappy.parquet&#34;,&#34;partitionValues&#34;:{&#34;Country&#34;:&#34;Italy&#34;},&#34;size&#34;:3970,&#34;modificationTime&#34;:1586939980000,&#34;dataChange&#34;:true,&#34;stats&#34;:&#34;{\\\\&#34;numRecords\\\\&#34;:70,\\\\&#34;minValues\\\\&#34;:{\\\\&#34;InvoiceNo\\\\&#34;:\\\\&#34;541115\\\\&#34;,\\\\&#34;StockCode\\\\&#34;:\\\\&#34;15060B\\\\&#34;,\\\\&#34;Description\\\\&#34;:\\\\&#34;BOUDOIR SQUARE TISSUE BOX\\\\&#34;,\\\\&#34;Quantity\\\\&#34;:2,\\\\&#34;InvoiceDate\\\\&#34;:\\\\&#34;1/13/11 15:34\\\\&#34;,\\\\&#34;UnitPrice\\\\&#34;:0.42,\\\\&#34;CustomerID\\\\&#34;:12578},\\\\&#34;maxValues\\\\&#34;:{\\\\&#34;InvoiceNo\\\\&#34;:\\\\&#34;541115\\\\&#34;,\\\\&#34;StockCode\\\\&#34;:\\\\&#34;POST\\\\&#34;,\\\\&#34;Description\\\\&#34;:\\\\&#34;WATERING CAN GREEN DINOSAUR\\\\&#34;,\\\\&#34;Quantity\\\\&#34;:24,\\\\&#34;InvoiceDate\\\\&#34;:\\\\&#34;1/13/11 15:34\\\\&#34;,\\\\&#34;UnitPrice\\\\&#34;:28.0,\\\\&#34;CustomerID\\\\&#34;:12578},\\\\&#34;nullCount\\\\&#34;:{\\\\&#34;InvoiceNo\\\\&#34;:0,\\\\&#34;StockCode\\\\&#34;:0,\\\\&#34;Description\\\\&#34;:0,\\\\&#34;Quantity\\\\&#34;:0,\\\\&#34;InvoiceDate\\\\&#34;:0,\\\\&#34;UnitPrice\\\\&#34;:0,\\\\&#34;CustomerID\\\\&#34;:0}}&#34;}}\\n{&#34;add&#34;:{&#34;path&#34;:&#34;Country=Netherlands/part-00001-9419e312-135a-497b-9122-c7b8ee94e357.c000.snappy.parquet&#34;,&#34;partitionValues&#34;:{&#34;Country&#34;:&#34;Netherlands&#34;},&#34;size&#34;:5118,&#34;modificationTime&#34;:1586939980000,&#34;dataChange&#34;:true,&#34;stats&#34;:&#34;{\\\\&#34;numRecords\\\\&#34;:114,\\\\&#34;minValues\\\\&#34;:{\\\\&#34;InvoiceNo\\\\&#34;:\\\\&#34;541206\\\\&#34;,\\\\&#34;StockCode\\\\&#34;:\\\\&#34;20675\\\\&#34;,\\\\&#34;Description\\\\&#34;:\\\\&#34;3 HOOK HANGER MAGIC GARDEN\\\\&#34;,\\\\&#34;Quantity\\\\&#34;:12,\\\\&#34;InvoiceDate\\\\&#34;:\\\\&#34;1/14/11 12:24\\\\&#34;,\\\\&#34;UnitPrice\\\\&#34;:0.21,\\\\&#34;CustomerID\\\\&#34;:14646},\\\\&#34;maxValues\\\\&#34;:{\\\\&#34;InvoiceNo\\\\&#34;:\\\\&#34;541608\\\\&#34;,\\\\&#34;StockCode\\\\&#34;:\\\\&#34;85123A\\\\&#34;,\\\\&#34;Description\\\\&#34;:\\\\&#34;WOODLAND PARTY BAG + STICKER SET�\\\\&#34;,\\\\&#34;Quantity\\\\&#34;:1440,\\\\&#34;InvoiceDate\\\\&#34;:\\\\&#34;1/20/11 9:54\\\\&#34;,\\\\&#34;UnitPrice\\\\&#34;:8.95,\\\\&#34;CustomerID\\\\&#34;:14646},\\\\&#34;nullCount\\\\&#34;:{\\\\&#34;InvoiceNo\\\\&#34;:0,\\\\&#34;StockCode\\\\&#34;:0,\\\\&#34;Description\\\\&#34;:0,\\\\&#34;Quantity\\\\&#34;:0,\\\\&#34;InvoiceDate\\\\&#34;:0,\\\\&#34;UnitPrice\\\\&#34;:0,\\\\&#34;CustomerID\\\\&#34;:0}}&#34;}}\\n{&#34;add&#34;:{&#34;path&#34;:&#34;Country=Poland/part-00001-1f7652aa-5faf-4b07-8b03-79aa7042fdc4.c000.snappy.parquet&#34;,&#34;partitionValues&#34;:{&#34;Country&#34;:&#34;Poland&#34;},&#34;size&#34;:3098,&#34;modificationTime&#34;:1586939981000,&#34;dataChange&#34;:true,&#34;stats&#34;:&#34;{\\\\&#34;numRecords\\\\&#34;:25,\\\\&#34;minValues\\\\&#34;:{\\\\&#34;InvoiceNo\\\\&#34;:\\\\&#34;541267\\\\&#34;,\\\\&#34;StockCode\\\\&#34;:\\\\&#34;20801\\\\&#34;,\\\\&#34;Description\\\\&#34;:\\\\&#34;3 HOOK PHOTO SHELF ANTIQUE WHITE\\\\&#34;,\\\\&#34;Quantity\\\\&#34;:2,\\\\&#34;InvoiceDate\\\\&#34;:\\\\&#34;1/17/11 10:37\\\\&#34;,\\\\&#34;UnitPrice\\\\&#34;:0.42,\\\\&#34;CustomerID\\\\&#34;:12779},\\\\&#34;maxValues\\\\&#34;:{\\\\&#34;InvoiceNo\\\\&#34;:\\\\&#34;541267\\\\&#34;,\\\\&#34;StockCode\\\\&#34;:\\\\&#34;84917\\\\&#34;,\\\\&#34;Description\\\\&#34;:\\\\&#34;WHITE HAND TOWEL WITH BUTTERFLY\\\\&#34;,\\\\&#34;Quantity\\\\&#34;:36,\\\\&#34;InvoiceDate\\\\&#34;:\\\\&#34;1/17/11 10:37\\\\&#34;,\\\\&#34;UnitPrice\\\\&#34;:12.75,\\\\&#34;CustomerID\\\\&#34;:12779},\\\\&#34;nullCount\\\\&#34;:{\\\\&#34;InvoiceNo\\\\&#34;:0,\\\\&#34;StockCode\\\\&#34;:0,\\\\&#34;Description\\\\&#34;:0,\\\\&#34;Quantity\\\\&#34;:0,\\\\&#34;InvoiceDate\\\\&#34;:0,\\\\&#34;UnitPrice\\\\&#34;:0,\\\\&#34;CustomerID\\\\&#34;:0}}&#34;}}\\n{&#34;add&#34;:{&#34;path&#34;:&#34;Country=Portugal/part-00001-5ff80885-b4a5-4214-9ffc-1c62e4159d25.c000.snappy.parquet&#34;,&#34;partitionValues&#34;:{&#34;Country&#34;:&#34;Portugal&#34;},&#34;size&#34;:3331,&#34;modificationTime&#34;:1586939981000,&#34;dataChange&#34;:true,&#34;stats&#34;:&#34;{\\\\&#34;numRecords\\\\&#34;:36,\\\\&#34;minValues\\\\&#34;:{\\\\&#34;InvoiceNo\\\\&#34;:\\\\&#34;541430\\\\&#34;,\\\\&#34;StockCode\\\\&#34;:\\\\&#34;21114\\\\&#34;,\\\\&#34;Description\\\\&#34;:\\\\&#34;60 CAKE CASES DOLLY GIRL DESIGN\\\\&#34;,\\\\&#34;Quantity\\\\&#34;:4,\\\\&#34;InvoiceDate\\\\&#34;:\\\\&#34;1/18/11 9:50\\\\&#34;,\\\\&#34;UnitPrice\\\\&#34;:0.42,\\\\&#34;CustomerID\\\\&#34;:12356},\\\\&#34;maxValues\\\\&#34;:{\\\\&#34;InvoiceNo\\\\&#34;:\\\\&#34;541430\\\\&#34;,\\\\&#34;StockCode\\\\&#34;:\\\\&#34;POST\\\\&#34;,\\\\&#34;Description\\\\&#34;:\\\\&#34;WHITE HEART CONFETTI IN TUBE\\\\&#34;,\\\\&#34;Quantity\\\\&#34;:120,\\\\&#34;InvoiceDate\\\\&#34;:\\\\&#34;1/18/11 9:50\\\\&#34;,\\\\&#34;UnitPrice\\\\&#34;:18.0,\\\\&#34;CustomerID\\\\&#34;:12356},\\\\&#34;nullCount\\\\&#34;:{\\\\&#34;InvoiceNo\\\\&#34;:0,\\\\&#34;StockCode\\\\&#34;:0,\\\\&#34;Description\\\\&#34;:0,\\\\&#34;Quantity\\\\&#34;:0,\\\\&#34;InvoiceDate\\\\&#34;:0,\\\\&#34;UnitPrice\\\\&#34;:0,\\\\&#34;CustomerID\\\\&#34;:0}}&#34;}}\\n{&#34;add&#34;:{&#34;path&#34;:&#34;Country=Spain/part-00001-2f769679-7381-4776-ab03-6a922aff694e.c000.snappy.parquet&#34;,&#34;partitionValues&#34;:{&#34;Country&#34;:&#34;Spain&#34;},&#34;size&#34;:4865,&#34;modificationTime&#34;:1586939981000,&#34;dataChange&#34;:true,&#34;stats&#34;:&#34;{\\\\&#34;numRecords\\\\&#34;:88,\\\\&#34;minValues\\\\&#34;:{\\\\&#34;InvoiceNo\\\\&#34;:\\\\&#34;540785\\\\&#34;,\\\\&#34;StockCode\\\\&#34;:\\\\&#34;10002\\\\&#34;,\\\\&#34;Description\\\\&#34;:\\\\&#34;6 RIBBONS RUSTIC CHARM\\\\&#34;,\\\\&#34;Quantity\\\\&#34;:-6,\\\\&#34;InvoiceDate\\\\&#34;:\\\\&#34;1/11/11 11:39\\\\&#34;,\\\\&#34;UnitPrice\\\\&#34;:0.29,\\\\&#34;CustomerID\\\\&#34;:12510},\\\\&#34;maxValues\\\\&#34;:{\\\\&#34;InvoiceNo\\\\&#34;:\\\\&#34;C541654\\\\&#34;,\\\\&#34;StockCode\\\\&#34;:\\\\&#34;POST\\\\&#34;,\\\\&#34;Description\\\\&#34;:\\\\&#34;WORLD WAR 2 GLIDERS ASSTD DESIGN�\\\\&#34;,\\\\&#34;Quantity\\\\&#34;:360,\\\\&#34;InvoiceDate\\\\&#34;:\\\\&#34;1/20/11 11:53\\\\&#34;,\\\\&#34;UnitPrice\\\\&#34;:28.0,\\\\&#34;CustomerID\\\\&#34;:17097},\\\\&#34;nullCount\\\\&#34;:{\\\\&#34;InvoiceNo\\\\&#34;:0,\\\\&#34;StockCode\\\\&#34;:0,\\\\&#34;Description\\\\&#34;:0,\\\\&#34;Quantity\\\\&#34;:0,\\\\&#34;InvoiceDate\\\\&#34;:0,\\\\&#34;UnitPrice\\\\&#34;:0,\\\\&#34;CustomerID\\\\&#34;:0}}&#34;}}\\n{&#34;add&#34;:{&#34;path&#34;:&#34;Country=Switzerland/part-00001-13ecae62-b394-481c-b741-4b4d390d47c0.c000.snappy.parquet&#34;,&#34;partitionValues&#34;:{&#34;Country&#34;:&#34;Switzerland&#34;},&#34;size&#34;:5344,&#34;modificationTime&#34;:1586939982000,&#34;dataChange&#34;:true,&#34;stats&#34;:&#34;{\\\\&#34;numRecords\\\\&#34;:126,\\\\&#34;minValues\\\\&#34;:{\\\\&#34;InvoiceNo\\\\&#34;:\\\\&#34;541518\\\\&#34;,\\\\&#34;StockCode\\\\&#34;:\\\\&#34;10002\\\\&#34;,\\\\&#34;Description\\\\&#34;:\\\\&#34;12 PENCIL SMALL TUBE WOODLAND\\\\&#34;,\\\\&#34;Quantity\\\\&#34;:2,\\\\&#34;InvoiceDate\\\\&#34;:\\\\&#34;1/19/11 12:14\\\\&#34;,\\\\&#34;UnitPrice\\\\&#34;:0.18,\\\\&#34;CustomerID\\\\&#34;:12451},\\\\&#34;maxValues\\\\&#34;:{\\\\&#34;InvoiceNo\\\\&#34;:\\\\&#34;541569\\\\&#34;,\\\\&#34;StockCode\\\\&#34;:\\\\&#34;POST\\\\&#34;,\\\\&#34;Description\\\\&#34;:\\\\&#34;WRAP FOLK ART\\\\&#34;,\\\\&#34;Quantity\\\\&#34;:120,\\\\&#34;InvoiceDate\\\\&#34;:\\\\&#34;1/19/11 9:05\\\\&#34;,\\\\&#34;UnitPrice\\\\&#34;:40.0,\\\\&#34;CustomerID\\\\&#34;:13520},\\\\&#34;nullCount\\\\&#34;:{\\\\&#34;InvoiceNo\\\\&#34;:0,\\\\&#34;StockCode\\\\&#34;:0,\\\\&#34;Description\\\\&#34;:0,\\\\&#34;Quantity\\\\&#34;:0,\\\\&#34;InvoiceDate\\\\&#34;:0,\\\\&#34;UnitPrice\\\\&#34;:0,\\\\&#34;CustomerID\\\\&#34;:0}}&#34;}}\\n{&#34;add&#34;:{&#34;path&#34;:&#34;Country=United%20Kingdom/part-00001-94535568-da17-4530-822c-ecd0b1db86ae.c000.snappy.parquet&#34;,&#34;partitionValues&#34;:{&#34;Country&#34;:&#34;United Kingdom&#34;},&#34;size&#34;:120626,&#34;modificationTime&#34;:1586939982000,&#34;dataChange&#34;:true,&#34;stats&#34;:&#34;{\\\\&#34;numRecords\\\\&#34;:13228,\\\\&#34;minValues\\\\&#34;:{\\\\&#34;InvoiceNo\\\\&#34;:\\\\&#34;540644\\\\&#34;,\\\\&#34;StockCode\\\\&#34;:\\\\&#34;10002\\\\&#34;,\\\\&#34;Description\\\\&#34;:\\\\&#34; OVAL WALL MIRROR DIAMANTE \\\\&#34;,\\\\&#34;Quantity\\\\&#34;:-74215,\\\\&#34;InvoiceDate\\\\&#34;:\\\\&#34;1/10/11 14:16\\\\&#34;,\\\\&#34;UnitPrice\\\\&#34;:0.0,\\\\&#34;CustomerID\\\\&#34;:12346},\\\\&#34;maxValues\\\\&#34;:{\\\\&#34;InvoiceNo\\\\&#34;:\\\\&#34;C541694\\\\&#34;,\\\\&#34;StockCode\\\\&#34;:\\\\&#34;gift_0001_20\\\\&#34;,\\\\&#34;Description\\\\&#34;:\\\\&#34;found\\\\&#34;,\\\\&#34;Quantity\\\\&#34;:74215,\\\\&#34;InvoiceDate\\\\&#34;:\\\\&#34;1/20/11 9:53\\\\&#34;,\\\\&#34;UnitPrice\\\\&#34;:1283.8,\\\\&#34;CustomerID\\\\&#34;:18233},\\\\&#34;nullCount\\\\&#34;:{\\\\&#34;InvoiceNo\\\\&#34;:0,\\\\&#34;StockCode\\\\&#34;:0,\\\\&#34;Description\\\\&#34;:21,\\\\&#34;Quantity\\\\&#34;:0,\\\\&#34;InvoiceDate\\\\&#34;:0,\\\\&#34;UnitPrice\\\\&#34;:0,\\\\&#34;CustomerID\\\\&#34;:6877}}&#34;}}\\n&#39;</div>"
      ]
     },
     "metadata": {},
     "output_type": "display_data"
    }
   ],
   "source": [
    "dbutils.fs.head(deltaDataPath + \"/_delta_log/00000000000000000000.json\")"
   ]
  },
  {
   "cell_type": "markdown",
   "metadata": {},
   "source": [
    "Metadata is displayed through `DESCRIBE DETAIL <tableName>`.\n",
    "\n",
    "As long as we have some data in place already for a Databricks Delta table, we can infer schema."
   ]
  },
  {
   "cell_type": "code",
   "execution_count": 28,
   "metadata": {},
   "outputs": [
    {
     "data": {
      "text/html": [
       "<style scoped>\n",
       "  .table-result-container {\n",
       "    max-height: 300px;\n",
       "    overflow: auto;\n",
       "  }\n",
       "  table, th, td {\n",
       "    border: 1px solid black;\n",
       "    border-collapse: collapse;\n",
       "  }\n",
       "  th, td {\n",
       "    padding: 5px;\n",
       "  }\n",
       "  th {\n",
       "    text-align: left;\n",
       "  }\n",
       "</style><div class='table-result-container'><table class='table-result'><thead style='background-color: white'><tr><th>format</th><th>id</th><th>name</th><th>description</th><th>location</th><th>createdAt</th><th>lastModified</th><th>partitionColumns</th><th>numFiles</th><th>sizeInBytes</th><th>properties</th><th>minReaderVersion</th><th>minWriterVersion</th></tr></thead><tbody><tr><td>delta</td><td>74d08d98-36cc-43b9-aeff-b4f5993c0a27</td><td>null</td><td>null</td><td>dbfs:/user/jose.manuel.bustos.munoz@everis.com/delta/delta_02_create_psp/customer-data-delta</td><td>2020-04-15T08:39:35.766+0000</td><td>2020-04-15T08:39:52.000+0000</td><td>List(Country)</td><td>37</td><td>636918</td><td>Map()</td><td>1</td><td>2</td></tr></tbody></table></div>"
      ]
     },
     "metadata": {},
     "output_type": "display_data"
    }
   ],
   "source": [
    "sqlCmd = \"DESCRIBE DETAIL delta.`{}` \".format(deltaDataPath)\n",
    "display(spark.sql(sqlCmd))"
   ]
  },
  {
   "cell_type": "markdown",
   "metadata": {},
   "source": [
    "## Converting Parquet Workloads to Databricks Delta\n",
    "\n",
    "A Databricks Delta workload is defined by the presence of the `_delta_log` directory containing metadata files.\n",
    "\n",
    "Given a generic Parquet-based data lake, converting to Databricks Delta is quite straightforward.\n",
    "\n",
    "Suppose our Parquet-based data lake is found under `/data-pipeline`.\n",
    "\n",
    "To convert it to Databricks Delta, simply do\n",
    "\n",
    "> ```CONVERT TO DELTA parquet.`/data-pipeline` ``` <br>\n",
    "  ```[PARTITIONED BY (col_name1 col_type1, col_name2 col_type2, ...)] ```\n"
   ]
  },
  {
   "cell_type": "markdown",
   "metadata": {},
   "source": [
    "# LAB"
   ]
  },
  {
   "cell_type": "markdown",
   "metadata": {},
   "source": [
    "## Step 1\n",
    "\n",
    "Read in data in `outdoorSmallPath` using `inputSchema` to DataFrame `inventoryDF`.\n",
    "\n",
    "Use appropriate options, given that this is a CSV file."
   ]
  },
  {
   "cell_type": "code",
   "execution_count": 32,
   "metadata": {},
   "outputs": [
    {
     "data": {
      "text/html": [
       "<style scoped>\n",
       "  .ansiout {\n",
       "    display: block;\n",
       "    unicode-bidi: embed;\n",
       "    white-space: pre-wrap;\n",
       "    word-wrap: break-word;\n",
       "    word-break: break-all;\n",
       "    font-family: \"Source Code Pro\", \"Menlo\", monospace;;\n",
       "    font-size: 13px;\n",
       "    color: #555;\n",
       "    margin-left: 4px;\n",
       "    line-height: 19px;\n",
       "  }\n",
       "</style>\n",
       "<div class=\"ansiout\"></div>"
      ]
     },
     "metadata": {},
     "output_type": "display_data"
    }
   ],
   "source": [
    "# TODO\n",
    "outdoorSmallPath = \"/mnt/training/online_retail/outdoor-products/outdoor-products-small.csv\"\n",
    "inputSchema = \"InvoiceNo STRING, StockCode STRING, Description STRING, Quantity INT, InvoiceDate STRING, UnitPrice DOUBLE, CustomerID INT, Country STRING\"\n",
    "\n",
    "inventoryDF = (spark\n",
    "  .read        \n",
    "  .option(\"header\", \"true\")\n",
    "  .schema(inputSchema)  \n",
    "  .csv(outdoorSmallPath)   \n",
    ")"
   ]
  },
  {
   "cell_type": "code",
   "execution_count": 33,
   "metadata": {},
   "outputs": [
    {
     "data": {
      "text/html": [
       "<style scoped>\n",
       "  .ansiout {\n",
       "    display: block;\n",
       "    unicode-bidi: embed;\n",
       "    white-space: pre-wrap;\n",
       "    word-wrap: break-word;\n",
       "    word-break: break-all;\n",
       "    font-family: \"Source Code Pro\", \"Menlo\", monospace;;\n",
       "    font-size: 13px;\n",
       "    color: #555;\n",
       "    margin-left: 4px;\n",
       "    line-height: 19px;\n",
       "  }\n",
       "</style>\n",
       "<div class=\"ansiout\">Tests passed!\n",
       "</div>"
      ]
     },
     "metadata": {},
     "output_type": "display_data"
    }
   ],
   "source": [
    "# TEST - Run this cell to test your solution.\n",
    "inventoryCount = inventoryDF.count()\n",
    "\n",
    "dbTest(\"Delta-02-schemas\", 99999, inventoryCount)\n",
    "\n",
    "print(\"Tests passed!\")"
   ]
  },
  {
   "cell_type": "markdown",
   "metadata": {},
   "source": [
    "## Step 2\n",
    "\n",
    "Write data to a Databricks path `inventoryDataPath = workingDir + \"/inventory-data/\"` \n",
    "* Make sure to set the `format` to `delta`\n",
    "* Use overwrite mode \n",
    "* Partititon by `Country`"
   ]
  },
  {
   "cell_type": "code",
   "execution_count": 35,
   "metadata": {},
   "outputs": [
    {
     "data": {
      "text/html": [
       "<style scoped>\n",
       "  .ansiout {\n",
       "    display: block;\n",
       "    unicode-bidi: embed;\n",
       "    white-space: pre-wrap;\n",
       "    word-wrap: break-word;\n",
       "    word-break: break-all;\n",
       "    font-family: \"Source Code Pro\", \"Menlo\", monospace;;\n",
       "    font-size: 13px;\n",
       "    color: #555;\n",
       "    margin-left: 4px;\n",
       "    line-height: 19px;\n",
       "  }\n",
       "</style>\n",
       "<div class=\"ansiout\"></div>"
      ]
     },
     "metadata": {},
     "output_type": "display_data"
    }
   ],
   "source": [
    "# TODO\n",
    "inventoryDataPath = workingDir + \"/inventory-data/\"\n",
    "\n",
    "(inventoryDF\n",
    "  .write\n",
    "  .mode(\"overwrite\")\n",
    "  .format(\"delta\")\n",
    "  .partitionBy(\"Country\")\n",
    "  .save(inventoryDataPath)\n",
    ")"
   ]
  },
  {
   "cell_type": "code",
   "execution_count": 36,
   "metadata": {},
   "outputs": [
    {
     "data": {
      "text/html": [
       "<style scoped>\n",
       "  .ansiout {\n",
       "    display: block;\n",
       "    unicode-bidi: embed;\n",
       "    white-space: pre-wrap;\n",
       "    word-wrap: break-word;\n",
       "    word-break: break-all;\n",
       "    font-family: \"Source Code Pro\", \"Menlo\", monospace;;\n",
       "    font-size: 13px;\n",
       "    color: #555;\n",
       "    margin-left: 4px;\n",
       "    line-height: 19px;\n",
       "  }\n",
       "</style>\n",
       "<div class=\"ansiout\">Tests passed!\n",
       "</div>"
      ]
     },
     "metadata": {},
     "output_type": "display_data"
    }
   ],
   "source": [
    "# TEST - Run this cell to test your solution.\n",
    "try:\n",
    "  tableNotEmpty = spark.sql(\"SELECT count(*) FROM delta.`{}` \".format(inventoryDataPath)).first()[0] > 0\n",
    "except:\n",
    "  tableNotEmpty = False\n",
    "  \n",
    "dbTest(\"Delta-02-inventoryTableExists\", True, tableNotEmpty)  \n",
    "\n",
    "print(\"Tests passed!\")"
   ]
  },
  {
   "cell_type": "markdown",
   "metadata": {},
   "source": [
    "## Step 3\n",
    "\n",
    "Count number of records found under `inventoryDataPath` where the `Country` is `Sweden`."
   ]
  },
  {
   "cell_type": "code",
   "execution_count": 38,
   "metadata": {},
   "outputs": [
    {
     "data": {
      "text/html": [
       "<style scoped>\n",
       "  .ansiout {\n",
       "    display: block;\n",
       "    unicode-bidi: embed;\n",
       "    white-space: pre-wrap;\n",
       "    word-wrap: break-word;\n",
       "    word-break: break-all;\n",
       "    font-family: \"Source Code Pro\", \"Menlo\", monospace;;\n",
       "    font-size: 13px;\n",
       "    color: #555;\n",
       "    margin-left: 4px;\n",
       "    line-height: 19px;\n",
       "  }\n",
       "</style>\n",
       "<div class=\"ansiout\"></div>"
      ]
     },
     "metadata": {},
     "output_type": "display_data"
    }
   ],
   "source": [
    "count = spark.sql(\"SELECT count(*) as total FROM delta.`{}` WHERE Country='Sweden'\".format(inventoryDataPath)).first()[0]"
   ]
  },
  {
   "cell_type": "code",
   "execution_count": 39,
   "metadata": {},
   "outputs": [
    {
     "data": {
      "text/html": [
       "<style scoped>\n",
       "  .ansiout {\n",
       "    display: block;\n",
       "    unicode-bidi: embed;\n",
       "    white-space: pre-wrap;\n",
       "    word-wrap: break-word;\n",
       "    word-break: break-all;\n",
       "    font-family: \"Source Code Pro\", \"Menlo\", monospace;;\n",
       "    font-size: 13px;\n",
       "    color: #555;\n",
       "    margin-left: 4px;\n",
       "    line-height: 19px;\n",
       "  }\n",
       "</style>\n",
       "<div class=\"ansiout\">Tests passed!\n",
       "</div>"
      ]
     },
     "metadata": {},
     "output_type": "display_data"
    }
   ],
   "source": [
    "# TEST - Run this cell to test your solution.\n",
    "dbTest(\"Delta-L2-inventoryDataDelta-count\", 2925, count)\n",
    "print(\"Tests passed!\")"
   ]
  },
  {
   "cell_type": "code",
   "execution_count": 41,
   "metadata": {},
   "outputs": [],
   "source": [
    "%run \"./Includes/Classroom-Cleanup\""
   ]
  }
 ],
 "metadata": {
  "kernelspec": {
   "display_name": "Python 3",
   "language": "python",
   "name": "python3"
  },
  "language_info": {
   "codemirror_mode": {
    "name": "ipython",
    "version": 3
   },
   "file_extension": ".py",
   "mimetype": "text/x-python",
   "name": "python",
   "nbconvert_exporter": "python",
   "pygments_lexer": "ipython3",
   "version": "3.7.3"
  },
  "name": "Delta 02 - Create",
  "notebookId": 3227357976395175
 },
 "nbformat": 4,
 "nbformat_minor": 1
}
