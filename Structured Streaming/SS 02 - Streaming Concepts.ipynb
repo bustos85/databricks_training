{
 "cells": [
  {
   "cell_type": "code",
   "execution_count": 4,
   "metadata": {},
   "outputs": [],
   "source": [
    "%run \"./Includes/Classroom-Setup\""
   ]
  },
  {
   "cell_type": "markdown",
   "metadata": {},
   "source": [
    "<h2>Reading a Stream</h2>\n",
    "\n",
    "The method `SparkSession.readStream` returns a `DataStreamReader` used to configure the stream.\n",
    "\n",
    "There are a number of key points to the configuration of a `DataStreamReader`:\n",
    "* The schema\n",
    "* The type of stream: Files, Kafka, TCP/IP, etc\n",
    "* Configuration specific to the type of stream\n",
    "  * For files, the file type, the path to the files, max files, etc...\n",
    "  * For TCP/IP the server's address, port number, etc...\n",
    "  * For Kafka the server's address, port, topics, partitions, etc..."
   ]
  },
  {
   "cell_type": "markdown",
   "metadata": {},
   "source": [
    "### The Schema\n",
    "\n",
    "Every streaming DataFrame must have a schema - the definition of column names and data types.\n",
    "\n",
    "Some sources such as Kafka define the schema for you.\n",
    "\n",
    "In file-based streaming sources, for example, the schema is user-defined."
   ]
  },
  {
   "cell_type": "markdown",
   "metadata": {},
   "source": [
    "### Why must a schema be specified for a streaming DataFrame?\n",
    "\n",
    "To say that another way... \n",
    "\n",
    "### Why are streaming DataFrames unable to infer/read a schema?"
   ]
  },
  {
   "cell_type": "code",
   "execution_count": 10,
   "metadata": {},
   "outputs": [
    {
     "data": {
      "text/html": [
       "<style scoped>\n",
       "  .ansiout {\n",
       "    display: block;\n",
       "    unicode-bidi: embed;\n",
       "    white-space: pre-wrap;\n",
       "    word-wrap: break-word;\n",
       "    word-break: break-all;\n",
       "    font-family: \"Source Code Pro\", \"Menlo\", monospace;;\n",
       "    font-size: 13px;\n",
       "    color: #555;\n",
       "    margin-left: 4px;\n",
       "    line-height: 19px;\n",
       "  }\n",
       "</style>\n",
       "<div class=\"ansiout\"></div>"
      ]
     },
     "metadata": {},
     "output_type": "display_data"
    }
   ],
   "source": [
    "# Define the schema using a DDL-formatted string.\n",
    "dataSchema = \"Recorded_At timestamp, Device string, Index long, Model string, User string, _corrupt_record String, gt string, x double, y double, z double\""
   ]
  },
  {
   "cell_type": "markdown",
   "metadata": {},
   "source": [
    "### Configuring a File Stream\n",
    "\n",
    "In our example below, we will be consuming files written continuously to a pre-defined directory. \n",
    "\n",
    "To control how much data is pulled into Spark at once, we can specify the option `maxFilesPerTrigger`.\n",
    "\n",
    "In our example below, we will be reading in only one file for every trigger interval:\n",
    "\n",
    "`dsr.option(\"maxFilesPerTrigger\", 1)`\n",
    "\n",
    "Both the location and file type are specified with the following call, which itself returns a `DataFrame`:\n",
    "\n",
    "`df = dsr.json(dataPath)`"
   ]
  },
  {
   "cell_type": "code",
   "execution_count": 12,
   "metadata": {},
   "outputs": [
    {
     "data": {
      "text/html": [
       "<style scoped>\n",
       "  .ansiout {\n",
       "    display: block;\n",
       "    unicode-bidi: embed;\n",
       "    white-space: pre-wrap;\n",
       "    word-wrap: break-word;\n",
       "    word-break: break-all;\n",
       "    font-family: \"Source Code Pro\", \"Menlo\", monospace;;\n",
       "    font-size: 13px;\n",
       "    color: #555;\n",
       "    margin-left: 4px;\n",
       "    line-height: 19px;\n",
       "  }\n",
       "</style>\n",
       "<div class=\"ansiout\"></div>"
      ]
     },
     "metadata": {},
     "output_type": "display_data"
    }
   ],
   "source": [
    "dataPath = \"dbfs:/mnt/training/definitive-guide/data/activity-data-stream.json\"\n",
    "initialDF = (spark\n",
    "  .readStream                            # Returns DataStreamReader\n",
    "  .option(\"maxFilesPerTrigger\", 1)       # Force processing of only 1 file per trigger \n",
    "  .schema(dataSchema)                    # Required for all streaming DataFrames\n",
    "  .json(dataPath)                        # The stream's source directory and file type\n",
    ")"
   ]
  },
  {
   "cell_type": "markdown",
   "metadata": {},
   "source": [
    "And with the initial `DataFrame`, we can apply some transformations:"
   ]
  },
  {
   "cell_type": "code",
   "execution_count": 14,
   "metadata": {},
   "outputs": [
    {
     "data": {
      "text/html": [
       "<style scoped>\n",
       "  .ansiout {\n",
       "    display: block;\n",
       "    unicode-bidi: embed;\n",
       "    white-space: pre-wrap;\n",
       "    word-wrap: break-word;\n",
       "    word-break: break-all;\n",
       "    font-family: \"Source Code Pro\", \"Menlo\", monospace;;\n",
       "    font-size: 13px;\n",
       "    color: #555;\n",
       "    margin-left: 4px;\n",
       "    line-height: 19px;\n",
       "  }\n",
       "</style>\n",
       "<div class=\"ansiout\"></div>"
      ]
     },
     "metadata": {},
     "output_type": "display_data"
    }
   ],
   "source": [
    "streamingDF = (initialDF\n",
    "  .withColumnRenamed(\"Index\", \"User_ID\")  # Pick a \"better\" column name\n",
    "  .drop(\"_corrupt_record\")                # Remove an unnecessary column\n",
    ")"
   ]
  },
  {
   "cell_type": "markdown",
   "metadata": {},
   "source": [
    "### Streaming DataFrames\n",
    "\n",
    "Other than the call to `spark.readStream`, it looks just like any other `DataFrame`.\n",
    "\n",
    "But is it a \"streaming\" `DataFrame`?\n",
    "\n",
    "You can differentiate between a \"static\" and \"streaming\" `DataFrame` with the following call:"
   ]
  },
  {
   "cell_type": "code",
   "execution_count": 16,
   "metadata": {},
   "outputs": [
    {
     "data": {
      "text/html": [
       "<style scoped>\n",
       "  .ansiout {\n",
       "    display: block;\n",
       "    unicode-bidi: embed;\n",
       "    white-space: pre-wrap;\n",
       "    word-wrap: break-word;\n",
       "    word-break: break-all;\n",
       "    font-family: \"Source Code Pro\", \"Menlo\", monospace;;\n",
       "    font-size: 13px;\n",
       "    color: #555;\n",
       "    margin-left: 4px;\n",
       "    line-height: 19px;\n",
       "  }\n",
       "</style>\n",
       "<div class=\"ansiout\">Out[16]: True</div>"
      ]
     },
     "metadata": {},
     "output_type": "display_data"
    }
   ],
   "source": [
    "# Static vs Streaming?\n",
    "streamingDF.isStreaming"
   ]
  },
  {
   "cell_type": "markdown",
   "metadata": {},
   "source": [
    "### Unsupported Operations\n",
    "\n",
    "Most operations on a \"streaming\" DataFrame are identical to a \"static\" DataFrame.\n",
    "\n",
    "There are some exceptions to this.\n",
    "\n",
    "Some operations that are not supported by streaming are\n",
    "* Sorting our never-ending stream by `Recorded_At`.\n",
    "* Aggregating our stream by some criterion.\n",
    "\n",
    "We will see in the following module how we can solve this problem."
   ]
  },
  {
   "cell_type": "code",
   "execution_count": 18,
   "metadata": {},
   "outputs": [
    {
     "data": {
      "text/html": [
       "<style scoped>\n",
       "  .ansiout {\n",
       "    display: block;\n",
       "    unicode-bidi: embed;\n",
       "    white-space: pre-wrap;\n",
       "    word-wrap: break-word;\n",
       "    word-break: break-all;\n",
       "    font-family: \"Source Code Pro\", \"Menlo\", monospace;;\n",
       "    font-size: 13px;\n",
       "    color: #555;\n",
       "    margin-left: 4px;\n",
       "    line-height: 19px;\n",
       "  }\n",
       "</style>\n",
       "<div class=\"ansiout\">Sorting is not supported on an unaggregated stream\n",
       "</div>"
      ]
     },
     "metadata": {},
     "output_type": "display_data"
    }
   ],
   "source": [
    "from pyspark.sql.functions import col\n",
    "\n",
    "try:\n",
    "  sortedDF = streamingDF.orderBy(col(\"Recorded_At\").desc())\n",
    "  display(sortedDF)\n",
    "except:\n",
    "  print(\"Sorting is not supported on an unaggregated stream\")"
   ]
  },
  {
   "cell_type": "markdown",
   "metadata": {},
   "source": [
    "<h2>Writing a Stream</h2>\n",
    "\n",
    "The method `DataFrame.writeStream` returns a `DataStreamWriter` used to configure the output of the stream.\n",
    "\n",
    "There are a number of parameters to the `DataStreamWriter` configuration:\n",
    "* Query's name (optional) - This name must be unique among all the currently active queries in the associated SQLContext.\n",
    "* Trigger (optional) - Default value is `ProcessingTime(0`) and it will run the query as fast as possible.\n",
    "* Checkpointing directory (optional)\n",
    "* Output mode\n",
    "* Output sink\n",
    "* Configuration specific to the output sink, such as:\n",
    "  * The host, port and topic of the receiving Kafka server\n",
    "  * The file format and final destination of files\n",
    "  * A custom sink via `dsw.foreach(...)`\n",
    "\n",
    "Once the configuration is completed, we can trigger the job with a call to `dsw.start()`"
   ]
  },
  {
   "cell_type": "markdown",
   "metadata": {},
   "source": [
    "### Triggers\n",
    "\n",
    "The trigger specifies when the system should process the next set of data.\n",
    "\n",
    "| Trigger Type                           | Example | Notes |\n",
    "|----------------------------------------|-----------|-------------|\n",
    "| Unspecified                            |  | _DEFAULT_- The query will be executed as soon as the system has completed processing the previous query |\n",
    "| Fixed interval micro-batches           | `dsw.trigger(Trigger.ProcessingTime(\"6 hours\"))` | The query will be executed in micro-batches and kicked off at the user-specified intervals |\n",
    "| One-time micro-batch                   | `dsw.trigger(Trigger.Once())` | The query will execute _only one_ micro-batch to process all the available data and then stop on its own |\n",
    "| Continuous w/fixed checkpoint interval | `dsw.trigger(Trigger.Continuous(\"1 second\"))` | The query will be executed in a low-latency, continuous processing mode. _EXPERIMENTAL_ in 2.3.2 |\n",
    "\n",
    "In the example below, you will be using a fixed interval of 3 seconds:\n",
    "\n",
    "`dsw.trigger(Trigger.ProcessingTime(\"3 seconds\"))`"
   ]
  },
  {
   "cell_type": "markdown",
   "metadata": {},
   "source": [
    "### Checkpointing\n",
    "\n",
    "A <b>checkpoint</b> stores the current state of your streaming job to a reliable storage system such as Amazon S3or HDFS. It does not store the state of your streaming job to the local file system of any node in your cluster. \n",
    "\n",
    "Together with write ahead logs, a terminated stream can be restarted and it will continue from where it left off.\n",
    "\n",
    "To enable this feature, you only need to specify the location of a checkpoint directory:\n",
    "\n",
    "`dsw.option(\"checkpointLocation\", checkpointPath)`"
   ]
  },
  {
   "cell_type": "markdown",
   "metadata": {},
   "source": [
    "Points to consider:\n",
    "* If you do not have a checkpoint directory, when the streaming job stops, you lose all state around your streaming job and upon restart, you start from scratch.\n",
    "* For some sinks, you will get an error if you do not specify a checkpoint directory:<br/>\n",
    "`analysisException: 'checkpointLocation must be specified either through option(\"checkpointLocation\", ...)..`\n",
    "* Also note that every streaming job should have its own checkpoint directory: no sharing."
   ]
  },
  {
   "cell_type": "markdown",
   "metadata": {},
   "source": [
    "### Output Modes\n",
    "\n",
    "| Mode   | Example | Notes |\n",
    "| ------------- | ----------- |\n",
    "| **Complete** | `dsw.outputMode(\"complete\")` | The entire updated Result Table is written to the sink. The individual sink implementation decides how to handle writing the entire table. |\n",
    "| **Append** | `dsw.outputMode(\"append\")`     | Only the new rows appended to the Result Table since the last trigger are written to the sink. |\n",
    "| **Update** | `dsw.outputMode(\"update\")`     | Only the rows in the Result Table that were updated since the last trigger will be outputted to the sink. Since Spark 2.1.1 |\n",
    "\n",
    "In the example below, we are writing to a Parquet directory which only supports the `append` mode: \n",
    "\n",
    "`dsw.outputMode(\"append\")`"
   ]
  },
  {
   "cell_type": "markdown",
   "metadata": {},
   "source": [
    "### Output Sinks\n",
    "\n",
    "`DataStreamWriter.format` accepts the following values, among others:\n",
    "\n",
    "| Output Sink | Example                                          | Notes |\n",
    "| ----------- | ------------------------------------------------ | ----- |\n",
    "| **File**    | `dsw.format(\"parquet\")`, `dsw.format(\"csv\")`...  | Dumps the Result Table to a file. Supports Parquet, json, csv, etc.|\n",
    "| **Kafka**   | `dsw.format(\"kafka\")`      | Writes the output to one or more topics in Kafka |\n",
    "| **Console** | `dsw.format(\"console\")`    | Prints data to the console (useful for debugging) |\n",
    "| **Memory**  | `dsw.format(\"memory\")`     | Updates an in-memory table, which can be queried through Spark SQL or the DataFrame API |\n",
    "| **foreach** | `dsw.foreach(writer: ForeachWriter)` | This is your \"escape hatch\", allowing you to write your own type of sink. |\n",
    "| **Delta**    | `dsw.format(\"delta\")`     | A proprietary sink |\n",
    "\n",
    "In the example below, we will be appending files to a Parquet file and specifying its location with this call:\n",
    "\n",
    "`dsw.format(\"parquet\").start(outputPathDir)`"
   ]
  },
  {
   "cell_type": "markdown",
   "metadata": {},
   "source": [
    "<h2>Let's Do Some Streaming</h2>\n",
    "\n",
    "In the cell below, we write data from a streaming query to `outputPathDir`. \n",
    "\n",
    "There are a couple of things to note below:\n",
    "0. We are giving the query a name via the call to `queryName` . We can use this later to reference the query by name.\n",
    "0. Spark begins running jobs once we call `start`. This is equivalent to calling an action on a \"static\" DataFrame.\n",
    "0. The call to `start` returns a `StreamingQuery` object. We can use this to interact with the running query."
   ]
  },
  {
   "cell_type": "code",
   "execution_count": 27,
   "metadata": {},
   "outputs": [
    {
     "data": {
      "text/html": [
       "<style scoped>\n",
       "  .ansiout {\n",
       "    display: block;\n",
       "    unicode-bidi: embed;\n",
       "    white-space: pre-wrap;\n",
       "    word-wrap: break-word;\n",
       "    word-break: break-all;\n",
       "    font-family: \"Source Code Pro\", \"Menlo\", monospace;;\n",
       "    font-size: 13px;\n",
       "    color: #555;\n",
       "    margin-left: 4px;\n",
       "    line-height: 19px;\n",
       "  }\n",
       "</style>\n",
       "<div class=\"ansiout\"></div>"
      ]
     },
     "metadata": {},
     "output_type": "display_data"
    }
   ],
   "source": [
    "outputPathDir = workingDir + \"/output.parquet\" # A subdirectory for our output\n",
    "checkpointPath = workingDir + \"/checkpoint\"    # A subdirectory for our checkpoint & W-A logs\n",
    "myStreamName = \"lesson02_ps\"                   # An arbitrary name for the stream"
   ]
  },
  {
   "cell_type": "code",
   "execution_count": 28,
   "metadata": {},
   "outputs": [
    {
     "data": {
      "text/html": [
       "<style scoped>\n",
       "  .ansiout {\n",
       "    display: block;\n",
       "    unicode-bidi: embed;\n",
       "    white-space: pre-wrap;\n",
       "    word-wrap: break-word;\n",
       "    word-break: break-all;\n",
       "    font-family: \"Source Code Pro\", \"Menlo\", monospace;;\n",
       "    font-size: 13px;\n",
       "    color: #555;\n",
       "    margin-left: 4px;\n",
       "    line-height: 19px;\n",
       "  }\n",
       "</style>\n",
       "<div class=\"ansiout\"></div>"
      ]
     },
     "metadata": {},
     "output_type": "display_data"
    }
   ],
   "source": [
    "streamingQuery = (streamingDF                   # Start with our \"streaming\" DataFrame\n",
    "  .writeStream                                  # Get the DataStreamWriter\n",
    "  .queryName(myStreamName)                      # Name the query\n",
    "  .trigger(processingTime=\"3 seconds\")          # Configure for a 3-second micro-batch\n",
    "  .format(\"parquet\")                            # Specify the sink type, a Parquet file\n",
    "  .option(\"checkpointLocation\", checkpointPath) # Specify the location of checkpoint files & W-A logs\n",
    "  .outputMode(\"append\")                         # Write only new data to the \"file\"\n",
    "  .start(outputPathDir)                         # Start the job, writing to the specified directory\n",
    ")"
   ]
  },
  {
   "cell_type": "code",
   "execution_count": 29,
   "metadata": {},
   "outputs": [
    {
     "data": {
      "text/html": [
       "<style scoped>\n",
       "  .ansiout {\n",
       "    display: block;\n",
       "    unicode-bidi: embed;\n",
       "    white-space: pre-wrap;\n",
       "    word-wrap: break-word;\n",
       "    word-break: break-all;\n",
       "    font-family: \"Source Code Pro\", \"Menlo\", monospace;;\n",
       "    font-size: 13px;\n",
       "    color: #555;\n",
       "    margin-left: 4px;\n",
       "    line-height: 19px;\n",
       "  }\n",
       "</style>\n",
       "<div class=\"ansiout\">The stream lesson02_ps is active and ready.\n",
       "</div>"
      ]
     },
     "metadata": {},
     "output_type": "display_data"
    }
   ],
   "source": [
    "# Wait until stream is done initializing...\n",
    "# This method will be explained shortly.\n",
    "untilStreamIsReady(myStreamName)"
   ]
  },
  {
   "cell_type": "markdown",
   "metadata": {},
   "source": [
    "<h2>Managing Streaming Queries</h2>\n",
    "\n",
    "When a query is started, the `StreamingQuery` object can be used to monitor and manage the query.\n",
    "\n",
    "| Method    |  Description |\n",
    "| ----------- | ------------------------------- |\n",
    "|`id`| get unique identifier of the running query that persists across restarts from checkpoint data |\n",
    "|`runId`| get unique id of this run of the query, which will be generated at every start/restart |\n",
    "|`name`| get name of the auto-generated or user-specified name |\n",
    "|`explain()`| print detailed explanations of the query |\n",
    "|`stop()`| stop query |\n",
    "|`awaitTermination()`| block until query is terminated, with stop() or with error |\n",
    "|`exception`| exception if query terminated with error |\n",
    "|`recentProgress`| array of most recent progress updates for this query |\n",
    "|`lastProgress`| most recent progress update of this streaming query |"
   ]
  },
  {
   "cell_type": "code",
   "execution_count": 31,
   "metadata": {},
   "outputs": [
    {
     "data": {
      "text/html": [
       "<style scoped>\n",
       "  .ansiout {\n",
       "    display: block;\n",
       "    unicode-bidi: embed;\n",
       "    white-space: pre-wrap;\n",
       "    word-wrap: break-word;\n",
       "    word-break: break-all;\n",
       "    font-family: \"Source Code Pro\", \"Menlo\", monospace;;\n",
       "    font-size: 13px;\n",
       "    color: #555;\n",
       "    margin-left: 4px;\n",
       "    line-height: 19px;\n",
       "  }\n",
       "</style>\n",
       "<div class=\"ansiout\">Out[21]: [{&#39;id&#39;: &#39;462fc10d-2e08-4c5d-8bfd-3d7b85852d00&#39;,\n",
       "  &#39;runId&#39;: &#39;3a91311c-0eb1-43f3-b177-f609f99d7176&#39;,\n",
       "  &#39;name&#39;: &#39;lesson02_ps&#39;,\n",
       "  &#39;timestamp&#39;: &#39;2020-04-15T13:02:36.935Z&#39;,\n",
       "  &#39;batchId&#39;: 0,\n",
       "  &#39;numInputRows&#39;: 80096,\n",
       "  &#39;processedRowsPerSecond&#39;: 16897.890295358648,\n",
       "  &#39;durationMs&#39;: {&#39;addBatch&#39;: 3133,\n",
       "   &#39;getBatch&#39;: 61,\n",
       "   &#39;getOffset&#39;: 676,\n",
       "   &#39;queryPlanning&#39;: 12,\n",
       "   &#39;triggerExecution&#39;: 4740,\n",
       "   &#39;walCommit&#39;: 417},\n",
       "  &#39;stateOperators&#39;: [],\n",
       "  &#39;sources&#39;: [{&#39;description&#39;: &#39;FileStreamSource[dbfs:/mnt/training/definitive-guide/data/activity-data-stream.json]&#39;,\n",
       "    &#39;startOffset&#39;: None,\n",
       "    &#39;endOffset&#39;: {&#39;logOffset&#39;: 0},\n",
       "    &#39;numInputRows&#39;: 80096,\n",
       "    &#39;processedRowsPerSecond&#39;: 16897.890295358648}],\n",
       "  &#39;sink&#39;: {&#39;description&#39;: &#39;FileSink[dbfs:/user/jose.manuel.bustos.munoz@everis.com/structured_streaming/ss_02_streaming_concepts_psp/output.parquet]&#39;}},\n",
       " {&#39;id&#39;: &#39;462fc10d-2e08-4c5d-8bfd-3d7b85852d00&#39;,\n",
       "  &#39;runId&#39;: &#39;3a91311c-0eb1-43f3-b177-f609f99d7176&#39;,\n",
       "  &#39;name&#39;: &#39;lesson02_ps&#39;,\n",
       "  &#39;timestamp&#39;: &#39;2020-04-15T13:02:41.678Z&#39;,\n",
       "  &#39;batchId&#39;: 1,\n",
       "  &#39;numInputRows&#39;: 68545,\n",
       "  &#39;inputRowsPerSecond&#39;: 14451.823740248787,\n",
       "  &#39;processedRowsPerSecond&#39;: 20315.649081209245,\n",
       "  &#39;durationMs&#39;: {&#39;addBatch&#39;: 1976,\n",
       "   &#39;getBatch&#39;: 66,\n",
       "   &#39;getOffset&#39;: 534,\n",
       "   &#39;queryPlanning&#39;: 7,\n",
       "   &#39;triggerExecution&#39;: 3374,\n",
       "   &#39;walCommit&#39;: 388},\n",
       "  &#39;stateOperators&#39;: [],\n",
       "  &#39;sources&#39;: [{&#39;description&#39;: &#39;FileStreamSource[dbfs:/mnt/training/definitive-guide/data/activity-data-stream.json]&#39;,\n",
       "    &#39;startOffset&#39;: {&#39;logOffset&#39;: 0},\n",
       "    &#39;endOffset&#39;: {&#39;logOffset&#39;: 1},\n",
       "    &#39;numInputRows&#39;: 68545,\n",
       "    &#39;inputRowsPerSecond&#39;: 14451.823740248787,\n",
       "    &#39;processedRowsPerSecond&#39;: 20315.649081209245}],\n",
       "  &#39;sink&#39;: {&#39;description&#39;: &#39;FileSink[dbfs:/user/jose.manuel.bustos.munoz@everis.com/structured_streaming/ss_02_streaming_concepts_psp/output.parquet]&#39;}},\n",
       " {&#39;id&#39;: &#39;462fc10d-2e08-4c5d-8bfd-3d7b85852d00&#39;,\n",
       "  &#39;runId&#39;: &#39;3a91311c-0eb1-43f3-b177-f609f99d7176&#39;,\n",
       "  &#39;name&#39;: &#39;lesson02_ps&#39;,\n",
       "  &#39;timestamp&#39;: &#39;2020-04-15T13:02:45.052Z&#39;,\n",
       "  &#39;batchId&#39;: 2,\n",
       "  &#39;numInputRows&#39;: 71211,\n",
       "  &#39;inputRowsPerSecond&#39;: 21105.809128630706,\n",
       "  &#39;processedRowsPerSecond&#39;: 18784.225797942494,\n",
       "  &#39;durationMs&#39;: {&#39;addBatch&#39;: 2382,\n",
       "   &#39;getBatch&#39;: 62,\n",
       "   &#39;getOffset&#39;: 563,\n",
       "   &#39;queryPlanning&#39;: 6,\n",
       "   &#39;triggerExecution&#39;: 3791,\n",
       "   &#39;walCommit&#39;: 425},\n",
       "  &#39;stateOperators&#39;: [],\n",
       "  &#39;sources&#39;: [{&#39;description&#39;: &#39;FileStreamSource[dbfs:/mnt/training/definitive-guide/data/activity-data-stream.json]&#39;,\n",
       "    &#39;startOffset&#39;: {&#39;logOffset&#39;: 1},\n",
       "    &#39;endOffset&#39;: {&#39;logOffset&#39;: 2},\n",
       "    &#39;numInputRows&#39;: 71211,\n",
       "    &#39;inputRowsPerSecond&#39;: 21105.809128630706,\n",
       "    &#39;processedRowsPerSecond&#39;: 18784.225797942494}],\n",
       "  &#39;sink&#39;: {&#39;description&#39;: &#39;FileSink[dbfs:/user/jose.manuel.bustos.munoz@everis.com/structured_streaming/ss_02_streaming_concepts_psp/output.parquet]&#39;}},\n",
       " {&#39;id&#39;: &#39;462fc10d-2e08-4c5d-8bfd-3d7b85852d00&#39;,\n",
       "  &#39;runId&#39;: &#39;3a91311c-0eb1-43f3-b177-f609f99d7176&#39;,\n",
       "  &#39;name&#39;: &#39;lesson02_ps&#39;,\n",
       "  &#39;timestamp&#39;: &#39;2020-04-15T13:02:48.844Z&#39;,\n",
       "  &#39;batchId&#39;: 3,\n",
       "  &#39;numInputRows&#39;: 81992,\n",
       "  &#39;inputRowsPerSecond&#39;: 21622.362869198314,\n",
       "  &#39;processedRowsPerSecond&#39;: 21368.77769090435,\n",
       "  &#39;durationMs&#39;: {&#39;addBatch&#39;: 2355,\n",
       "   &#39;getBatch&#39;: 77,\n",
       "   &#39;getOffset&#39;: 445,\n",
       "   &#39;queryPlanning&#39;: 6,\n",
       "   &#39;triggerExecution&#39;: 3837,\n",
       "   &#39;walCommit&#39;: 434},\n",
       "  &#39;stateOperators&#39;: [],\n",
       "  &#39;sources&#39;: [{&#39;description&#39;: &#39;FileStreamSource[dbfs:/mnt/training/definitive-guide/data/activity-data-stream.json]&#39;,\n",
       "    &#39;startOffset&#39;: {&#39;logOffset&#39;: 2},\n",
       "    &#39;endOffset&#39;: {&#39;logOffset&#39;: 3},\n",
       "    &#39;numInputRows&#39;: 81992,\n",
       "    &#39;inputRowsPerSecond&#39;: 21622.362869198314,\n",
       "    &#39;processedRowsPerSecond&#39;: 21368.77769090435}],\n",
       "  &#39;sink&#39;: {&#39;description&#39;: &#39;FileSink[dbfs:/user/jose.manuel.bustos.munoz@everis.com/structured_streaming/ss_02_streaming_concepts_psp/output.parquet]&#39;}},\n",
       " {&#39;id&#39;: &#39;462fc10d-2e08-4c5d-8bfd-3d7b85852d00&#39;,\n",
       "  &#39;runId&#39;: &#39;3a91311c-0eb1-43f3-b177-f609f99d7176&#39;,\n",
       "  &#39;name&#39;: &#39;lesson02_ps&#39;,\n",
       "  &#39;timestamp&#39;: &#39;2020-04-15T13:02:52.682Z&#39;,\n",
       "  &#39;batchId&#39;: 4,\n",
       "  &#39;numInputRows&#39;: 73878,\n",
       "  &#39;inputRowsPerSecond&#39;: 19249.088066701406,\n",
       "  &#39;processedRowsPerSecond&#39;: 19658.861096327833,\n",
       "  &#39;durationMs&#39;: {&#39;addBatch&#39;: 2342,\n",
       "   &#39;getBatch&#39;: 59,\n",
       "   &#39;getOffset&#39;: 471,\n",
       "   &#39;queryPlanning&#39;: 6,\n",
       "   &#39;triggerExecution&#39;: 3758,\n",
       "   &#39;walCommit&#39;: 425},\n",
       "  &#39;stateOperators&#39;: [],\n",
       "  &#39;sources&#39;: [{&#39;description&#39;: &#39;FileStreamSource[dbfs:/mnt/training/definitive-guide/data/activity-data-stream.json]&#39;,\n",
       "    &#39;startOffset&#39;: {&#39;logOffset&#39;: 3},\n",
       "    &#39;endOffset&#39;: {&#39;logOffset&#39;: 4},\n",
       "    &#39;numInputRows&#39;: 73878,\n",
       "    &#39;inputRowsPerSecond&#39;: 19249.088066701406,\n",
       "    &#39;processedRowsPerSecond&#39;: 19658.861096327833}],\n",
       "  &#39;sink&#39;: {&#39;description&#39;: &#39;FileSink[dbfs:/user/jose.manuel.bustos.munoz@everis.com/structured_streaming/ss_02_streaming_concepts_psp/output.parquet]&#39;}}]</div>"
      ]
     },
     "metadata": {},
     "output_type": "display_data"
    }
   ],
   "source": [
    "streamingQuery.recentProgress"
   ]
  },
  {
   "cell_type": "markdown",
   "metadata": {},
   "source": [
    "Additionally, we can iterate over a list of active streams:"
   ]
  },
  {
   "cell_type": "code",
   "execution_count": 33,
   "metadata": {},
   "outputs": [
    {
     "data": {
      "text/html": [
       "<style scoped>\n",
       "  .ansiout {\n",
       "    display: block;\n",
       "    unicode-bidi: embed;\n",
       "    white-space: pre-wrap;\n",
       "    word-wrap: break-word;\n",
       "    word-break: break-all;\n",
       "    font-family: \"Source Code Pro\", \"Menlo\", monospace;;\n",
       "    font-size: 13px;\n",
       "    color: #555;\n",
       "    margin-left: 4px;\n",
       "    line-height: 19px;\n",
       "  }\n",
       "</style>\n",
       "<div class=\"ansiout\">462fc10d-2e08-4c5d-8bfd-3d7b85852d00: lesson02_ps\n",
       "</div>"
      ]
     },
     "metadata": {},
     "output_type": "display_data"
    }
   ],
   "source": [
    "for s in spark.streams.active:         # Iterate over all streams\n",
    "  print(\"{}: {}\".format(s.id, s.name)) # Print the stream's id and name"
   ]
  },
  {
   "cell_type": "markdown",
   "metadata": {},
   "source": [
    "The code below introduces **`awaitTermination()`**\n",
    "\n",
    "**`awaitTermination()`** will block the current thread\n",
    "* Until the stream stops naturally or \n",
    "* Until the specified timeout elapses (if specified)\n",
    "\n",
    "If the stream was \"canceled\" or otherwise terminated abnormally, any resulting exceptions will be thrown by **`awaitTermination()`** as well."
   ]
  },
  {
   "cell_type": "code",
   "execution_count": 35,
   "metadata": {},
   "outputs": [
    {
     "data": {
      "text/html": [
       "<style scoped>\n",
       "  .ansiout {\n",
       "    display: block;\n",
       "    unicode-bidi: embed;\n",
       "    white-space: pre-wrap;\n",
       "    word-wrap: break-word;\n",
       "    word-break: break-all;\n",
       "    font-family: \"Source Code Pro\", \"Menlo\", monospace;;\n",
       "    font-size: 13px;\n",
       "    color: #555;\n",
       "    margin-left: 4px;\n",
       "    line-height: 19px;\n",
       "  }\n",
       "</style>\n",
       "<div class=\"ansiout\"></div>"
      ]
     },
     "metadata": {},
     "output_type": "display_data"
    }
   ],
   "source": [
    "try:\n",
    "  \n",
    "  # Stream for up to 10 seconds while the current thread blocks  \n",
    "  streamingQuery.awaitTermination(10)  \n",
    "  \n",
    "except Exception as e:\n",
    "  print(e)"
   ]
  },
  {
   "cell_type": "markdown",
   "metadata": {},
   "source": [
    "Wait for it... And once the 10 seconds have elapsed without any error, we can explictly stop the stream."
   ]
  },
  {
   "cell_type": "code",
   "execution_count": 37,
   "metadata": {},
   "outputs": [
    {
     "data": {
      "text/html": [
       "<style scoped>\n",
       "  .ansiout {\n",
       "    display: block;\n",
       "    unicode-bidi: embed;\n",
       "    white-space: pre-wrap;\n",
       "    word-wrap: break-word;\n",
       "    word-break: break-all;\n",
       "    font-family: \"Source Code Pro\", \"Menlo\", monospace;;\n",
       "    font-size: 13px;\n",
       "    color: #555;\n",
       "    margin-left: 4px;\n",
       "    line-height: 19px;\n",
       "  }\n",
       "</style>\n",
       "<div class=\"ansiout\"></div>"
      ]
     },
     "metadata": {},
     "output_type": "display_data"
    }
   ],
   "source": [
    "try:\n",
    "  \n",
    "  # Issue the command to stop the stream\n",
    "  streamingQuery.stop()\n",
    "\n",
    "except Exception:\n",
    "  print(e)"
   ]
  },
  {
   "cell_type": "markdown",
   "metadata": {},
   "source": [
    "When working with streams, we are in reality, working with a separate \"thread\". \n",
    "\n",
    "As a result, different exceptions may arise as streams are terminated and/or queried.\n",
    "\n",
    "For this reason, we have developed a number of utility methods to help with these operations:\n",
    "* **`untilStreamIsReady(name)`** to wait until a stream is fully initialized before resuming execution.\n",
    "* **`stopAllStreams()`** to stop all active streams in a fail-safe manner.\n",
    "\n",
    "The implementation of each of these can be found in the notebook **`./Includes/Common-Notebooks/Utility-Methods`**"
   ]
  },
  {
   "cell_type": "markdown",
   "metadata": {},
   "source": [
    "<h2>The Display function</h2>\n",
    "\n",
    "Within the Databricks notebooks, we can use the `display()` function to render a live plot\n",
    "\n",
    "#### One Gotcha!\n",
    "When you pass a \"streaming\" `DataFrame` to `display`:\n",
    "* A \"memory\" sink is being used\n",
    "* The output mode is complete\n",
    "* The query name is specified with the `streamName` parameter\n",
    "* The trigger is specified with the `trigger` parameter\n",
    "* The checkpointing location is specified with the `checkpointLocation`\n",
    "\n",
    "`display(myDF, streamName = \"myQuery\")`\n",
    "\n",
    "We just programmatically stopped our only streaming query in the previous cell. In the cell below, `display` will automatically start our streaming DataFrame, `streamingDF`.  We are passing `stream_2p` as the name for this newly started stream."
   ]
  },
  {
   "cell_type": "code",
   "execution_count": 40,
   "metadata": {},
   "outputs": [
    {
     "data": {
      "text/html": [
       "<style scoped>\n",
       "  .table-result-container {\n",
       "    max-height: 300px;\n",
       "    overflow: auto;\n",
       "  }\n",
       "  table, th, td {\n",
       "    border: 1px solid black;\n",
       "    border-collapse: collapse;\n",
       "  }\n",
       "  th, td {\n",
       "    padding: 5px;\n",
       "  }\n",
       "  th {\n",
       "    text-align: left;\n",
       "  }\n",
       "</style><div class='table-result-container'><table class='table-result'><thead style='background-color: white'><tr><th>Recorded_At</th><th>Device</th><th>User_ID</th><th>Model</th><th>User</th><th>gt</th><th>x</th><th>y</th><th>z</th></tr></thead><tbody><tr><td>2015-02-23T10:18:54.958+0000</td><td>nexus4_2</td><td>0</td><td>nexus4</td><td>g</td><td>stand</td><td>-3.814697E-4</td><td>0.03656006</td><td>0.030136108</td></tr><tr><td>2015-02-23T10:18:54.964+0000</td><td>nexus4_2</td><td>1</td><td>nexus4</td><td>g</td><td>stand</td><td>-0.001449585</td><td>0.035491943</td><td>0.027999878</td></tr><tr><td>2015-02-23T10:18:54.968+0000</td><td>nexus4_2</td><td>2</td><td>nexus4</td><td>g</td><td>stand</td><td>6.866455E-4</td><td>0.033355713</td><td>0.030136108</td></tr><tr><td>2015-02-23T10:18:54.976+0000</td><td>nexus4_2</td><td>3</td><td>nexus4</td><td>g</td><td>stand</td><td>6.866455E-4</td><td>0.033355713</td><td>0.022659302</td></tr><tr><td>2015-02-23T10:18:54.978+0000</td><td>nexus4_2</td><td>4</td><td>nexus4</td><td>g</td><td>stand</td><td>-3.814697E-4</td><td>0.030151367</td><td>0.025863647</td></tr><tr><td>2015-02-23T10:18:54.992+0000</td><td>nexus4_2</td><td>5</td><td>nexus4</td><td>g</td><td>stand</td><td>-3.814697E-4</td><td>0.025878906</td><td>0.023727417</td></tr><tr><td>2015-02-23T10:18:54.992+0000</td><td>nexus4_2</td><td>6</td><td>nexus4</td><td>g</td><td>stand</td><td>-0.001449585</td><td>0.02267456</td><td>0.023727417</td></tr><tr><td>2015-02-23T10:18:54.996+0000</td><td>nexus4_2</td><td>7</td><td>nexus4</td><td>g</td><td>stand</td><td>-3.814697E-4</td><td>0.019470215</td><td>0.024795532</td></tr><tr><td>2015-02-23T10:18:54.999+0000</td><td>nexus4_2</td><td>8</td><td>nexus4</td><td>g</td><td>stand</td><td>6.866455E-4</td><td>0.01626587</td><td>0.021591187</td></tr><tr><td>2015-02-23T10:18:55.000+0000</td><td>nexus4_1</td><td>0</td><td>nexus4</td><td>g</td><td>stand</td><td>0.80996704</td><td>-0.34129333</td><td>-0.1672821</td></tr><tr><td>2015-02-23T10:18:55.001+0000</td><td>nexus4_1</td><td>1</td><td>nexus4</td><td>g</td><td>stand</td><td>3.356934E-4</td><td>0.034683228</td><td>0.014297485</td></tr><tr><td>2015-02-23T10:18:55.005+0000</td><td>nexus4_2</td><td>9</td><td>nexus4</td><td>g</td><td>stand</td><td>-3.814697E-4</td><td>0.0087890625</td><td>0.021591187</td></tr><tr><td>2015-02-23T10:18:55.006+0000</td><td>nexus4_1</td><td>2</td><td>nexus4</td><td>g</td><td>stand</td><td>0.0014038086</td><td>0.035751343</td><td>0.014297485</td></tr><tr><td>2015-02-23T10:18:55.010+0000</td><td>nexus4_2</td><td>10</td><td>nexus4</td><td>g</td><td>stand</td><td>-3.814697E-4</td><td>0.0034484863</td><td>0.020523071</td></tr><tr><td>2015-02-23T10:18:55.011+0000</td><td>nexus4_1</td><td>3</td><td>nexus4</td><td>g</td><td>stand</td><td>0.0014038086</td><td>0.03147888</td><td>0.01109314</td></tr><tr><td>2015-02-23T10:18:55.014+0000</td><td>nexus4_2</td><td>11</td><td>nexus4</td><td>g</td><td>stand</td><td>6.866455E-4</td><td>2.441406E-4</td><td>0.019454956</td></tr><tr><td>2015-02-23T10:18:55.020+0000</td><td>nexus4_2</td><td>12</td><td>nexus4</td><td>g</td><td>stand</td><td>6.866455E-4</td><td>-0.007232666</td><td>0.019454956</td></tr><tr><td>2015-02-23T10:18:55.020+0000</td><td>nexus4_1</td><td>4</td><td>nexus4</td><td>g</td><td>stand</td><td>3.356934E-4</td><td>0.02720642</td><td>0.010025024</td></tr><tr><td>2015-02-23T10:18:55.021+0000</td><td>nexus4_1</td><td>5</td><td>nexus4</td><td>g</td><td>stand</td><td>-7.324219E-4</td><td>0.026138306</td><td>0.0068206787</td></tr><tr><td>2015-02-23T10:18:55.025+0000</td><td>nexus4_2</td><td>13</td><td>nexus4</td><td>g</td><td>stand</td><td>-0.001449585</td><td>-0.012573242</td><td>0.019454956</td></tr><tr><td>2015-02-23T10:18:55.030+0000</td><td>nexus4_2</td><td>14</td><td>nexus4</td><td>g</td><td>stand</td><td>-3.814697E-4</td><td>-0.015777588</td><td>0.020523071</td></tr><tr><td>2015-02-23T10:18:55.032+0000</td><td>nexus4_1</td><td>6</td><td>nexus4</td><td>g</td><td>stand</td><td>3.356934E-4</td><td>0.024002075</td><td>0.0068206787</td></tr><tr><td>2015-02-23T10:18:55.033+0000</td><td>nexus4_1</td><td>7</td><td>nexus4</td><td>g</td><td>stand</td><td>0.0014038086</td><td>0.019729614</td><td>4.119873E-4</td></tr><tr><td>2015-02-23T10:18:55.037+0000</td><td>nexus4_1</td><td>8</td><td>nexus4</td><td>g</td><td>stand</td><td>3.356934E-4</td><td>0.017593384</td><td>-0.0017242432</td></tr><tr><td>2015-02-23T10:18:55.040+0000</td><td>nexus4_2</td><td>15</td><td>nexus4</td><td>g</td><td>stand</td><td>-0.001449585</td><td>-0.021118164</td><td>0.021591187</td></tr><tr><td>2015-02-23T10:18:55.040+0000</td><td>nexus4_2</td><td>16</td><td>nexus4</td><td>g</td><td>stand</td><td>-3.814697E-4</td><td>-0.02218628</td><td>0.023727417</td></tr><tr><td>2015-02-23T10:18:55.041+0000</td><td>nexus4_1</td><td>9</td><td>nexus4</td><td>g</td><td>stand</td><td>-7.324219E-4</td><td>0.015457153</td><td>-0.0027923584</td></tr><tr><td>2015-02-23T10:18:55.045+0000</td><td>nexus4_2</td><td>17</td><td>nexus4</td><td>g</td><td>stand</td><td>-3.814697E-4</td><td>-0.02432251</td><td>0.023727417</td></tr><tr><td>2015-02-23T10:18:55.050+0000</td><td>nexus4_2</td><td>18</td><td>nexus4</td><td>g</td><td>stand</td><td>-3.814697E-4</td><td>-0.02645874</td><td>0.03440857</td></tr><tr><td>2015-02-23T10:18:55.054+0000</td><td>nexus4_1</td><td>10</td><td>nexus4</td><td>g</td><td>stand</td><td>0.0014038086</td><td>0.010116577</td><td>-0.004928589</td></tr><tr><td>2015-02-23T10:18:55.055+0000</td><td>nexus4_1</td><td>11</td><td>nexus4</td><td>g</td><td>stand</td><td>0.0014038086</td><td>0.005844116</td><td>-0.008132935</td></tr><tr><td>2015-02-23T10:18:55.055+0000</td><td>nexus4_2</td><td>19</td><td>nexus4</td><td>g</td><td>stand</td><td>-0.0025177002</td><td>-0.030731201</td><td>0.027999878</td></tr><tr><td>2015-02-23T10:18:55.056+0000</td><td>nexus4_1</td><td>12</td><td>nexus4</td><td>g</td><td>stand</td><td>0.0024719238</td><td>0.004776001</td><td>-0.00920105</td></tr><tr><td>2015-02-23T10:18:55.060+0000</td><td>nexus4_2</td><td>20</td><td>nexus4</td><td>g</td><td>stand</td><td>-0.0025177002</td><td>-0.035003662</td><td>0.030136108</td></tr><tr><td>2015-02-23T10:18:55.062+0000</td><td>nexus4_1</td><td>13</td><td>nexus4</td><td>g</td><td>stand</td><td>0.003540039</td><td>0.0015716553</td><td>-0.01133728</td></tr><tr><td>2015-02-23T10:18:55.065+0000</td><td>nexus4_2</td><td>21</td><td>nexus4</td><td>g</td><td>stand</td><td>-0.0025177002</td><td>-0.037139893</td><td>0.03227234</td></tr><tr><td>2015-02-23T10:18:55.070+0000</td><td>nexus4_2</td><td>22</td><td>nexus4</td><td>g</td><td>stand</td><td>-3.814697E-4</td><td>-0.039276123</td><td>0.031204224</td></tr><tr><td>2015-02-23T10:18:55.073+0000</td><td>nexus4_1</td><td>15</td><td>nexus4</td><td>g</td><td>stand</td><td>0.0014038086</td><td>-0.003768921</td><td>-0.014541626</td></tr><tr><td>2015-02-23T10:18:55.073+0000</td><td>nexus4_1</td><td>14</td><td>nexus4</td><td>g</td><td>stand</td><td>0.0024719238</td><td>-0.0027008057</td><td>-0.01133728</td></tr><tr><td>2015-02-23T10:18:55.075+0000</td><td>nexus4_2</td><td>23</td><td>nexus4</td><td>g</td><td>stand</td><td>-3.814697E-4</td><td>-0.039276123</td><td>0.035476685</td></tr><tr><td>2015-02-23T10:18:55.077+0000</td><td>nexus4_1</td><td>16</td><td>nexus4</td><td>g</td><td>stand</td><td>0.0014038086</td><td>-0.0027008057</td><td>-0.016677856</td></tr><tr><td>2015-02-23T10:18:55.080+0000</td><td>nexus4_2</td><td>24</td><td>nexus4</td><td>g</td><td>stand</td><td>6.866455E-4</td><td>-0.041412354</td><td>0.031204224</td></tr><tr><td>2015-02-23T10:18:55.081+0000</td><td>nexus4_1</td><td>17</td><td>nexus4</td><td>g</td><td>stand</td><td>0.0014038086</td><td>-0.0027008057</td><td>-0.017745972</td></tr><tr><td>2015-02-23T10:18:55.090+0000</td><td>nexus4_2</td><td>25</td><td>nexus4</td><td>g</td><td>stand</td><td>6.866455E-4</td><td>-0.04034424</td><td>0.03868103</td></tr><tr><td>2015-02-23T10:18:55.090+0000</td><td>nexus4_1</td><td>18</td><td>nexus4</td><td>g</td><td>stand</td><td>3.356934E-4</td><td>-5.645752E-4</td><td>-0.018814087</td></tr><tr><td>2015-02-23T10:18:55.091+0000</td><td>nexus4_2</td><td>26</td><td>nexus4</td><td>g</td><td>stand</td><td>0.0017547607</td><td>-0.04034424</td><td>0.03440857</td></tr><tr><td>2015-02-23T10:18:55.093+0000</td><td>nexus4_1</td><td>19</td><td>nexus4</td><td>g</td><td>stand</td><td>3.356934E-4</td><td>5.0354E-4</td><td>-0.018814087</td></tr><tr><td>2015-02-23T10:18:55.098+0000</td><td>nexus4_2</td><td>27</td><td>nexus4</td><td>g</td><td>stand</td><td>6.866455E-4</td><td>-0.04248047</td><td>0.0365448</td></tr><tr><td>2015-02-23T10:18:55.098+0000</td><td>nexus4_1</td><td>20</td><td>nexus4</td><td>g</td><td>stand</td><td>3.356934E-4</td><td>0.0037078857</td><td>-0.017745972</td></tr><tr><td>2015-02-23T10:18:55.099+0000</td><td>nexus4_2</td><td>28</td><td>nexus4</td><td>g</td><td>stand</td><td>6.866455E-4</td><td>-0.039276123</td><td>0.037612915</td></tr><tr><td>2015-02-23T10:18:55.102+0000</td><td>nexus4_1</td><td>21</td><td>nexus4</td><td>g</td><td>stand</td><td>0.0014038086</td><td>0.004776001</td><td>-0.019882202</td></tr><tr><td>2015-02-23T10:18:55.108+0000</td><td>nexus4_1</td><td>22</td><td>nexus4</td><td>g</td><td>stand</td><td>0.0014038086</td><td>0.004776001</td><td>-0.018814087</td></tr><tr><td>2015-02-23T10:18:55.109+0000</td><td>nexus4_2</td><td>29</td><td>nexus4</td><td>g</td><td>stand</td><td>6.866455E-4</td><td>-0.04034424</td><td>0.035476685</td></tr><tr><td>2015-02-23T10:18:55.110+0000</td><td>nexus4_2</td><td>30</td><td>nexus4</td><td>g</td><td>stand</td><td>0.0017547607</td><td>-0.04034424</td><td>0.0365448</td></tr><tr><td>2015-02-23T10:18:55.112+0000</td><td>nexus4_1</td><td>23</td><td>nexus4</td><td>g</td><td>stand</td><td>3.356934E-4</td><td>0.0026397705</td><td>-0.018814087</td></tr><tr><td>2015-02-23T10:18:55.115+0000</td><td>nexus4_2</td><td>31</td><td>nexus4</td><td>g</td><td>stand</td><td>0.0017547607</td><td>-0.041412354</td><td>0.035476685</td></tr><tr><td>2015-02-23T10:18:55.120+0000</td><td>nexus4_1</td><td>24</td><td>nexus4</td><td>g</td><td>stand</td><td>3.356934E-4</td><td>0.0026397705</td><td>-0.019882202</td></tr><tr><td>2015-02-23T10:18:55.122+0000</td><td>nexus4_2</td><td>32</td><td>nexus4</td><td>g</td><td>stand</td><td>6.866455E-4</td><td>-0.04034424</td><td>0.039749146</td></tr><tr><td>2015-02-23T10:18:55.122+0000</td><td>nexus4_1</td><td>25</td><td>nexus4</td><td>g</td><td>stand</td><td>3.356934E-4</td><td>0.0037078857</td><td>-0.018814087</td></tr><tr><td>2015-02-23T10:18:55.125+0000</td><td>nexus4_2</td><td>33</td><td>nexus4</td><td>g</td><td>stand</td><td>6.866455E-4</td><td>-0.041412354</td><td>0.035476685</td></tr><tr><td>2015-02-23T10:18:55.134+0000</td><td>nexus4_2</td><td>34</td><td>nexus4</td><td>g</td><td>stand</td><td>0.0017547607</td><td>-0.043548584</td><td>0.0365448</td></tr><tr><td>2015-02-23T10:18:55.134+0000</td><td>nexus4_1</td><td>26</td><td>nexus4</td><td>g</td><td>stand</td><td>-7.324219E-4</td><td>0.0037078857</td><td>-0.019882202</td></tr><tr><td>2015-02-23T10:18:55.135+0000</td><td>nexus4_2</td><td>35</td><td>nexus4</td><td>g</td><td>stand</td><td>0.002822876</td><td>-0.047821045</td><td>0.035476685</td></tr><tr><td>2015-02-23T10:18:55.135+0000</td><td>nexus4_1</td><td>27</td><td>nexus4</td><td>g</td><td>stand</td><td>3.356934E-4</td><td>0.004776001</td><td>-0.022018433</td></tr><tr><td>2015-02-23T10:18:55.139+0000</td><td>nexus4_1</td><td>28</td><td>nexus4</td><td>g</td><td>stand</td><td>3.356934E-4</td><td>0.005844116</td><td>-0.022018433</td></tr><tr><td>2015-02-23T10:18:55.140+0000</td><td>nexus4_2</td><td>36</td><td>nexus4</td><td>g</td><td>stand</td><td>0.0038909912</td><td>-0.04888916</td><td>0.033340454</td></tr><tr><td>2015-02-23T10:18:55.143+0000</td><td>nexus4_1</td><td>29</td><td>nexus4</td><td>g</td><td>stand</td><td>-0.0018005371</td><td>0.0015716553</td><td>-0.018814087</td></tr><tr><td>2015-02-23T10:18:55.145+0000</td><td>nexus4_2</td><td>37</td><td>nexus4</td><td>g</td><td>stand</td><td>0.002822876</td><td>-0.049957275</td><td>0.037612915</td></tr><tr><td>2015-02-23T10:18:55.149+0000</td><td>nexus4_1</td><td>30</td><td>nexus4</td><td>g</td><td>stand</td><td>-7.324219E-4</td><td>0.0037078857</td><td>-0.017745972</td></tr><tr><td>2015-02-23T10:18:55.150+0000</td><td>nexus4_2</td><td>38</td><td>nexus4</td><td>g</td><td>stand</td><td>0.002822876</td><td>-0.05102539</td><td>0.033340454</td></tr><tr><td>2015-02-23T10:18:55.154+0000</td><td>nexus4_1</td><td>31</td><td>nexus4</td><td>g</td><td>stand</td><td>-7.324219E-4</td><td>0.0015716553</td><td>-0.016677856</td></tr><tr><td>2015-02-23T10:18:55.155+0000</td><td>nexus4_2</td><td>39</td><td>nexus4</td><td>g</td><td>stand</td><td>6.866455E-4</td><td>-0.052093506</td><td>0.035476685</td></tr><tr><td>2015-02-23T10:18:55.159+0000</td><td>nexus4_1</td><td>32</td><td>nexus4</td><td>g</td><td>stand</td><td>3.356934E-4</td><td>0.0015716553</td><td>-0.01133728</td></tr><tr><td>2015-02-23T10:18:55.160+0000</td><td>nexus4_2</td><td>40</td><td>nexus4</td><td>g</td><td>stand</td><td>6.866455E-4</td><td>-0.054229736</td><td>0.03227234</td></tr><tr><td>2015-02-23T10:18:55.164+0000</td><td>nexus4_1</td><td>33</td><td>nexus4</td><td>g</td><td>stand</td><td>3.356934E-4</td><td>0.0015716553</td><td>-0.014541626</td></tr><tr><td>2015-02-23T10:18:55.169+0000</td><td>nexus4_2</td><td>41</td><td>nexus4</td><td>g</td><td>stand</td><td>6.866455E-4</td><td>-0.05316162</td><td>0.031204224</td></tr><tr><td>2015-02-23T10:18:55.169+0000</td><td>nexus4_1</td><td>34</td><td>nexus4</td><td>g</td><td>stand</td><td>0.0014038086</td><td>0.0026397705</td><td>-0.01133728</td></tr><tr><td>2015-02-23T10:18:55.170+0000</td><td>nexus4_2</td><td>42</td><td>nexus4</td><td>g</td><td>stand</td><td>-0.001449585</td><td>-0.05529785</td><td>0.031204224</td></tr><tr><td>2015-02-23T10:18:55.175+0000</td><td>nexus4_1</td><td>35</td><td>nexus4</td><td>g</td><td>stand</td><td>0.0014038086</td><td>5.0354E-4</td><td>-0.0124053955</td></tr><tr><td>2015-02-23T10:18:55.175+0000</td><td>nexus4_2</td><td>43</td><td>nexus4</td><td>g</td><td>stand</td><td>-0.0025177002</td><td>-0.054229736</td><td>0.025863647</td></tr><tr><td>2015-02-23T10:18:55.179+0000</td><td>nexus4_1</td><td>36</td><td>nexus4</td><td>g</td><td>stand</td><td>3.356934E-4</td><td>-5.645752E-4</td><td>-0.013473511</td></tr><tr><td>2015-02-23T10:18:55.180+0000</td><td>nexus4_2</td><td>44</td><td>nexus4</td><td>g</td><td>stand</td><td>-0.006790161</td><td>-0.05102539</td><td>0.020523071</td></tr><tr><td>2015-02-23T10:18:55.183+0000</td><td>nexus4_1</td><td>37</td><td>nexus4</td><td>g</td><td>stand</td><td>0.0014038086</td><td>-0.0027008057</td><td>-0.0124053955</td></tr><tr><td>2015-02-23T10:18:55.185+0000</td><td>nexus4_2</td><td>45</td><td>nexus4</td><td>g</td><td>stand</td><td>-0.007858276</td><td>-0.047821045</td><td>0.01625061</td></tr><tr><td>2015-02-23T10:18:55.189+0000</td><td>nexus4_1</td><td>38</td><td>nexus4</td><td>g</td><td>stand</td><td>0.0014038086</td><td>-0.0069732666</td><td>-0.00920105</td></tr><tr><td>2015-02-23T10:18:55.190+0000</td><td>nexus4_2</td><td>46</td><td>nexus4</td><td>g</td><td>stand</td><td>-0.008926392</td><td>-0.047821045</td><td>0.011978149</td></tr><tr><td>2015-02-23T10:18:55.195+0000</td><td>nexus4_1</td><td>39</td><td>nexus4</td><td>g</td><td>stand</td><td>0.0024719238</td><td>-0.0059051514</td><td>-0.008132935</td></tr><tr><td>2015-02-23T10:18:55.195+0000</td><td>nexus4_2</td><td>47</td><td>nexus4</td><td>g</td><td>stand</td><td>-0.008926392</td><td>-0.04675293</td><td>0.008773804</td></tr><tr><td>2015-02-23T10:18:55.199+0000</td><td>nexus4_1</td><td>40</td><td>nexus4</td><td>g</td><td>stand</td><td>0.0024719238</td><td>-0.009109497</td><td>-0.005996704</td></tr><tr><td>2015-02-23T10:18:55.200+0000</td><td>nexus4_2</td><td>48</td><td>nexus4</td><td>g</td><td>stand</td><td>-0.009994507</td><td>-0.0446167</td><td>0.0066375732</td></tr><tr><td>2015-02-23T10:18:55.205+0000</td><td>nexus4_1</td><td>41</td><td>nexus4</td><td>g</td><td>stand</td><td>0.003540039</td><td>-0.009109497</td><td>-0.0027923584</td></tr><tr><td>2015-02-23T10:18:55.206+0000</td><td>nexus4_2</td><td>49</td><td>nexus4</td><td>g</td><td>stand</td><td>-0.007858276</td><td>-0.041412354</td><td>0.0066375732</td></tr><tr><td>2015-02-23T10:18:55.211+0000</td><td>nexus4_1</td><td>42</td><td>nexus4</td><td>g</td><td>stand</td><td>0.003540039</td><td>-0.009109497</td><td>-0.0038604736</td></tr><tr><td>2015-02-23T10:18:55.214+0000</td><td>nexus4_1</td><td>43</td><td>nexus4</td><td>g</td><td>stand</td><td>0.003540039</td><td>-0.009109497</td><td>-6.561279E-4</td></tr><tr><td>2015-02-23T10:18:55.214+0000</td><td>nexus4_2</td><td>50</td><td>nexus4</td><td>g</td><td>stand</td><td>-0.008926392</td><td>-0.04034424</td><td>0.0034332275</td></tr><tr><td>2015-02-23T10:18:55.218+0000</td><td>nexus4_2</td><td>51</td><td>nexus4</td><td>g</td><td>stand</td><td>-0.008926392</td><td>-0.039276123</td><td>0.005569458</td></tr><tr><td>2015-02-23T10:18:55.219+0000</td><td>nexus4_1</td><td>44</td><td>nexus4</td><td>g</td><td>stand</td><td>0.0046081543</td><td>-0.010177612</td><td>-6.561279E-4</td></tr><tr><td>2015-02-23T10:18:55.220+0000</td><td>nexus4_2</td><td>52</td><td>nexus4</td><td>g</td><td>stand</td><td>-0.007858276</td><td>-0.036071777</td><td>0.0012969971</td></tr><tr><td>2015-02-23T10:18:55.224+0000</td><td>nexus4_1</td><td>45</td><td>nexus4</td><td>g</td><td>stand</td><td>0.003540039</td><td>-0.011245728</td><td>-6.561279E-4</td></tr><tr><td>2015-02-23T10:18:55.227+0000</td><td>nexus4_2</td><td>53</td><td>nexus4</td><td>g</td><td>stand</td><td>-0.009994507</td><td>-0.03286743</td><td>0.0034332275</td></tr><tr><td>2015-02-23T10:18:55.229+0000</td><td>nexus4_1</td><td>46</td><td>nexus4</td><td>g</td><td>stand</td><td>0.0046081543</td><td>-0.009109497</td><td>-0.0017242432</td></tr><tr><td>2015-02-23T10:18:55.232+0000</td><td>nexus4_2</td><td>54</td><td>nexus4</td><td>g</td><td>stand</td><td>-0.007858276</td><td>-0.029663086</td><td>2.288818E-4</td></tr><tr><td>2015-02-23T10:18:55.235+0000</td><td>nexus4_1</td><td>47</td><td>nexus4</td><td>g</td><td>stand</td><td>0.0024719238</td><td>-0.009109497</td><td>0.0014801025</td></tr><tr><td>2015-02-23T10:18:55.237+0000</td><td>nexus4_2</td><td>55</td><td>nexus4</td><td>g</td><td>stand</td><td>-0.008926392</td><td>-0.02859497</td><td>0.0012969971</td></tr><tr><td>2015-02-23T10:18:55.242+0000</td><td>nexus4_2</td><td>56</td><td>nexus4</td><td>g</td><td>stand</td><td>-0.007858276</td><td>-0.02218628</td><td>0.0012969971</td></tr><tr><td>2015-02-23T10:18:55.247+0000</td><td>nexus4_2</td><td>57</td><td>nexus4</td><td>g</td><td>stand</td><td>-0.006790161</td><td>-0.018981934</td><td>0.0034332275</td></tr><tr><td>2015-02-23T10:18:55.252+0000</td><td>nexus4_2</td><td>58</td><td>nexus4</td><td>g</td><td>stand</td><td>-0.007858276</td><td>-0.014709473</td><td>0.0066375732</td></tr><tr><td>2015-02-23T10:18:55.254+0000</td><td>nexus4_1</td><td>48</td><td>nexus4</td><td>g</td><td>stand</td><td>0.003540039</td><td>-0.010177612</td><td>0.0014801025</td></tr><tr><td>2015-02-23T10:18:55.255+0000</td><td>nexus4_1</td><td>49</td><td>nexus4</td><td>g</td><td>stand</td><td>0.0046081543</td><td>-0.009109497</td><td>4.119873E-4</td></tr><tr><td>2015-02-23T10:18:55.255+0000</td><td>nexus4_1</td><td>50</td><td>nexus4</td><td>g</td><td>stand</td><td>0.0046081543</td><td>-0.012313843</td><td>0.0025482178</td></tr><tr><td>2015-02-23T10:18:55.256+0000</td><td>nexus4_1</td><td>51</td><td>nexus4</td><td>g</td><td>stand</td><td>0.0056762695</td><td>-0.008041382</td><td>0.0046844482</td></tr><tr><td>2015-02-23T10:18:55.258+0000</td><td>nexus4_2</td><td>59</td><td>nexus4</td><td>g</td><td>stand</td><td>-0.007858276</td><td>-0.0093688965</td><td>0.0034332275</td></tr><tr><td>2015-02-23T10:18:55.260+0000</td><td>nexus4_1</td><td>52</td><td>nexus4</td><td>g</td><td>stand</td><td>0.003540039</td><td>-0.009109497</td><td>0.0046844482</td></tr><tr><td>2015-02-23T10:18:55.262+0000</td><td>nexus4_2</td><td>60</td><td>nexus4</td><td>g</td><td>stand</td><td>-0.006790161</td><td>-0.0050964355</td><td>0.004501343</td></tr><tr><td>2015-02-23T10:18:55.266+0000</td><td>nexus4_1</td><td>53</td><td>nexus4</td><td>g</td><td>stand</td><td>0.0056762695</td><td>-0.009109497</td><td>0.003616333</td></tr><tr><td>2015-02-23T10:18:55.268+0000</td><td>nexus4_2</td><td>61</td><td>nexus4</td><td>g</td><td>stand</td><td>-0.008926392</td><td>-8.239746E-4</td><td>-8.392334E-4</td></tr><tr><td>2015-02-23T10:18:55.271+0000</td><td>nexus4_1</td><td>54</td><td>nexus4</td><td>g</td><td>stand</td><td>0.003540039</td><td>-0.004837036</td><td>0.0014801025</td></tr><tr><td>2015-02-23T10:18:55.271+0000</td><td>nexus4_2</td><td>62</td><td>nexus4</td><td>g</td><td>stand</td><td>-0.007858276</td><td>0.0077209473</td><td>0.0012969971</td></tr><tr><td>2015-02-23T10:18:55.274+0000</td><td>nexus4_1</td><td>55</td><td>nexus4</td><td>g</td><td>stand</td><td>0.003540039</td><td>-0.004837036</td><td>4.119873E-4</td></tr><tr><td>2015-02-23T10:18:55.278+0000</td><td>nexus4_2</td><td>63</td><td>nexus4</td><td>g</td><td>stand</td><td>-0.007858276</td><td>0.013061523</td><td>-8.392334E-4</td></tr><tr><td>2015-02-23T10:18:55.283+0000</td><td>nexus4_2</td><td>64</td><td>nexus4</td><td>g</td><td>stand</td><td>-0.006790161</td><td>0.017333984</td><td>0.0012969971</td></tr><tr><td>2015-02-23T10:18:55.291+0000</td><td>nexus4_2</td><td>65</td><td>nexus4</td><td>g</td><td>stand</td><td>-0.005722046</td><td>0.024810791</td><td>0.004501343</td></tr><tr><td>2015-02-23T10:18:55.292+0000</td><td>nexus4_1</td><td>56</td><td>nexus4</td><td>g</td><td>stand</td><td>0.0046081543</td><td>-0.0016326904</td><td>-6.561279E-4</td></tr><tr><td>2015-02-23T10:18:55.292+0000</td><td>nexus4_2</td><td>66</td><td>nexus4</td><td>g</td><td>stand</td><td>-0.005722046</td><td>0.029083252</td><td>0.005569458</td></tr><tr><td>2015-02-23T10:18:55.297+0000</td><td>nexus4_2</td><td>67</td><td>nexus4</td><td>g</td><td>stand</td><td>-0.0035858154</td><td>0.033355713</td><td>0.009841919</td></tr><tr><td>2015-02-23T10:18:55.297+0000</td><td>nexus4_1</td><td>57</td><td>nexus4</td><td>g</td><td>stand</td><td>0.0024719238</td><td>5.0354E-4</td><td>-0.0017242432</td></tr><tr><td>2015-02-23T10:18:55.301+0000</td><td>nexus4_1</td><td>58</td><td>nexus4</td><td>g</td><td>stand</td><td>0.003540039</td><td>-5.645752E-4</td><td>-0.0017242432</td></tr><tr><td>2015-02-23T10:18:55.302+0000</td><td>nexus4_1</td><td>60</td><td>nexus4</td><td>g</td><td>stand</td><td>0.0024719238</td><td>0.0037078857</td><td>-6.561279E-4</td></tr><tr><td>2015-02-23T10:18:55.302+0000</td><td>nexus4_1</td><td>59</td><td>nexus4</td><td>g</td><td>stand</td><td>0.0024719238</td><td>0.0026397705</td><td>-6.561279E-4</td></tr><tr><td>2015-02-23T10:18:55.303+0000</td><td>nexus4_2</td><td>68</td><td>nexus4</td><td>g</td><td>stand</td><td>-0.0025177002</td><td>0.03869629</td><td>0.008773804</td></tr><tr><td>2015-02-23T10:18:55.307+0000</td><td>nexus4_2</td><td>69</td><td>nexus4</td><td>g</td><td>stand</td><td>6.866455E-4</td><td>0.04296875</td><td>0.011978149</td></tr><tr><td>2015-02-23T10:18:55.310+0000</td><td>nexus4_1</td><td>61</td><td>nexus4</td><td>g</td><td>stand</td><td>0.0014038086</td><td>0.007980347</td><td>-0.0017242432</td></tr><tr><td>2015-02-23T10:18:55.313+0000</td><td>nexus4_2</td><td>70</td><td>nexus4</td><td>g</td><td>stand</td><td>6.866455E-4</td><td>0.04296875</td><td>0.015182495</td></tr><tr><td>2015-02-23T10:18:55.314+0000</td><td>nexus4_1</td><td>62</td><td>nexus4</td><td>g</td><td>stand</td><td>3.356934E-4</td><td>0.011184692</td><td>-0.0038604736</td></tr><tr><td>2015-02-23T10:18:55.315+0000</td><td>nexus4_1</td><td>63</td><td>nexus4</td><td>g</td><td>stand</td><td>3.356934E-4</td><td>0.014389038</td><td>-0.004928589</td></tr><tr><td>2015-02-23T10:18:55.317+0000</td><td>nexus4_2</td><td>71</td><td>nexus4</td><td>g</td><td>stand</td><td>0.0017547607</td><td>0.044036865</td><td>0.013046265</td></tr><tr><td>2015-02-23T10:18:55.319+0000</td><td>nexus4_1</td><td>64</td><td>nexus4</td><td>g</td><td>stand</td><td>0.0024719238</td><td>0.016525269</td><td>-0.005996704</td></tr><tr><td>2015-02-23T10:18:55.323+0000</td><td>nexus4_2</td><td>72</td><td>nexus4</td><td>g</td><td>stand</td><td>6.866455E-4</td><td>0.04296875</td><td>0.01625061</td></tr><tr><td>2015-02-23T10:18:55.324+0000</td><td>nexus4_1</td><td>65</td><td>nexus4</td><td>g</td><td>stand</td><td>3.356934E-4</td><td>0.018661499</td><td>-0.0070648193</td></tr><tr><td>2015-02-23T10:18:55.327+0000</td><td>nexus4_2</td><td>73</td><td>nexus4</td><td>g</td><td>stand</td><td>0.0017547607</td><td>0.04296875</td><td>0.011978149</td></tr><tr><td>2015-02-23T10:18:55.329+0000</td><td>nexus4_1</td><td>66</td><td>nexus4</td><td>g</td><td>stand</td><td>3.356934E-4</td><td>0.019729614</td><td>-0.008132935</td></tr><tr><td>2015-02-23T10:18:55.334+0000</td><td>nexus4_1</td><td>67</td><td>nexus4</td><td>g</td><td>stand</td><td>3.356934E-4</td><td>0.019729614</td><td>-0.010269165</td></tr><tr><td>2015-02-23T10:18:55.337+0000</td><td>nexus4_2</td><td>74</td><td>nexus4</td><td>g</td><td>stand</td><td>0.0017547607</td><td>0.04083252</td><td>0.013046265</td></tr><tr><td>2015-02-23T10:18:55.338+0000</td><td>nexus4_2</td><td>75</td><td>nexus4</td><td>g</td><td>stand</td><td>6.866455E-4</td><td>0.039764404</td><td>0.013046265</td></tr><tr><td>2015-02-23T10:18:55.340+0000</td><td>nexus4_1</td><td>68</td><td>nexus4</td><td>g</td><td>stand</td><td>-7.324219E-4</td><td>0.017593384</td><td>-0.013473511</td></tr><tr><td>2015-02-23T10:18:55.343+0000</td><td>nexus4_2</td><td>76</td><td>nexus4</td><td>g</td><td>stand</td><td>0.0017547607</td><td>0.037628174</td><td>0.01411438</td></tr><tr><td>2015-02-23T10:18:55.346+0000</td><td>nexus4_1</td><td>69</td><td>nexus4</td><td>g</td><td>stand</td><td>-7.324219E-4</td><td>0.02079773</td><td>-0.01133728</td></tr><tr><td>2015-02-23T10:18:55.347+0000</td><td>nexus4_2</td><td>77</td><td>nexus4</td><td>g</td><td>stand</td><td>6.866455E-4</td><td>0.035491943</td><td>0.013046265</td></tr><tr><td>2015-02-23T10:18:55.348+0000</td><td>nexus4_1</td><td>70</td><td>nexus4</td><td>g</td><td>stand</td><td>-0.0018005371</td><td>0.019729614</td><td>-0.013473511</td></tr><tr><td>2015-02-23T10:18:55.353+0000</td><td>nexus4_1</td><td>71</td><td>nexus4</td><td>g</td><td>stand</td><td>-0.0018005371</td><td>0.02079773</td><td>-0.013473511</td></tr><tr><td>2015-02-23T10:18:55.357+0000</td><td>nexus4_2</td><td>78</td><td>nexus4</td><td>g</td><td>stand</td><td>6.866455E-4</td><td>0.033355713</td><td>0.015182495</td></tr><tr><td>2015-02-23T10:18:55.358+0000</td><td>nexus4_2</td><td>79</td><td>nexus4</td><td>g</td><td>stand</td><td>6.866455E-4</td><td>0.031219482</td><td>0.010910034</td></tr><tr><td>2015-02-23T10:18:55.359+0000</td><td>nexus4_1</td><td>72</td><td>nexus4</td><td>g</td><td>stand</td><td>-0.0018005371</td><td>0.021865845</td><td>-0.014541626</td></tr><tr><td>2015-02-23T10:18:55.363+0000</td><td>nexus4_2</td><td>80</td><td>nexus4</td><td>g</td><td>stand</td><td>6.866455E-4</td><td>0.025878906</td><td>0.009841919</td></tr><tr><td>2015-02-23T10:18:55.365+0000</td><td>nexus4_1</td><td>73</td><td>nexus4</td><td>g</td><td>stand</td><td>-0.0028686523</td><td>0.021865845</td><td>-0.0124053955</td></tr><tr><td>2015-02-23T10:18:55.369+0000</td><td>nexus4_1</td><td>74</td><td>nexus4</td><td>g</td><td>stand</td><td>-0.0039367676</td><td>0.02293396</td><td>-0.01133728</td></tr><tr><td>2015-02-23T10:18:55.372+0000</td><td>nexus4_2</td><td>81</td><td>nexus4</td><td>g</td><td>stand</td><td>6.866455E-4</td><td>0.025878906</td><td>0.0077056885</td></tr><tr><td>2015-02-23T10:18:55.373+0000</td><td>nexus4_2</td><td>82</td><td>nexus4</td><td>g</td><td>stand</td><td>6.866455E-4</td><td>0.023742676</td><td>0.0034332275</td></tr><tr><td>2015-02-23T10:18:55.377+0000</td><td>nexus4_1</td><td>75</td><td>nexus4</td><td>g</td><td>stand</td><td>-0.0039367676</td><td>0.02507019</td><td>-0.01133728</td></tr><tr><td>2015-02-23T10:18:55.378+0000</td><td>nexus4_1</td><td>76</td><td>nexus4</td><td>g</td><td>stand</td><td>-0.0039367676</td><td>0.026138306</td><td>-0.01133728</td></tr><tr><td>2015-02-23T10:18:55.379+0000</td><td>nexus4_2</td><td>83</td><td>nexus4</td><td>g</td><td>stand</td><td>0.0017547607</td><td>0.0184021</td><td>0.0012969971</td></tr><tr><td>2015-02-23T10:18:55.384+0000</td><td>nexus4_2</td><td>84</td><td>nexus4</td><td>g</td><td>stand</td><td>6.866455E-4</td><td>0.01626587</td><td>-0.0029754639</td></tr><tr><td>2015-02-23T10:18:55.388+0000</td><td>nexus4_2</td><td>85</td><td>nexus4</td><td>g</td><td>stand</td><td>6.866455E-4</td><td>0.011993408</td><td>-0.0029754639</td></tr><tr><td>2015-02-23T10:18:55.390+0000</td><td>nexus4_1</td><td>78</td><td>nexus4</td><td>g</td><td>stand</td><td>-0.0018005371</td><td>0.026138306</td><td>-0.00920105</td></tr><tr><td>2015-02-23T10:18:55.390+0000</td><td>nexus4_1</td><td>77</td><td>nexus4</td><td>g</td><td>stand</td><td>-0.0018005371</td><td>0.028274536</td><td>-0.0124053955</td></tr><tr><td>2015-02-23T10:18:55.395+0000</td><td>nexus4_1</td><td>79</td><td>nexus4</td><td>g</td><td>stand</td><td>3.356934E-4</td><td>0.02507019</td><td>-0.005996704</td></tr><tr><td>2015-02-23T10:18:55.395+0000</td><td>nexus4_2</td><td>86</td><td>nexus4</td><td>g</td><td>stand</td><td>0.0017547607</td><td>0.0087890625</td><td>-0.0029754639</td></tr><tr><td>2015-02-23T10:18:55.398+0000</td><td>nexus4_2</td><td>87</td><td>nexus4</td><td>g</td><td>stand</td><td>0.0017547607</td><td>0.0045166016</td><td>-0.0061798096</td></tr><tr><td>2015-02-23T10:18:55.400+0000</td><td>nexus4_1</td><td>80</td><td>nexus4</td><td>g</td><td>stand</td><td>3.356934E-4</td><td>0.021865845</td><td>-0.0017242432</td></tr><tr><td>2015-02-23T10:18:55.405+0000</td><td>nexus4_1</td><td>81</td><td>nexus4</td><td>g</td><td>stand</td><td>0.0014038086</td><td>0.019729614</td><td>4.119873E-4</td></tr><tr><td>2015-02-23T10:18:55.408+0000</td><td>nexus4_1</td><td>82</td><td>nexus4</td><td>g</td><td>stand</td><td>0.0024719238</td><td>0.016525269</td><td>0.003616333</td></tr><tr><td>2015-02-23T10:18:55.409+0000</td><td>nexus4_2</td><td>89</td><td>nexus4</td><td>g</td><td>stand</td><td>0.0017547607</td><td>0.0013122559</td><td>-0.011520386</td></tr><tr><td>2015-02-23T10:18:55.409+0000</td><td>nexus4_2</td><td>88</td><td>nexus4</td><td>g</td><td>stand</td><td>0.0017547607</td><td>0.002380371</td><td>-0.009384155</td></tr><tr><td>2015-02-23T10:18:55.413+0000</td><td>nexus4_2</td><td>90</td><td>nexus4</td><td>g</td><td>stand</td><td>6.866455E-4</td><td>0.0013122559</td><td>-0.013656616</td></tr><tr><td>2015-02-23T10:18:55.420+0000</td><td>nexus4_2</td><td>91</td><td>nexus4</td><td>g</td><td>stand</td><td>-3.814697E-4</td><td>-0.0018920898</td><td>-0.015792847</td></tr><tr><td>2015-02-23T10:18:55.421+0000</td><td>nexus4_1</td><td>84</td><td>nexus4</td><td>g</td><td>stand</td><td>0.0014038086</td><td>0.011184692</td><td>0.010025024</td></tr><tr><td>2015-02-23T10:18:55.421+0000</td><td>nexus4_1</td><td>83</td><td>nexus4</td><td>g</td><td>stand</td><td>0.0014038086</td><td>0.011184692</td><td>0.007888794</td></tr><tr><td>2015-02-23T10:18:55.425+0000</td><td>nexus4_2</td><td>92</td><td>nexus4</td><td>g</td><td>stand</td><td>-3.814697E-4</td><td>-0.002960205</td><td>-0.017929077</td></tr><tr><td>2015-02-23T10:18:55.426+0000</td><td>nexus4_1</td><td>85</td><td>nexus4</td><td>g</td><td>stand</td><td>0.0014038086</td><td>0.007980347</td><td>0.01322937</td></tr><tr><td>2015-02-23T10:18:55.430+0000</td><td>nexus4_1</td><td>86</td><td>nexus4</td><td>g</td><td>stand</td><td>0.0024719238</td><td>0.009048462</td><td>0.01322937</td></tr><tr><td>2015-02-23T10:18:55.434+0000</td><td>nexus4_2</td><td>94</td><td>nexus4</td><td>g</td><td>stand</td><td>-0.001449585</td><td>0.0034484863</td><td>-0.018997192</td></tr><tr><td>2015-02-23T10:18:55.434+0000</td><td>nexus4_2</td><td>93</td><td>nexus4</td><td>g</td><td>stand</td><td>6.866455E-4</td><td>2.441406E-4</td><td>-0.017929077</td></tr><tr><td>2015-02-23T10:18:55.438+0000</td><td>nexus4_1</td><td>87</td><td>nexus4</td><td>g</td><td>stand</td><td>0.0024719238</td><td>0.007980347</td><td>0.015365601</td></tr><tr><td>2015-02-23T10:18:55.439+0000</td><td>nexus4_1</td><td>88</td><td>nexus4</td><td>g</td><td>stand</td><td>0.0024719238</td><td>0.004776001</td><td>0.015365601</td></tr><tr><td>2015-02-23T10:18:55.439+0000</td><td>nexus4_2</td><td>95</td><td>nexus4</td><td>g</td><td>stand</td><td>-0.001449585</td><td>0.0045166016</td><td>-0.017929077</td></tr><tr><td>2015-02-23T10:18:55.443+0000</td><td>nexus4_2</td><td>96</td><td>nexus4</td><td>g</td><td>stand</td><td>-0.001449585</td><td>0.0045166016</td><td>-0.021133423</td></tr><tr><td>2015-02-23T10:18:55.444+0000</td><td>nexus4_1</td><td>89</td><td>nexus4</td><td>g</td><td>stand</td><td>0.0024719238</td><td>0.0037078857</td><td>0.018569946</td></tr><tr><td>2015-02-23T10:18:55.448+0000</td><td>nexus4_2</td><td>97</td><td>nexus4</td><td>g</td><td>stand</td><td>6.866455E-4</td><td>0.005584717</td><td>-0.017929077</td></tr><tr><td>2015-02-23T10:18:55.450+0000</td><td>nexus4_1</td><td>90</td><td>nexus4</td><td>g</td><td>stand</td><td>0.0056762695</td><td>5.0354E-4</td><td>0.017501831</td></tr><tr><td>2015-02-23T10:18:55.458+0000</td><td>nexus4_2</td><td>98</td><td>nexus4</td><td>g</td><td>stand</td><td>-3.814697E-4</td><td>0.005584717</td><td>-0.018997192</td></tr><tr><td>2015-02-23T10:18:55.459+0000</td><td>nexus4_2</td><td>99</td><td>nexus4</td><td>g</td><td>stand</td><td>6.866455E-4</td><td>0.0034484863</td><td>-0.020065308</td></tr><tr><td>2015-02-23T10:18:55.460+0000</td><td>nexus4_1</td><td>91</td><td>nexus4</td><td>g</td><td>stand</td><td>0.0056762695</td><td>-0.0027008057</td><td>0.016433716</td></tr><tr><td>2015-02-23T10:18:55.460+0000</td><td>nexus4_1</td><td>92</td><td>nexus4</td><td>g</td><td>stand</td><td>0.0056762695</td><td>-0.0059051514</td><td>0.019638062</td></tr><tr><td>2015-02-23T10:18:55.464+0000</td><td>nexus4_2</td><td>100</td><td>nexus4</td><td>g</td><td>stand</td><td>-3.814697E-4</td><td>0.0034484863</td><td>-0.016860962</td></tr><tr><td>2015-02-23T10:18:55.468+0000</td><td>nexus4_2</td><td>101</td><td>nexus4</td><td>g</td><td>stand</td><td>6.866455E-4</td><td>0.0034484863</td><td>-0.021133423</td></tr><tr><td>2015-02-23T10:18:55.472+0000</td><td>nexus4_1</td><td>93</td><td>nexus4</td><td>g</td><td>stand</td><td>0.0056762695</td><td>-0.011245728</td><td>0.018569946</td></tr><tr><td>2015-02-23T10:18:55.472+0000</td><td>nexus4_1</td><td>94</td><td>nexus4</td><td>g</td><td>stand</td><td>0.0046081543</td><td>-0.011245728</td><td>0.016433716</td></tr><tr><td>2015-02-23T10:18:55.476+0000</td><td>nexus4_1</td><td>95</td><td>nexus4</td><td>g</td><td>stand</td><td>0.0046081543</td><td>-0.011245728</td><td>0.016433716</td></tr><tr><td>2015-02-23T10:18:55.480+0000</td><td>nexus4_1</td><td>96</td><td>nexus4</td><td>g</td><td>stand</td><td>0.0067443848</td><td>-0.014450073</td><td>0.016433716</td></tr><tr><td>2015-02-23T10:18:55.490+0000</td><td>nexus4_2</td><td>103</td><td>nexus4</td><td>g</td><td>stand</td><td>-0.001449585</td><td>0.0034484863</td><td>-0.018997192</td></tr><tr><td>2015-02-23T10:18:55.490+0000</td><td>nexus4_2</td><td>102</td><td>nexus4</td><td>g</td><td>stand</td><td>-3.814697E-4</td><td>0.0045166016</td><td>-0.018997192</td></tr><tr><td>2015-02-23T10:18:55.491+0000</td><td>nexus4_1</td><td>98</td><td>nexus4</td><td>g</td><td>stand</td><td>0.0067443848</td><td>-0.0155181885</td><td>0.014297485</td></tr><tr><td>2015-02-23T10:18:55.491+0000</td><td>nexus4_1</td><td>97</td><td>nexus4</td><td>g</td><td>stand</td><td>0.0056762695</td><td>-0.013381958</td><td>0.014297485</td></tr><tr><td>2015-02-23T10:18:55.500+0000</td><td>nexus4_1</td><td>99</td><td>nexus4</td><td>g</td><td>stand</td><td>0.0078125</td><td>-0.017654419</td><td>0.010025024</td></tr><tr><td>2015-02-23T10:18:55.500+0000</td><td>nexus4_1</td><td>100</td><td>nexus4</td><td>g</td><td>stand</td><td>0.0067443848</td><td>-0.017654419</td><td>0.007888794</td></tr><tr><td>2015-02-23T10:18:55.503+0000</td><td>nexus4_2</td><td>104</td><td>nexus4</td><td>g</td><td>stand</td><td>-3.814697E-4</td><td>0.0045166016</td><td>-0.017929077</td></tr><tr><td>2015-02-23T10:18:55.504+0000</td><td>nexus4_2</td><td>106</td><td>nexus4</td><td>g</td><td>stand</td><td>6.866455E-4</td><td>0.0013122559</td><td>-0.014724731</td></tr><tr><td>2015-02-23T10:18:55.504+0000</td><td>nexus4_2</td><td>105</td><td>nexus4</td><td>g</td><td>stand</td><td>-3.814697E-4</td><td>0.0034484863</td><td>-0.016860962</td></tr><tr><td>2015-02-23T10:18:55.505+0000</td><td>nexus4_2</td><td>107</td><td>nexus4</td><td>g</td><td>stand</td><td>6.866455E-4</td><td>0.0013122559</td><td>-0.014724731</td></tr><tr><td>2015-02-23T10:18:55.506+0000</td><td>nexus4_2</td><td>108</td><td>nexus4</td><td>g</td><td>stand</td><td>-3.814697E-4</td><td>0.002380371</td><td>-0.011520386</td></tr><tr><td>2015-02-23T10:18:55.512+0000</td><td>nexus4_1</td><td>101</td><td>nexus4</td><td>g</td><td>stand</td><td>0.0078125</td><td>-0.018722534</td><td>0.0068206787</td></tr><tr><td>2015-02-23T10:18:55.512+0000</td><td>nexus4_1</td><td>102</td><td>nexus4</td><td>g</td><td>stand</td><td>0.0078125</td><td>-0.022994995</td><td>4.119873E-4</td></tr><tr><td>2015-02-23T10:18:55.516+0000</td><td>nexus4_2</td><td>109</td><td>nexus4</td><td>g</td><td>stand</td><td>6.866455E-4</td><td>2.441406E-4</td><td>-0.014724731</td></tr><tr><td>2015-02-23T10:18:55.517+0000</td><td>nexus4_1</td><td>103</td><td>nexus4</td><td>g</td><td>stand</td><td>0.0078125</td><td>-0.022994995</td><td>4.119873E-4</td></tr><tr><td>2015-02-23T10:18:55.519+0000</td><td>nexus4_1</td><td>104</td><td>nexus4</td><td>g</td><td>stand</td><td>0.0078125</td><td>-0.025131226</td><td>4.119873E-4</td></tr><tr><td>2015-02-23T10:18:55.523+0000</td><td>nexus4_2</td><td>110</td><td>nexus4</td><td>g</td><td>stand</td><td>6.866455E-4</td><td>-8.239746E-4</td><td>-0.011520386</td></tr><tr><td>2015-02-23T10:18:55.524+0000</td><td>nexus4_2</td><td>111</td><td>nexus4</td><td>g</td><td>stand</td><td>0.0017547607</td><td>-0.002960205</td><td>-0.012588501</td></tr><tr><td>2015-02-23T10:18:55.524+0000</td><td>nexus4_2</td><td>112</td><td>nexus4</td><td>g</td><td>stand</td><td>0.0017547607</td><td>-0.0040283203</td><td>-0.011520386</td></tr><tr><td>2015-02-23T10:18:55.533+0000</td><td>nexus4_1</td><td>106</td><td>nexus4</td><td>g</td><td>stand</td><td>0.003540039</td><td>-0.030471802</td><td>-0.0070648193</td></tr><tr><td>2015-02-23T10:18:55.533+0000</td><td>nexus4_1</td><td>105</td><td>nexus4</td><td>g</td><td>stand</td><td>0.0056762695</td><td>-0.028335571</td><td>-0.004928589</td></tr><tr><td>2015-02-23T10:18:55.537+0000</td><td>nexus4_1</td><td>107</td><td>nexus4</td><td>g</td><td>stand</td><td>0.003540039</td><td>-0.030471802</td><td>-0.0070648193</td></tr><tr><td>2015-02-23T10:18:55.539+0000</td><td>nexus4_1</td><td>108</td><td>nexus4</td><td>g</td><td>stand</td><td>0.0024719238</td><td>-0.030471802</td><td>-0.005996704</td></tr><tr><td>2015-02-23T10:18:55.552+0000</td><td>nexus4_2</td><td>117</td><td>nexus4</td><td>g</td><td>stand</td><td>0.0038909912</td><td>-0.011505127</td><td>-0.0029754639</td></tr><tr><td>2015-02-23T10:18:55.552+0000</td><td>nexus4_2</td><td>113</td><td>nexus4</td><td>g</td><td>stand</td><td>0.0017547607</td><td>-0.0050964355</td><td>-0.00831604</td></tr><tr><td>2015-02-23T10:18:55.552+0000</td><td>nexus4_2</td><td>116</td><td>nexus4</td><td>g</td><td>stand</td><td>0.0017547607</td><td>-0.010437012</td><td>-0.004043579</td></tr><tr><td>2015-02-23T10:18:55.552+0000</td><td>nexus4_2</td><td>115</td><td>nexus4</td><td>g</td><td>stand</td><td>0.002822876</td><td>-0.010437012</td><td>-0.0029754639</td></tr><tr><td>2015-02-23T10:18:55.552+0000</td><td>nexus4_2</td><td>114</td><td>nexus4</td><td>g</td><td>stand</td><td>0.002822876</td><td>-0.008300781</td><td>-0.0061798096</td></tr><tr><td>2015-02-23T10:18:55.553+0000</td><td>nexus4_1</td><td>110</td><td>nexus4</td><td>g</td><td>stand</td><td>0.0014038086</td><td>-0.031539917</td><td>-0.010269165</td></tr><tr><td>2015-02-23T10:18:55.553+0000</td><td>nexus4_2</td><td>118</td><td>nexus4</td><td>g</td><td>stand</td><td>0.0038909912</td><td>-0.010437012</td><td>-0.0029754639</td></tr><tr><td>2015-02-23T10:18:55.553+0000</td><td>nexus4_1</td><td>109</td><td>nexus4</td><td>g</td><td>stand</td><td>0.0014038086</td><td>-0.031539917</td><td>-0.00920105</td></tr><tr><td>2015-02-23T10:18:55.557+0000</td><td>nexus4_2</td><td>119</td><td>nexus4</td><td>g</td><td>stand</td><td>6.866455E-4</td><td>-0.010437012</td><td>2.288818E-4</td></tr><tr><td>2015-02-23T10:18:55.557+0000</td><td>nexus4_1</td><td>111</td><td>nexus4</td><td>g</td><td>stand</td><td>0.0014038086</td><td>-0.031539917</td><td>-0.010269165</td></tr><tr><td>2015-02-23T10:18:55.559+0000</td><td>nexus4_1</td><td>112</td><td>nexus4</td><td>g</td><td>stand</td><td>0.003540039</td><td>-0.032608032</td><td>-0.015609741</td></tr><tr><td>2015-02-23T10:18:55.562+0000</td><td>nexus4_2</td><td>120</td><td>nexus4</td><td>g</td><td>stand</td><td>0.002822876</td><td>-0.010437012</td><td>2.288818E-4</td></tr><tr><td>2015-02-23T10:18:55.565+0000</td><td>nexus4_1</td><td>113</td><td>nexus4</td><td>g</td><td>stand</td><td>0.0024719238</td><td>-0.032608032</td><td>-0.015609741</td></tr><tr><td>2015-02-23T10:18:55.567+0000</td><td>nexus4_2</td><td>121</td><td>nexus4</td><td>g</td><td>stand</td><td>0.0017547607</td><td>-0.010437012</td><td>-8.392334E-4</td></tr><tr><td>2015-02-23T10:18:55.572+0000</td><td>nexus4_2</td><td>122</td><td>nexus4</td><td>g</td><td>stand</td><td>0.0017547607</td><td>-0.010437012</td><td>0.004501343</td></tr><tr><td>2015-02-23T10:18:55.572+0000</td><td>nexus4_1</td><td>114</td><td>nexus4</td><td>g</td><td>stand</td><td>0.0046081543</td><td>-0.033676147</td><td>-0.018814087</td></tr><tr><td>2015-02-23T10:18:55.577+0000</td><td>nexus4_2</td><td>123</td><td>nexus4</td><td>g</td><td>stand</td><td>0.0017547607</td><td>-0.0093688965</td><td>0.0012969971</td></tr><tr><td>2015-02-23T10:18:55.577+0000</td><td>nexus4_1</td><td>115</td><td>nexus4</td><td>g</td><td>stand</td><td>0.003540039</td><td>-0.034744263</td><td>-0.019882202</td></tr><tr><td>2015-02-23T10:18:55.580+0000</td><td>nexus4_1</td><td>116</td><td>nexus4</td><td>g</td><td>stand</td><td>0.0024719238</td><td>-0.032608032</td><td>-0.022018433</td></tr><tr><td>2015-02-23T10:18:55.588+0000</td><td>nexus4_1</td><td>117</td><td>nexus4</td><td>g</td><td>stand</td><td>0.0024719238</td><td>-0.035812378</td><td>-0.023086548</td></tr><tr><td>2015-02-23T10:18:55.590+0000</td><td>nexus4_2</td><td>124</td><td>nexus4</td><td>g</td><td>stand</td><td>0.002822876</td><td>-0.008300781</td><td>0.0034332275</td></tr><tr><td>2015-02-23T10:18:55.590+0000</td><td>nexus4_2</td><td>125</td><td>nexus4</td><td>g</td><td>stand</td><td>0.0017547607</td><td>-0.008300781</td><td>0.0012969971</td></tr><tr><td>2015-02-23T10:18:55.591+0000</td><td>nexus4_1</td><td>118</td><td>nexus4</td><td>g</td><td>stand</td><td>0.0046081543</td><td>-0.034744263</td><td>-0.022018433</td></tr><tr><td>2015-02-23T10:18:55.593+0000</td><td>nexus4_2</td><td>126</td><td>nexus4</td><td>g</td><td>stand</td><td>0.0038909912</td><td>-0.0093688965</td><td>0.0023651123</td></tr><tr><td>2015-02-23T10:18:55.597+0000</td><td>nexus4_1</td><td>119</td><td>nexus4</td><td>g</td><td>stand</td><td>0.0024719238</td><td>-0.034744263</td><td>-0.023086548</td></tr><tr><td>2015-02-23T10:18:55.600+0000</td><td>nexus4_1</td><td>120</td><td>nexus4</td><td>g</td><td>stand</td><td>0.0024719238</td><td>-0.035812378</td><td>-0.024154663</td></tr><tr><td>2015-02-23T10:18:55.601+0000</td><td>nexus4_2</td><td>127</td><td>nexus4</td><td>g</td><td>stand</td><td>0.002822876</td><td>-0.0093688965</td><td>0.0034332275</td></tr><tr><td>2015-02-23T10:18:55.602+0000</td><td>nexus4_2</td><td>128</td><td>nexus4</td><td>g</td><td>stand</td><td>0.002822876</td><td>-0.0093688965</td><td>2.288818E-4</td></tr><tr><td>2015-02-23T10:18:55.610+0000</td><td>nexus4_1</td><td>121</td><td>nexus4</td><td>g</td><td>stand</td><td>0.0014038086</td><td>-0.034744263</td><td>-0.022018433</td></tr><tr><td>2015-02-23T10:18:55.611+0000</td><td>nexus4_2</td><td>129</td><td>nexus4</td><td>g</td><td>stand</td><td>0.0038909912</td><td>-0.0040283203</td><td>0.0034332275</td></tr><tr><td>2015-02-23T10:18:55.612+0000</td><td>nexus4_2</td><td>130</td><td>nexus4</td><td>g</td><td>stand</td><td>0.0038909912</td><td>-0.0040283203</td><td>-8.392334E-4</td></tr><tr><td>2015-02-23T10:18:55.614+0000</td><td>nexus4_1</td><td>122</td><td>nexus4</td><td>g</td><td>stand</td><td>0.0014038086</td><td>-0.031539917</td><td>-0.024154663</td></tr><tr><td>2015-02-23T10:18:55.618+0000</td><td>nexus4_1</td><td>123</td><td>nexus4</td><td>g</td><td>stand</td><td>3.356934E-4</td><td>-0.030471802</td><td>-0.025222778</td></tr><tr><td>2015-02-23T10:18:55.622+0000</td><td>nexus4_1</td><td>124</td><td>nexus4</td><td>g</td><td>stand</td><td>0.0014038086</td><td>-0.029403687</td><td>-0.026290894</td></tr><tr><td>2015-02-23T10:18:55.623+0000</td><td>nexus4_2</td><td>131</td><td>nexus4</td><td>g</td><td>stand</td><td>0.002822876</td><td>-8.239746E-4</td><td>2.288818E-4</td></tr><tr><td>2015-02-23T10:18:55.624+0000</td><td>nexus4_2</td><td>132</td><td>nexus4</td><td>g</td><td>stand</td><td>0.0038909912</td><td>-8.239746E-4</td><td>-0.0019073486</td></tr><tr><td>2015-02-23T10:18:55.628+0000</td><td>nexus4_1</td><td>125</td><td>nexus4</td><td>g</td><td>stand</td><td>0.0014038086</td><td>-0.02406311</td><td>-0.024154663</td></tr><tr><td>2015-02-23T10:18:55.631+0000</td><td>nexus4_1</td><td>126</td><td>nexus4</td><td>g</td><td>stand</td><td>0.003540039</td><td>-0.02192688</td><td>-0.022018433</td></tr><tr><td>2015-02-23T10:18:55.634+0000</td><td>nexus4_2</td><td>134</td><td>nexus4</td><td>g</td><td>stand</td><td>0.002822876</td><td>0.0045166016</td><td>-0.0019073486</td></tr><tr><td>2015-02-23T10:18:55.634+0000</td><td>nexus4_2</td><td>133</td><td>nexus4</td><td>g</td><td>stand</td><td>0.002822876</td><td>0.0013122559</td><td>-8.392334E-4</td></tr><tr><td>2015-02-23T10:18:55.642+0000</td><td>nexus4_1</td><td>128</td><td>nexus4</td><td>g</td><td>stand</td><td>0.0046081543</td><td>-0.01979065</td><td>-0.024154663</td></tr><tr><td>2015-02-23T10:18:55.642+0000</td><td>nexus4_1</td><td>127</td><td>nexus4</td><td>g</td><td>stand</td><td>0.003540039</td><td>-0.02192688</td><td>-0.025222778</td></tr><tr><td>2015-02-23T10:18:55.644+0000</td><td>nexus4_2</td><td>135</td><td>nexus4</td><td>g</td><td>stand</td><td>6.866455E-4</td><td>0.005584717</td><td>-0.004043579</td></tr><tr><td>2015-02-23T10:18:55.644+0000</td><td>nexus4_2</td><td>136</td><td>nexus4</td><td>g</td><td>stand</td><td>6.866455E-4</td><td>0.009857178</td><td>-0.0029754639</td></tr><tr><td>2015-02-23T10:18:55.647+0000</td><td>nexus4_1</td><td>129</td><td>nexus4</td><td>g</td><td>stand</td><td>0.0056762695</td><td>-0.01979065</td><td>-0.023086548</td></tr><tr><td>2015-02-23T10:18:55.652+0000</td><td>nexus4_1</td><td>130</td><td>nexus4</td><td>g</td><td>stand</td><td>0.003540039</td><td>-0.017654419</td><td>-0.020950317</td></tr><tr><td>2015-02-23T10:18:55.654+0000</td><td>nexus4_2</td><td>137</td><td>nexus4</td><td>g</td><td>stand</td><td>6.866455E-4</td><td>0.013061523</td><td>-0.004043579</td></tr><tr><td>2015-02-23T10:18:55.654+0000</td><td>nexus4_2</td><td>138</td><td>nexus4</td><td>g</td><td>stand</td><td>6.866455E-4</td><td>0.015197754</td><td>-0.0029754639</td></tr><tr><td>2015-02-23T10:18:55.660+0000</td><td>nexus4_1</td><td>131</td><td>nexus4</td><td>g</td><td>stand</td><td>0.0056762695</td><td>-0.018722534</td><td>-0.023086548</td></tr><tr><td>2015-02-23T10:18:55.664+0000</td><td>nexus4_1</td><td>132</td><td>nexus4</td><td>g</td><td>stand</td><td>0.0056762695</td><td>-0.017654419</td><td>-0.024154663</td></tr><tr><td>2015-02-23T10:18:55.665+0000</td><td>nexus4_2</td><td>139</td><td>nexus4</td><td>g</td><td>stand</td><td>6.866455E-4</td><td>0.017333984</td><td>-0.007247925</td></tr><tr><td>2015-02-23T10:18:55.665+0000</td><td>nexus4_2</td><td>140</td><td>nexus4</td><td>g</td><td>stand</td><td>6.866455E-4</td><td>0.0184021</td><td>-0.007247925</td></tr><tr><td>2015-02-23T10:18:55.668+0000</td><td>nexus4_1</td><td>133</td><td>nexus4</td><td>g</td><td>stand</td><td>0.0046081543</td><td>-0.017654419</td><td>-0.019882202</td></tr><tr><td>2015-02-23T10:18:55.672+0000</td><td>nexus4_1</td><td>134</td><td>nexus4</td><td>g</td><td>stand</td><td>0.0056762695</td><td>-0.0155181885</td><td>-0.018814087</td></tr><tr><td>2015-02-23T10:18:55.672+0000</td><td>nexus4_2</td><td>141</td><td>nexus4</td><td>g</td><td>stand</td><td>-0.001449585</td><td>0.019470215</td><td>-0.009384155</td></tr><tr><td>2015-02-23T10:18:55.673+0000</td><td>nexus4_2</td><td>142</td><td>nexus4</td><td>g</td><td>stand</td><td>-3.814697E-4</td><td>0.019470215</td><td>-0.011520386</td></tr><tr><td>2015-02-23T10:18:55.680+0000</td><td>nexus4_1</td><td>135</td><td>nexus4</td><td>g</td><td>stand</td><td>0.0046081543</td><td>-0.013381958</td><td>-0.019882202</td></tr><tr><td>2015-02-23T10:18:55.684+0000</td><td>nexus4_1</td><td>136</td><td>nexus4</td><td>g</td><td>stand</td><td>0.0046081543</td><td>-0.012313843</td><td>-0.019882202</td></tr><tr><td>2015-02-23T10:18:55.686+0000</td><td>nexus4_2</td><td>144</td><td>nexus4</td><td>g</td><td>stand</td><td>-3.814697E-4</td><td>0.0184021</td><td>-0.013656616</td></tr><tr><td>2015-02-23T10:18:55.686+0000</td><td>nexus4_2</td><td>143</td><td>nexus4</td><td>g</td><td>stand</td><td>-3.814697E-4</td><td>0.019470215</td><td>-0.012588501</td></tr><tr><td>2015-02-23T10:18:55.687+0000</td><td>nexus4_1</td><td>137</td><td>nexus4</td><td>g</td><td>stand</td><td>0.0046081543</td><td>-0.010177612</td><td>-0.017745972</td></tr><tr><td>2015-02-23T10:18:55.691+0000</td><td>nexus4_2</td><td>145</td><td>nexus4</td><td>g</td><td>stand</td><td>-3.814697E-4</td><td>0.0184021</td><td>-0.013656616</td></tr><tr><td>2015-02-23T10:18:55.692+0000</td><td>nexus4_1</td><td>138</td><td>nexus4</td><td>g</td><td>stand</td><td>0.0046081543</td><td>-0.0069732666</td><td>-0.019882202</td></tr><tr><td>2015-02-23T10:18:55.694+0000</td><td>nexus4_2</td><td>146</td><td>nexus4</td><td>g</td><td>stand</td><td>-0.001449585</td><td>0.02053833</td><td>-0.013656616</td></tr><tr><td>2015-02-23T10:18:55.698+0000</td><td>nexus4_2</td><td>147</td><td>nexus4</td><td>g</td><td>stand</td><td>-0.001449585</td><td>0.02053833</td><td>-0.013656616</td></tr><tr><td>2015-02-23T10:18:55.703+0000</td><td>nexus4_1</td><td>139</td><td>nexus4</td><td>g</td><td>stand</td><td>0.0056762695</td><td>-0.004837036</td><td>-0.020950317</td></tr><tr><td>2015-02-23T10:18:55.704+0000</td><td>nexus4_1</td><td>140</td><td>nexus4</td><td>g</td><td>stand</td><td>0.0056762695</td><td>-0.003768921</td><td>-0.020950317</td></tr><tr><td>2015-02-23T10:18:55.707+0000</td><td>nexus4_1</td><td>141</td><td>nexus4</td><td>g</td><td>stand</td><td>0.0046081543</td><td>-0.0027008057</td><td>-0.019882202</td></tr><tr><td>2015-02-23T10:18:55.709+0000</td><td>nexus4_2</td><td>149</td><td>nexus4</td><td>g</td><td>stand</td><td>-0.0025177002</td><td>0.024810791</td><td>-0.013656616</td></tr><tr><td>2015-02-23T10:18:55.709+0000</td><td>nexus4_2</td><td>148</td><td>nexus4</td><td>g</td><td>stand</td><td>-0.0025177002</td><td>0.024810791</td><td>-0.011520386</td></tr><tr><td>2015-02-23T10:18:55.713+0000</td><td>nexus4_1</td><td>142</td><td>nexus4</td><td>g</td><td>stand</td><td>0.0067443848</td><td>-0.0027008057</td><td>-0.020950317</td></tr><tr><td>2015-02-23T10:18:55.714+0000</td><td>nexus4_2</td><td>150</td><td>nexus4</td><td>g</td><td>stand</td><td>-0.001449585</td><td>0.029083252</td><td>-0.0104522705</td></tr><tr><td>2015-02-23T10:18:55.718+0000</td><td>nexus4_1</td><td>143</td><td>nexus4</td><td>g</td><td>stand</td><td>0.0067443848</td><td>-0.0016326904</td><td>-0.019882202</td></tr><tr><td>2015-02-23T10:18:55.719+0000</td><td>nexus4_2</td><td>151</td><td>nexus4</td><td>g</td><td>stand</td><td>-0.0025177002</td><td>0.025878906</td><td>-0.009384155</td></tr><tr><td>2015-02-23T10:18:55.730+0000</td><td>nexus4_2</td><td>153</td><td>nexus4</td><td>g</td><td>stand</td><td>-3.814697E-4</td><td>0.026947021</td><td>-0.00831604</td></tr><tr><td>2015-02-23T10:18:55.730+0000</td><td>nexus4_2</td><td>152</td><td>nexus4</td><td>g</td><td>stand</td><td>-0.001449585</td><td>0.029083252</td><td>-0.007247925</td></tr><tr><td>2015-02-23T10:18:55.733+0000</td><td>nexus4_1</td><td>144</td><td>nexus4</td><td>g</td><td>stand</td><td>0.0067443848</td><td>-0.0016326904</td><td>-0.019882202</td></tr><tr><td>2015-02-23T10:18:55.734+0000</td><td>nexus4_1</td><td>145</td><td>nexus4</td><td>g</td><td>stand</td><td>0.0046081543</td><td>-0.0027008057</td><td>-0.018814087</td></tr><tr><td>2015-02-23T10:18:55.734+0000</td><td>nexus4_1</td><td>146</td><td>nexus4</td><td>g</td><td>stand</td><td>0.0046081543</td><td>-0.0016326904</td><td>-0.018814087</td></tr><tr><td>2015-02-23T10:18:55.737+0000</td><td>nexus4_2</td><td>154</td><td>nexus4</td><td>g</td><td>stand</td><td>6.866455E-4</td><td>0.025878906</td><td>-0.0061798096</td></tr><tr><td>2015-02-23T10:18:55.738+0000</td><td>nexus4_2</td><td>155</td><td>nexus4</td><td>g</td><td>stand</td><td>0.0017547607</td><td>0.021606445</td><td>-8.392334E-4</td></tr><tr><td>2015-02-23T10:18:55.744+0000</td><td>nexus4_2</td><td>156</td><td>nexus4</td><td>g</td><td>stand</td><td>0.002822876</td><td>0.0184021</td><td>0.0023651123</td></tr><tr><td>2015-02-23T10:18:55.747+0000</td><td>nexus4_1</td><td>147</td><td>nexus4</td><td>g</td><td>stand</td><td>0.003540039</td><td>5.0354E-4</td><td>-0.019882202</td></tr><tr><td>2015-02-23T10:18:55.748+0000</td><td>nexus4_1</td><td>149</td><td>nexus4</td><td>g</td><td>stand</td><td>0.003540039</td><td>0.0037078857</td><td>-0.019882202</td></tr><tr><td>2015-02-23T10:18:55.748+0000</td><td>nexus4_1</td><td>148</td><td>nexus4</td><td>g</td><td>stand</td><td>0.003540039</td><td>0.0015716553</td><td>-0.019882202</td></tr><tr><td>2015-02-23T10:18:55.749+0000</td><td>nexus4_2</td><td>157</td><td>nexus4</td><td>g</td><td>stand</td><td>6.866455E-4</td><td>0.013061523</td><td>0.004501343</td></tr><tr><td>2015-02-23T10:18:55.753+0000</td><td>nexus4_2</td><td>158</td><td>nexus4</td><td>g</td><td>stand</td><td>6.866455E-4</td><td>0.013061523</td><td>0.008773804</td></tr><tr><td>2015-02-23T10:18:55.759+0000</td><td>nexus4_1</td><td>150</td><td>nexus4</td><td>g</td><td>stand</td><td>0.0024719238</td><td>0.0069122314</td><td>-0.017745972</td></tr><tr><td>2015-02-23T10:18:55.760+0000</td><td>nexus4_1</td><td>151</td><td>nexus4</td><td>g</td><td>stand</td><td>0.003540039</td><td>0.009048462</td><td>-0.017745972</td></tr><tr><td>2015-02-23T10:18:55.766+0000</td><td>nexus4_1</td><td>152</td><td>nexus4</td><td>g</td><td>stand</td><td>0.003540039</td><td>0.011184692</td><td>-0.019882202</td></tr><tr><td>2015-02-23T10:18:55.766+0000</td><td>nexus4_1</td><td>153</td><td>nexus4</td><td>g</td><td>stand</td><td>0.0024719238</td><td>0.013320923</td><td>-0.017745972</td></tr><tr><td>2015-02-23T10:18:55.770+0000</td><td>nexus4_2</td><td>159</td><td>nexus4</td><td>g</td><td>stand</td><td>0.002822876</td><td>0.009857178</td><td>0.011978149</td></tr><tr><td>2015-02-23T10:18:55.771+0000</td><td>nexus4_2</td><td>161</td><td>nexus4</td><td>g</td><td>stand</td><td>0.0017547607</td><td>0.0077209473</td><td>0.01411438</td></tr><tr><td>2015-02-23T10:18:55.771+0000</td><td>nexus4_2</td><td>160</td><td>nexus4</td><td>g</td><td>stand</td><td>0.0017547607</td><td>0.0077209473</td><td>0.01411438</td></tr><tr><td>2015-02-23T10:18:55.771+0000</td><td>nexus4_1</td><td>154</td><td>nexus4</td><td>g</td><td>stand</td><td>0.0014038086</td><td>0.014389038</td><td>-0.016677856</td></tr><tr><td>2015-02-23T10:18:55.775+0000</td><td>nexus4_2</td><td>162</td><td>nexus4</td><td>g</td><td>stand</td><td>0.002822876</td><td>0.006652832</td><td>0.01625061</td></tr><tr><td>2015-02-23T10:18:55.776+0000</td><td>nexus4_1</td><td>155</td><td>nexus4</td><td>g</td><td>stand</td><td>0.0014038086</td><td>0.014389038</td><td>-0.013473511</td></tr><tr><td>2015-02-23T10:18:55.779+0000</td><td>nexus4_2</td><td>163</td><td>nexus4</td><td>g</td><td>stand</td><td>0.002822876</td><td>0.005584717</td><td>0.017318726</td></tr><tr><td>2015-02-23T10:18:55.781+0000</td><td>nexus4_1</td><td>156</td><td>nexus4</td><td>g</td><td>stand</td><td>3.356934E-4</td><td>0.014389038</td><td>-0.013473511</td></tr><tr><td>2015-02-23T10:18:55.786+0000</td><td>nexus4_2</td><td>164</td><td>nexus4</td><td>g</td><td>stand</td><td>0.002822876</td><td>0.0013122559</td><td>0.017318726</td></tr><tr><td>2015-02-23T10:18:55.790+0000</td><td>nexus4_2</td><td>165</td><td>nexus4</td><td>g</td><td>stand</td><td>0.0038909912</td><td>-8.239746E-4</td><td>0.01838684</td></tr><tr><td>2015-02-23T10:18:55.791+0000</td><td>nexus4_1</td><td>157</td><td>nexus4</td><td>g</td><td>stand</td><td>-7.324219E-4</td><td>0.016525269</td><td>-0.014541626</td></tr><tr><td>2015-02-23T10:18:55.792+0000</td><td>nexus4_1</td><td>158</td><td>nexus4</td><td>g</td><td>stand</td><td>-7.324219E-4</td><td>0.017593384</td><td>-0.008132935</td></tr><tr><td>2015-02-23T10:18:55.795+0000</td><td>nexus4_2</td><td>166</td><td>nexus4</td><td>g</td><td>stand</td><td>0.0038909912</td><td>-0.0050964355</td><td>0.01838684</td></tr><tr><td>2015-02-23T10:18:55.800+0000</td><td>nexus4_2</td><td>167</td><td>nexus4</td><td>g</td><td>stand</td><td>0.0038909912</td><td>-0.0093688965</td><td>0.01838684</td></tr><tr><td>2015-02-23T10:18:55.803+0000</td><td>nexus4_1</td><td>160</td><td>nexus4</td><td>g</td><td>stand</td><td>-7.324219E-4</td><td>0.02079773</td><td>-0.005996704</td></tr><tr><td>2015-02-23T10:18:55.803+0000</td><td>nexus4_1</td><td>159</td><td>nexus4</td><td>g</td><td>stand</td><td>-7.324219E-4</td><td>0.017593384</td><td>-0.008132935</td></tr><tr><td>2015-02-23T10:18:55.806+0000</td><td>nexus4_2</td><td>168</td><td>nexus4</td><td>g</td><td>stand</td><td>0.0038909912</td><td>-0.010437012</td><td>0.01838684</td></tr><tr><td>2015-02-23T10:18:55.808+0000</td><td>nexus4_1</td><td>161</td><td>nexus4</td><td>g</td><td>stand</td><td>-7.324219E-4</td><td>0.02079773</td><td>-0.005996704</td></tr><tr><td>2015-02-23T10:18:55.810+0000</td><td>nexus4_2</td><td>169</td><td>nexus4</td><td>g</td><td>stand</td><td>0.0049591064</td><td>-0.011505127</td><td>0.01838684</td></tr><tr><td>2015-02-23T10:18:55.812+0000</td><td>nexus4_1</td><td>162</td><td>nexus4</td><td>g</td><td>stand</td><td>-0.0018005371</td><td>0.02079773</td><td>-0.005996704</td></tr><tr><td>2015-02-23T10:18:55.816+0000</td><td>nexus4_2</td><td>170</td><td>nexus4</td><td>g</td><td>stand</td><td>0.0049591064</td><td>-0.013641357</td><td>0.015182495</td></tr><tr><td>2015-02-23T10:18:55.821+0000</td><td>nexus4_2</td><td>171</td><td>nexus4</td><td>g</td><td>stand</td><td>0.0038909912</td><td>-0.013641357</td><td>0.01411438</td></tr><tr><td>2015-02-23T10:18:55.822+0000</td><td>nexus4_1</td><td>163</td><td>nexus4</td><td>g</td><td>stand</td><td>-0.0028686523</td><td>0.021865845</td><td>-6.561279E-4</td></tr><tr><td>2015-02-23T10:18:55.823+0000</td><td>nexus4_1</td><td>164</td><td>nexus4</td><td>g</td><td>stand</td><td>-0.0028686523</td><td>0.021865845</td><td>4.119873E-4</td></tr><tr><td>2015-02-23T10:18:55.826+0000</td><td>nexus4_2</td><td>172</td><td>nexus4</td><td>g</td><td>stand</td><td>0.0060272217</td><td>-0.016845703</td><td>0.011978149</td></tr><tr><td>2015-02-23T10:18:55.828+0000</td><td>nexus4_1</td><td>165</td><td>nexus4</td><td>g</td><td>stand</td><td>-0.0028686523</td><td>0.021865845</td><td>4.119873E-4</td></tr><tr><td>2015-02-23T10:18:55.830+0000</td><td>nexus4_2</td><td>173</td><td>nexus4</td><td>g</td><td>stand</td><td>0.0060272217</td><td>-0.015777588</td><td>0.015182495</td></tr><tr><td>2015-02-23T10:18:55.831+0000</td><td>nexus4_1</td><td>166</td><td>nexus4</td><td>g</td><td>stand</td><td>-0.0039367676</td><td>0.02079773</td><td>0.003616333</td></tr><tr><td>2015-02-23T10:18:55.836+0000</td><td>nexus4_2</td><td>174</td><td>nexus4</td><td>g</td><td>stand</td><td>0.0060272217</td><td>-0.016845703</td><td>0.008773804</td></tr><tr><td>2015-02-23T10:18:55.842+0000</td><td>nexus4_1</td><td>167</td><td>nexus4</td><td>g</td><td>stand</td><td>-0.006072998</td><td>0.021865845</td><td>0.007888794</td></tr><tr><td>2015-02-23T10:18:55.842+0000</td><td>nexus4_2</td><td>175</td><td>nexus4</td><td>g</td><td>stand</td><td>0.007095337</td><td>-0.016845703</td><td>0.008773804</td></tr><tr><td>2015-02-23T10:18:55.843+0000</td><td>nexus4_1</td><td>168</td><td>nexus4</td><td>g</td><td>stand</td><td>-0.006072998</td><td>0.026138306</td><td>0.0068206787</td></tr><tr><td>2015-02-23T10:18:55.847+0000</td><td>nexus4_2</td><td>176</td><td>nexus4</td><td>g</td><td>stand</td><td>0.007095337</td><td>-0.018981934</td><td>0.0066375732</td></tr><tr><td>2015-02-23T10:18:55.848+0000</td><td>nexus4_1</td><td>169</td><td>nexus4</td><td>g</td><td>stand</td><td>-0.006072998</td><td>0.026138306</td><td>0.0068206787</td></tr><tr><td>2015-02-23T10:18:55.851+0000</td><td>nexus4_2</td><td>177</td><td>nexus4</td><td>g</td><td>stand</td><td>0.007095337</td><td>-0.023254395</td><td>0.0023651123</td></tr><tr><td>2015-02-23T10:18:55.852+0000</td><td>nexus4_1</td><td>170</td><td>nexus4</td><td>g</td><td>stand</td><td>-0.006072998</td><td>0.02720642</td><td>0.010025024</td></tr><tr><td>2015-02-23T10:18:55.855+0000</td><td>nexus4_2</td><td>178</td><td>nexus4</td><td>g</td><td>stand</td><td>0.0060272217</td><td>-0.02432251</td><td>2.288818E-4</td></tr><tr><td>2015-02-23T10:18:55.862+0000</td><td>nexus4_1</td><td>171</td><td>nexus4</td><td>g</td><td>stand</td><td>-0.006072998</td><td>0.030410767</td><td>0.01109314</td></tr><tr><td>2015-02-23T10:18:55.863+0000</td><td>nexus4_1</td><td>172</td><td>nexus4</td><td>g</td><td>stand</td><td>-0.005004883</td><td>0.03147888</td><td>0.014297485</td></tr><tr><td>2015-02-23T10:18:55.863+0000</td><td>nexus4_2</td><td>179</td><td>nexus4</td><td>g</td><td>stand</td><td>0.0049591064</td><td>-0.02645874</td><td>-0.0019073486</td></tr><tr><td>2015-02-23T10:18:55.868+0000</td><td>nexus4_2</td><td>180</td><td>nexus4</td><td>g</td><td>stand</td><td>0.0038909912</td><td>-0.02859497</td><td>-0.0019073486</td></tr><tr><td>2015-02-23T10:18:55.868+0000</td><td>nexus4_1</td><td>173</td><td>nexus4</td><td>g</td><td>stand</td><td>-0.005004883</td><td>0.03147888</td><td>0.014297485</td></tr><tr><td>2015-02-23T10:18:55.871+0000</td><td>nexus4_2</td><td>181</td><td>nexus4</td><td>g</td><td>stand</td><td>0.0038909912</td><td>-0.030731201</td><td>-0.004043579</td></tr><tr><td>2015-02-23T10:18:55.873+0000</td><td>nexus4_1</td><td>174</td><td>nexus4</td><td>g</td><td>stand</td><td>-0.0039367676</td><td>0.032546997</td><td>0.014297485</td></tr><tr><td>2015-02-23T10:18:55.877+0000</td><td>nexus4_2</td><td>182</td><td>nexus4</td><td>g</td><td>stand</td><td>0.0017547607</td><td>-0.029663086</td><td>-0.0051116943</td></tr><tr><td>2015-02-23T10:18:55.878+0000</td><td>nexus4_1</td><td>175</td><td>nexus4</td><td>g</td><td>stand</td><td>-0.005004883</td><td>0.03147888</td><td>0.020706177</td></tr><tr><td>2015-02-23T10:18:55.882+0000</td><td>nexus4_2</td><td>183</td><td>nexus4</td><td>g</td><td>stand</td><td>6.866455E-4</td><td>-0.030731201</td><td>-0.0051116943</td></tr><tr><td>2015-02-23T10:18:55.883+0000</td><td>nexus4_1</td><td>176</td><td>nexus4</td><td>g</td><td>stand</td><td>-0.006072998</td><td>0.03147888</td><td>0.019638062</td></tr><tr><td>2015-02-23T10:18:55.887+0000</td><td>nexus4_2</td><td>184</td><td>nexus4</td><td>g</td><td>stand</td><td>6.866455E-4</td><td>-0.029663086</td><td>-0.00831604</td></tr><tr><td>2015-02-23T10:18:55.888+0000</td><td>nexus4_1</td><td>177</td><td>nexus4</td><td>g</td><td>stand</td><td>-0.0039367676</td><td>0.030410767</td><td>0.017501831</td></tr><tr><td>2015-02-23T10:18:55.890+0000</td><td>nexus4_2</td><td>185</td><td>nexus4</td><td>g</td><td>stand</td><td>-3.814697E-4</td><td>-0.031799316</td><td>-0.00831604</td></tr><tr><td>2015-02-23T10:18:55.893+0000</td><td>nexus4_1</td><td>178</td><td>nexus4</td><td>g</td><td>stand</td><td>-0.006072998</td><td>0.030410767</td><td>0.018569946</td></tr><tr><td>2015-02-23T10:18:55.897+0000</td><td>nexus4_2</td><td>186</td><td>nexus4</td><td>g</td><td>stand</td><td>6.866455E-4</td><td>-0.030731201</td><td>-0.012588501</td></tr><tr><td>2015-02-23T10:18:55.898+0000</td><td>nexus4_1</td><td>179</td><td>nexus4</td><td>g</td><td>stand</td><td>-0.006072998</td><td>0.028274536</td><td>0.018569946</td></tr><tr><td>2015-02-23T10:18:55.901+0000</td><td>nexus4_2</td><td>187</td><td>nexus4</td><td>g</td><td>stand</td><td>-3.814697E-4</td><td>-0.03286743</td><td>-0.011520386</td></tr><tr><td>2015-02-23T10:18:55.903+0000</td><td>nexus4_1</td><td>180</td><td>nexus4</td><td>g</td><td>stand</td><td>-0.0071411133</td><td>0.02507019</td><td>0.021774292</td></tr><tr><td>2015-02-23T10:18:55.908+0000</td><td>nexus4_1</td><td>181</td><td>nexus4</td><td>g</td><td>stand</td><td>-0.006072998</td><td>0.024002075</td><td>0.023910522</td></tr><tr><td>2015-02-23T10:18:55.911+0000</td><td>nexus4_2</td><td>188</td><td>nexus4</td><td>g</td><td>stand</td><td>6.866455E-4</td><td>-0.031799316</td><td>-0.016860962</td></tr><tr><td>2015-02-23T10:18:55.912+0000</td><td>nexus4_2</td><td>189</td><td>nexus4</td><td>g</td><td>stand</td><td>0.0017547607</td><td>-0.033935547</td><td>-0.020065308</td></tr><tr><td>2015-02-23T10:18:55.913+0000</td><td>nexus4_1</td><td>182</td><td>nexus4</td><td>g</td><td>stand</td><td>-0.006072998</td><td>0.021865845</td><td>0.023910522</td></tr><tr><td>2015-02-23T10:18:55.916+0000</td><td>nexus4_2</td><td>190</td><td>nexus4</td><td>g</td><td>stand</td><td>0.0017547607</td><td>-0.035003662</td><td>-0.021133423</td></tr><tr><td>2015-02-23T10:18:55.918+0000</td><td>nexus4_1</td><td>183</td><td>nexus4</td><td>g</td><td>stand</td><td>-0.006072998</td><td>0.02079773</td><td>0.020706177</td></tr><tr><td>2015-02-23T10:18:55.921+0000</td><td>nexus4_2</td><td>191</td><td>nexus4</td><td>g</td><td>stand</td><td>0.002822876</td><td>-0.033935547</td><td>-0.021133423</td></tr><tr><td>2015-02-23T10:18:55.923+0000</td><td>nexus4_1</td><td>184</td><td>nexus4</td><td>g</td><td>stand</td><td>-0.006072998</td><td>0.021865845</td><td>0.022842407</td></tr><tr><td>2015-02-23T10:18:55.927+0000</td><td>nexus4_2</td><td>192</td><td>nexus4</td><td>g</td><td>stand</td><td>-3.814697E-4</td><td>-0.03286743</td><td>-0.022201538</td></tr><tr><td>2015-02-23T10:18:55.928+0000</td><td>nexus4_1</td><td>185</td><td>nexus4</td><td>g</td><td>stand</td><td>-0.006072998</td><td>0.019729614</td><td>0.024978638</td></tr><tr><td>2015-02-23T10:18:55.932+0000</td><td>nexus4_2</td><td>193</td><td>nexus4</td><td>g</td><td>stand</td><td>-3.814697E-4</td><td>-0.036071777</td><td>-0.022201538</td></tr><tr><td>2015-02-23T10:18:55.933+0000</td><td>nexus4_1</td><td>186</td><td>nexus4</td><td>g</td><td>stand</td><td>-0.0071411133</td><td>0.019729614</td><td>0.023910522</td></tr><tr><td>2015-02-23T10:18:55.938+0000</td><td>nexus4_1</td><td>187</td><td>nexus4</td><td>g</td><td>stand</td><td>-0.006072998</td><td>0.018661499</td><td>0.024978638</td></tr><tr><td>2015-02-23T10:18:55.943+0000</td><td>nexus4_1</td><td>188</td><td>nexus4</td><td>g</td><td>stand</td><td>-0.006072998</td><td>0.016525269</td><td>0.021774292</td></tr><tr><td>2015-02-23T10:18:55.948+0000</td><td>nexus4_1</td><td>189</td><td>nexus4</td><td>g</td><td>stand</td><td>-0.006072998</td><td>0.016525269</td><td>0.023910522</td></tr><tr><td>2015-02-23T10:18:55.951+0000</td><td>nexus4_2</td><td>194</td><td>nexus4</td><td>g</td><td>stand</td><td>6.866455E-4</td><td>-0.035003662</td><td>-0.018997192</td></tr><tr><td>2015-02-23T10:18:55.952+0000</td><td>nexus4_2</td><td>196</td><td>nexus4</td><td>g</td><td>stand</td><td>-0.001449585</td><td>-0.031799316</td><td>-0.022201538</td></tr><tr><td>2015-02-23T10:18:55.952+0000</td><td>nexus4_2</td><td>195</td><td>nexus4</td><td>g</td><td>stand</td><td>-3.814697E-4</td><td>-0.03286743</td><td>-0.022201538</td></tr><tr><td>2015-02-23T10:18:55.953+0000</td><td>nexus4_2</td><td>197</td><td>nexus4</td><td>g</td><td>stand</td><td>-0.001449585</td><td>-0.030731201</td><td>-0.024337769</td></tr><tr><td>2015-02-23T10:18:55.953+0000</td><td>nexus4_1</td><td>190</td><td>nexus4</td><td>g</td><td>stand</td><td>-0.0039367676</td><td>0.014389038</td><td>0.021774292</td></tr><tr><td>2015-02-23T10:18:55.958+0000</td><td>nexus4_1</td><td>191</td><td>nexus4</td><td>g</td><td>stand</td><td>-0.0039367676</td><td>0.013320923</td><td>0.022842407</td></tr><tr><td>2015-02-23T10:18:55.963+0000</td><td>nexus4_2</td><td>199</td><td>nexus4</td><td>g</td><td>stand</td><td>-3.814697E-4</td><td>-0.027526855</td><td>-0.022201538</td></tr><tr><td>2015-02-23T10:18:55.963+0000</td><td>nexus4_2</td><td>198</td><td>nexus4</td><td>g</td><td>stand</td><td>-0.001449585</td><td>-0.02859497</td><td>-0.023269653</td></tr><tr><td>2015-02-23T10:18:55.964+0000</td><td>nexus4_1</td><td>192</td><td>nexus4</td><td>g</td><td>stand</td><td>-0.0039367676</td><td>0.013320923</td><td>0.023910522</td></tr><tr><td>2015-02-23T10:18:55.968+0000</td><td>nexus4_2</td><td>200</td><td>nexus4</td><td>g</td><td>stand</td><td>-0.001449585</td><td>-0.023254395</td><td>-0.024337769</td></tr><tr><td>2015-02-23T10:18:55.969+0000</td><td>nexus4_1</td><td>193</td><td>nexus4</td><td>g</td><td>stand</td><td>-7.324219E-4</td><td>0.011184692</td><td>0.021774292</td></tr><tr><td>2015-02-23T10:18:55.974+0000</td><td>nexus4_1</td><td>194</td><td>nexus4</td><td>g</td><td>stand</td><td>-0.0028686523</td><td>0.007980347</td><td>0.023910522</td></tr><tr><td>2015-02-23T10:18:55.976+0000</td><td>nexus4_2</td><td>201</td><td>nexus4</td><td>g</td><td>stand</td><td>-3.814697E-4</td><td>-0.02218628</td><td>-0.023269653</td></tr><tr><td>2015-02-23T10:18:55.977+0000</td><td>nexus4_2</td><td>202</td><td>nexus4</td><td>g</td><td>stand</td><td>6.866455E-4</td><td>-0.020050049</td><td>-0.024337769</td></tr><tr><td>2015-02-23T10:18:55.979+0000</td><td>nexus4_1</td><td>195</td><td>nexus4</td><td>g</td><td>stand</td><td>-0.0018005371</td><td>0.004776001</td><td>0.023910522</td></tr><tr><td>2015-02-23T10:18:55.982+0000</td><td>nexus4_2</td><td>203</td><td>nexus4</td><td>g</td><td>stand</td><td>0.0017547607</td><td>-0.018981934</td><td>-0.022201538</td></tr><tr><td>2015-02-23T10:18:55.985+0000</td><td>nexus4_1</td><td>196</td><td>nexus4</td><td>g</td><td>stand</td><td>-0.0018005371</td><td>0.0037078857</td><td>0.023910522</td></tr><tr><td>2015-02-23T10:18:55.987+0000</td><td>nexus4_2</td><td>204</td><td>nexus4</td><td>g</td><td>stand</td><td>0.002822876</td><td>-0.020050049</td><td>-0.022201538</td></tr><tr><td>2015-02-23T10:18:55.989+0000</td><td>nexus4_1</td><td>197</td><td>nexus4</td><td>g</td><td>stand</td><td>-0.0028686523</td><td>5.0354E-4</td><td>0.024978638</td></tr><tr><td>2015-02-23T10:18:55.992+0000</td><td>nexus4_2</td><td>205</td><td>nexus4</td><td>g</td><td>stand</td><td>0.002822876</td><td>-0.016845703</td><td>-0.021133423</td></tr><tr><td>2015-02-23T10:18:55.997+0000</td><td>nexus4_2</td><td>206</td><td>nexus4</td><td>g</td><td>stand</td><td>0.002822876</td><td>-0.016845703</td><td>-0.018997192</td></tr><tr><td>2015-02-23T10:18:55.998+0000</td><td>nexus4_1</td><td>198</td><td>nexus4</td><td>g</td><td>stand</td><td>-0.0039367676</td><td>5.0354E-4</td><td>0.026046753</td></tr><tr><td>2015-02-23T10:18:55.998+0000</td><td>nexus4_1</td><td>199</td><td>nexus4</td><td>g</td><td>stand</td><td>-0.0028686523</td><td>-5.645752E-4</td><td>0.028182983</td></tr><tr><td>2015-02-23T10:18:56.001+0000</td><td>nexus4_2</td><td>207</td><td>nexus4</td><td>g</td><td>stand</td><td>0.002822876</td><td>-0.016845703</td><td>-0.020065308</td></tr><tr><td>2015-02-23T10:18:56.007+0000</td><td>nexus4_2</td><td>208</td><td>nexus4</td><td>g</td><td>stand</td><td>0.0038909912</td><td>-0.014709473</td><td>-0.018997192</td></tr><tr><td>2015-02-23T10:18:56.008+0000</td><td>nexus4_1</td><td>200</td><td>nexus4</td><td>g</td><td>stand</td><td>-0.0039367676</td><td>-0.0027008057</td><td>0.024978638</td></tr><tr><td>2015-02-23T10:18:56.008+0000</td><td>nexus4_1</td><td>201</td><td>nexus4</td><td>g</td><td>stand</td><td>-0.005004883</td><td>-0.004837036</td><td>0.024978638</td></tr><tr><td>2015-02-23T10:18:56.012+0000</td><td>nexus4_2</td><td>209</td><td>nexus4</td><td>g</td><td>stand</td><td>0.002822876</td><td>-0.014709473</td><td>-0.016860962</td></tr><tr><td>2015-02-23T10:18:56.013+0000</td><td>nexus4_1</td><td>202</td><td>nexus4</td><td>g</td><td>stand</td><td>-0.0039367676</td><td>-0.003768921</td><td>0.020706177</td></tr><tr><td>2015-02-23T10:18:56.018+0000</td><td>nexus4_2</td><td>210</td><td>nexus4</td><td>g</td><td>stand</td><td>0.002822876</td><td>-0.011505127</td><td>-0.016860962</td></tr><tr><td>2015-02-23T10:18:56.019+0000</td><td>nexus4_1</td><td>203</td><td>nexus4</td><td>g</td><td>stand</td><td>-0.0028686523</td><td>-0.003768921</td><td>0.020706177</td></tr><tr><td>2015-02-23T10:18:56.022+0000</td><td>nexus4_2</td><td>211</td><td>nexus4</td><td>g</td><td>stand</td><td>0.002822876</td><td>-0.0093688965</td><td>-0.020065308</td></tr><tr><td>2015-02-23T10:18:56.024+0000</td><td>nexus4_1</td><td>204</td><td>nexus4</td><td>g</td><td>stand</td><td>-0.0028686523</td><td>-0.004837036</td><td>0.020706177</td></tr><tr><td>2015-02-23T10:18:56.025+0000</td><td>nexus4_2</td><td>212</td><td>nexus4</td><td>g</td><td>stand</td><td>0.002822876</td><td>-0.007232666</td><td>-0.016860962</td></tr><tr><td>2015-02-23T10:18:56.030+0000</td><td>nexus4_1</td><td>205</td><td>nexus4</td><td>g</td><td>stand</td><td>-0.0039367676</td><td>-0.003768921</td><td>0.017501831</td></tr><tr><td>2015-02-23T10:18:56.031+0000</td><td>nexus4_2</td><td>213</td><td>nexus4</td><td>g</td><td>stand</td><td>0.002822876</td><td>-0.006164551</td><td>-0.014724731</td></tr><tr><td>2015-02-23T10:18:56.035+0000</td><td>nexus4_2</td><td>214</td><td>nexus4</td><td>g</td><td>stand</td><td>0.0038909912</td><td>-0.002960205</td><td>-0.017929077</td></tr><tr><td>2015-02-23T10:18:56.035+0000</td><td>nexus4_1</td><td>206</td><td>nexus4</td><td>g</td><td>stand</td><td>-0.0018005371</td><td>-0.0059051514</td><td>0.01322937</td></tr><tr><td>2015-02-23T10:18:56.040+0000</td><td>nexus4_1</td><td>207</td><td>nexus4</td><td>g</td><td>stand</td><td>-0.0028686523</td><td>-0.010177612</td><td>0.012161255</td></tr><tr><td>2015-02-23T10:18:56.045+0000</td><td>nexus4_2</td><td>215</td><td>nexus4</td><td>g</td><td>stand</td><td>0.0038909912</td><td>-0.0040283203</td><td>-0.017929077</td></tr><tr><td>2015-02-23T10:18:56.045+0000</td><td>nexus4_1</td><td>208</td><td>nexus4</td><td>g</td><td>stand</td><td>-0.0039367676</td><td>-0.010177612</td><td>0.01109314</td></tr><tr><td>2015-02-23T10:18:56.046+0000</td><td>nexus4_2</td><td>216</td><td>nexus4</td><td>g</td><td>stand</td><td>0.0049591064</td><td>-8.239746E-4</td><td>-0.018997192</td></tr><tr><td>2015-02-23T10:18:56.050+0000</td><td>nexus4_1</td><td>209</td><td>nexus4</td><td>g</td><td>stand</td><td>-0.0028686523</td><td>-0.011245728</td><td>0.008956909</td></tr><tr><td>2015-02-23T10:18:56.055+0000</td><td>nexus4_1</td><td>210</td><td>nexus4</td><td>g</td><td>stand</td><td>-0.0028686523</td><td>-0.012313843</td><td>0.01322937</td></tr><tr><td>2015-02-23T10:18:56.060+0000</td><td>nexus4_2</td><td>217</td><td>nexus4</td><td>g</td><td>stand</td><td>0.0060272217</td><td>-8.239746E-4</td><td>-0.018997192</td></tr><tr><td>2015-02-23T10:18:56.061+0000</td><td>nexus4_2</td><td>218</td><td>nexus4</td><td>g</td><td>stand</td><td>0.0049591064</td><td>-0.0018920898</td><td>-0.020065308</td></tr><tr><td>2015-02-23T10:18:56.061+0000</td><td>nexus4_1</td><td>211</td><td>nexus4</td><td>g</td><td>stand</td><td>-0.0018005371</td><td>-0.011245728</td><td>0.015365601</td></tr><tr><td>2015-02-23T10:18:56.061+0000</td><td>nexus4_2</td><td>219</td><td>nexus4</td><td>g</td><td>stand</td><td>0.0049591064</td><td>-8.239746E-4</td><td>-0.017929077</td></tr><tr><td>2015-02-23T10:18:56.065+0000</td><td>nexus4_1</td><td>212</td><td>nexus4</td><td>g</td><td>stand</td><td>-0.0039367676</td><td>-0.012313843</td><td>0.015365601</td></tr><tr><td>2015-02-23T10:18:56.068+0000</td><td>nexus4_2</td><td>220</td><td>nexus4</td><td>g</td><td>stand</td><td>0.002822876</td><td>2.441406E-4</td><td>-0.020065308</td></tr><tr><td>2015-02-23T10:18:56.070+0000</td><td>nexus4_1</td><td>213</td><td>nexus4</td><td>g</td><td>stand</td><td>-0.0018005371</td><td>-0.012313843</td><td>0.01322937</td></tr><tr><td>2015-02-23T10:18:56.072+0000</td><td>nexus4_2</td><td>221</td><td>nexus4</td><td>g</td><td>stand</td><td>0.0038909912</td><td>2.441406E-4</td><td>-0.017929077</td></tr><tr><td>2015-02-23T10:18:56.074+0000</td><td>nexus4_1</td><td>214</td><td>nexus4</td><td>g</td><td>stand</td><td>-0.0039367676</td><td>-0.010177612</td><td>0.010025024</td></tr><tr><td>2015-02-23T10:18:56.077+0000</td><td>nexus4_2</td><td>222</td><td>nexus4</td><td>g</td><td>stand</td><td>0.002822876</td><td>0.0045166016</td><td>-0.018997192</td></tr><tr><td>2015-02-23T10:18:56.081+0000</td><td>nexus4_1</td><td>215</td><td>nexus4</td><td>g</td><td>stand</td><td>-0.0039367676</td><td>-0.010177612</td><td>0.012161255</td></tr><tr><td>2015-02-23T10:18:56.085+0000</td><td>nexus4_1</td><td>216</td><td>nexus4</td><td>g</td><td>stand</td><td>-0.0028686523</td><td>-0.012313843</td><td>0.010025024</td></tr><tr><td>2015-02-23T10:18:56.087+0000</td><td>nexus4_2</td><td>224</td><td>nexus4</td><td>g</td><td>stand</td><td>0.0017547607</td><td>0.005584717</td><td>-0.016860962</td></tr><tr><td>2015-02-23T10:18:56.087+0000</td><td>nexus4_2</td><td>223</td><td>nexus4</td><td>g</td><td>stand</td><td>0.002822876</td><td>0.005584717</td><td>-0.018997192</td></tr><tr><td>2015-02-23T10:18:56.091+0000</td><td>nexus4_1</td><td>217</td><td>nexus4</td><td>g</td><td>stand</td><td>-7.324219E-4</td><td>-0.012313843</td><td>0.007888794</td></tr><tr><td>2015-02-23T10:18:56.094+0000</td><td>nexus4_1</td><td>218</td><td>nexus4</td><td>g</td><td>stand</td><td>-7.324219E-4</td><td>-0.013381958</td><td>0.01109314</td></tr><tr><td>2015-02-23T10:18:56.096+0000</td><td>nexus4_2</td><td>226</td><td>nexus4</td><td>g</td><td>stand</td><td>0.0017547607</td><td>0.011993408</td><td>-0.015792847</td></tr><tr><td>2015-02-23T10:18:56.096+0000</td><td>nexus4_2</td><td>225</td><td>nexus4</td><td>g</td><td>stand</td><td>0.0017547607</td><td>0.0087890625</td><td>-0.017929077</td></tr><tr><td>2015-02-23T10:18:56.100+0000</td><td>nexus4_1</td><td>219</td><td>nexus4</td><td>g</td><td>stand</td><td>-7.324219E-4</td><td>-0.012313843</td><td>0.010025024</td></tr><tr><td>2015-02-23T10:18:56.106+0000</td><td>nexus4_1</td><td>220</td><td>nexus4</td><td>g</td><td>stand</td><td>-0.0018005371</td><td>-0.012313843</td><td>0.008956909</td></tr><tr><td>2015-02-23T10:18:56.108+0000</td><td>nexus4_2</td><td>227</td><td>nexus4</td><td>g</td><td>stand</td><td>0.0017547607</td><td>0.013061523</td><td>-0.016860962</td></tr><tr><td>2015-02-23T10:18:56.108+0000</td><td>nexus4_2</td><td>228</td><td>nexus4</td><td>g</td><td>stand</td><td>0.0017547607</td><td>0.013061523</td><td>-0.014724731</td></tr><tr><td>2015-02-23T10:18:56.112+0000</td><td>nexus4_1</td><td>221</td><td>nexus4</td><td>g</td><td>stand</td><td>-7.324219E-4</td><td>-0.011245728</td><td>0.007888794</td></tr><tr><td>2015-02-23T10:18:56.113+0000</td><td>nexus4_2</td><td>229</td><td>nexus4</td><td>g</td><td>stand</td><td>6.866455E-4</td><td>0.017333984</td><td>-0.016860962</td></tr><tr><td>2015-02-23T10:18:56.115+0000</td><td>nexus4_1</td><td>222</td><td>nexus4</td><td>g</td><td>stand</td><td>-7.324219E-4</td><td>-0.012313843</td><td>0.008956909</td></tr><tr><td>2015-02-23T10:18:56.117+0000</td><td>nexus4_2</td><td>230</td><td>nexus4</td><td>g</td><td>stand</td><td>0.0017547607</td><td>0.01626587</td><td>-0.013656616</td></tr><tr><td>2015-02-23T10:18:56.123+0000</td><td>nexus4_1</td><td>223</td><td>nexus4</td><td>g</td><td>stand</td><td>-7.324219E-4</td><td>-0.010177612</td><td>0.0046844482</td></tr><tr><td>2015-02-23T10:18:56.125+0000</td><td>nexus4_1</td><td>224</td><td>nexus4</td><td>g</td><td>stand</td><td>3.356934E-4</td><td>-0.0069732666</td><td>0.0046844482</td></tr><tr><td>2015-02-23T10:18:56.127+0000</td><td>nexus4_2</td><td>231</td><td>nexus4</td><td>g</td><td>stand</td><td>6.866455E-4</td><td>0.0184021</td><td>-0.011520386</td></tr><tr><td>2015-02-23T10:18:56.128+0000</td><td>nexus4_2</td><td>232</td><td>nexus4</td><td>g</td><td>stand</td><td>0.0017547607</td><td>0.019470215</td><td>-0.00831604</td></tr><tr><td>2015-02-23T10:18:56.132+0000</td><td>nexus4_1</td><td>225</td><td>nexus4</td><td>g</td><td>stand</td><td>3.356934E-4</td><td>-0.003768921</td><td>0.0057525635</td></tr><tr><td>2015-02-23T10:18:56.136+0000</td><td>nexus4_1</td><td>226</td><td>nexus4</td><td>g</td><td>stand</td><td>-7.324219E-4</td><td>-0.0027008057</td><td>4.119873E-4</td></tr><tr><td>2015-02-23T10:18:56.136+0000</td><td>nexus4_2</td><td>234</td><td>nexus4</td><td>g</td><td>stand</td><td>-3.814697E-4</td><td>0.021606445</td><td>-0.007247925</td></tr><tr><td>2015-02-23T10:18:56.136+0000</td><td>nexus4_2</td><td>233</td><td>nexus4</td><td>g</td><td>stand</td><td>-3.814697E-4</td><td>0.0184021</td><td>-0.007247925</td></tr><tr><td>2015-02-23T10:18:56.149+0000</td><td>nexus4_2</td><td>236</td><td>nexus4</td><td>g</td><td>stand</td><td>-0.0025177002</td><td>0.021606445</td><td>-0.0061798096</td></tr><tr><td>2015-02-23T10:18:56.149+0000</td><td>nexus4_2</td><td>235</td><td>nexus4</td><td>g</td><td>stand</td><td>-0.0025177002</td><td>0.021606445</td><td>-0.0061798096</td></tr><tr><td>2015-02-23T10:18:56.152+0000</td><td>nexus4_2</td><td>237</td><td>nexus4</td><td>g</td><td>stand</td><td>-0.001449585</td><td>0.021606445</td><td>-0.004043579</td></tr><tr><td>2015-02-23T10:18:56.153+0000</td><td>nexus4_1</td><td>227</td><td>nexus4</td><td>g</td><td>stand</td><td>-7.324219E-4</td><td>5.0354E-4</td><td>0.0014801025</td></tr><tr><td>2015-02-23T10:18:56.157+0000</td><td>nexus4_2</td><td>238</td><td>nexus4</td><td>g</td><td>stand</td><td>-0.0025177002</td><td>0.023742676</td><td>-0.004043579</td></tr><tr><td>2015-02-23T10:18:56.161+0000</td><td>nexus4_1</td><td>229</td><td>nexus4</td><td>g</td><td>stand</td><td>-7.324219E-4</td><td>0.004776001</td><td>4.119873E-4</td></tr><tr><td>2015-02-23T10:18:56.161+0000</td><td>nexus4_1</td><td>228</td><td>nexus4</td><td>g</td><td>stand</td><td>3.356934E-4</td><td>0.0015716553</td><td>4.119873E-4</td></tr><tr><td>2015-02-23T10:18:56.162+0000</td><td>nexus4_1</td><td>230</td><td>nexus4</td><td>g</td><td>stand</td><td>-0.0018005371</td><td>0.009048462</td><td>-0.0017242432</td></tr><tr><td>2015-02-23T10:18:56.163+0000</td><td>nexus4_1</td><td>231</td><td>nexus4</td><td>g</td><td>stand</td><td>-7.324219E-4</td><td>0.007980347</td><td>0.0014801025</td></tr><tr><td>2015-02-23T10:18:56.167+0000</td><td>nexus4_1</td><td>232</td><td>nexus4</td><td>g</td><td>stand</td><td>-7.324219E-4</td><td>0.011184692</td><td>0.0014801025</td></tr><tr><td>2015-02-23T10:18:56.168+0000</td><td>nexus4_2</td><td>239</td><td>nexus4</td><td>g</td><td>stand</td><td>-0.0025177002</td><td>0.02053833</td><td>2.288818E-4</td></tr><tr><td>2015-02-23T10:18:56.168+0000</td><td>nexus4_2</td><td>240</td><td>nexus4</td><td>g</td><td>stand</td><td>-0.0035858154</td><td>0.02053833</td><td>0.0034332275</td></tr><tr><td>2015-02-23T10:18:56.175+0000</td><td>nexus4_1</td><td>233</td><td>nexus4</td><td>g</td><td>stand</td><td>3.356934E-4</td><td>0.010116577</td><td>4.119873E-4</td></tr><tr><td>2015-02-23T10:18:56.176+0000</td><td>nexus4_1</td><td>234</td><td>nexus4</td><td>g</td><td>stand</td><td>0.0014038086</td><td>0.011184692</td><td>4.119873E-4</td></tr><tr><td>2015-02-23T10:18:56.176+0000</td><td>nexus4_2</td><td>241</td><td>nexus4</td><td>g</td><td>stand</td><td>-0.0035858154</td><td>0.02053833</td><td>0.005569458</td></tr><tr><td>2015-02-23T10:18:56.176+0000</td><td>nexus4_2</td><td>242</td><td>nexus4</td><td>g</td><td>stand</td><td>-0.0035858154</td><td>0.02267456</td><td>0.008773804</td></tr><tr><td>2015-02-23T10:18:56.181+0000</td><td>nexus4_1</td><td>235</td><td>nexus4</td><td>g</td><td>stand</td><td>3.356934E-4</td><td>0.010116577</td><td>4.119873E-4</td></tr><tr><td>2015-02-23T10:18:56.186+0000</td><td>nexus4_1</td><td>236</td><td>nexus4</td><td>g</td><td>stand</td><td>0.0014038086</td><td>0.010116577</td><td>4.119873E-4</td></tr><tr><td>2015-02-23T10:18:56.189+0000</td><td>nexus4_2</td><td>243</td><td>nexus4</td><td>g</td><td>stand</td><td>-0.0046539307</td><td>0.024810791</td><td>0.0066375732</td></tr><tr><td>2015-02-23T10:18:56.189+0000</td><td>nexus4_2</td><td>244</td><td>nexus4</td><td>g</td><td>stand</td><td>-0.0046539307</td><td>0.028015137</td><td>0.009841919</td></tr><tr><td>2015-02-23T10:18:56.191+0000</td><td>nexus4_1</td><td>237</td><td>nexus4</td><td>g</td><td>stand</td><td>0.0024719238</td><td>0.010116577</td><td>0.0025482178</td></tr><tr><td>2015-02-23T10:18:56.193+0000</td><td>nexus4_2</td><td>245</td><td>nexus4</td><td>g</td><td>stand</td><td>-0.0046539307</td><td>0.029083252</td><td>0.009841919</td></tr><tr><td>2015-02-23T10:18:56.195+0000</td><td>nexus4_1</td><td>238</td><td>nexus4</td><td>g</td><td>stand</td><td>0.0024719238</td><td>0.007980347</td><td>-6.561279E-4</td></tr><tr><td>2015-02-23T10:18:56.196+0000</td><td>nexus4_2</td><td>246</td><td>nexus4</td><td>g</td><td>stand</td><td>-0.0046539307</td><td>0.031219482</td><td>0.013046265</td></tr><tr><td>2015-02-23T10:18:56.200+0000</td><td>nexus4_1</td><td>239</td><td>nexus4</td><td>g</td><td>stand</td><td>0.0046081543</td><td>0.007980347</td><td>-0.0017242432</td></tr><tr><td>2015-02-23T10:18:56.206+0000</td><td>nexus4_1</td><td>240</td><td>nexus4</td><td>g</td><td>stand</td><td>0.0024719238</td><td>0.0069122314</td><td>-6.561279E-4</td></tr><tr><td>2015-02-23T10:18:56.209+0000</td><td>nexus4_2</td><td>247</td><td>nexus4</td><td>g</td><td>stand</td><td>-0.005722046</td><td>0.032287598</td><td>0.013046265</td></tr><tr><td>2015-02-23T10:18:56.209+0000</td><td>nexus4_2</td><td>248</td><td>nexus4</td><td>g</td><td>stand</td><td>-0.0025177002</td><td>0.033355713</td><td>0.017318726</td></tr><tr><td>2015-02-23T10:18:56.210+0000</td><td>nexus4_1</td><td>241</td><td>nexus4</td><td>g</td><td>stand</td><td>0.003540039</td><td>0.0069122314</td><td>-0.0017242432</td></tr><tr><td>2015-02-23T10:18:56.216+0000</td><td>nexus4_1</td><td>242</td><td>nexus4</td><td>g</td><td>stand</td><td>0.003540039</td><td>0.0037078857</td><td>-6.561279E-4</td></tr><tr><td>2015-02-23T10:18:56.220+0000</td><td>nexus4_1</td><td>243</td><td>nexus4</td><td>g</td><td>stand</td><td>0.003540039</td><td>0.0026397705</td><td>4.119873E-4</td></tr><tr><td>2015-02-23T10:18:56.220+0000</td><td>nexus4_2</td><td>249</td><td>nexus4</td><td>g</td><td>stand</td><td>-0.0035858154</td><td>0.032287598</td><td>0.019454956</td></tr><tr><td>2015-02-23T10:18:56.223+0000</td><td>nexus4_2</td><td>250</td><td>nexus4</td><td>g</td><td>stand</td><td>-0.0046539307</td><td>0.031219482</td><td>0.01625061</td></tr><tr><td>2015-02-23T10:18:56.224+0000</td><td>nexus4_2</td><td>251</td><td>nexus4</td><td>g</td><td>stand</td><td>-0.0046539307</td><td>0.033355713</td><td>0.020523071</td></tr><tr><td>2015-02-23T10:18:56.226+0000</td><td>nexus4_1</td><td>244</td><td>nexus4</td><td>g</td><td>stand</td><td>0.0024719238</td><td>5.0354E-4</td><td>-0.004928589</td></tr><tr><td>2015-02-23T10:18:56.229+0000</td><td>nexus4_1</td><td>245</td><td>nexus4</td><td>g</td><td>stand</td><td>0.003540039</td><td>5.0354E-4</td><td>-0.0027923584</td></tr><tr><td>2015-02-23T10:18:56.230+0000</td><td>nexus4_2</td><td>252</td><td>nexus4</td><td>g</td><td>stand</td><td>-0.0046539307</td><td>0.031219482</td><td>0.017318726</td></tr><tr><td>2015-02-23T10:18:56.233+0000</td><td>nexus4_2</td><td>253</td><td>nexus4</td><td>g</td><td>stand</td><td>-0.0035858154</td><td>0.030151367</td><td>0.01838684</td></tr><tr><td>2015-02-23T10:18:56.234+0000</td><td>nexus4_1</td><td>246</td><td>nexus4</td><td>g</td><td>stand</td><td>0.0024719238</td><td>-0.0016326904</td><td>-0.0017242432</td></tr><tr><td>2015-02-23T10:18:56.239+0000</td><td>nexus4_1</td><td>247</td><td>nexus4</td><td>g</td><td>stand</td><td>0.0024719238</td><td>-0.0027008057</td><td>-0.0038604736</td></tr><tr><td>2015-02-23T10:18:56.243+0000</td><td>nexus4_2</td><td>254</td><td>nexus4</td><td>g</td><td>stand</td><td>-0.0046539307</td><td>0.029083252</td><td>0.019454956</td></tr><tr><td>2015-02-23T10:18:56.243+0000</td><td>nexus4_2</td><td>255</td><td>nexus4</td><td>g</td><td>stand</td><td>-0.0046539307</td><td>0.025878906</td><td>0.01838684</td></tr><tr><td>2015-02-23T10:18:56.248+0000</td><td>nexus4_2</td><td>256</td><td>nexus4</td><td>g</td><td>stand</td><td>-0.0035858154</td><td>0.024810791</td><td>0.022659302</td></tr><tr><td>2015-02-23T10:18:56.249+0000</td><td>nexus4_1</td><td>248</td><td>nexus4</td><td>g</td><td>stand</td><td>0.0014038086</td><td>-0.003768921</td><td>-0.0027923584</td></tr><tr><td>2015-02-23T10:18:56.250+0000</td><td>nexus4_1</td><td>249</td><td>nexus4</td><td>g</td><td>stand</td><td>-7.324219E-4</td><td>-0.0027008057</td><td>-0.005996704</td></tr><tr><td>2015-02-23T10:18:56.254+0000</td><td>nexus4_2</td><td>257</td><td>nexus4</td><td>g</td><td>stand</td><td>-0.0046539307</td><td>0.024810791</td><td>0.021591187</td></tr><tr><td>2015-02-23T10:18:56.259+0000</td><td>nexus4_2</td><td>258</td><td>nexus4</td><td>g</td><td>stand</td><td>-0.005722046</td><td>0.02267456</td><td>0.023727417</td></tr><tr><td>2015-02-23T10:18:56.262+0000</td><td>nexus4_1</td><td>250</td><td>nexus4</td><td>g</td><td>stand</td><td>-7.324219E-4</td><td>-0.0027008057</td><td>-0.008132935</td></tr><tr><td>2015-02-23T10:18:56.262+0000</td><td>nexus4_1</td><td>251</td><td>nexus4</td><td>g</td><td>stand</td><td>-7.324219E-4</td><td>-0.0027008057</td><td>-0.005996704</td></tr><tr><td>2015-02-23T10:18:56.264+0000</td><td>nexus4_2</td><td>259</td><td>nexus4</td><td>g</td><td>stand</td><td>-0.0046539307</td><td>0.021606445</td><td>0.023727417</td></tr><tr><td>2015-02-23T10:18:56.266+0000</td><td>nexus4_1</td><td>252</td><td>nexus4</td><td>g</td><td>stand</td><td>3.356934E-4</td><td>-5.645752E-4</td><td>-0.00920105</td></tr><tr><td>2015-02-23T10:18:56.269+0000</td><td>nexus4_2</td><td>260</td><td>nexus4</td><td>g</td><td>stand</td><td>-0.0046539307</td><td>0.02053833</td><td>0.024795532</td></tr><tr><td>2015-02-23T10:18:56.271+0000</td><td>nexus4_1</td><td>253</td><td>nexus4</td><td>g</td><td>stand</td><td>-7.324219E-4</td><td>-0.003768921</td><td>-0.00920105</td></tr><tr><td>2015-02-23T10:18:56.274+0000</td><td>nexus4_2</td><td>261</td><td>nexus4</td><td>g</td><td>stand</td><td>-0.005722046</td><td>0.019470215</td><td>0.026931763</td></tr><tr><td>2015-02-23T10:18:56.279+0000</td><td>nexus4_2</td><td>262</td><td>nexus4</td><td>g</td><td>stand</td><td>-0.005722046</td><td>0.017333984</td><td>0.021591187</td></tr><tr><td>2015-02-23T10:18:56.281+0000</td><td>nexus4_1</td><td>255</td><td>nexus4</td><td>g</td><td>stand</td><td>0.0024719238</td><td>-0.003768921</td><td>-0.00920105</td></tr><tr><td>2015-02-23T10:18:56.281+0000</td><td>nexus4_1</td><td>254</td><td>nexus4</td><td>g</td><td>stand</td><td>0.0014038086</td><td>-0.004837036</td><td>-0.008132935</td></tr><tr><td>2015-02-23T10:18:56.284+0000</td><td>nexus4_2</td><td>263</td><td>nexus4</td><td>g</td><td>stand</td><td>-0.0046539307</td><td>0.0184021</td><td>0.023727417</td></tr><tr><td>2015-02-23T10:18:56.289+0000</td><td>nexus4_2</td><td>264</td><td>nexus4</td><td>g</td><td>stand</td><td>-0.005722046</td><td>0.01626587</td><td>0.022659302</td></tr><tr><td>2015-02-23T10:18:56.290+0000</td><td>nexus4_1</td><td>256</td><td>nexus4</td><td>g</td><td>stand</td><td>3.356934E-4</td><td>-0.0059051514</td><td>-0.010269165</td></tr><tr><td>2015-02-23T10:18:56.290+0000</td><td>nexus4_1</td><td>257</td><td>nexus4</td><td>g</td><td>stand</td><td>0.0014038086</td><td>-0.004837036</td><td>-0.013473511</td></tr><tr><td>2015-02-23T10:18:56.294+0000</td><td>nexus4_2</td><td>265</td><td>nexus4</td><td>g</td><td>stand</td><td>-0.005722046</td><td>0.015197754</td><td>0.022659302</td></tr><tr><td>2015-02-23T10:18:56.299+0000</td><td>nexus4_2</td><td>266</td><td>nexus4</td><td>g</td><td>stand</td><td>-0.0046539307</td><td>0.013061523</td><td>0.023727417</td></tr><tr><td>2015-02-23T10:18:56.303+0000</td><td>nexus4_1</td><td>258</td><td>nexus4</td><td>g</td><td>stand</td><td>0.0024719238</td><td>-0.003768921</td><td>-0.0124053955</td></tr><tr><td>2015-02-23T10:18:56.303+0000</td><td>nexus4_1</td><td>259</td><td>nexus4</td><td>g</td><td>stand</td><td>0.0014038086</td><td>-0.003768921</td><td>-0.014541626</td></tr><tr><td>2015-02-23T10:18:56.305+0000</td><td>nexus4_2</td><td>267</td><td>nexus4</td><td>g</td><td>stand</td><td>-0.0046539307</td><td>0.010925293</td><td>0.022659302</td></tr><tr><td>2015-02-23T10:18:56.307+0000</td><td>nexus4_1</td><td>260</td><td>nexus4</td><td>g</td><td>stand</td><td>0.0014038086</td><td>-0.003768921</td><td>-0.014541626</td></tr><tr><td>2015-02-23T10:18:56.309+0000</td><td>nexus4_2</td><td>268</td><td>nexus4</td><td>g</td><td>stand</td><td>-0.0025177002</td><td>0.010925293</td><td>0.023727417</td></tr><tr><td>2015-02-23T10:18:56.309+0000</td><td>nexus4_1</td><td>261</td><td>nexus4</td><td>g</td><td>stand</td><td>0.0014038086</td><td>-0.0069732666</td><td>-0.013473511</td></tr><tr><td>2015-02-23T10:18:56.314+0000</td><td>nexus4_2</td><td>269</td><td>nexus4</td><td>g</td><td>stand</td><td>-0.001449585</td><td>0.010925293</td><td>0.022659302</td></tr><tr><td>2015-02-23T10:18:56.320+0000</td><td>nexus4_2</td><td>270</td><td>nexus4</td><td>g</td><td>stand</td><td>-0.0025177002</td><td>0.0077209473</td><td>0.024795532</td></tr><tr><td>2015-02-23T10:18:56.323+0000</td><td>nexus4_1</td><td>262</td><td>nexus4</td><td>g</td><td>stand</td><td>0.0024719238</td><td>-0.004837036</td><td>-0.0124053955</td></tr><tr><td>2015-02-23T10:18:56.323+0000</td><td>nexus4_1</td><td>263</td><td>nexus4</td><td>g</td><td>stand</td><td>0.0014038086</td><td>-0.008041382</td><td>-0.014541626</td></tr><tr><td>2015-02-23T10:18:56.325+0000</td><td>nexus4_2</td><td>271</td><td>nexus4</td><td>g</td><td>stand</td><td>-0.0025177002</td><td>0.002380371</td><td>0.022659302</td></tr><tr><td>2015-02-23T10:18:56.327+0000</td><td>nexus4_1</td><td>264</td><td>nexus4</td><td>g</td><td>stand</td><td>0.0014038086</td><td>-0.008041382</td><td>-0.014541626</td></tr><tr><td>2015-02-23T10:18:56.329+0000</td><td>nexus4_2</td><td>272</td><td>nexus4</td><td>g</td><td>stand</td><td>-0.0025177002</td><td>0.0034484863</td><td>0.025863647</td></tr><tr><td>2015-02-23T10:18:56.331+0000</td><td>nexus4_1</td><td>265</td><td>nexus4</td><td>g</td><td>stand</td><td>0.0014038086</td><td>-0.008041382</td><td>-0.015609741</td></tr><tr><td>2015-02-23T10:18:56.335+0000</td><td>nexus4_2</td><td>273</td><td>nexus4</td><td>g</td><td>stand</td><td>-0.0035858154</td><td>2.441406E-4</td><td>0.024795532</td></tr><tr><td>2015-02-23T10:18:56.339+0000</td><td>nexus4_1</td><td>267</td><td>nexus4</td><td>g</td><td>stand</td><td>0.0014038086</td><td>-0.010177612</td><td>-0.014541626</td></tr><tr><td>2015-02-23T10:18:56.339+0000</td><td>nexus4_2</td><td>274</td><td>nexus4</td><td>g</td><td>stand</td><td>-0.0025177002</td><td>2.441406E-4</td><td>0.024795532</td></tr><tr><td>2015-02-23T10:18:56.339+0000</td><td>nexus4_1</td><td>266</td><td>nexus4</td><td>g</td><td>stand</td><td>0.0024719238</td><td>-0.011245728</td><td>-0.015609741</td></tr><tr><td>2015-02-23T10:18:56.346+0000</td><td>nexus4_2</td><td>275</td><td>nexus4</td><td>g</td><td>stand</td><td>-0.0046539307</td><td>-0.0018920898</td><td>0.023727417</td></tr><tr><td>2015-02-23T10:18:56.348+0000</td><td>nexus4_2</td><td>276</td><td>nexus4</td><td>g</td><td>stand</td><td>-0.005722046</td><td>-0.002960205</td><td>0.021591187</td></tr><tr><td>2015-02-23T10:18:56.348+0000</td><td>nexus4_1</td><td>268</td><td>nexus4</td><td>g</td><td>stand</td><td>0.0014038086</td><td>-0.008041382</td><td>-0.014541626</td></tr><tr><td>2015-02-23T10:18:56.350+0000</td><td>nexus4_1</td><td>269</td><td>nexus4</td><td>g</td><td>stand</td><td>0.0024719238</td><td>-0.010177612</td><td>-0.0124053955</td></tr><tr><td>2015-02-23T10:18:56.355+0000</td><td>nexus4_2</td><td>277</td><td>nexus4</td><td>g</td><td>stand</td><td>-0.0046539307</td><td>-0.002960205</td><td>0.026931763</td></tr><tr><td>2015-02-23T10:18:56.359+0000</td><td>nexus4_1</td><td>270</td><td>nexus4</td><td>g</td><td>stand</td><td>0.003540039</td><td>-0.010177612</td><td>-0.014541626</td></tr><tr><td>2015-02-23T10:18:56.360+0000</td><td>nexus4_1</td><td>271</td><td>nexus4</td><td>g</td><td>stand</td><td>0.0046081543</td><td>-0.009109497</td><td>-0.013473511</td></tr><tr><td>2015-02-23T10:18:56.360+0000</td><td>nexus4_2</td><td>278</td><td>nexus4</td><td>g</td><td>stand</td><td>-0.0025177002</td><td>-0.002960205</td><td>0.019454956</td></tr><tr><td>2015-02-23T10:18:56.365+0000</td><td>nexus4_2</td><td>279</td><td>nexus4</td><td>g</td><td>stand</td><td>-0.0025177002</td><td>-0.002960205</td><td>0.020523071</td></tr><tr><td>2015-02-23T10:18:56.369+0000</td><td>nexus4_1</td><td>272</td><td>nexus4</td><td>g</td><td>stand</td><td>0.0046081543</td><td>-0.008041382</td><td>-0.0124053955</td></tr><tr><td>2015-02-23T10:18:56.370+0000</td><td>nexus4_2</td><td>280</td><td>nexus4</td><td>g</td><td>stand</td><td>-0.0046539307</td><td>-0.002960205</td><td>0.01411438</td></tr><tr><td>2015-02-23T10:18:56.370+0000</td><td>nexus4_1</td><td>273</td><td>nexus4</td><td>g</td><td>stand</td><td>0.0046081543</td><td>-0.008041382</td><td>-0.0124053955</td></tr><tr><td>2015-02-23T10:18:56.375+0000</td><td>nexus4_2</td><td>281</td><td>nexus4</td><td>g</td><td>stand</td><td>-0.0025177002</td><td>-0.007232666</td><td>0.017318726</td></tr><tr><td>2015-02-23T10:18:56.380+0000</td><td>nexus4_2</td><td>282</td><td>nexus4</td><td>g</td><td>stand</td><td>-0.0035858154</td><td>-0.0093688965</td><td>0.013046265</td></tr><tr><td>2015-02-23T10:18:56.383+0000</td><td>nexus4_1</td><td>274</td><td>nexus4</td><td>g</td><td>stand</td><td>0.0046081543</td><td>-0.008041382</td><td>-0.015609741</td></tr><tr><td>2015-02-23T10:18:56.383+0000</td><td>nexus4_1</td><td>275</td><td>nexus4</td><td>g</td><td>stand</td><td>0.0046081543</td><td>-0.003768921</td><td>-0.015609741</td></tr><tr><td>2015-02-23T10:18:56.385+0000</td><td>nexus4_2</td><td>283</td><td>nexus4</td><td>g</td><td>stand</td><td>-0.0035858154</td><td>-0.008300781</td><td>0.011978149</td></tr><tr><td>2015-02-23T10:18:56.387+0000</td><td>nexus4_1</td><td>276</td><td>nexus4</td><td>g</td><td>stand</td><td>0.0046081543</td><td>-0.003768921</td><td>-0.015609741</td></tr><tr><td>2015-02-23T10:18:56.390+0000</td><td>nexus4_2</td><td>284</td><td>nexus4</td><td>g</td><td>stand</td><td>-0.0025177002</td><td>-0.011505127</td><td>0.01625061</td></tr><tr><td>2015-02-23T10:18:56.390+0000</td><td>nexus4_1</td><td>277</td><td>nexus4</td><td>g</td><td>stand</td><td>0.0024719238</td><td>-5.645752E-4</td><td>-0.0124053955</td></tr><tr><td>2015-02-23T10:18:56.403+0000</td><td>nexus4_1</td><td>278</td><td>nexus4</td><td>g</td><td>stand</td><td>0.0024719238</td><td>5.0354E-4</td><td>-0.00920105</td></tr><tr><td>2015-02-23T10:18:56.403+0000</td><td>nexus4_1</td><td>279</td><td>nexus4</td><td>g</td><td>stand</td><td>0.0024719238</td><td>0.004776001</td><td>-0.013473511</td></tr><tr><td>2015-02-23T10:18:56.407+0000</td><td>nexus4_1</td><td>280</td><td>nexus4</td><td>g</td><td>stand</td><td>0.0024719238</td><td>0.004776001</td><td>-0.013473511</td></tr><tr><td>2015-02-23T10:18:56.410+0000</td><td>nexus4_1</td><td>281</td><td>nexus4</td><td>g</td><td>stand</td><td>0.0024719238</td><td>0.007980347</td><td>-0.00920105</td></tr><tr><td>2015-02-23T10:18:56.410+0000</td><td>nexus4_2</td><td>285</td><td>nexus4</td><td>g</td><td>stand</td><td>-0.0046539307</td><td>-0.013641357</td><td>0.013046265</td></tr><tr><td>2015-02-23T10:18:56.411+0000</td><td>nexus4_2</td><td>287</td><td>nexus4</td><td>g</td><td>stand</td><td>-0.001449585</td><td>-0.011505127</td><td>0.010910034</td></tr><tr><td>2015-02-23T10:18:56.411+0000</td><td>nexus4_2</td><td>286</td><td>nexus4</td><td>g</td><td>stand</td><td>-0.0035858154</td><td>-0.010437012</td><td>0.01411438</td></tr><tr><td>2015-02-23T10:18:56.412+0000</td><td>nexus4_2</td><td>288</td><td>nexus4</td><td>g</td><td>stand</td><td>-0.0035858154</td><td>-0.011505127</td><td>0.010910034</td></tr><tr><td>2015-02-23T10:18:56.427+0000</td><td>nexus4_1</td><td>282</td><td>nexus4</td><td>g</td><td>stand</td><td>0.0024719238</td><td>0.007980347</td><td>-0.01133728</td></tr><tr><td>2015-02-23T10:18:56.427+0000</td><td>nexus4_2</td><td>289</td><td>nexus4</td><td>g</td><td>stand</td><td>-0.0025177002</td><td>-0.012573242</td><td>0.010910034</td></tr><tr><td>2015-02-23T10:18:56.428+0000</td><td>nexus4_1</td><td>284</td><td>nexus4</td><td>g</td><td>stand</td><td>0.003540039</td><td>0.012252808</td><td>-0.0124053955</td></tr><tr><td>2015-02-23T10:18:56.428+0000</td><td>nexus4_1</td><td>283</td><td>nexus4</td><td>g</td><td>stand</td><td>0.003540039</td><td>0.012252808</td><td>-0.0124053955</td></tr><tr><td>2015-02-23T10:18:56.429+0000</td><td>nexus4_2</td><td>290</td><td>nexus4</td><td>g</td><td>stand</td><td>-0.0035858154</td><td>-0.010437012</td><td>0.008773804</td></tr><tr><td>2015-02-23T10:18:56.430+0000</td><td>nexus4_2</td><td>292</td><td>nexus4</td><td>g</td><td>stand</td><td>-0.0025177002</td><td>-0.011505127</td><td>0.0077056885</td></tr><tr><td>2015-02-23T10:18:56.430+0000</td><td>nexus4_2</td><td>291</td><td>nexus4</td><td>g</td><td>stand</td><td>-0.0025177002</td><td>-0.010437012</td><td>0.010910034</td></tr><tr><td>2015-02-23T10:18:56.432+0000</td><td>nexus4_1</td><td>285</td><td>nexus4</td><td>g</td><td>stand</td><td>0.003540039</td><td>0.015457153</td><td>-0.0124053955</td></tr><tr><td>2015-02-23T10:18:56.434+0000</td><td>nexus4_2</td><td>293</td><td>nexus4</td><td>g</td><td>stand</td><td>-0.0025177002</td><td>-0.011505127</td><td>0.010910034</td></tr><tr><td>2015-02-23T10:18:56.439+0000</td><td>nexus4_2</td><td>294</td><td>nexus4</td><td>g</td><td>stand</td><td>-0.001449585</td><td>-0.012573242</td><td>0.009841919</td></tr><tr><td>2015-02-23T10:18:56.442+0000</td><td>nexus4_1</td><td>286</td><td>nexus4</td><td>g</td><td>stand</td><td>0.0024719238</td><td>0.013320923</td><td>-0.01133728</td></tr><tr><td>2015-02-23T10:18:56.442+0000</td><td>nexus4_1</td><td>287</td><td>nexus4</td><td>g</td><td>stand</td><td>0.0024719238</td><td>0.012252808</td><td>-0.01133728</td></tr><tr><td>2015-02-23T10:18:56.444+0000</td><td>nexus4_2</td><td>295</td><td>nexus4</td><td>g</td><td>stand</td><td>-0.0035858154</td><td>-0.010437012</td><td>0.0077056885</td></tr><tr><td>2015-02-23T10:18:56.446+0000</td><td>nexus4_1</td><td>288</td><td>nexus4</td><td>g</td><td>stand</td><td>0.0024719238</td><td>0.012252808</td><td>-0.008132935</td></tr><tr><td>2015-02-23T10:18:56.451+0000</td><td>nexus4_1</td><td>289</td><td>nexus4</td><td>g</td><td>stand</td><td>0.003540039</td><td>0.010116577</td><td>-0.010269165</td></tr><tr><td>2015-02-23T10:18:56.452+0000</td><td>nexus4_2</td><td>296</td><td>nexus4</td><td>g</td><td>stand</td><td>-0.0025177002</td><td>-0.010437012</td><td>0.0066375732</td></tr><tr><td>2015-02-23T10:18:56.453+0000</td><td>nexus4_2</td><td>297</td><td>nexus4</td><td>g</td><td>stand</td><td>-0.001449585</td><td>-0.008300781</td><td>0.004501343</td></tr><tr><td>2015-02-23T10:18:56.458+0000</td><td>nexus4_2</td><td>298</td><td>nexus4</td><td>g</td><td>stand</td><td>-0.001449585</td><td>-0.0093688965</td><td>0.0066375732</td></tr><tr><td>2015-02-23T10:18:56.459+0000</td><td>nexus4_1</td><td>290</td><td>nexus4</td><td>g</td><td>stand</td><td>0.0024719238</td><td>0.0069122314</td><td>-0.00920105</td></tr><tr><td>2015-02-23T10:18:56.462+0000</td><td>nexus4_1</td><td>291</td><td>nexus4</td><td>g</td><td>stand</td><td>0.0014038086</td><td>0.0037078857</td><td>-0.008132935</td></tr><tr><td>2015-02-23T10:18:56.464+0000</td><td>nexus4_2</td><td>299</td><td>nexus4</td><td>g</td><td>stand</td><td>-0.001449585</td><td>-0.007232666</td><td>0.004501343</td></tr><tr><td>2015-02-23T10:18:56.468+0000</td><td>nexus4_2</td><td>300</td><td>nexus4</td><td>g</td><td>stand</td><td>-0.001449585</td><td>-0.0050964355</td><td>0.004501343</td></tr><tr><td>2015-02-23T10:18:56.469+0000</td><td>nexus4_1</td><td>292</td><td>nexus4</td><td>g</td><td>stand</td><td>0.003540039</td><td>0.0037078857</td><td>-0.005996704</td></tr><tr><td>2015-02-23T10:18:56.474+0000</td><td>nexus4_2</td><td>301</td><td>nexus4</td><td>g</td><td>stand</td><td>-0.001449585</td><td>-0.002960205</td><td>0.0023651123</td></tr><tr><td>2015-02-23T10:18:56.474+0000</td><td>nexus4_1</td><td>293</td><td>nexus4</td><td>g</td><td>stand</td><td>0.0024719238</td><td>0.0015716553</td><td>-0.004928589</td></tr><tr><td>2015-02-23T10:18:56.477+0000</td><td>nexus4_1</td><td>294</td><td>nexus4</td><td>g</td><td>stand</td><td>0.0024719238</td><td>5.0354E-4</td><td>-0.0038604736</td></tr><tr><td>2015-02-23T10:18:56.479+0000</td><td>nexus4_2</td><td>302</td><td>nexus4</td><td>g</td><td>stand</td><td>-3.814697E-4</td><td>2.441406E-4</td><td>0.004501343</td></tr><tr><td>2015-02-23T10:18:56.483+0000</td><td>nexus4_1</td><td>295</td><td>nexus4</td><td>g</td><td>stand</td><td>3.356934E-4</td><td>5.0354E-4</td><td>-0.0027923584</td></tr><tr><td>2015-02-23T10:18:56.488+0000</td><td>nexus4_1</td><td>296</td><td>nexus4</td><td>g</td><td>stand</td><td>0.0014038086</td><td>5.0354E-4</td><td>-6.561279E-4</td></tr><tr><td>2015-02-23T10:18:56.491+0000</td><td>nexus4_2</td><td>303</td><td>nexus4</td><td>g</td><td>stand</td><td>-0.001449585</td><td>0.0034484863</td><td>-0.0019073486</td></tr><tr><td>2015-02-23T10:18:56.491+0000</td><td>nexus4_2</td><td>304</td><td>nexus4</td><td>g</td><td>stand</td><td>-3.814697E-4</td><td>0.0087890625</td><td>0.0034332275</td></tr><tr><td>2015-02-23T10:18:56.492+0000</td><td>nexus4_1</td><td>297</td><td>nexus4</td><td>g</td><td>stand</td><td>0.0014038086</td><td>-5.645752E-4</td><td>0.0014801025</td></tr><tr><td>2015-02-23T10:18:56.495+0000</td><td>nexus4_2</td><td>305</td><td>nexus4</td><td>g</td><td>stand</td><td>-3.814697E-4</td><td>0.0087890625</td><td>0.0034332275</td></tr><tr><td>2015-02-23T10:18:56.498+0000</td><td>nexus4_1</td><td>298</td><td>nexus4</td><td>g</td><td>stand</td><td>0.0014038086</td><td>-0.0027008057</td><td>4.119873E-4</td></tr><tr><td>2015-02-23T10:18:56.500+0000</td><td>nexus4_2</td><td>306</td><td>nexus4</td><td>g</td><td>stand</td><td>6.866455E-4</td><td>0.010925293</td><td>0.0012969971</td></tr><tr><td>2015-02-23T10:18:56.503+0000</td><td>nexus4_1</td><td>299</td><td>nexus4</td><td>g</td><td>stand</td><td>0.0014038086</td><td>-0.0016326904</td><td>-0.0017242432</td></tr><tr><td>2015-02-23T10:18:56.505+0000</td><td>nexus4_2</td><td>307</td><td>nexus4</td><td>g</td><td>stand</td><td>-0.001449585</td><td>0.010925293</td><td>0.0034332275</td></tr><tr><td>2015-02-23T10:18:56.509+0000</td><td>nexus4_1</td><td>300</td><td>nexus4</td><td>g</td><td>stand</td><td>0.0014038086</td><td>-0.004837036</td><td>0.0014801025</td></tr><tr><td>2015-02-23T10:18:56.510+0000</td><td>nexus4_2</td><td>308</td><td>nexus4</td><td>g</td><td>stand</td><td>6.866455E-4</td><td>0.009857178</td><td>0.0012969971</td></tr><tr><td>2015-02-23T10:18:56.513+0000</td><td>nexus4_1</td><td>301</td><td>nexus4</td><td>g</td><td>stand</td><td>0.0014038086</td><td>-0.0059051514</td><td>-6.561279E-4</td></tr><tr><td>2015-02-23T10:18:56.515+0000</td><td>nexus4_2</td><td>309</td><td>nexus4</td><td>g</td><td>stand</td><td>6.866455E-4</td><td>0.0087890625</td><td>0.0012969971</td></tr><tr><td>2015-02-23T10:18:56.519+0000</td><td>nexus4_1</td><td>302</td><td>nexus4</td><td>g</td><td>stand</td><td>0.0024719238</td><td>-0.008041382</td><td>-0.0027923584</td></tr><tr><td>2015-02-23T10:18:56.520+0000</td><td>nexus4_2</td><td>310</td><td>nexus4</td><td>g</td><td>stand</td><td>0.0017547607</td><td>0.010925293</td><td>2.288818E-4</td></tr><tr><td>2015-02-23T10:18:56.523+0000</td><td>nexus4_1</td><td>303</td><td>nexus4</td><td>g</td><td>stand</td><td>0.003540039</td><td>-0.0069732666</td><td>-6.561279E-4</td></tr><tr><td>2015-02-23T10:18:56.525+0000</td><td>nexus4_2</td><td>311</td><td>nexus4</td><td>g</td><td>stand</td><td>0.0017547607</td><td>0.011993408</td><td>0.0012969971</td></tr><tr><td>2015-02-23T10:18:56.529+0000</td><td>nexus4_1</td><td>304</td><td>nexus4</td><td>g</td><td>stand</td><td>0.0046081543</td><td>-0.009109497</td><td>-6.561279E-4</td></tr><tr><td>2015-02-23T10:18:56.530+0000</td><td>nexus4_2</td><td>312</td><td>nexus4</td><td>g</td><td>stand</td><td>0.0017547607</td><td>0.010925293</td><td>0.0012969971</td></tr><tr><td>2015-02-23T10:18:56.533+0000</td><td>nexus4_1</td><td>305</td><td>nexus4</td><td>g</td><td>stand</td><td>0.0024719238</td><td>-0.011245728</td><td>-0.0027923584</td></tr><tr><td>2015-02-23T10:18:56.539+0000</td><td>nexus4_1</td><td>306</td><td>nexus4</td><td>g</td><td>stand</td><td>0.0014038086</td><td>-0.011245728</td><td>0.0014801025</td></tr><tr><td>2015-02-23T10:18:56.540+0000</td><td>nexus4_2</td><td>313</td><td>nexus4</td><td>g</td><td>stand</td><td>0.002822876</td><td>0.009857178</td><td>-8.392334E-4</td></tr><tr><td>2015-02-23T10:18:56.541+0000</td><td>nexus4_2</td><td>314</td><td>nexus4</td><td>g</td><td>stand</td><td>0.002822876</td><td>0.0077209473</td><td>2.288818E-4</td></tr><tr><td>2015-02-23T10:18:56.543+0000</td><td>nexus4_1</td><td>307</td><td>nexus4</td><td>g</td><td>stand</td><td>0.0014038086</td><td>-0.011245728</td><td>0.0014801025</td></tr><tr><td>2015-02-23T10:18:56.548+0000</td><td>nexus4_2</td><td>315</td><td>nexus4</td><td>g</td><td>stand</td><td>0.002822876</td><td>0.0077209473</td><td>2.288818E-4</td></tr><tr><td>2015-02-23T10:18:56.549+0000</td><td>nexus4_2</td><td>316</td><td>nexus4</td><td>g</td><td>stand</td><td>0.002822876</td><td>0.006652832</td><td>2.288818E-4</td></tr><tr><td>2015-02-23T10:18:56.554+0000</td><td>nexus4_1</td><td>309</td><td>nexus4</td><td>g</td><td>stand</td><td>0.0014038086</td><td>-0.010177612</td><td>0.003616333</td></tr><tr><td>2015-02-23T10:18:56.554+0000</td><td>nexus4_1</td><td>308</td><td>nexus4</td><td>g</td><td>stand</td><td>0.0024719238</td><td>-0.010177612</td><td>0.0014801025</td></tr><tr><td>2015-02-23T10:18:56.559+0000</td><td>nexus4_1</td><td>310</td><td>nexus4</td><td>g</td><td>stand</td><td>3.356934E-4</td><td>-0.008041382</td><td>0.0057525635</td></tr><tr><td>2015-02-23T10:18:56.562+0000</td><td>nexus4_2</td><td>317</td><td>nexus4</td><td>g</td><td>stand</td><td>0.002822876</td><td>0.0045166016</td><td>2.288818E-4</td></tr><tr><td>2015-02-23T10:18:56.562+0000</td><td>nexus4_2</td><td>318</td><td>nexus4</td><td>g</td><td>stand</td><td>0.002822876</td><td>0.0013122559</td><td>2.288818E-4</td></tr><tr><td>2015-02-23T10:18:56.563+0000</td><td>nexus4_1</td><td>311</td><td>nexus4</td><td>g</td><td>stand</td><td>0.0014038086</td><td>-0.009109497</td><td>0.003616333</td></tr><tr><td>2015-02-23T10:18:56.567+0000</td><td>nexus4_2</td><td>319</td><td>nexus4</td><td>g</td><td>stand</td><td>6.866455E-4</td><td>2.441406E-4</td><td>-0.0051116943</td></tr><tr><td>2015-02-23T10:18:56.569+0000</td><td>nexus4_1</td><td>312</td><td>nexus4</td><td>g</td><td>stand</td><td>3.356934E-4</td><td>-0.0059051514</td><td>4.119873E-4</td></tr><tr><td>2015-02-23T10:18:56.570+0000</td><td>nexus4_2</td><td>320</td><td>nexus4</td><td>g</td><td>stand</td><td>6.866455E-4</td><td>2.441406E-4</td><td>-0.0051116943</td></tr><tr><td>2015-02-23T10:18:56.573+0000</td><td>nexus4_1</td><td>313</td><td>nexus4</td><td>g</td><td>stand</td><td>3.356934E-4</td><td>-0.0059051514</td><td>4.119873E-4</td></tr><tr><td>2015-02-23T10:18:56.575+0000</td><td>nexus4_2</td><td>321</td><td>nexus4</td><td>g</td><td>stand</td><td>6.866455E-4</td><td>-0.0018920898</td><td>-0.0029754639</td></tr><tr><td>2015-02-23T10:18:56.579+0000</td><td>nexus4_1</td><td>314</td><td>nexus4</td><td>g</td><td>stand</td><td>-0.0018005371</td><td>-0.0059051514</td><td>-6.561279E-4</td></tr><tr><td>2015-02-23T10:18:56.583+0000</td><td>nexus4_1</td><td>315</td><td>nexus4</td><td>g</td><td>stand</td><td>3.356934E-4</td><td>-0.004837036</td><td>4.119873E-4</td></tr><tr><td>2015-02-23T10:18:56.583+0000</td><td>nexus4_2</td><td>322</td><td>nexus4</td><td>g</td><td>stand</td><td>0.0017547607</td><td>-0.0018920898</td><td>-0.004043579</td></tr><tr><td>2015-02-23T10:18:56.584+0000</td><td>nexus4_2</td><td>323</td><td>nexus4</td><td>g</td><td>stand</td><td>6.866455E-4</td><td>-0.0018920898</td><td>-0.0061798096</td></tr><tr><td>2015-02-23T10:18:56.589+0000</td><td>nexus4_1</td><td>316</td><td>nexus4</td><td>g</td><td>stand</td><td>-0.0018005371</td><td>-0.004837036</td><td>0.0014801025</td></tr><tr><td>2015-02-23T10:18:56.593+0000</td><td>nexus4_2</td><td>324</td><td>nexus4</td><td>g</td><td>stand</td><td>6.866455E-4</td><td>-0.0018920898</td><td>-0.0061798096</td></tr><tr><td>2015-02-23T10:18:56.594+0000</td><td>nexus4_2</td><td>325</td><td>nexus4</td><td>g</td><td>stand</td><td>-3.814697E-4</td><td>-0.0018920898</td><td>-0.0061798096</td></tr><tr><td>2015-02-23T10:18:56.595+0000</td><td>nexus4_1</td><td>317</td><td>nexus4</td><td>g</td><td>stand</td><td>-7.324219E-4</td><td>-0.0016326904</td><td>0.0068206787</td></tr><tr><td>2015-02-23T10:18:56.603+0000</td><td>nexus4_2</td><td>326</td><td>nexus4</td><td>g</td><td>stand</td><td>-3.814697E-4</td><td>-0.0018920898</td><td>-0.0061798096</td></tr><tr><td>2015-02-23T10:18:56.604+0000</td><td>nexus4_2</td><td>327</td><td>nexus4</td><td>g</td><td>stand</td><td>-3.814697E-4</td><td>-0.0018920898</td><td>-0.00831604</td></tr><tr><td>2015-02-23T10:18:56.614+0000</td><td>nexus4_1</td><td>319</td><td>nexus4</td><td>g</td><td>stand</td><td>-7.324219E-4</td><td>-0.0016326904</td><td>0.0025482178</td></tr><tr><td>2015-02-23T10:18:56.614+0000</td><td>nexus4_1</td><td>318</td><td>nexus4</td><td>g</td><td>stand</td><td>-0.0018005371</td><td>-0.0027008057</td><td>0.0025482178</td></tr><tr><td>2015-02-23T10:18:56.615+0000</td><td>nexus4_1</td><td>320</td><td>nexus4</td><td>g</td><td>stand</td><td>3.356934E-4</td><td>0.0026397705</td><td>0.0057525635</td></tr><tr><td>2015-02-23T10:18:56.616+0000</td><td>nexus4_1</td><td>321</td><td>nexus4</td><td>g</td><td>stand</td><td>3.356934E-4</td><td>0.0015716553</td><td>0.0057525635</td></tr><tr><td>2015-02-23T10:18:56.618+0000</td><td>nexus4_2</td><td>329</td><td>nexus4</td><td>g</td><td>stand</td><td>6.866455E-4</td><td>-0.002960205</td><td>-0.00831604</td></tr><tr><td>2015-02-23T10:18:56.618+0000</td><td>nexus4_2</td><td>328</td><td>nexus4</td><td>g</td><td>stand</td><td>-3.814697E-4</td><td>-0.0018920898</td><td>-0.0104522705</td></tr><tr><td>2015-02-23T10:18:56.622+0000</td><td>nexus4_2</td><td>330</td><td>nexus4</td><td>g</td><td>stand</td><td>6.866455E-4</td><td>-0.0050964355</td><td>-0.0104522705</td></tr><tr><td>2015-02-23T10:18:56.625+0000</td><td>nexus4_2</td><td>331</td><td>nexus4</td><td>g</td><td>stand</td><td>0.0017547607</td><td>-0.0050964355</td><td>-0.0104522705</td></tr><tr><td>2015-02-23T10:18:56.628+0000</td><td>nexus4_1</td><td>322</td><td>nexus4</td><td>g</td><td>stand</td><td>3.356934E-4</td><td>0.004776001</td><td>0.0046844482</td></tr><tr><td>2015-02-23T10:18:56.629+0000</td><td>nexus4_1</td><td>323</td><td>nexus4</td><td>g</td><td>stand</td><td>3.356934E-4</td><td>0.005844116</td><td>0.0057525635</td></tr><tr><td>2015-02-23T10:18:56.629+0000</td><td>nexus4_1</td><td>324</td><td>nexus4</td><td>g</td><td>stand</td><td>-7.324219E-4</td><td>0.007980347</td><td>0.0057525635</td></tr><tr><td>2015-02-23T10:18:56.636+0000</td><td>nexus4_2</td><td>333</td><td>nexus4</td><td>g</td><td>stand</td><td>-3.814697E-4</td><td>-0.0040283203</td><td>-0.0104522705</td></tr><tr><td>2015-02-23T10:18:56.636+0000</td><td>nexus4_2</td><td>332</td><td>nexus4</td><td>g</td><td>stand</td><td>0.0017547607</td><td>-0.0040283203</td><td>-0.009384155</td></tr><tr><td>2015-02-23T10:18:56.640+0000</td><td>nexus4_1</td><td>325</td><td>nexus4</td><td>g</td><td>stand</td><td>-0.0018005371</td><td>0.009048462</td><td>0.0057525635</td></tr><tr><td>2015-02-23T10:18:56.641+0000</td><td>nexus4_1</td><td>326</td><td>nexus4</td><td>g</td><td>stand</td><td>-0.0018005371</td><td>0.010116577</td><td>0.0057525635</td></tr><tr><td>2015-02-23T10:18:56.643+0000</td><td>nexus4_1</td><td>327</td><td>nexus4</td><td>g</td><td>stand</td><td>-0.0028686523</td><td>0.011184692</td><td>0.0057525635</td></tr><tr><td>2015-02-23T10:18:56.644+0000</td><td>nexus4_2</td><td>334</td><td>nexus4</td><td>g</td><td>stand</td><td>6.866455E-4</td><td>-0.0050964355</td><td>-0.012588501</td></tr><tr><td>2015-02-23T10:18:56.645+0000</td><td>nexus4_2</td><td>335</td><td>nexus4</td><td>g</td><td>stand</td><td>6.866455E-4</td><td>-0.0040283203</td><td>-0.012588501</td></tr><tr><td>2015-02-23T10:18:56.648+0000</td><td>nexus4_1</td><td>328</td><td>nexus4</td><td>g</td><td>stand</td><td>-0.0039367676</td><td>0.014389038</td><td>0.007888794</td></tr><tr><td>2015-02-23T10:18:56.651+0000</td><td>nexus4_2</td><td>336</td><td>nexus4</td><td>g</td><td>stand</td><td>6.866455E-4</td><td>-0.0040283203</td><td>-0.012588501</td></tr><tr><td>2015-02-23T10:18:56.656+0000</td><td>nexus4_1</td><td>329</td><td>nexus4</td><td>g</td><td>stand</td><td>-0.0028686523</td><td>0.014389038</td><td>0.0068206787</td></tr><tr><td>2015-02-23T10:18:56.657+0000</td><td>nexus4_1</td><td>330</td><td>nexus4</td><td>g</td><td>stand</td><td>-0.0018005371</td><td>0.014389038</td><td>0.008956909</td></tr><tr><td>2015-02-23T10:18:56.662+0000</td><td>nexus4_1</td><td>331</td><td>nexus4</td><td>g</td><td>stand</td><td>-0.0028686523</td><td>0.014389038</td><td>0.007888794</td></tr><tr><td>2015-02-23T10:18:56.663+0000</td><td>nexus4_2</td><td>338</td><td>nexus4</td><td>g</td><td>stand</td><td>0.0017547607</td><td>-0.006164551</td><td>-0.015792847</td></tr><tr><td>2015-02-23T10:18:56.663+0000</td><td>nexus4_2</td><td>337</td><td>nexus4</td><td>g</td><td>stand</td><td>6.866455E-4</td><td>-0.0040283203</td><td>-0.014724731</td></tr><tr><td>2015-02-23T10:18:56.665+0000</td><td>nexus4_2</td><td>339</td><td>nexus4</td><td>g</td><td>stand</td><td>6.866455E-4</td><td>-0.007232666</td><td>-0.013656616</td></tr><tr><td>2015-02-23T10:18:56.667+0000</td><td>nexus4_1</td><td>332</td><td>nexus4</td><td>g</td><td>stand</td><td>-0.0028686523</td><td>0.013320923</td><td>0.007888794</td></tr><tr><td>2015-02-23T10:18:56.673+0000</td><td>nexus4_1</td><td>333</td><td>nexus4</td><td>g</td><td>stand</td><td>-0.0018005371</td><td>0.015457153</td><td>0.008956909</td></tr><tr><td>2015-02-23T10:18:56.679+0000</td><td>nexus4_1</td><td>334</td><td>nexus4</td><td>g</td><td>stand</td><td>-0.0018005371</td><td>0.015457153</td><td>0.010025024</td></tr><tr><td>2015-02-23T10:18:56.680+0000</td><td>nexus4_2</td><td>340</td><td>nexus4</td><td>g</td><td>stand</td><td>6.866455E-4</td><td>-0.0093688965</td><td>-0.015792847</td></tr><tr><td>2015-02-23T10:18:56.681+0000</td><td>nexus4_2</td><td>342</td><td>nexus4</td><td>g</td><td>stand</td><td>0.0017547607</td><td>-0.0093688965</td><td>-0.015792847</td></tr><tr><td>2015-02-23T10:18:56.681+0000</td><td>nexus4_2</td><td>341</td><td>nexus4</td><td>g</td><td>stand</td><td>6.866455E-4</td><td>-0.008300781</td><td>-0.012588501</td></tr><tr><td>2015-02-23T10:18:56.683+0000</td><td>nexus4_1</td><td>335</td><td>nexus4</td><td>g</td><td>stand</td><td>-0.0018005371</td><td>0.013320923</td><td>0.010025024</td></tr><tr><td>2015-02-23T10:18:56.687+0000</td><td>nexus4_1</td><td>336</td><td>nexus4</td><td>g</td><td>stand</td><td>-0.0018005371</td><td>0.017593384</td><td>0.008956909</td></tr><tr><td>2015-02-23T10:18:56.687+0000</td><td>nexus4_2</td><td>343</td><td>nexus4</td><td>g</td><td>stand</td><td>0.0017547607</td><td>-0.0093688965</td><td>-0.012588501</td></tr><tr><td>2015-02-23T10:18:56.692+0000</td><td>nexus4_2</td><td>344</td><td>nexus4</td><td>g</td><td>stand</td><td>0.002822876</td><td>-0.008300781</td><td>-0.012588501</td></tr><tr><td>2015-02-23T10:18:56.693+0000</td><td>nexus4_1</td><td>337</td><td>nexus4</td><td>g</td><td>stand</td><td>-0.0028686523</td><td>0.016525269</td><td>0.010025024</td></tr><tr><td>2015-02-23T10:18:56.697+0000</td><td>nexus4_2</td><td>345</td><td>nexus4</td><td>g</td><td>stand</td><td>0.002822876</td><td>-0.008300781</td><td>-0.015792847</td></tr><tr><td>2015-02-23T10:18:56.699+0000</td><td>nexus4_1</td><td>338</td><td>nexus4</td><td>g</td><td>stand</td><td>-0.0018005371</td><td>0.015457153</td><td>0.010025024</td></tr><tr><td>2015-02-23T10:18:56.702+0000</td><td>nexus4_2</td><td>346</td><td>nexus4</td><td>g</td><td>stand</td><td>0.002822876</td><td>-0.008300781</td><td>-0.015792847</td></tr><tr><td>2015-02-23T10:18:56.703+0000</td><td>nexus4_1</td><td>339</td><td>nexus4</td><td>g</td><td>stand</td><td>-0.0018005371</td><td>0.015457153</td><td>0.008956909</td></tr><tr><td>2015-02-23T10:18:56.708+0000</td><td>nexus4_2</td><td>347</td><td>nexus4</td><td>g</td><td>stand</td><td>0.0017547607</td><td>-0.007232666</td><td>-0.013656616</td></tr><tr><td>2015-02-23T10:18:56.709+0000</td><td>nexus4_1</td><td>340</td><td>nexus4</td><td>g</td><td>stand</td><td>-0.0039367676</td><td>0.014389038</td><td>0.012161255</td></tr><tr><td>2015-02-23T10:18:56.712+0000</td><td>nexus4_2</td><td>348</td><td>nexus4</td><td>g</td><td>stand</td><td>0.002822876</td><td>-0.007232666</td><td>-0.013656616</td></tr><tr><td>2015-02-23T10:18:56.714+0000</td><td>nexus4_1</td><td>341</td><td>nexus4</td><td>g</td><td>stand</td><td>-0.005004883</td><td>0.014389038</td><td>0.01322937</td></tr><tr><td>2015-02-23T10:18:56.718+0000</td><td>nexus4_2</td><td>349</td><td>nexus4</td><td>g</td><td>stand</td><td>0.002822876</td><td>-0.006164551</td><td>-0.014724731</td></tr><tr><td>2015-02-23T10:18:56.719+0000</td><td>nexus4_1</td><td>342</td><td>nexus4</td><td>g</td><td>stand</td><td>-0.0039367676</td><td>0.012252808</td><td>0.01322937</td></tr><tr><td>2015-02-23T10:18:56.721+0000</td><td>nexus4_2</td><td>350</td><td>nexus4</td><td>g</td><td>stand</td><td>0.0038909912</td><td>-0.002960205</td><td>-0.013656616</td></tr><tr><td>2015-02-23T10:18:56.724+0000</td><td>nexus4_1</td><td>343</td><td>nexus4</td><td>g</td><td>stand</td><td>-0.0039367676</td><td>0.011184692</td><td>0.01322937</td></tr><tr><td>2015-02-23T10:18:56.729+0000</td><td>nexus4_1</td><td>344</td><td>nexus4</td><td>g</td><td>stand</td><td>-0.005004883</td><td>0.009048462</td><td>0.015365601</td></tr><tr><td>2015-02-23T10:18:56.731+0000</td><td>nexus4_2</td><td>351</td><td>nexus4</td><td>g</td><td>stand</td><td>0.002822876</td><td>-0.002960205</td><td>-0.012588501</td></tr><tr><td>2015-02-23T10:18:56.732+0000</td><td>nexus4_2</td><td>352</td><td>nexus4</td><td>g</td><td>stand</td><td>0.0017547607</td><td>2.441406E-4</td><td>-0.0104522705</td></tr><tr><td>2015-02-23T10:18:56.734+0000</td><td>nexus4_1</td><td>345</td><td>nexus4</td><td>g</td><td>stand</td><td>-0.005004883</td><td>0.010116577</td><td>0.017501831</td></tr><tr><td>2015-02-23T10:18:56.738+0000</td><td>nexus4_2</td><td>353</td><td>nexus4</td><td>g</td><td>stand</td><td>0.0017547607</td><td>0.002380371</td><td>-0.009384155</td></tr><tr><td>2015-02-23T10:18:56.742+0000</td><td>nexus4_1</td><td>346</td><td>nexus4</td><td>g</td><td>stand</td><td>-0.0039367676</td><td>0.007980347</td><td>0.014297485</td></tr><tr><td>2015-02-23T10:18:56.743+0000</td><td>nexus4_1</td><td>347</td><td>nexus4</td><td>g</td><td>stand</td><td>-0.005004883</td><td>0.0069122314</td><td>0.014297485</td></tr><tr><td>2015-02-23T10:18:56.743+0000</td><td>nexus4_2</td><td>354</td><td>nexus4</td><td>g</td><td>stand</td><td>0.0017547607</td><td>0.005584717</td><td>-0.011520386</td></tr><tr><td>2015-02-23T10:18:56.747+0000</td><td>nexus4_2</td><td>355</td><td>nexus4</td><td>g</td><td>stand</td><td>0.0017547607</td><td>0.0087890625</td><td>-0.009384155</td></tr><tr><td>2015-02-23T10:18:56.753+0000</td><td>nexus4_2</td><td>356</td><td>nexus4</td><td>g</td><td>stand</td><td>0.002822876</td><td>0.0087890625</td><td>-0.011520386</td></tr><tr><td>2015-02-23T10:18:56.753+0000</td><td>nexus4_1</td><td>348</td><td>nexus4</td><td>g</td><td>stand</td><td>-0.005004883</td><td>0.007980347</td><td>0.016433716</td></tr><tr><td>2015-02-23T10:18:56.754+0000</td><td>nexus4_1</td><td>349</td><td>nexus4</td><td>g</td><td>stand</td><td>-0.005004883</td><td>0.007980347</td><td>0.016433716</td></tr><tr><td>2015-02-23T10:18:56.758+0000</td><td>nexus4_2</td><td>357</td><td>nexus4</td><td>g</td><td>stand</td><td>6.866455E-4</td><td>0.009857178</td><td>-0.009384155</td></tr><tr><td>2015-02-23T10:18:56.762+0000</td><td>nexus4_2</td><td>358</td><td>nexus4</td><td>g</td><td>stand</td><td>0.002822876</td><td>0.011993408</td><td>-0.0104522705</td></tr><tr><td>2015-02-23T10:18:56.763+0000</td><td>nexus4_1</td><td>351</td><td>nexus4</td><td>g</td><td>stand</td><td>-0.005004883</td><td>0.0069122314</td><td>0.017501831</td></tr><tr><td>2015-02-23T10:18:56.763+0000</td><td>nexus4_1</td><td>350</td><td>nexus4</td><td>g</td><td>stand</td><td>-0.0039367676</td><td>0.009048462</td><td>0.015365601</td></tr><tr><td>2015-02-23T10:18:56.768+0000</td><td>nexus4_2</td><td>359</td><td>nexus4</td><td>g</td><td>stand</td><td>0.002822876</td><td>0.011993408</td><td>-0.0104522705</td></tr><tr><td>2015-02-23T10:18:56.772+0000</td><td>nexus4_2</td><td>360</td><td>nexus4</td><td>g</td><td>stand</td><td>0.0038909912</td><td>0.013061523</td><td>-0.011520386</td></tr><tr><td>2015-02-23T10:18:56.773+0000</td><td>nexus4_1</td><td>353</td><td>nexus4</td><td>g</td><td>stand</td><td>-0.006072998</td><td>0.010116577</td><td>0.012161255</td></tr><tr><td>2015-02-23T10:18:56.773+0000</td><td>nexus4_1</td><td>352</td><td>nexus4</td><td>g</td><td>stand</td><td>-0.005004883</td><td>0.007980347</td><td>0.016433716</td></tr><tr><td>2015-02-23T10:18:56.783+0000</td><td>nexus4_1</td><td>354</td><td>nexus4</td><td>g</td><td>stand</td><td>-0.0082092285</td><td>0.009048462</td><td>0.01109314</td></tr><tr><td>2015-02-23T10:18:56.783+0000</td><td>nexus4_1</td><td>355</td><td>nexus4</td><td>g</td><td>stand</td><td>-0.0071411133</td><td>0.010116577</td><td>0.012161255</td></tr><tr><td>2015-02-23T10:18:56.783+0000</td><td>nexus4_2</td><td>361</td><td>nexus4</td><td>g</td><td>stand</td><td>0.002822876</td><td>0.011993408</td><td>-0.011520386</td></tr><tr><td>2015-02-23T10:18:56.784+0000</td><td>nexus4_2</td><td>362</td><td>nexus4</td><td>g</td><td>stand</td><td>0.002822876</td><td>0.011993408</td><td>-0.011520386</td></tr><tr><td>2015-02-23T10:18:56.789+0000</td><td>nexus4_2</td><td>363</td><td>nexus4</td><td>g</td><td>stand</td><td>0.0038909912</td><td>0.011993408</td><td>-0.0104522705</td></tr><tr><td>2015-02-23T10:18:56.793+0000</td><td>nexus4_1</td><td>356</td><td>nexus4</td><td>g</td><td>stand</td><td>-0.0071411133</td><td>0.010116577</td><td>0.012161255</td></tr><tr><td>2015-02-23T10:18:56.793+0000</td><td>nexus4_2</td><td>364</td><td>nexus4</td><td>g</td><td>stand</td><td>0.002822876</td><td>0.009857178</td><td>-0.009384155</td></tr><tr><td>2015-02-23T10:18:56.794+0000</td><td>nexus4_1</td><td>357</td><td>nexus4</td><td>g</td><td>stand</td><td>-0.005004883</td><td>0.007980347</td><td>0.015365601</td></tr><tr><td>2015-02-23T10:18:56.797+0000</td><td>nexus4_2</td><td>365</td><td>nexus4</td><td>g</td><td>stand</td><td>0.002822876</td><td>0.0087890625</td><td>-0.00831604</td></tr><tr><td>2015-02-23T10:18:56.803+0000</td><td>nexus4_1</td><td>358</td><td>nexus4</td><td>g</td><td>stand</td><td>-0.0039367676</td><td>0.0069122314</td><td>0.017501831</td></tr><tr><td>2015-02-23T10:18:56.804+0000</td><td>nexus4_1</td><td>359</td><td>nexus4</td><td>g</td><td>stand</td><td>-0.0039367676</td><td>0.0037078857</td><td>0.019638062</td></tr><tr><td>2015-02-23T10:18:56.808+0000</td><td>nexus4_2</td><td>366</td><td>nexus4</td><td>g</td><td>stand</td><td>0.0017547607</td><td>0.006652832</td><td>-0.007247925</td></tr><tr><td>2015-02-23T10:18:56.809+0000</td><td>nexus4_2</td><td>367</td><td>nexus4</td><td>g</td><td>stand</td><td>0.002822876</td><td>0.0034484863</td><td>-0.0051116943</td></tr><tr><td>2015-02-23T10:18:56.813+0000</td><td>nexus4_2</td><td>368</td><td>nexus4</td><td>g</td><td>stand</td><td>0.0017547607</td><td>0.0013122559</td><td>-0.0051116943</td></tr><tr><td>2015-02-23T10:18:56.814+0000</td><td>nexus4_1</td><td>361</td><td>nexus4</td><td>g</td><td>stand</td><td>-0.0039367676</td><td>0.0037078857</td><td>0.019638062</td></tr><tr><td>2015-02-23T10:18:56.814+0000</td><td>nexus4_1</td><td>360</td><td>nexus4</td><td>g</td><td>stand</td><td>-0.0039367676</td><td>0.005844116</td><td>0.020706177</td></tr><tr><td>2015-02-23T10:18:56.818+0000</td><td>nexus4_2</td><td>369</td><td>nexus4</td><td>g</td><td>stand</td><td>0.002822876</td><td>0.0013122559</td><td>-0.0029754639</td></tr><tr><td>2015-02-23T10:18:56.824+0000</td><td>nexus4_1</td><td>362</td><td>nexus4</td><td>g</td><td>stand</td><td>-0.005004883</td><td>0.0037078857</td><td>0.021774292</td></tr><tr><td>2015-02-23T10:18:56.824+0000</td><td>nexus4_1</td><td>363</td><td>nexus4</td><td>g</td><td>stand</td><td>-0.0028686523</td><td>0.0037078857</td><td>0.018569946</td></tr><tr><td>2015-02-23T10:18:56.827+0000</td><td>nexus4_2</td><td>370</td><td>nexus4</td><td>g</td><td>stand</td><td>0.0017547607</td><td>-8.239746E-4</td><td>-0.004043579</td></tr><tr><td>2015-02-23T10:18:56.834+0000</td><td>nexus4_1</td><td>365</td><td>nexus4</td><td>g</td><td>stand</td><td>-0.0028686523</td><td>0.0026397705</td><td>0.020706177</td></tr><tr><td>2015-02-23T10:18:56.834+0000</td><td>nexus4_1</td><td>364</td><td>nexus4</td><td>g</td><td>stand</td><td>-0.0039367676</td><td>0.0026397705</td><td>0.020706177</td></tr><tr><td>2015-02-23T10:18:56.844+0000</td><td>nexus4_1</td><td>366</td><td>nexus4</td><td>g</td><td>stand</td><td>-0.0028686523</td><td>0.0037078857</td><td>0.018569946</td></tr><tr><td>2015-02-23T10:18:56.844+0000</td><td>nexus4_1</td><td>367</td><td>nexus4</td><td>g</td><td>stand</td><td>-0.0028686523</td><td>0.005844116</td><td>0.018569946</td></tr><tr><td>2015-02-23T10:18:56.848+0000</td><td>nexus4_2</td><td>372</td><td>nexus4</td><td>g</td><td>stand</td><td>0.0017547607</td><td>2.441406E-4</td><td>-8.392334E-4</td></tr><tr><td>2015-02-23T10:18:56.848+0000</td><td>nexus4_2</td><td>371</td><td>nexus4</td><td>g</td><td>stand</td><td>0.0017547607</td><td>-8.239746E-4</td><td>0.0012969971</td></tr><tr><td>2015-02-23T10:18:56.849+0000</td><td>nexus4_2</td><td>373</td><td>nexus4</td><td>g</td><td>stand</td><td>6.866455E-4</td><td>-0.0018920898</td><td>-8.392334E-4</td></tr><tr><td>2015-02-23T10:18:56.849+0000</td><td>nexus4_2</td><td>374</td><td>nexus4</td><td>g</td><td>stand</td><td>0.0017547607</td><td>-0.002960205</td><td>2.288818E-4</td></tr><tr><td>2015-02-23T10:18:56.850+0000</td><td>nexus4_2</td><td>375</td><td>nexus4</td><td>g</td><td>stand</td><td>0.0017547607</td><td>-0.0040283203</td><td>2.288818E-4</td></tr><tr><td>2015-02-23T10:18:56.854+0000</td><td>nexus4_1</td><td>368</td><td>nexus4</td><td>g</td><td>stand</td><td>-0.0028686523</td><td>0.007980347</td><td>0.017501831</td></tr><tr><td>2015-02-23T10:18:56.854+0000</td><td>nexus4_1</td><td>369</td><td>nexus4</td><td>g</td><td>stand</td><td>3.356934E-4</td><td>0.009048462</td><td>0.014297485</td></tr><tr><td>2015-02-23T10:18:56.860+0000</td><td>nexus4_2</td><td>376</td><td>nexus4</td><td>g</td><td>stand</td><td>0.0017547607</td><td>-0.0050964355</td><td>2.288818E-4</td></tr><tr><td>2015-02-23T10:18:56.864+0000</td><td>nexus4_1</td><td>370</td><td>nexus4</td><td>g</td><td>stand</td><td>-0.0018005371</td><td>0.012252808</td><td>0.014297485</td></tr><tr><td>2015-02-23T10:18:56.864+0000</td><td>nexus4_1</td><td>371</td><td>nexus4</td><td>g</td><td>stand</td><td>-0.0018005371</td><td>0.015457153</td><td>0.01109314</td></tr><tr><td>2015-02-23T10:18:56.867+0000</td><td>nexus4_2</td><td>377</td><td>nexus4</td><td>g</td><td>stand</td><td>6.866455E-4</td><td>-0.006164551</td><td>-0.0019073486</td></tr><tr><td>2015-02-23T10:18:56.868+0000</td><td>nexus4_2</td><td>378</td><td>nexus4</td><td>g</td><td>stand</td><td>0.0017547607</td><td>-0.006164551</td><td>0.0012969971</td></tr><tr><td>2015-02-23T10:18:56.869+0000</td><td>nexus4_2</td><td>379</td><td>nexus4</td><td>g</td><td>stand</td><td>6.866455E-4</td><td>-0.011505127</td><td>-0.0019073486</td></tr><tr><td>2015-02-23T10:18:56.873+0000</td><td>nexus4_2</td><td>380</td><td>nexus4</td><td>g</td><td>stand</td><td>0.0017547607</td><td>-0.010437012</td><td>0.0023651123</td></tr><tr><td>2015-02-23T10:18:56.874+0000</td><td>nexus4_1</td><td>373</td><td>nexus4</td><td>g</td><td>stand</td><td>-7.324219E-4</td><td>0.018661499</td><td>0.008956909</td></tr><tr><td>2015-02-23T10:18:56.874+0000</td><td>nexus4_1</td><td>372</td><td>nexus4</td><td>g</td><td>stand</td><td>-0.0018005371</td><td>0.017593384</td><td>0.01109314</td></tr><tr><td>2015-02-23T10:18:56.878+0000</td><td>nexus4_2</td><td>381</td><td>nexus4</td><td>g</td><td>stand</td><td>0.0017547607</td><td>-0.011505127</td><td>0.0023651123</td></tr><tr><td>2015-02-23T10:18:56.880+0000</td><td>nexus4_1</td><td>374</td><td>nexus4</td><td>g</td><td>stand</td><td>3.356934E-4</td><td>0.02079773</td><td>0.008956909</td></tr><tr><td>2015-02-23T10:18:56.883+0000</td><td>nexus4_2</td><td>382</td><td>nexus4</td><td>g</td><td>stand</td><td>6.866455E-4</td><td>-0.010437012</td><td>0.0012969971</td></tr><tr><td>2015-02-23T10:18:56.885+0000</td><td>nexus4_1</td><td>375</td><td>nexus4</td><td>g</td><td>stand</td><td>-7.324219E-4</td><td>0.02293396</td><td>0.0025482178</td></tr><tr><td>2015-02-23T10:18:56.889+0000</td><td>nexus4_2</td><td>383</td><td>nexus4</td><td>g</td><td>stand</td><td>0.0017547607</td><td>-0.0093688965</td><td>0.005569458</td></tr><tr><td>2015-02-23T10:18:56.893+0000</td><td>nexus4_2</td><td>384</td><td>nexus4</td><td>g</td><td>stand</td><td>-3.814697E-4</td><td>-0.0093688965</td><td>0.0034332275</td></tr><tr><td>2015-02-23T10:18:56.895+0000</td><td>nexus4_1</td><td>376</td><td>nexus4</td><td>g</td><td>stand</td><td>0.0014038086</td><td>0.02293396</td><td>0.0025482178</td></tr><tr><td>2015-02-23T10:18:56.895+0000</td><td>nexus4_1</td><td>377</td><td>nexus4</td><td>g</td><td>stand</td><td>0.0024719238</td><td>0.024002075</td><td>4.119873E-4</td></tr><tr><td>2015-02-23T10:18:56.898+0000</td><td>nexus4_2</td><td>385</td><td>nexus4</td><td>g</td><td>stand</td><td>6.866455E-4</td><td>-0.008300781</td><td>0.004501343</td></tr><tr><td>2015-02-23T10:18:56.899+0000</td><td>nexus4_1</td><td>378</td><td>nexus4</td><td>g</td><td>stand</td><td>0.0024719238</td><td>0.021865845</td><td>4.119873E-4</td></tr><tr><td>2015-02-23T10:18:56.903+0000</td><td>nexus4_2</td><td>386</td><td>nexus4</td><td>g</td><td>stand</td><td>6.866455E-4</td><td>-0.0093688965</td><td>0.0023651123</td></tr><tr><td>2015-02-23T10:18:56.906+0000</td><td>nexus4_2</td><td>387</td><td>nexus4</td><td>g</td><td>stand</td><td>-3.814697E-4</td><td>-0.007232666</td><td>0.0012969971</td></tr><tr><td>2015-02-23T10:18:56.908+0000</td><td>nexus4_1</td><td>379</td><td>nexus4</td><td>g</td><td>stand</td><td>0.0014038086</td><td>0.02293396</td><td>-6.561279E-4</td></tr><tr><td>2015-02-23T10:18:56.910+0000</td><td>nexus4_1</td><td>380</td><td>nexus4</td><td>g</td><td>stand</td><td>0.003540039</td><td>0.02079773</td><td>-6.561279E-4</td></tr><tr><td>2015-02-23T10:18:56.911+0000</td><td>nexus4_2</td><td>388</td><td>nexus4</td><td>g</td><td>stand</td><td>-3.814697E-4</td><td>-0.007232666</td><td>0.0012969971</td></tr><tr><td>2015-02-23T10:18:56.916+0000</td><td>nexus4_2</td><td>389</td><td>nexus4</td><td>g</td><td>stand</td><td>-0.001449585</td><td>-0.0050964355</td><td>2.288818E-4</td></tr><tr><td>2015-02-23T10:18:56.920+0000</td><td>nexus4_1</td><td>382</td><td>nexus4</td><td>g</td><td>stand</td><td>3.356934E-4</td><td>0.02079773</td><td>-6.561279E-4</td></tr><tr><td>2015-02-23T10:18:56.920+0000</td><td>nexus4_1</td><td>381</td><td>nexus4</td><td>g</td><td>stand</td><td>0.0014038086</td><td>0.021865845</td><td>-6.561279E-4</td></tr><tr><td>2015-02-23T10:18:56.930+0000</td><td>nexus4_1</td><td>383</td><td>nexus4</td><td>g</td><td>stand</td><td>0.0014038086</td><td>0.017593384</td><td>-0.0027923584</td></tr><tr><td>2015-02-23T10:18:56.930+0000</td><td>nexus4_1</td><td>384</td><td>nexus4</td><td>g</td><td>stand</td><td>3.356934E-4</td><td>0.017593384</td><td>-0.0038604736</td></tr><tr><td>2015-02-23T10:18:56.930+0000</td><td>nexus4_2</td><td>391</td><td>nexus4</td><td>g</td><td>stand</td><td>-0.001449585</td><td>-8.239746E-4</td><td>0.0034332275</td></tr><tr><td>2015-02-23T10:18:56.930+0000</td><td>nexus4_2</td><td>390</td><td>nexus4</td><td>g</td><td>stand</td><td>-0.001449585</td><td>-0.0040283203</td><td>0.0023651123</td></tr><tr><td>2015-02-23T10:18:56.935+0000</td><td>nexus4_2</td><td>392</td><td>nexus4</td><td>g</td><td>stand</td><td>-0.001449585</td><td>-8.239746E-4</td><td>0.0034332275</td></tr><tr><td>2015-02-23T10:18:56.936+0000</td><td>nexus4_1</td><td>385</td><td>nexus4</td><td>g</td><td>stand</td><td>0.0014038086</td><td>0.013320923</td><td>-0.0070648193</td></tr><tr><td>2015-02-23T10:18:56.937+0000</td><td>nexus4_2</td><td>393</td><td>nexus4</td><td>g</td><td>stand</td><td>6.866455E-4</td><td>-8.239746E-4</td><td>0.0034332275</td></tr><tr><td>2015-02-23T10:18:56.940+0000</td><td>nexus4_1</td><td>386</td><td>nexus4</td><td>g</td><td>stand</td><td>0.0024719238</td><td>0.011184692</td><td>-0.010269165</td></tr><tr><td>2015-02-23T10:18:56.949+0000</td><td>nexus4_2</td><td>394</td><td>nexus4</td><td>g</td><td>stand</td><td>-0.001449585</td><td>0.0045166016</td><td>0.004501343</td></tr><tr><td>2015-02-23T10:18:56.949+0000</td><td>nexus4_2</td><td>395</td><td>nexus4</td><td>g</td><td>stand</td><td>-0.0025177002</td><td>0.0034484863</td><td>0.0034332275</td></tr><tr><td>2015-02-23T10:18:56.950+0000</td><td>nexus4_1</td><td>387</td><td>nexus4</td><td>g</td><td>stand</td><td>0.0024719238</td><td>0.009048462</td><td>-0.0070648193</td></tr><tr><td>2015-02-23T10:18:56.950+0000</td><td>nexus4_1</td><td>388</td><td>nexus4</td><td>g</td><td>stand</td><td>0.003540039</td><td>0.007980347</td><td>-0.01133728</td></tr><tr><td>2015-02-23T10:18:56.954+0000</td><td>nexus4_2</td><td>396</td><td>nexus4</td><td>g</td><td>stand</td><td>-0.0025177002</td><td>0.0034484863</td><td>0.0034332275</td></tr><tr><td>2015-02-23T10:18:56.956+0000</td><td>nexus4_1</td><td>389</td><td>nexus4</td><td>g</td><td>stand</td><td>0.003540039</td><td>0.004776001</td><td>-0.013473511</td></tr><tr><td>2015-02-23T10:18:56.956+0000</td><td>nexus4_2</td><td>397</td><td>nexus4</td><td>g</td><td>stand</td><td>-3.814697E-4</td><td>0.006652832</td><td>0.0034332275</td></tr><tr><td>2015-02-23T10:18:56.960+0000</td><td>nexus4_1</td><td>390</td><td>nexus4</td><td>g</td><td>stand</td><td>0.003540039</td><td>0.004776001</td><td>-0.014541626</td></tr><tr><td>2015-02-23T10:18:56.965+0000</td><td>nexus4_2</td><td>398</td><td>nexus4</td><td>g</td><td>stand</td><td>-0.001449585</td><td>0.006652832</td><td>0.0023651123</td></tr><tr><td>2015-02-23T10:18:56.966+0000</td><td>nexus4_2</td><td>399</td><td>nexus4</td><td>g</td><td>stand</td><td>-0.001449585</td><td>0.0087890625</td><td>0.0077056885</td></tr><tr><td>2015-02-23T10:18:56.967+0000</td><td>nexus4_1</td><td>391</td><td>nexus4</td><td>g</td><td>stand</td><td>0.003540039</td><td>0.0037078857</td><td>-0.017745972</td></tr><tr><td>2015-02-23T10:18:56.970+0000</td><td>nexus4_1</td><td>392</td><td>nexus4</td><td>g</td><td>stand</td><td>0.003540039</td><td>0.0026397705</td><td>-0.016677856</td></tr><tr><td>2015-02-23T10:18:56.977+0000</td><td>nexus4_1</td><td>393</td><td>nexus4</td><td>g</td><td>stand</td><td>0.0046081543</td><td>0.0015716553</td><td>-0.018814087</td></tr><tr><td>2015-02-23T10:18:56.980+0000</td><td>nexus4_2</td><td>401</td><td>nexus4</td><td>g</td><td>stand</td><td>-0.0025177002</td><td>0.013061523</td><td>0.0066375732</td></tr><tr><td>2015-02-23T10:18:56.980+0000</td><td>nexus4_2</td><td>400</td><td>nexus4</td><td>g</td><td>stand</td><td>-0.001449585</td><td>0.010925293</td><td>0.0012969971</td></tr><tr><td>2015-02-23T10:18:56.980+0000</td><td>nexus4_1</td><td>394</td><td>nexus4</td><td>g</td><td>stand</td><td>0.0046081543</td><td>-5.645752E-4</td><td>-0.023086548</td></tr><tr><td>2015-02-23T10:18:56.984+0000</td><td>nexus4_2</td><td>402</td><td>nexus4</td><td>g</td><td>stand</td><td>-0.0025177002</td><td>0.013061523</td><td>0.0066375732</td></tr><tr><td>2015-02-23T10:18:56.986+0000</td><td>nexus4_1</td><td>395</td><td>nexus4</td><td>g</td><td>stand</td><td>0.0046081543</td><td>0.0026397705</td><td>-0.025222778</td></tr><tr><td>2015-02-23T10:18:56.992+0000</td><td>nexus4_2</td><td>403</td><td>nexus4</td><td>g</td><td>stand</td><td>-0.001449585</td><td>0.014129639</td><td>0.0066375732</td></tr><tr><td>2015-02-23T10:18:56.992+0000</td><td>nexus4_1</td><td>396</td><td>nexus4</td><td>g</td><td>stand</td><td>0.0024719238</td><td>0.0026397705</td><td>-0.025222778</td></tr><tr><td>2015-02-23T10:18:56.993+0000</td><td>nexus4_2</td><td>404</td><td>nexus4</td><td>g</td><td>stand</td><td>-0.0025177002</td><td>0.013061523</td><td>0.009841919</td></tr><tr><td>2015-02-23T10:18:56.996+0000</td><td>nexus4_1</td><td>397</td><td>nexus4</td><td>g</td><td>stand</td><td>0.0024719238</td><td>0.0037078857</td><td>-0.028427124</td></tr><tr><td>2015-02-23T10:18:56.998+0000</td><td>nexus4_2</td><td>405</td><td>nexus4</td><td>g</td><td>stand</td><td>-0.0025177002</td><td>0.01626587</td><td>0.008773804</td></tr><tr><td>2015-02-23T10:18:57.001+0000</td><td>nexus4_1</td><td>398</td><td>nexus4</td><td>g</td><td>stand</td><td>0.0046081543</td><td>0.004776001</td><td>-0.027359009</td></tr><tr><td>2015-02-23T10:18:57.005+0000</td><td>nexus4_2</td><td>406</td><td>nexus4</td><td>g</td><td>stand</td><td>-0.001449585</td><td>0.01626587</td><td>0.010910034</td></tr><tr><td>2015-02-23T10:18:57.007+0000</td><td>nexus4_2</td><td>407</td><td>nexus4</td><td>g</td><td>stand</td><td>-0.001449585</td><td>0.014129639</td><td>0.0077056885</td></tr><tr><td>2015-02-23T10:18:57.009+0000</td><td>nexus4_1</td><td>399</td><td>nexus4</td><td>g</td><td>stand</td><td>0.0024719238</td><td>0.0069122314</td><td>-0.030563354</td></tr><tr><td>2015-02-23T10:18:57.013+0000</td><td>nexus4_1</td><td>400</td><td>nexus4</td><td>g</td><td>stand</td><td>0.0046081543</td><td>0.009048462</td><td>-0.02949524</td></tr><tr><td>2015-02-23T10:18:57.015+0000</td><td>nexus4_2</td><td>408</td><td>nexus4</td><td>g</td><td>stand</td><td>-0.0025177002</td><td>0.0184021</td><td>0.010910034</td></tr><tr><td>2015-02-23T10:18:57.017+0000</td><td>nexus4_1</td><td>401</td><td>nexus4</td><td>g</td><td>stand</td><td>0.0046081543</td><td>0.007980347</td><td>-0.034835815</td></tr><tr><td>2015-02-23T10:18:57.017+0000</td><td>nexus4_2</td><td>409</td><td>nexus4</td><td>g</td><td>stand</td><td>-0.0025177002</td><td>0.0184021</td><td>0.010910034</td></tr><tr><td>2015-02-23T10:18:57.021+0000</td><td>nexus4_1</td><td>402</td><td>nexus4</td><td>g</td><td>stand</td><td>0.0056762695</td><td>0.0069122314</td><td>-0.0337677</td></tr><tr><td>2015-02-23T10:18:57.028+0000</td><td>nexus4_2</td><td>410</td><td>nexus4</td><td>g</td><td>stand</td><td>-0.0025177002</td><td>0.01626587</td><td>0.011978149</td></tr><tr><td>2015-02-23T10:18:57.029+0000</td><td>nexus4_1</td><td>403</td><td>nexus4</td><td>g</td><td>stand</td><td>0.0067443848</td><td>0.007980347</td><td>-0.036972046</td></tr><tr><td>2015-02-23T10:18:57.029+0000</td><td>nexus4_2</td><td>411</td><td>nexus4</td><td>g</td><td>stand</td><td>-0.0035858154</td><td>0.019470215</td><td>0.009841919</td></tr><tr><td>2015-02-23T10:18:57.037+0000</td><td>nexus4_2</td><td>412</td><td>nexus4</td><td>g</td><td>stand</td><td>-0.0035858154</td><td>0.019470215</td><td>0.009841919</td></tr><tr><td>2015-02-23T10:18:57.038+0000</td><td>nexus4_2</td><td>413</td><td>nexus4</td><td>g</td><td>stand</td><td>-0.001449585</td><td>0.0184021</td><td>0.013046265</td></tr><tr><td>2015-02-23T10:18:57.050+0000</td><td>nexus4_2</td><td>415</td><td>nexus4</td><td>g</td><td>stand</td><td>-0.0035858154</td><td>0.013061523</td><td>0.011978149</td></tr><tr><td>2015-02-23T10:18:57.050+0000</td><td>nexus4_2</td><td>414</td><td>nexus4</td><td>g</td><td>stand</td><td>-0.0035858154</td><td>0.015197754</td><td>0.009841919</td></tr><tr><td>2015-02-23T10:18:57.052+0000</td><td>nexus4_1</td><td>405</td><td>nexus4</td><td>g</td><td>stand</td><td>0.0067443848</td><td>0.009048462</td><td>-0.036972046</td></tr><tr><td>2015-02-23T10:18:57.052+0000</td><td>nexus4_1</td><td>404</td><td>nexus4</td><td>g</td><td>stand</td><td>0.0067443848</td><td>0.007980347</td><td>-0.039108276</td></tr><tr><td>2015-02-23T10:18:57.053+0000</td><td>nexus4_1</td><td>406</td><td>nexus4</td><td>g</td><td>stand</td><td>0.0067443848</td><td>0.009048462</td><td>-0.03590393</td></tr><tr><td>2015-02-23T10:18:57.054+0000</td><td>nexus4_1</td><td>407</td><td>nexus4</td><td>g</td><td>stand</td><td>0.0067443848</td><td>0.007980347</td><td>-0.03804016</td></tr><tr><td>2015-02-23T10:18:57.054+0000</td><td>nexus4_1</td><td>408</td><td>nexus4</td><td>g</td><td>stand</td><td>0.0067443848</td><td>0.009048462</td><td>-0.03590393</td></tr><tr><td>2015-02-23T10:18:57.055+0000</td><td>nexus4_2</td><td>416</td><td>nexus4</td><td>g</td><td>stand</td><td>-0.0035858154</td><td>0.013061523</td><td>0.011978149</td></tr><tr><td>2015-02-23T10:18:57.059+0000</td><td>nexus4_2</td><td>417</td><td>nexus4</td><td>g</td><td>stand</td><td>-0.0046539307</td><td>0.013061523</td><td>0.01411438</td></tr><tr><td>2015-02-23T10:18:57.069+0000</td><td>nexus4_2</td><td>419</td><td>nexus4</td><td>g</td><td>stand</td><td>-0.0046539307</td><td>0.0077209473</td><td>0.017318726</td></tr><tr><td>2015-02-23T10:18:57.069+0000</td><td>nexus4_2</td><td>418</td><td>nexus4</td><td>g</td><td>stand</td><td>-0.0035858154</td><td>0.009857178</td><td>0.015182495</td></tr><tr><td>2015-02-23T10:18:57.073+0000</td><td>nexus4_1</td><td>409</td><td>nexus4</td><td>g</td><td>stand</td><td>0.0067443848</td><td>0.004776001</td><td>-0.036972046</td></tr><tr><td>2015-02-23T10:18:57.074+0000</td><td>nexus4_1</td><td>411</td><td>nexus4</td><td>g</td><td>stand</td><td>0.0046081543</td><td>0.0026397705</td><td>-0.036972046</td></tr><tr><td>2015-02-23T10:18:57.074+0000</td><td>nexus4_1</td><td>410</td><td>nexus4</td><td>g</td><td>stand</td><td>0.0078125</td><td>0.005844116</td><td>-0.0337677</td></tr><tr><td>2015-02-23T10:18:57.074+0000</td><td>nexus4_2</td><td>420</td><td>nexus4</td><td>g</td><td>stand</td><td>-0.0046539307</td><td>0.0077209473</td><td>0.017318726</td></tr><tr><td>2015-02-23T10:18:57.078+0000</td><td>nexus4_2</td><td>421</td><td>nexus4</td><td>g</td><td>stand</td><td>-0.0035858154</td><td>0.0087890625</td><td>0.015182495</td></tr><tr><td>2015-02-23T10:18:57.088+0000</td><td>nexus4_1</td><td>412</td><td>nexus4</td><td>g</td><td>stand</td><td>0.0056762695</td><td>5.0354E-4</td><td>-0.034835815</td></tr><tr><td>2015-02-23T10:18:57.088+0000</td><td>nexus4_1</td><td>413</td><td>nexus4</td><td>g</td><td>stand</td><td>0.0046081543</td><td>-5.645752E-4</td><td>-0.034835815</td></tr><tr><td>2015-02-23T10:18:57.088+0000</td><td>nexus4_1</td><td>414</td><td>nexus4</td><td>g</td><td>stand</td><td>0.0046081543</td><td>-0.003768921</td><td>-0.032699585</td></tr><tr><td>2015-02-23T10:18:57.089+0000</td><td>nexus4_1</td><td>415</td><td>nexus4</td><td>g</td><td>stand</td><td>0.0067443848</td><td>-0.003768921</td><td>-0.02949524</td></tr><tr><td>2015-02-23T10:18:57.089+0000</td><td>nexus4_2</td><td>422</td><td>nexus4</td><td>g</td><td>stand</td><td>-0.0025177002</td><td>0.0077209473</td><td>0.017318726</td></tr><tr><td>2015-02-23T10:18:57.090+0000</td><td>nexus4_2</td><td>423</td><td>nexus4</td><td>g</td><td>stand</td><td>-0.0035858154</td><td>0.0087890625</td><td>0.017318726</td></tr><tr><td>2015-02-23T10:18:57.091+0000</td><td>nexus4_1</td><td>416</td><td>nexus4</td><td>g</td><td>stand</td><td>0.0046081543</td><td>-0.0069732666</td><td>-0.02949524</td></tr><tr><td>2015-02-23T10:18:57.094+0000</td><td>nexus4_2</td><td>424</td><td>nexus4</td><td>g</td><td>stand</td><td>-0.0035858154</td><td>0.0087890625</td><td>0.017318726</td></tr><tr><td>2015-02-23T10:18:57.095+0000</td><td>nexus4_1</td><td>417</td><td>nexus4</td><td>g</td><td>stand</td><td>0.003540039</td><td>-0.0069732666</td><td>-0.027359009</td></tr><tr><td>2015-02-23T10:18:57.100+0000</td><td>nexus4_2</td><td>425</td><td>nexus4</td><td>g</td><td>stand</td><td>-0.0046539307</td><td>0.0077209473</td><td>0.017318726</td></tr><tr><td>2015-02-23T10:18:57.100+0000</td><td>nexus4_1</td><td>418</td><td>nexus4</td><td>g</td><td>stand</td><td>0.003540039</td><td>-0.010177612</td><td>-0.026290894</td></tr><tr><td>2015-02-23T10:18:57.105+0000</td><td>nexus4_1</td><td>419</td><td>nexus4</td><td>g</td><td>stand</td><td>0.003540039</td><td>-0.011245728</td><td>-0.027359009</td></tr><tr><td>2015-02-23T10:18:57.105+0000</td><td>nexus4_2</td><td>426</td><td>nexus4</td><td>g</td><td>stand</td><td>-0.0046539307</td><td>0.0077209473</td><td>0.015182495</td></tr><tr><td>2015-02-23T10:18:57.110+0000</td><td>nexus4_2</td><td>427</td><td>nexus4</td><td>g</td><td>stand</td><td>-0.0046539307</td><td>0.009857178</td><td>0.01625061</td></tr><tr><td>2015-02-23T10:18:57.111+0000</td><td>nexus4_1</td><td>420</td><td>nexus4</td><td>g</td><td>stand</td><td>0.003540039</td><td>-0.010177612</td><td>-0.023086548</td></tr><tr><td>2015-02-23T10:18:57.115+0000</td><td>nexus4_2</td><td>428</td><td>nexus4</td><td>g</td><td>stand</td><td>-0.005722046</td><td>0.009857178</td><td>0.01411438</td></tr><tr><td>2015-02-23T10:18:57.116+0000</td><td>nexus4_1</td><td>421</td><td>nexus4</td><td>g</td><td>stand</td><td>0.003540039</td><td>-0.011245728</td><td>-0.024154663</td></tr><tr><td>2015-02-23T10:18:57.120+0000</td><td>nexus4_2</td><td>429</td><td>nexus4</td><td>g</td><td>stand</td><td>-0.006790161</td><td>0.0087890625</td><td>0.011978149</td></tr><tr><td>2015-02-23T10:18:57.125+0000</td><td>nexus4_2</td><td>430</td><td>nexus4</td><td>g</td><td>stand</td><td>-0.006790161</td><td>0.009857178</td><td>0.01411438</td></tr><tr><td>2015-02-23T10:18:57.127+0000</td><td>nexus4_1</td><td>422</td><td>nexus4</td><td>g</td><td>stand</td><td>0.0046081543</td><td>-0.010177612</td><td>-0.022018433</td></tr><tr><td>2015-02-23T10:18:57.128+0000</td><td>nexus4_1</td><td>423</td><td>nexus4</td><td>g</td><td>stand</td><td>0.0056762695</td><td>-0.011245728</td><td>-0.022018433</td></tr><tr><td>2015-02-23T10:18:57.130+0000</td><td>nexus4_2</td><td>431</td><td>nexus4</td><td>g</td><td>stand</td><td>-0.005722046</td><td>0.0087890625</td><td>0.011978149</td></tr><tr><td>2015-02-23T10:18:57.135+0000</td><td>nexus4_2</td><td>432</td><td>nexus4</td><td>g</td><td>stand</td><td>-0.005722046</td><td>0.0087890625</td><td>0.015182495</td></tr><tr><td>2015-02-23T10:18:57.135+0000</td><td>nexus4_1</td><td>424</td><td>nexus4</td><td>g</td><td>stand</td><td>0.0046081543</td><td>-0.0059051514</td><td>-0.018814087</td></tr><tr><td>2015-02-23T10:18:57.136+0000</td><td>nexus4_1</td><td>425</td><td>nexus4</td><td>g</td><td>stand</td><td>0.0024719238</td><td>-0.0059051514</td><td>-0.015609741</td></tr><tr><td>2015-02-23T10:18:57.140+0000</td><td>nexus4_2</td><td>433</td><td>nexus4</td><td>g</td><td>stand</td><td>-0.005722046</td><td>0.006652832</td><td>0.015182495</td></tr><tr><td>2015-02-23T10:18:57.145+0000</td><td>nexus4_2</td><td>434</td><td>nexus4</td><td>g</td><td>stand</td><td>-0.0046539307</td><td>0.005584717</td><td>0.019454956</td></tr><tr><td>2015-02-23T10:18:57.149+0000</td><td>nexus4_1</td><td>426</td><td>nexus4</td><td>g</td><td>stand</td><td>0.003540039</td><td>-0.0027008057</td><td>-0.014541626</td></tr><tr><td>2015-02-23T10:18:57.149+0000</td><td>nexus4_1</td><td>427</td><td>nexus4</td><td>g</td><td>stand</td><td>0.003540039</td><td>0.0015716553</td><td>-0.01133728</td></tr><tr><td>2015-02-23T10:18:57.150+0000</td><td>nexus4_2</td><td>435</td><td>nexus4</td><td>g</td><td>stand</td><td>-0.0046539307</td><td>0.005584717</td><td>0.020523071</td></tr><tr><td>2015-02-23T10:18:57.154+0000</td><td>nexus4_1</td><td>428</td><td>nexus4</td><td>g</td><td>stand</td><td>0.003540039</td><td>0.0015716553</td><td>-0.01133728</td></tr><tr><td>2015-02-23T10:18:57.156+0000</td><td>nexus4_2</td><td>436</td><td>nexus4</td><td>g</td><td>stand</td><td>-0.0035858154</td><td>0.0034484863</td><td>0.022659302</td></tr><tr><td>2015-02-23T10:18:57.157+0000</td><td>nexus4_1</td><td>429</td><td>nexus4</td><td>g</td><td>stand</td><td>0.0024719238</td><td>0.0037078857</td><td>-0.008132935</td></tr><tr><td>2015-02-23T10:18:57.160+0000</td><td>nexus4_2</td><td>437</td><td>nexus4</td><td>g</td><td>stand</td><td>-0.0025177002</td><td>0.0045166016</td><td>0.01838684</td></tr><tr><td>2015-02-23T10:18:57.165+0000</td><td>nexus4_2</td><td>438</td><td>nexus4</td><td>g</td><td>stand</td><td>-0.0035858154</td><td>0.0013122559</td><td>0.023727417</td></tr><tr><td>2015-02-23T10:18:57.167+0000</td><td>nexus4_1</td><td>430</td><td>nexus4</td><td>g</td><td>stand</td><td>0.0014038086</td><td>0.0026397705</td><td>-0.005996704</td></tr><tr><td>2015-02-23T10:18:57.168+0000</td><td>nexus4_1</td><td>431</td><td>nexus4</td><td>g</td><td>stand</td><td>0.0014038086</td><td>0.004776001</td><td>-0.005996704</td></tr><tr><td>2015-02-23T10:18:57.171+0000</td><td>nexus4_2</td><td>439</td><td>nexus4</td><td>g</td><td>stand</td><td>-0.0035858154</td><td>0.0045166016</td><td>0.019454956</td></tr><tr><td>2015-02-23T10:18:57.175+0000</td><td>nexus4_2</td><td>440</td><td>nexus4</td><td>g</td><td>stand</td><td>-0.0025177002</td><td>0.0045166016</td><td>0.020523071</td></tr><tr><td>2015-02-23T10:18:57.175+0000</td><td>nexus4_1</td><td>432</td><td>nexus4</td><td>g</td><td>stand</td><td>0.0024719238</td><td>0.0037078857</td><td>-0.0038604736</td></tr><tr><td>2015-02-23T10:18:57.176+0000</td><td>nexus4_1</td><td>433</td><td>nexus4</td><td>g</td><td>stand</td><td>0.003540039</td><td>0.0026397705</td><td>-6.561279E-4</td></tr><tr><td>2015-02-23T10:18:57.181+0000</td><td>nexus4_2</td><td>441</td><td>nexus4</td><td>g</td><td>stand</td><td>-0.0035858154</td><td>0.005584717</td><td>0.017318726</td></tr><tr><td>2015-02-23T10:18:57.184+0000</td><td>nexus4_2</td><td>442</td><td>nexus4</td><td>g</td><td>stand</td><td>-0.0025177002</td><td>0.0077209473</td><td>0.020523071</td></tr><tr><td>2015-02-23T10:18:57.189+0000</td><td>nexus4_1</td><td>435</td><td>nexus4</td><td>g</td><td>stand</td><td>0.0014038086</td><td>0.0037078857</td><td>0.003616333</td></tr><tr><td>2015-02-23T10:18:57.189+0000</td><td>nexus4_1</td><td>434</td><td>nexus4</td><td>g</td><td>stand</td><td>0.0024719238</td><td>0.0037078857</td><td>-6.561279E-4</td></tr><tr><td>2015-02-23T10:18:57.194+0000</td><td>nexus4_1</td><td>436</td><td>nexus4</td><td>g</td><td>stand</td><td>0.0014038086</td><td>0.0037078857</td><td>0.0025482178</td></tr><tr><td>2015-02-23T10:18:57.197+0000</td><td>nexus4_1</td><td>437</td><td>nexus4</td><td>g</td><td>stand</td><td>3.356934E-4</td><td>0.0026397705</td><td>0.0068206787</td></tr><tr><td>2015-02-23T10:18:57.201+0000</td><td>nexus4_2</td><td>443</td><td>nexus4</td><td>g</td><td>stand</td><td>-0.001449585</td><td>0.0077209473</td><td>0.017318726</td></tr><tr><td>2015-02-23T10:18:57.201+0000</td><td>nexus4_2</td><td>444</td><td>nexus4</td><td>g</td><td>stand</td><td>-0.0025177002</td><td>0.011993408</td><td>0.01625061</td></tr><tr><td>2015-02-23T10:18:57.202+0000</td><td>nexus4_2</td><td>445</td><td>nexus4</td><td>g</td><td>stand</td><td>-0.001449585</td><td>0.014129639</td><td>0.013046265</td></tr><tr><td>2015-02-23T10:18:57.206+0000</td><td>nexus4_2</td><td>446</td><td>nexus4</td><td>g</td><td>stand</td><td>-0.001449585</td><td>0.015197754</td><td>0.013046265</td></tr><tr><td>2015-02-23T10:18:57.208+0000</td><td>nexus4_1</td><td>439</td><td>nexus4</td><td>g</td><td>stand</td><td>-0.0018005371</td><td>0.0026397705</td><td>0.007888794</td></tr><tr><td>2015-02-23T10:18:57.208+0000</td><td>nexus4_1</td><td>438</td><td>nexus4</td><td>g</td><td>stand</td><td>-7.324219E-4</td><td>0.0026397705</td><td>0.007888794</td></tr><tr><td>2015-02-23T10:18:57.212+0000</td><td>nexus4_2</td><td>447</td><td>nexus4</td><td>g</td><td>stand</td><td>-3.814697E-4</td><td>0.02053833</td><td>0.010910034</td></tr><tr><td>2015-02-23T10:18:57.215+0000</td><td>nexus4_2</td><td>448</td><td>nexus4</td><td>g</td><td>stand</td><td>-3.814697E-4</td><td>0.019470215</td><td>0.0066375732</td></tr><tr><td>2015-02-23T10:18:57.216+0000</td><td>nexus4_1</td><td>440</td><td>nexus4</td><td>g</td><td>stand</td><td>-7.324219E-4</td><td>0.004776001</td><td>0.008956909</td></tr><tr><td>2015-02-23T10:18:57.217+0000</td><td>nexus4_1</td><td>441</td><td>nexus4</td><td>g</td><td>stand</td><td>-7.324219E-4</td><td>0.0037078857</td><td>0.010025024</td></tr><tr><td>2015-02-23T10:18:57.222+0000</td><td>nexus4_2</td><td>449</td><td>nexus4</td><td>g</td><td>stand</td><td>6.866455E-4</td><td>0.023742676</td><td>0.0066375732</td></tr><tr><td>2015-02-23T10:18:57.226+0000</td><td>nexus4_2</td><td>450</td><td>nexus4</td><td>g</td><td>stand</td><td>0.0017547607</td><td>0.021606445</td><td>0.0034332275</td></tr><tr><td>2015-02-23T10:18:57.230+0000</td><td>nexus4_1</td><td>443</td><td>nexus4</td><td>g</td><td>stand</td><td>-7.324219E-4</td><td>0.009048462</td><td>0.008956909</td></tr><tr><td>2015-02-23T10:18:57.230+0000</td><td>nexus4_1</td><td>442</td><td>nexus4</td><td>g</td><td>stand</td><td>-7.324219E-4</td><td>0.004776001</td><td>0.008956909</td></tr><tr><td>2015-02-23T10:18:57.232+0000</td><td>nexus4_2</td><td>451</td><td>nexus4</td><td>g</td><td>stand</td><td>0.002822876</td><td>0.023742676</td><td>0.004501343</td></tr><tr><td>2015-02-23T10:18:57.234+0000</td><td>nexus4_1</td><td>444</td><td>nexus4</td><td>g</td><td>stand</td><td>-7.324219E-4</td><td>0.009048462</td><td>0.008956909</td></tr><tr><td>2015-02-23T10:18:57.235+0000</td><td>nexus4_2</td><td>452</td><td>nexus4</td><td>g</td><td>stand</td><td>0.002822876</td><td>0.023742676</td><td>0.0023651123</td></tr><tr><td>2015-02-23T10:18:57.238+0000</td><td>nexus4_1</td><td>445</td><td>nexus4</td><td>g</td><td>stand</td><td>-0.0018005371</td><td>0.011184692</td><td>0.010025024</td></tr><tr><td>2015-02-23T10:18:57.247+0000</td><td>nexus4_2</td><td>453</td><td>nexus4</td><td>g</td><td>stand</td><td>0.002822876</td><td>0.021606445</td><td>2.288818E-4</td></tr><tr><td>2015-02-23T10:18:57.248+0000</td><td>nexus4_1</td><td>447</td><td>nexus4</td><td>g</td><td>stand</td><td>-0.0028686523</td><td>0.011184692</td><td>0.010025024</td></tr><tr><td>2015-02-23T10:18:57.248+0000</td><td>nexus4_1</td><td>446</td><td>nexus4</td><td>g</td><td>stand</td><td>-0.0018005371</td><td>0.010116577</td><td>0.008956909</td></tr><tr><td>2015-02-23T10:18:57.250+0000</td><td>nexus4_2</td><td>455</td><td>nexus4</td><td>g</td><td>stand</td><td>0.002822876</td><td>0.024810791</td><td>2.288818E-4</td></tr><tr><td>2015-02-23T10:18:57.250+0000</td><td>nexus4_2</td><td>454</td><td>nexus4</td><td>g</td><td>stand</td><td>0.0038909912</td><td>0.021606445</td><td>0.0012969971</td></tr><tr><td>2015-02-23T10:18:57.256+0000</td><td>nexus4_2</td><td>456</td><td>nexus4</td><td>g</td><td>stand</td><td>0.0017547607</td><td>0.021606445</td><td>0.0012969971</td></tr><tr><td>2015-02-23T10:18:57.257+0000</td><td>nexus4_1</td><td>448</td><td>nexus4</td><td>g</td><td>stand</td><td>-0.0039367676</td><td>0.013320923</td><td>0.008956909</td></tr><tr><td>2015-02-23T10:18:57.258+0000</td><td>nexus4_1</td><td>449</td><td>nexus4</td><td>g</td><td>stand</td><td>-0.0039367676</td><td>0.014389038</td><td>0.007888794</td></tr><tr><td>2015-02-23T10:18:57.262+0000</td><td>nexus4_2</td><td>457</td><td>nexus4</td><td>g</td><td>stand</td><td>0.0017547607</td><td>0.019470215</td><td>-0.004043579</td></tr><tr><td>2015-02-23T10:18:57.266+0000</td><td>nexus4_2</td><td>458</td><td>nexus4</td><td>g</td><td>stand</td><td>0.0017547607</td><td>0.019470215</td><td>-0.0029754639</td></tr><tr><td>2015-02-23T10:18:57.271+0000</td><td>nexus4_1</td><td>450</td><td>nexus4</td><td>g</td><td>stand</td><td>-0.005004883</td><td>0.015457153</td><td>0.0068206787</td></tr><tr><td>2015-02-23T10:18:57.272+0000</td><td>nexus4_1</td><td>451</td><td>nexus4</td><td>g</td><td>stand</td><td>-0.0039367676</td><td>0.015457153</td><td>0.007888794</td></tr><tr><td>2015-02-23T10:18:57.272+0000</td><td>nexus4_1</td><td>452</td><td>nexus4</td><td>g</td><td>stand</td><td>-0.006072998</td><td>0.016525269</td><td>0.0068206787</td></tr><tr><td>2015-02-23T10:18:57.283+0000</td><td>nexus4_2</td><td>459</td><td>nexus4</td><td>g</td><td>stand</td><td>0.002822876</td><td>0.017333984</td><td>-0.004043579</td></tr><tr><td>2015-02-23T10:18:57.284+0000</td><td>nexus4_1</td><td>453</td><td>nexus4</td><td>g</td><td>stand</td><td>-0.0071411133</td><td>0.012252808</td><td>0.007888794</td></tr><tr><td>2015-02-23T10:18:57.284+0000</td><td>nexus4_1</td><td>454</td><td>nexus4</td><td>g</td><td>stand</td><td>-0.006072998</td><td>0.013320923</td><td>0.007888794</td></tr><tr><td>2015-02-23T10:18:57.285+0000</td><td>nexus4_2</td><td>460</td><td>nexus4</td><td>g</td><td>stand</td><td>0.0017547607</td><td>0.015197754</td><td>-0.00831604</td></tr><tr><td>2015-02-23T10:18:57.286+0000</td><td>nexus4_2</td><td>461</td><td>nexus4</td><td>g</td><td>stand</td><td>6.866455E-4</td><td>0.011993408</td><td>-0.007247925</td></tr><tr><td>2015-02-23T10:18:57.287+0000</td><td>nexus4_1</td><td>455</td><td>nexus4</td><td>g</td><td>stand</td><td>-0.005004883</td><td>0.012252808</td><td>0.008956909</td></tr><tr><td>2015-02-23T10:18:57.287+0000</td><td>nexus4_2</td><td>462</td><td>nexus4</td><td>g</td><td>stand</td><td>0.002822876</td><td>0.009857178</td><td>-0.0104522705</td></tr><tr><td>2015-02-23T10:18:57.292+0000</td><td>nexus4_1</td><td>456</td><td>nexus4</td><td>g</td><td>stand</td><td>-0.006072998</td><td>0.010116577</td><td>0.008956909</td></tr><tr><td>2015-02-23T10:18:57.295+0000</td><td>nexus4_2</td><td>463</td><td>nexus4</td><td>g</td><td>stand</td><td>0.002822876</td><td>0.0077209473</td><td>-0.013656616</td></tr><tr><td>2015-02-23T10:18:57.296+0000</td><td>nexus4_2</td><td>464</td><td>nexus4</td><td>g</td><td>stand</td><td>0.002822876</td><td>0.005584717</td><td>-0.013656616</td></tr><tr><td>2015-02-23T10:18:57.299+0000</td><td>nexus4_1</td><td>457</td><td>nexus4</td><td>g</td><td>stand</td><td>-0.005004883</td><td>0.010116577</td><td>0.01109314</td></tr><tr><td>2015-02-23T10:18:57.300+0000</td><td>nexus4_2</td><td>465</td><td>nexus4</td><td>g</td><td>stand</td><td>0.002822876</td><td>0.0045166016</td><td>-0.014724731</td></tr><tr><td>2015-02-23T10:18:57.303+0000</td><td>nexus4_1</td><td>458</td><td>nexus4</td><td>g</td><td>stand</td><td>-0.0039367676</td><td>0.009048462</td><td>0.010025024</td></tr><tr><td>2015-02-23T10:18:57.306+0000</td><td>nexus4_2</td><td>466</td><td>nexus4</td><td>g</td><td>stand</td><td>0.0038909912</td><td>0.0045166016</td><td>-0.016860962</td></tr><tr><td>2015-02-23T10:18:57.311+0000</td><td>nexus4_2</td><td>467</td><td>nexus4</td><td>g</td><td>stand</td><td>0.002822876</td><td>0.002380371</td><td>-0.021133423</td></tr><tr><td>2015-02-23T10:18:57.315+0000</td><td>nexus4_1</td><td>460</td><td>nexus4</td><td>g</td><td>stand</td><td>-0.0028686523</td><td>0.007980347</td><td>0.008956909</td></tr><tr><td>2015-02-23T10:18:57.315+0000</td><td>nexus4_1</td><td>459</td><td>nexus4</td><td>g</td><td>stand</td><td>-0.0039367676</td><td>0.007980347</td><td>0.01109314</td></tr><tr><td>2015-02-23T10:18:57.316+0000</td><td>nexus4_2</td><td>468</td><td>nexus4</td><td>g</td><td>stand</td><td>0.002822876</td><td>0.0013122559</td><td>-0.020065308</td></tr><tr><td>2015-02-23T10:18:57.318+0000</td><td>nexus4_1</td><td>461</td><td>nexus4</td><td>g</td><td>stand</td><td>-0.0028686523</td><td>0.009048462</td><td>0.012161255</td></tr><tr><td>2015-02-23T10:18:57.321+0000</td><td>nexus4_2</td><td>469</td><td>nexus4</td><td>g</td><td>stand</td><td>0.002822876</td><td>0.0013122559</td><td>-0.023269653</td></tr><tr><td>2015-02-23T10:18:57.326+0000</td><td>nexus4_2</td><td>470</td><td>nexus4</td><td>g</td><td>stand</td><td>0.0038909912</td><td>0.0034484863</td><td>-0.023269653</td></tr><tr><td>2015-02-23T10:18:57.330+0000</td><td>nexus4_1</td><td>463</td><td>nexus4</td><td>g</td><td>stand</td><td>-0.0028686523</td><td>0.007980347</td><td>0.01109314</td></tr><tr><td>2015-02-23T10:18:57.330+0000</td><td>nexus4_1</td><td>462</td><td>nexus4</td><td>g</td><td>stand</td><td>-0.0028686523</td><td>0.009048462</td><td>0.012161255</td></tr><tr><td>2015-02-23T10:18:57.331+0000</td><td>nexus4_2</td><td>471</td><td>nexus4</td><td>g</td><td>stand</td><td>0.002822876</td><td>0.0034484863</td><td>-0.025405884</td></tr><tr><td>2015-02-23T10:18:57.335+0000</td><td>nexus4_1</td><td>464</td><td>nexus4</td><td>g</td><td>stand</td><td>-0.0018005371</td><td>0.007980347</td><td>0.01109314</td></tr><tr><td>2015-02-23T10:18:57.336+0000</td><td>nexus4_2</td><td>472</td><td>nexus4</td><td>g</td><td>stand</td><td>0.002822876</td><td>0.0034484863</td><td>-0.024337769</td></tr><tr><td>2015-02-23T10:18:57.340+0000</td><td>nexus4_1</td><td>465</td><td>nexus4</td><td>g</td><td>stand</td><td>-0.0028686523</td><td>0.010116577</td><td>0.012161255</td></tr><tr><td>2015-02-23T10:18:57.341+0000</td><td>nexus4_2</td><td>473</td><td>nexus4</td><td>g</td><td>stand</td><td>0.002822876</td><td>0.005584717</td><td>-0.027542114</td></tr><tr><td>2015-02-23T10:18:57.346+0000</td><td>nexus4_2</td><td>474</td><td>nexus4</td><td>g</td><td>stand</td><td>0.0038909912</td><td>0.0077209473</td><td>-0.03074646</td></tr><tr><td>2015-02-23T10:18:57.346+0000</td><td>nexus4_1</td><td>466</td><td>nexus4</td><td>g</td><td>stand</td><td>-0.0028686523</td><td>0.011184692</td><td>0.007888794</td></tr><tr><td>2015-02-23T10:18:57.349+0000</td><td>nexus4_1</td><td>467</td><td>nexus4</td><td>g</td><td>stand</td><td>-0.0018005371</td><td>0.012252808</td><td>0.010025024</td></tr><tr><td>2015-02-23T10:18:57.352+0000</td><td>nexus4_2</td><td>475</td><td>nexus4</td><td>g</td><td>stand</td><td>0.0049591064</td><td>0.006652832</td><td>-0.029678345</td></tr><tr><td>2015-02-23T10:18:57.354+0000</td><td>nexus4_2</td><td>476</td><td>nexus4</td><td>g</td><td>stand</td><td>0.0049591064</td><td>0.006652832</td><td>-0.033950806</td></tr><tr><td>2015-02-23T10:18:57.355+0000</td><td>nexus4_1</td><td>468</td><td>nexus4</td><td>g</td><td>stand</td><td>-0.0028686523</td><td>0.010116577</td><td>0.0068206787</td></tr><tr><td>2015-02-23T10:18:57.358+0000</td><td>nexus4_1</td><td>469</td><td>nexus4</td><td>g</td><td>stand</td><td>-0.0028686523</td><td>0.007980347</td><td>0.0046844482</td></tr><tr><td>2015-02-23T10:18:57.360+0000</td><td>nexus4_2</td><td>477</td><td>nexus4</td><td>g</td><td>stand</td><td>0.0038909912</td><td>0.009857178</td><td>-0.031814575</td></tr><tr><td>2015-02-23T10:18:57.365+0000</td><td>nexus4_1</td><td>470</td><td>nexus4</td><td>g</td><td>stand</td><td>-7.324219E-4</td><td>0.007980347</td><td>0.0057525635</td></tr><tr><td>2015-02-23T10:18:57.365+0000</td><td>nexus4_2</td><td>478</td><td>nexus4</td><td>g</td><td>stand</td><td>0.0049591064</td><td>0.0087890625</td><td>-0.03501892</td></tr><tr><td>2015-02-23T10:18:57.369+0000</td><td>nexus4_1</td><td>471</td><td>nexus4</td><td>g</td><td>stand</td><td>3.356934E-4</td><td>0.004776001</td><td>0.003616333</td></tr><tr><td>2015-02-23T10:18:57.375+0000</td><td>nexus4_2</td><td>480</td><td>nexus4</td><td>g</td><td>stand</td><td>0.007095337</td><td>0.010925293</td><td>-0.03929138</td></tr><tr><td>2015-02-23T10:18:57.375+0000</td><td>nexus4_2</td><td>479</td><td>nexus4</td><td>g</td><td>stand</td><td>0.007095337</td><td>0.0077209473</td><td>-0.03715515</td></tr><tr><td>2015-02-23T10:18:57.380+0000</td><td>nexus4_1</td><td>472</td><td>nexus4</td><td>g</td><td>stand</td><td>0.0014038086</td><td>0.0015716553</td><td>0.0014801025</td></tr><tr><td>2015-02-23T10:18:57.381+0000</td><td>nexus4_1</td><td>473</td><td>nexus4</td><td>g</td><td>stand</td><td>0.0014038086</td><td>-0.0016326904</td><td>0.0014801025</td></tr><tr><td>2015-02-23T10:18:57.384+0000</td><td>nexus4_1</td><td>474</td><td>nexus4</td><td>g</td><td>stand</td><td>3.356934E-4</td><td>-0.0027008057</td><td>0.003616333</td></tr><tr><td>2015-02-23T10:18:57.386+0000</td><td>nexus4_2</td><td>481</td><td>nexus4</td><td>g</td><td>stand</td><td>0.007095337</td><td>0.009857178</td><td>-0.038223267</td></tr><tr><td>2015-02-23T10:18:57.386+0000</td><td>nexus4_2</td><td>482</td><td>nexus4</td><td>g</td><td>stand</td><td>0.0060272217</td><td>0.009857178</td><td>-0.03715515</td></tr><tr><td>2015-02-23T10:18:57.391+0000</td><td>nexus4_1</td><td>475</td><td>nexus4</td><td>g</td><td>stand</td><td>0.0014038086</td><td>-0.004837036</td><td>4.119873E-4</td></tr><tr><td>2015-02-23T10:18:57.394+0000</td><td>nexus4_1</td><td>476</td><td>nexus4</td><td>g</td><td>stand</td><td>0.0024719238</td><td>-0.009109497</td><td>-0.0017242432</td></tr><tr><td>2015-02-23T10:18:57.395+0000</td><td>nexus4_2</td><td>483</td><td>nexus4</td><td>g</td><td>stand</td><td>0.0049591064</td><td>0.0077209473</td><td>-0.036087036</td></tr><tr><td>2015-02-23T10:18:57.395+0000</td><td>nexus4_2</td><td>484</td><td>nexus4</td><td>g</td><td>stand</td><td>0.0060272217</td><td>0.0087890625</td><td>-0.031814575</td></tr><tr><td>2015-02-23T10:18:57.400+0000</td><td>nexus4_1</td><td>477</td><td>nexus4</td><td>g</td><td>stand</td><td>0.0024719238</td><td>-0.010177612</td><td>-0.0027923584</td></tr><tr><td>2015-02-23T10:18:57.406+0000</td><td>nexus4_1</td><td>478</td><td>nexus4</td><td>g</td><td>stand</td><td>0.003540039</td><td>-0.011245728</td><td>-0.0027923584</td></tr><tr><td>2015-02-23T10:18:57.408+0000</td><td>nexus4_2</td><td>485</td><td>nexus4</td><td>g</td><td>stand</td><td>0.0038909912</td><td>0.006652832</td><td>-0.036087036</td></tr><tr><td>2015-02-23T10:18:57.408+0000</td><td>nexus4_2</td><td>486</td><td>nexus4</td><td>g</td><td>stand</td><td>0.0049591064</td><td>0.002380371</td><td>-0.033950806</td></tr><tr><td>2015-02-23T10:18:57.410+0000</td><td>nexus4_1</td><td>479</td><td>nexus4</td><td>g</td><td>stand</td><td>0.0024719238</td><td>-0.012313843</td><td>-0.005996704</td></tr><tr><td>2015-02-23T10:18:57.411+0000</td><td>nexus4_2</td><td>487</td><td>nexus4</td><td>g</td><td>stand</td><td>0.0038909912</td><td>0.0013122559</td><td>-0.03288269</td></tr><tr><td>2015-02-23T10:18:57.416+0000</td><td>nexus4_2</td><td>488</td><td>nexus4</td><td>g</td><td>stand</td><td>0.0017547607</td><td>2.441406E-4</td><td>-0.03288269</td></tr><tr><td>2015-02-23T10:18:57.416+0000</td><td>nexus4_1</td><td>480</td><td>nexus4</td><td>g</td><td>stand</td><td>0.003540039</td><td>-0.011245728</td><td>-0.0070648193</td></tr><tr><td>2015-02-23T10:18:57.419+0000</td><td>nexus4_1</td><td>481</td><td>nexus4</td><td>g</td><td>stand</td><td>0.003540039</td><td>-0.013381958</td><td>-0.0124053955</td></tr><tr><td>2015-02-23T10:18:57.427+0000</td><td>nexus4_2</td><td>489</td><td>nexus4</td><td>g</td><td>stand</td><td>0.002822876</td><td>-0.002960205</td><td>-0.03288269</td></tr><tr><td>2015-02-23T10:18:57.427+0000</td><td>nexus4_2</td><td>490</td><td>nexus4</td><td>g</td><td>stand</td><td>0.002822876</td><td>-0.002960205</td><td>-0.029678345</td></tr><tr><td>2015-02-23T10:18:57.429+0000</td><td>nexus4_1</td><td>482</td><td>nexus4</td><td>g</td><td>stand</td><td>0.003540039</td><td>-0.011245728</td><td>-0.01133728</td></tr><tr><td>2015-02-23T10:18:57.430+0000</td><td>nexus4_1</td><td>483</td><td>nexus4</td><td>g</td><td>stand</td><td>0.003540039</td><td>-0.010177612</td><td>-0.014541626</td></tr><tr><td>2015-02-23T10:18:57.431+0000</td><td>nexus4_2</td><td>491</td><td>nexus4</td><td>g</td><td>stand</td><td>0.0017547607</td><td>-0.006164551</td><td>-0.029678345</td></tr><tr><td>2015-02-23T10:18:57.435+0000</td><td>nexus4_1</td><td>484</td><td>nexus4</td><td>g</td><td>stand</td><td>0.0024719238</td><td>-0.011245728</td><td>-0.014541626</td></tr><tr><td>2015-02-23T10:18:57.436+0000</td><td>nexus4_2</td><td>492</td><td>nexus4</td><td>g</td><td>stand</td><td>0.002822876</td><td>-0.006164551</td><td>-0.027542114</td></tr><tr><td>2015-02-23T10:18:57.440+0000</td><td>nexus4_1</td><td>485</td><td>nexus4</td><td>g</td><td>stand</td><td>0.0024719238</td><td>-0.009109497</td><td>-0.015609741</td></tr><tr><td>2015-02-23T10:18:57.445+0000</td><td>nexus4_1</td><td>486</td><td>nexus4</td><td>g</td><td>stand</td><td>0.0024719238</td><td>-0.010177612</td><td>-0.016677856</td></tr><tr><td>2015-02-23T10:18:57.447+0000</td><td>nexus4_2</td><td>493</td><td>nexus4</td><td>g</td><td>stand</td><td>0.002822876</td><td>-0.008300781</td><td>-0.026473999</td></tr><tr><td>2015-02-23T10:18:57.447+0000</td><td>nexus4_2</td><td>494</td><td>nexus4</td><td>g</td><td>stand</td><td>0.0017547607</td><td>-0.010437012</td><td>-0.026473999</td></tr><tr><td>2015-02-23T10:18:57.451+0000</td><td>nexus4_1</td><td>487</td><td>nexus4</td><td>g</td><td>stand</td><td>0.0024719238</td><td>-0.011245728</td><td>-0.019882202</td></tr><tr><td>2015-02-23T10:18:57.454+0000</td><td>nexus4_2</td><td>495</td><td>nexus4</td><td>g</td><td>stand</td><td>0.002822876</td><td>-0.0093688965</td><td>-0.024337769</td></tr><tr><td>2015-02-23T10:18:57.455+0000</td><td>nexus4_1</td><td>488</td><td>nexus4</td><td>g</td><td>stand</td><td>0.0014038086</td><td>-0.012313843</td><td>-0.020950317</td></tr><tr><td>2015-02-23T10:18:57.455+0000</td><td>nexus4_2</td><td>496</td><td>nexus4</td><td>g</td><td>stand</td><td>0.0017547607</td><td>-0.010437012</td><td>-0.023269653</td></tr><tr><td>2015-02-23T10:18:57.460+0000</td><td>nexus4_1</td><td>489</td><td>nexus4</td><td>g</td><td>stand</td><td>0.0014038086</td><td>-0.010177612</td><td>-0.018814087</td></tr><tr><td>2015-02-23T10:18:57.465+0000</td><td>nexus4_2</td><td>498</td><td>nexus4</td><td>g</td><td>stand</td><td>6.866455E-4</td><td>-0.008300781</td><td>-0.022201538</td></tr><tr><td>2015-02-23T10:18:57.465+0000</td><td>nexus4_1</td><td>490</td><td>nexus4</td><td>g</td><td>stand</td><td>0.0024719238</td><td>-0.010177612</td><td>-0.022018433</td></tr><tr><td>2015-02-23T10:18:57.465+0000</td><td>nexus4_2</td><td>497</td><td>nexus4</td><td>g</td><td>stand</td><td>6.866455E-4</td><td>-0.0093688965</td><td>-0.022201538</td></tr><tr><td>2015-02-23T10:18:57.478+0000</td><td>nexus4_2</td><td>499</td><td>nexus4</td><td>g</td><td>stand</td><td>0.002822876</td><td>-0.007232666</td><td>-0.020065308</td></tr><tr><td>2015-02-23T10:18:57.478+0000</td><td>nexus4_2</td><td>500</td><td>nexus4</td><td>g</td><td>stand</td><td>0.0038909912</td><td>-0.002960205</td><td>-0.012588501</td></tr><tr><td>2015-02-23T10:18:57.480+0000</td><td>nexus4_1</td><td>491</td><td>nexus4</td><td>g</td><td>stand</td><td>0.0014038086</td><td>-0.012313843</td><td>-0.020950317</td></tr><tr><td>2015-02-23T10:18:57.482+0000</td><td>nexus4_2</td><td>501</td><td>nexus4</td><td>g</td><td>stand</td><td>0.0038909912</td><td>-0.002960205</td><td>-0.012588501</td></tr><tr><td>2015-02-23T10:18:57.485+0000</td><td>nexus4_1</td><td>492</td><td>nexus4</td><td>g</td><td>stand</td><td>0.0024719238</td><td>-0.013381958</td><td>-0.022018433</td></tr><tr><td>2015-02-23T10:18:57.485+0000</td><td>nexus4_1</td><td>493</td><td>nexus4</td><td>g</td><td>stand</td><td>0.0024719238</td><td>-0.013381958</td><td>-0.022018433</td></tr><tr><td>2015-02-23T10:18:57.486+0000</td><td>nexus4_1</td><td>494</td><td>nexus4</td><td>g</td><td>stand</td><td>0.003540039</td><td>-0.012313843</td><td>-0.020950317</td></tr><tr><td>2015-02-23T10:18:57.487+0000</td><td>nexus4_2</td><td>502</td><td>nexus4</td><td>g</td><td>stand</td><td>0.002822876</td><td>-8.239746E-4</td><td>-0.0104522705</td></tr><tr><td>2015-02-23T10:18:57.497+0000</td><td>nexus4_1</td><td>495</td><td>nexus4</td><td>g</td><td>stand</td><td>0.0024719238</td><td>-0.012313843</td><td>-0.019882202</td></tr><tr><td>2015-02-23T10:18:57.498+0000</td><td>nexus4_2</td><td>504</td><td>nexus4</td><td>g</td><td>stand</td><td>0.0017547607</td><td>0.0045166016</td><td>-0.00831604</td></tr></tbody></table></div>"
      ]
     },
     "metadata": {},
     "output_type": "display_data"
    }
   ],
   "source": [
    "display(streamingDF, streamName = myStreamName)"
   ]
  },
  {
   "cell_type": "code",
   "execution_count": 41,
   "metadata": {},
   "outputs": [
    {
     "data": {
      "text/html": [
       "<style scoped>\n",
       "  .ansiout {\n",
       "    display: block;\n",
       "    unicode-bidi: embed;\n",
       "    white-space: pre-wrap;\n",
       "    word-wrap: break-word;\n",
       "    word-break: break-all;\n",
       "    font-family: \"Source Code Pro\", \"Menlo\", monospace;;\n",
       "    font-size: 13px;\n",
       "    color: #555;\n",
       "    margin-left: 4px;\n",
       "    line-height: 19px;\n",
       "  }\n",
       "</style>\n",
       "<div class=\"ansiout\">The stream lesson02_ps is active and ready.\n",
       "</div>"
      ]
     },
     "metadata": {},
     "output_type": "display_data"
    }
   ],
   "source": [
    "# Wait until stream is done initializing...\n",
    "untilStreamIsReady(myStreamName)"
   ]
  },
  {
   "cell_type": "markdown",
   "metadata": {},
   "source": [
    "Using the value passed to `streamName` in the call to `display`, we can programatically access this specific stream:"
   ]
  },
  {
   "cell_type": "code",
   "execution_count": 43,
   "metadata": {},
   "outputs": [
    {
     "data": {
      "text/html": [
       "<style scoped>\n",
       "  .ansiout {\n",
       "    display: block;\n",
       "    unicode-bidi: embed;\n",
       "    white-space: pre-wrap;\n",
       "    word-wrap: break-word;\n",
       "    word-break: break-all;\n",
       "    font-family: \"Source Code Pro\", \"Menlo\", monospace;;\n",
       "    font-size: 13px;\n",
       "    color: #555;\n",
       "    margin-left: 4px;\n",
       "    line-height: 19px;\n",
       "  }\n",
       "</style>\n",
       "<div class=\"ansiout\">Looking for lesson02_ps\n",
       "Found lesson02_ps (ffbffdfe-5b9b-4972-8474-10381b837e01)\n",
       "</div>"
      ]
     },
     "metadata": {},
     "output_type": "display_data"
    }
   ],
   "source": [
    "print(\"Looking for {}\".format(myStreamName))\n",
    "\n",
    "for stream in spark.streams.active:      # Loop over all active streams\n",
    "  if stream.name == myStreamName:        # Single out \"streamWithTimestamp\"\n",
    "    print(\"Found {} ({})\".format(stream.name, stream.id)) "
   ]
  },
  {
   "cell_type": "markdown",
   "metadata": {},
   "source": [
    "Stop all remaining streams."
   ]
  },
  {
   "cell_type": "code",
   "execution_count": 45,
   "metadata": {},
   "outputs": [
    {
     "data": {
      "text/html": [
       "<style scoped>\n",
       "  .ansiout {\n",
       "    display: block;\n",
       "    unicode-bidi: embed;\n",
       "    white-space: pre-wrap;\n",
       "    word-wrap: break-word;\n",
       "    word-break: break-all;\n",
       "    font-family: \"Source Code Pro\", \"Menlo\", monospace;;\n",
       "    font-size: 13px;\n",
       "    color: #555;\n",
       "    margin-left: 4px;\n",
       "    line-height: 19px;\n",
       "  }\n",
       "</style>\n",
       "<div class=\"ansiout\">Stopping the stream lesson02_ps.\n",
       "The stream lesson02_ps was stopped.\n",
       "</div>"
      ]
     },
     "metadata": {},
     "output_type": "display_data"
    }
   ],
   "source": [
    "stopAllStreams()"
   ]
  },
  {
   "cell_type": "markdown",
   "metadata": {},
   "source": [
    "## End-to-end Fault Tolerance\n",
    "\n",
    "Structured Streaming ensures end-to-end exactly-once fault-tolerance guarantees through _checkpointing_ and <a href=\"https://en.wikipedia.org/wiki/Write-ahead_logging\" target=\"_blank\">Write Ahead Logs</a>.\n",
    "\n",
    "Structured Streaming sources, sinks, and the underlying execution engine work together to track the progress of stream processing. If a failure occurs, the streaming engine attempts to restart and/or reprocess the data.\n",
    "\n",
    "This approach _only_ works if the streaming source is replayable. To ensure fault-tolerance, Structured Streaming assumes that every streaming source has offsets, akin to:\n",
    "\n",
    "* <a target=\"_blank\" href=\"https://kafka.apache.org/documentation/#intro_topics\">Kafka message offsets</a>\n",
    "* <a target=\"_blank\" href=\"http://docs.aws.amazon.com/streams/latest/dev/key-concepts.html#sequence-number\">Kinesis sequence numbers</a>\n",
    "\n",
    "At a high level, the underlying streaming mechanism relies on a couple approaches:\n",
    "\n",
    "* First, Structured Streaming uses checkpointing and write-ahead logs to record the offset range of data being processed during each trigger interval.\n",
    "* Next, the streaming sinks are designed to be _idempotent_—that is, multiple writes of the same data (as identified by the offset) do _not_ result in duplicates being written to the sink.\n",
    "\n",
    "Taken together, replayable data sources and idempotent sinks allow Structured Streaming to ensure **end-to-end, exactly-once semantics** under any failure condition."
   ]
  },
  {
   "cell_type": "markdown",
   "metadata": {},
   "source": [
    "<h2>Review Questions</h2>\n",
    "\n",
    "**Q:** What do `readStream` and `writeStream` do?<br>\n",
    "**A:** `readStream` creates a streaming DataFrame.<br>`writeStream` sends streaming data to a directory or other type of output sink.\n",
    "\n",
    "**Q:** What does `display` output if it is applied to a DataFrame created via `readStream`?<br>\n",
    "**A:** `display` sends streaming data to a LIVE graph!\n",
    "\n",
    "**Q:** When you do a write stream command, what does this option do `outputMode(\"append\")` ?<br>\n",
    "**A:** This option takes on the following values and their respective meanings:\n",
    "* <b>append</b>: add only new records to output sink\n",
    "* <b>complete</b>: rewrite full output - applicable to aggregations operations\n",
    "* <b>update</b>: update changed records in place\n",
    "\n",
    "**Q:** What happens if you do not specify `option(\"checkpointLocation\", pointer-to-checkpoint directory)`?<br>\n",
    "**A:** When the streaming job stops, you lose all state around your streaming job and upon restart, you start from scratch.\n",
    "\n",
    "**Q:** How do you view the list of active streams?<br>\n",
    "**A:** Invoke `spark.streams.active`.\n",
    "\n",
    "**Q:** How do you verify whether `streamingQuery` is running (boolean output)?<br>\n",
    "**A:** Invoke `spark.streams.get(streamingQuery.id).isActive`."
   ]
  },
  {
   "cell_type": "code",
   "execution_count": 50,
   "metadata": {},
   "outputs": [],
   "source": [
    "%run ./Includes/Classroom-Cleanup"
   ]
  }
 ],
 "metadata": {
  "kernelspec": {
   "display_name": "Python 3",
   "language": "python",
   "name": "python3"
  },
  "language_info": {
   "codemirror_mode": {
    "name": "ipython",
    "version": 3
   },
   "file_extension": ".py",
   "mimetype": "text/x-python",
   "name": "python",
   "nbconvert_exporter": "python",
   "pygments_lexer": "ipython3",
   "version": "3.7.3"
  },
  "name": "SS 02 - Streaming Concepts",
  "notebookId": 3227357976397254
 },
 "nbformat": 4,
 "nbformat_minor": 1
}
