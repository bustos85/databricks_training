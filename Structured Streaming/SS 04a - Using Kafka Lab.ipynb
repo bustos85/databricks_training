{
 "cells": [
  {
   "cell_type": "code",
   "execution_count": 4,
   "metadata": {},
   "outputs": [],
   "source": [
    "%run \"../Includes/Classroom-Setup\""
   ]
  },
  {
   "cell_type": "markdown",
   "metadata": {},
   "source": [
    "Define the name of the stream we are to use later in this lesson:"
   ]
  },
  {
   "cell_type": "code",
   "execution_count": 6,
   "metadata": {},
   "outputs": [
    {
     "data": {
      "text/html": [
       "<style scoped>\n",
       "  .ansiout {\n",
       "    display: block;\n",
       "    unicode-bidi: embed;\n",
       "    white-space: pre-wrap;\n",
       "    word-wrap: break-word;\n",
       "    word-break: break-all;\n",
       "    font-family: \"Source Code Pro\", \"Menlo\", monospace;;\n",
       "    font-size: 13px;\n",
       "    color: #555;\n",
       "    margin-left: 4px;\n",
       "    line-height: 19px;\n",
       "  }\n",
       "</style>\n",
       "<div class=\"ansiout\"></div>"
      ]
     },
     "metadata": {},
     "output_type": "display_data"
    }
   ],
   "source": [
    "myStreamName = \"lab04a_ps\""
   ]
  },
  {
   "cell_type": "markdown",
   "metadata": {},
   "source": [
    "<h2>Exercise 1: Use Kafka to read a stream</h2>\n",
    "\n",
    "In this example, we are looking at a series of `ERROR`, `WARNING` and `INFO` log messages that are coming in via our Kafka server.\n",
    "\n",
    "We want to analyze how many log messages are coming from each IP address?\n",
    "\n",
    "Create `initialDF` with the following Kafka parameters:\n",
    "\n",
    "0. `format` is `kafka`\n",
    "0. `kafka.bootstrap.server` (pick the server closest to you)\n",
    "  * is `server1.databricks.training:9092` US (Oregon)\n",
    "  * or `server2.databricks.training:9092` Singapore\n",
    "0. `subscribe` is `logdata`\n",
    "\n",
    "When you are done, run the TEST cell that follows to verify your results."
   ]
  },
  {
   "cell_type": "code",
   "execution_count": 8,
   "metadata": {},
   "outputs": [
    {
     "data": {
      "text/html": [
       "<style scoped>\n",
       "  .ansiout {\n",
       "    display: block;\n",
       "    unicode-bidi: embed;\n",
       "    white-space: pre-wrap;\n",
       "    word-wrap: break-word;\n",
       "    word-break: break-all;\n",
       "    font-family: \"Source Code Pro\", \"Menlo\", monospace;;\n",
       "    font-size: 13px;\n",
       "    color: #555;\n",
       "    margin-left: 4px;\n",
       "    line-height: 19px;\n",
       "  }\n",
       "</style>\n",
       "<div class=\"ansiout\"></div>"
      ]
     },
     "metadata": {},
     "output_type": "display_data"
    }
   ],
   "source": [
    "# TODO\n",
    "spark.conf.set(\"spark.sql.shuffle.partitions\", sc.defaultParallelism)\n",
    "\n",
    "kafkaServer = \"server1.databricks.training:9092\"   # US (Oregon)\n",
    "# kafkaServer = \"server2.databricks.training:9092\" # Singapore\n",
    "\n",
    "# Create our initial DataFrame\n",
    "initialDF = (spark.readStream\n",
    "  .format(\"kafka\")                                                             # Specify \"kafka\" as the type of the stream\n",
    "  .option(\"kafka.bootstrap.servers\", kafkaServer)                              # Set the location of the kafka serve\n",
    "  .option(\"subscribe\", \"logdata\")                                              # Indicate which topics to listen to\n",
    "  .option(\"startingOffsets\", \"earliest\")                                       # Rewind stream to beginning when we restart notebook\n",
    "  .option(\"maxOffsetsPerTrigger\", 1000)                                        # Throttle Kafka's processing of the streams\n",
    "  .load()                                                                      # Load the input data stream in as a DataFrame\n",
    ")"
   ]
  },
  {
   "cell_type": "code",
   "execution_count": 9,
   "metadata": {},
   "outputs": [
    {
     "data": {
      "text/html": [
       "<style scoped>\n",
       "  .ansiout {\n",
       "    display: block;\n",
       "    unicode-bidi: embed;\n",
       "    white-space: pre-wrap;\n",
       "    word-wrap: break-word;\n",
       "    word-break: break-all;\n",
       "    font-family: \"Source Code Pro\", \"Menlo\", monospace;;\n",
       "    font-size: 13px;\n",
       "    color: #555;\n",
       "    margin-left: 4px;\n",
       "    line-height: 19px;\n",
       "  }\n",
       "</style>\n",
       "<div class=\"ansiout\">Tests passed!\n",
       "</div>"
      ]
     },
     "metadata": {},
     "output_type": "display_data"
    }
   ],
   "source": [
    "# TEST - Run this cell to test your solution.\n",
    "initSchemaStr = str(initialDF.schema)\n",
    "\n",
    "dbTest(\"SS-04-key\",       True, \"(key,BinaryType,true)\" in initSchemaStr)\n",
    "dbTest(\"SS-04-value\",     True, \"(value,BinaryType,true)\" in initSchemaStr)\n",
    "dbTest(\"SS-04-topic\",     True, \"(topic,StringType,true)\" in initSchemaStr)\n",
    "dbTest(\"SS-04-partition\", True, \"(partition,IntegerType,true)\" in initSchemaStr)\n",
    "dbTest(\"SS-04-offset\",    True, \"(offset,LongType,true)\" in initSchemaStr)\n",
    "dbTest(\"SS-04-timestamp\", True, \"(timestamp,TimestampType,true)\" in initSchemaStr)\n",
    "dbTest(\"SS-04-timestampType\", True, \"(timestampType,IntegerType,true)\" in initSchemaStr)\n",
    "\n",
    "print(\"Tests passed!\")"
   ]
  },
  {
   "cell_type": "markdown",
   "metadata": {},
   "source": [
    "<h2>Exercise 2: Do Some ETL Processing</h2>\n",
    "\n",
    "Perform the following ETL steps:\n",
    "\n",
    "0. Cast `value` column to STRING\n",
    "0. `ts_string` is derived from `value` at positions 14 to 24,\n",
    "0. `epoc` is derived from `unix_timestamp` of `ts_string` using format \"yyyy/MM/dd HH:mm:ss.SSS\"\n",
    "0. `capturedAt` is derived from casting `epoc` to `timestamp` format\n",
    "0. `logData` is created by applying `regexp_extract` on `value`.. use this string `\"\"\"^.*\\]\\s+(.*)$\"\"\"`\n",
    "\n",
    "When you are done, run the TEST cell that follows to verify your results."
   ]
  },
  {
   "cell_type": "code",
   "execution_count": 11,
   "metadata": {},
   "outputs": [
    {
     "data": {
      "text/html": [
       "<style scoped>\n",
       "  .ansiout {\n",
       "    display: block;\n",
       "    unicode-bidi: embed;\n",
       "    white-space: pre-wrap;\n",
       "    word-wrap: break-word;\n",
       "    word-break: break-all;\n",
       "    font-family: \"Source Code Pro\", \"Menlo\", monospace;;\n",
       "    font-size: 13px;\n",
       "    color: #555;\n",
       "    margin-left: 4px;\n",
       "    line-height: 19px;\n",
       "  }\n",
       "</style>\n",
       "<div class=\"ansiout\"></div>"
      ]
     },
     "metadata": {},
     "output_type": "display_data"
    }
   ],
   "source": [
    "# TODO\n",
    "from pyspark.sql.functions import col, unix_timestamp, regexp_extract\n",
    "\n",
    "cleanDF = (initialDF\n",
    "  .withColumn(\"value\", col(\"value\").cast(\"STRING\"))                            # cast \"value\" column to STRING\n",
    "  .withColumn(\"ts_string\", col(\"value\").substr(14, 24))                        # Select the \"value\" column, pull substring(2,23) from it and rename to \"ts_string\"\n",
    "  .withColumn(\"epoc\", unix_timestamp(\"ts_string\", \"yyyy/MM/dd HH:mm:ss.SSS\"))  # Select the \"ts_string\" column, apply unix_timestamp to it and rename to \"epoc\"\n",
    "  .withColumn(\"capturedAt\", col(\"epoc\").cast(\"timestamp\"))                     # Select the \"epoc\" column and cast to a timestamp and rename it to \"capturedAt\"   \n",
    "  .withColumn(\"logData\", regexp_extract(\"value\", \"\"\"^.*\\]\\s+(.*)$\"\"\", 1))      # Select the \"logData\" column and apply the regexp `\"\"\"^.*\\]\\s+(.*)$\"\"\"`\n",
    ")"
   ]
  },
  {
   "cell_type": "code",
   "execution_count": 12,
   "metadata": {},
   "outputs": [
    {
     "data": {
      "text/html": [
       "<style scoped>\n",
       "  .ansiout {\n",
       "    display: block;\n",
       "    unicode-bidi: embed;\n",
       "    white-space: pre-wrap;\n",
       "    word-wrap: break-word;\n",
       "    word-break: break-all;\n",
       "    font-family: \"Source Code Pro\", \"Menlo\", monospace;;\n",
       "    font-size: 13px;\n",
       "    color: #555;\n",
       "    margin-left: 4px;\n",
       "    line-height: 19px;\n",
       "  }\n",
       "</style>\n",
       "<div class=\"ansiout\">Tests passed!\n",
       "</div>"
      ]
     },
     "metadata": {},
     "output_type": "display_data"
    }
   ],
   "source": [
    "# TEST - Run this cell to test your solution.\n",
    "schemaStr = str(cleanDF.schema)\n",
    "\n",
    "dbTest(\"SS-04-schema-value\",     True, \"(value,StringType,true)\" in schemaStr)\n",
    "dbTest(\"SS-04-schema-ts_string\",  True, \"(ts_string,StringType,true)\" in schemaStr)\n",
    "dbTest(\"SS-04-schema-epoc\",   True, \"(epoc,LongType,true)\" in schemaStr)\n",
    "dbTest(\"SS-04-schema-capturedAt\", True, \"(capturedAt,TimestampType,true)\" in schemaStr)\n",
    "dbTest(\"SS-04-schema-logData\",  True, \"(logData,StringType,true)\" in schemaStr)\n",
    "\n",
    "print(\"Tests passed!\")"
   ]
  },
  {
   "cell_type": "markdown",
   "metadata": {},
   "source": [
    "<h2>Exercise 3: Classify and Count IP Addresses Over a 10s Window</h2>\n",
    "\n",
    "To solve this problem, you need to:\n",
    "\n",
    "0. Parse the first part of an IP address from the column `logData` with the `regexp_extract()` function\n",
    "  * You will need a regular expression which we have already provided below as `IP_REG_EX`\n",
    "  * Hint: take the 1st matching value\n",
    "0. Filter out the records that don't contain IP addresses\n",
    "0. Form another column called `ipClass` that classifies IP addresses based on the first part of an IP address \n",
    "  * 1 to 126: \"Class A\"\n",
    "  * 127: \"Loopback\"\n",
    "  * 128 to 191: \"Class B\"\n",
    "  * 192 to 223: \"Class C\"\n",
    "  * 224 to 239: \"Class D\"\n",
    "  * 240 to 256: \"Class E\"\n",
    "  * anything else is invalid\n",
    "0. Perform an aggregation over a window of time, grouping by the `capturedAt` window and `ipClass`\n",
    "  * For this lab, use a 10-second window\n",
    "0. Count the number of IP values that belong to a specific `ipClass`\n",
    "0. Sort by `ipClass`"
   ]
  },
  {
   "cell_type": "code",
   "execution_count": 14,
   "metadata": {},
   "outputs": [
    {
     "data": {
      "text/html": [
       "<style scoped>\n",
       "  .ansiout {\n",
       "    display: block;\n",
       "    unicode-bidi: embed;\n",
       "    white-space: pre-wrap;\n",
       "    word-wrap: break-word;\n",
       "    word-break: break-all;\n",
       "    font-family: \"Source Code Pro\", \"Menlo\", monospace;;\n",
       "    font-size: 13px;\n",
       "    color: #555;\n",
       "    margin-left: 4px;\n",
       "    line-height: 19px;\n",
       "  }\n",
       "</style>\n",
       "<div class=\"ansiout\"></div>"
      ]
     },
     "metadata": {},
     "output_type": "display_data"
    }
   ],
   "source": [
    "# TODO\n",
    "from pyspark.sql.functions import col,length, window, when\n",
    "\n",
    "# This is the regular expression pattern that we will use \n",
    "IP_REG_EX = \"\"\"^.*\\s+(\\d{1,3})\\.\\d{1,3}\\.\\d{1,3}\\.\\d{1,3}.*$\"\"\"\n",
    "\n",
    "ipDF = (cleanDF\n",
    "  .withColumn(\"ip\", regexp_extract(col(\"logData\"), IP_REG_EX, 1))  # apply regexp_extract on IP_REG_EX with value of 1 to \"logData\" and rename it \"ip\"\n",
    "  .filter(length(col(\"ip\"))> 0)                                    # keep only \"ip\" that have non-zero length\n",
    "  .withColumn(\"ipClass\"                                            # figure out class of IP address based on first two octets\n",
    "     ,when(col(\"ip\") < 127, \"Class A\")\n",
    "     .when(col(\"ip\") == 127, \"Loopback\")\n",
    "     .when((col(\"ip\") > 127) & (col(\"ip\") < 192), \"Class B\")\n",
    "     .when((col(\"ip\") >= 192) & (col(\"ip\") < 224), \"Class C\")\n",
    "     .when((col(\"ip\") >= 224) & (col(\"ip\") < 240), \"Class D\")\n",
    "     .when((col(\"ip\") >= 240) & (col(\"ip\") < 256), \"Class C\")\n",
    "     .otherwise(\"Invalid\"))\n",
    "  .groupBy( window(col(\"capturedAt\"), \"10 seconds\").alias(\"time\"), col(\"ipClass\"))    # form 10 second windows of \"capturedAt\", call them \"time\" \n",
    "  .count()                                                          # add up total\n",
    "  .orderBy(\"ipClass\")                                               # sort by IP class\n",
    ")"
   ]
  },
  {
   "cell_type": "code",
   "execution_count": 15,
   "metadata": {},
   "outputs": [
    {
     "data": {
      "text/html": [
       "<style scoped>\n",
       "  .ansiout {\n",
       "    display: block;\n",
       "    unicode-bidi: embed;\n",
       "    white-space: pre-wrap;\n",
       "    word-wrap: break-word;\n",
       "    word-break: break-all;\n",
       "    font-family: \"Source Code Pro\", \"Menlo\", monospace;;\n",
       "    font-size: 13px;\n",
       "    color: #555;\n",
       "    margin-left: 4px;\n",
       "    line-height: 19px;\n",
       "  }\n",
       "</style>\n",
       "<div class=\"ansiout\">Tests passed!\n",
       "</div>"
      ]
     },
     "metadata": {},
     "output_type": "display_data"
    }
   ],
   "source": [
    "# TEST - Run this cell to test your solution.\n",
    "schemaStr = str(ipDF.schema)\n",
    "\n",
    "dbTest(\"SS-04-schema-ipClass\", True, \"(ipClass,StringType,false)\" in schemaStr)\n",
    "dbTest(\"SS-04-schema-count\",   True, \"(count,LongType,false)\" in schemaStr)\n",
    "dbTest(\"SS-04-schema-start\",   True, \"(start,TimestampType,true)\" in schemaStr)\n",
    "dbTest(\"SS-04-schema-end\",     True, \"(end,TimestampType,true)\" in schemaStr)\n",
    "\n",
    "print(\"Tests passed!\")"
   ]
  },
  {
   "cell_type": "markdown",
   "metadata": {},
   "source": [
    "<h2>Exercise 4: Display a LIVE Plot</h2>\n",
    "\n",
    "The `DataFrame` that you pass to `display()` should have three columns:\n",
    "\n",
    "* `time`: The time window structure\n",
    "* `ipClass`: The class the first part of the IP address belongs to\n",
    "* `count`: The number of times that said class of IP address appeared in the window\n",
    "\n",
    "Under <b>Plot Options</b>, use the following:\n",
    "* <b>Keys:</b> `ipClass`\n",
    "* <b>Values:</b> `count`\n",
    "\n",
    "<b>Display type:</b> is \n",
    "* <b>Pie Chart</b>"
   ]
  },
  {
   "cell_type": "code",
   "execution_count": 17,
   "metadata": {},
   "outputs": [
    {
     "data": {
      "text/html": [
       "<style scoped>\n",
       "  .table-result-container {\n",
       "    max-height: 300px;\n",
       "    overflow: auto;\n",
       "  }\n",
       "  table, th, td {\n",
       "    border: 1px solid black;\n",
       "    border-collapse: collapse;\n",
       "  }\n",
       "  th, td {\n",
       "    padding: 5px;\n",
       "  }\n",
       "  th {\n",
       "    text-align: left;\n",
       "  }\n",
       "</style><div class='table-result-container'><table class='table-result'><thead style='background-color: white'><tr><th>time</th><th>ipClass</th><th>count</th></tr></thead><tbody><tr><td>List(2020-04-12T07:09:10.000+0000, 2020-04-12T07:09:20.000+0000)</td><td>Class A</td><td>32</td></tr><tr><td>List(2020-04-12T07:11:50.000+0000, 2020-04-12T07:12:00.000+0000)</td><td>Class A</td><td>14</td></tr><tr><td>List(2020-04-12T07:02:50.000+0000, 2020-04-12T07:03:00.000+0000)</td><td>Class A</td><td>18</td></tr><tr><td>List(2020-04-12T06:52:30.000+0000, 2020-04-12T06:52:40.000+0000)</td><td>Class A</td><td>19</td></tr><tr><td>List(2020-04-12T07:00:50.000+0000, 2020-04-12T07:01:00.000+0000)</td><td>Class A</td><td>15</td></tr><tr><td>List(2020-04-12T07:12:20.000+0000, 2020-04-12T07:12:30.000+0000)</td><td>Class A</td><td>24</td></tr><tr><td>List(2020-04-12T06:48:00.000+0000, 2020-04-12T06:48:10.000+0000)</td><td>Class A</td><td>19</td></tr><tr><td>List(2020-04-12T07:06:10.000+0000, 2020-04-12T07:06:20.000+0000)</td><td>Class A</td><td>14</td></tr><tr><td>List(2020-04-12T06:55:40.000+0000, 2020-04-12T06:55:50.000+0000)</td><td>Class A</td><td>23</td></tr><tr><td>List(2020-04-12T07:01:20.000+0000, 2020-04-12T07:01:30.000+0000)</td><td>Class A</td><td>20</td></tr><tr><td>List(2020-04-12T06:59:30.000+0000, 2020-04-12T06:59:40.000+0000)</td><td>Class A</td><td>24</td></tr><tr><td>List(2020-04-12T07:06:20.000+0000, 2020-04-12T07:06:30.000+0000)</td><td>Class A</td><td>29</td></tr><tr><td>List(2020-04-12T07:11:00.000+0000, 2020-04-12T07:11:10.000+0000)</td><td>Class A</td><td>20</td></tr><tr><td>List(2020-04-12T06:59:50.000+0000, 2020-04-12T07:00:00.000+0000)</td><td>Class A</td><td>19</td></tr><tr><td>List(2020-04-12T07:11:40.000+0000, 2020-04-12T07:11:50.000+0000)</td><td>Class A</td><td>27</td></tr><tr><td>List(2020-04-12T06:51:10.000+0000, 2020-04-12T06:51:20.000+0000)</td><td>Class A</td><td>22</td></tr><tr><td>List(2020-04-12T07:12:50.000+0000, 2020-04-12T07:13:00.000+0000)</td><td>Class A</td><td>22</td></tr><tr><td>List(2020-04-12T06:55:50.000+0000, 2020-04-12T06:56:00.000+0000)</td><td>Class A</td><td>16</td></tr><tr><td>List(2020-04-12T06:50:50.000+0000, 2020-04-12T06:51:00.000+0000)</td><td>Class A</td><td>18</td></tr><tr><td>List(2020-04-12T07:09:50.000+0000, 2020-04-12T07:10:00.000+0000)</td><td>Class A</td><td>21</td></tr><tr><td>List(2020-04-12T07:17:20.000+0000, 2020-04-12T07:17:30.000+0000)</td><td>Class A</td><td>3</td></tr><tr><td>List(2020-04-12T07:15:00.000+0000, 2020-04-12T07:15:10.000+0000)</td><td>Class A</td><td>26</td></tr><tr><td>List(2020-04-12T07:12:00.000+0000, 2020-04-12T07:12:10.000+0000)</td><td>Class A</td><td>14</td></tr><tr><td>List(2020-04-12T07:10:40.000+0000, 2020-04-12T07:10:50.000+0000)</td><td>Class A</td><td>19</td></tr><tr><td>List(2020-04-12T07:13:40.000+0000, 2020-04-12T07:13:50.000+0000)</td><td>Class A</td><td>23</td></tr><tr><td>List(2020-04-12T06:59:10.000+0000, 2020-04-12T06:59:20.000+0000)</td><td>Class A</td><td>25</td></tr><tr><td>List(2020-04-12T06:46:30.000+0000, 2020-04-12T06:46:40.000+0000)</td><td>Class A</td><td>3</td></tr><tr><td>List(2020-04-12T07:09:30.000+0000, 2020-04-12T07:09:40.000+0000)</td><td>Class A</td><td>18</td></tr><tr><td>List(2020-04-12T07:01:10.000+0000, 2020-04-12T07:01:20.000+0000)</td><td>Class A</td><td>16</td></tr><tr><td>List(2020-04-12T06:53:50.000+0000, 2020-04-12T06:54:00.000+0000)</td><td>Class A</td><td>12</td></tr><tr><td>List(2020-04-12T07:09:00.000+0000, 2020-04-12T07:09:10.000+0000)</td><td>Class A</td><td>15</td></tr><tr><td>List(2020-04-12T07:17:10.000+0000, 2020-04-12T07:17:20.000+0000)</td><td>Class A</td><td>4</td></tr><tr><td>List(2020-04-12T07:03:30.000+0000, 2020-04-12T07:03:40.000+0000)</td><td>Class A</td><td>19</td></tr><tr><td>List(2020-04-12T07:07:50.000+0000, 2020-04-12T07:08:00.000+0000)</td><td>Class A</td><td>18</td></tr><tr><td>List(2020-04-12T07:15:20.000+0000, 2020-04-12T07:15:30.000+0000)</td><td>Class A</td><td>22</td></tr><tr><td>List(2020-04-12T07:10:30.000+0000, 2020-04-12T07:10:40.000+0000)</td><td>Class A</td><td>24</td></tr><tr><td>List(2020-04-12T07:07:30.000+0000, 2020-04-12T07:07:40.000+0000)</td><td>Class A</td><td>16</td></tr><tr><td>List(2020-04-12T07:04:20.000+0000, 2020-04-12T07:04:30.000+0000)</td><td>Class A</td><td>16</td></tr><tr><td>List(2020-04-12T06:56:50.000+0000, 2020-04-12T06:57:00.000+0000)</td><td>Class A</td><td>26</td></tr><tr><td>List(2020-04-12T07:01:00.000+0000, 2020-04-12T07:01:10.000+0000)</td><td>Class A</td><td>21</td></tr><tr><td>List(2020-04-12T06:59:40.000+0000, 2020-04-12T06:59:50.000+0000)</td><td>Class A</td><td>16</td></tr><tr><td>List(2020-04-12T07:13:10.000+0000, 2020-04-12T07:13:20.000+0000)</td><td>Class A</td><td>25</td></tr><tr><td>List(2020-04-12T06:58:40.000+0000, 2020-04-12T06:58:50.000+0000)</td><td>Class A</td><td>18</td></tr><tr><td>List(2020-04-12T07:10:20.000+0000, 2020-04-12T07:10:30.000+0000)</td><td>Class A</td><td>27</td></tr><tr><td>List(2020-04-12T07:13:20.000+0000, 2020-04-12T07:13:30.000+0000)</td><td>Class A</td><td>29</td></tr><tr><td>List(2020-04-12T07:12:30.000+0000, 2020-04-12T07:12:40.000+0000)</td><td>Class A</td><td>16</td></tr><tr><td>List(2020-04-12T06:49:10.000+0000, 2020-04-12T06:49:20.000+0000)</td><td>Class A</td><td>22</td></tr><tr><td>List(2020-04-12T07:00:00.000+0000, 2020-04-12T07:00:10.000+0000)</td><td>Class A</td><td>17</td></tr><tr><td>List(2020-04-12T06:57:10.000+0000, 2020-04-12T06:57:20.000+0000)</td><td>Class A</td><td>14</td></tr><tr><td>List(2020-04-12T06:52:10.000+0000, 2020-04-12T06:52:20.000+0000)</td><td>Class A</td><td>21</td></tr><tr><td>List(2020-04-12T06:56:30.000+0000, 2020-04-12T06:56:40.000+0000)</td><td>Class A</td><td>15</td></tr><tr><td>List(2020-04-12T06:53:00.000+0000, 2020-04-12T06:53:10.000+0000)</td><td>Class A</td><td>19</td></tr><tr><td>List(2020-04-12T06:57:00.000+0000, 2020-04-12T06:57:10.000+0000)</td><td>Class A</td><td>24</td></tr><tr><td>List(2020-04-12T07:06:50.000+0000, 2020-04-12T07:07:00.000+0000)</td><td>Class A</td><td>24</td></tr><tr><td>List(2020-04-12T07:05:20.000+0000, 2020-04-12T07:05:30.000+0000)</td><td>Class A</td><td>18</td></tr><tr><td>List(2020-04-12T07:08:50.000+0000, 2020-04-12T07:09:00.000+0000)</td><td>Class A</td><td>19</td></tr><tr><td>List(2020-04-12T06:47:00.000+0000, 2020-04-12T06:47:10.000+0000)</td><td>Class A</td><td>6</td></tr><tr><td>List(2020-04-12T07:08:00.000+0000, 2020-04-12T07:08:10.000+0000)</td><td>Class A</td><td>16</td></tr><tr><td>List(2020-04-12T06:58:30.000+0000, 2020-04-12T06:58:40.000+0000)</td><td>Class A</td><td>24</td></tr><tr><td>List(2020-04-12T06:47:40.000+0000, 2020-04-12T06:47:50.000+0000)</td><td>Class A</td><td>13</td></tr><tr><td>List(2020-04-12T07:11:10.000+0000, 2020-04-12T07:11:20.000+0000)</td><td>Class A</td><td>21</td></tr><tr><td>List(2020-04-12T07:13:30.000+0000, 2020-04-12T07:13:40.000+0000)</td><td>Class A</td><td>11</td></tr><tr><td>List(2020-04-12T07:16:30.000+0000, 2020-04-12T07:16:40.000+0000)</td><td>Class A</td><td>12</td></tr><tr><td>List(2020-04-12T07:16:00.000+0000, 2020-04-12T07:16:10.000+0000)</td><td>Class A</td><td>12</td></tr><tr><td>List(2020-04-12T07:04:40.000+0000, 2020-04-12T07:04:50.000+0000)</td><td>Class A</td><td>15</td></tr><tr><td>List(2020-04-12T06:58:20.000+0000, 2020-04-12T06:58:30.000+0000)</td><td>Class A</td><td>18</td></tr><tr><td>List(2020-04-12T06:47:10.000+0000, 2020-04-12T06:47:20.000+0000)</td><td>Class A</td><td>7</td></tr><tr><td>List(2020-04-12T07:14:50.000+0000, 2020-04-12T07:15:00.000+0000)</td><td>Class A</td><td>21</td></tr><tr><td>List(2020-04-12T07:16:10.000+0000, 2020-04-12T07:16:20.000+0000)</td><td>Class A</td><td>13</td></tr><tr><td>List(2020-04-12T07:08:40.000+0000, 2020-04-12T07:08:50.000+0000)</td><td>Class A</td><td>16</td></tr><tr><td>List(2020-04-12T07:11:20.000+0000, 2020-04-12T07:11:30.000+0000)</td><td>Class A</td><td>24</td></tr><tr><td>List(2020-04-12T06:49:30.000+0000, 2020-04-12T06:49:40.000+0000)</td><td>Class A</td><td>26</td></tr><tr><td>List(2020-04-12T07:00:20.000+0000, 2020-04-12T07:00:30.000+0000)</td><td>Class A</td><td>11</td></tr><tr><td>List(2020-04-12T07:05:00.000+0000, 2020-04-12T07:05:10.000+0000)</td><td>Class A</td><td>27</td></tr><tr><td>List(2020-04-12T06:53:10.000+0000, 2020-04-12T06:53:20.000+0000)</td><td>Class A</td><td>21</td></tr><tr><td>List(2020-04-12T06:57:20.000+0000, 2020-04-12T06:57:30.000+0000)</td><td>Class A</td><td>18</td></tr><tr><td>List(2020-04-12T07:02:00.000+0000, 2020-04-12T07:02:10.000+0000)</td><td>Class A</td><td>19</td></tr><tr><td>List(2020-04-12T07:03:40.000+0000, 2020-04-12T07:03:50.000+0000)</td><td>Class A</td><td>17</td></tr><tr><td>List(2020-04-12T06:50:30.000+0000, 2020-04-12T06:50:40.000+0000)</td><td>Class A</td><td>14</td></tr><tr><td>List(2020-04-12T07:07:20.000+0000, 2020-04-12T07:07:30.000+0000)</td><td>Class A</td><td>17</td></tr><tr><td>List(2020-04-12T06:46:50.000+0000, 2020-04-12T06:47:00.000+0000)</td><td>Class A</td><td>5</td></tr><tr><td>List(2020-04-12T06:50:40.000+0000, 2020-04-12T06:50:50.000+0000)</td><td>Class A</td><td>20</td></tr><tr><td>List(2020-04-12T06:54:00.000+0000, 2020-04-12T06:54:10.000+0000)</td><td>Class A</td><td>12</td></tr><tr><td>List(2020-04-12T07:16:50.000+0000, 2020-04-12T07:17:00.000+0000)</td><td>Class A</td><td>11</td></tr><tr><td>List(2020-04-12T07:12:40.000+0000, 2020-04-12T07:12:50.000+0000)</td><td>Class A</td><td>23</td></tr><tr><td>List(2020-04-12T07:05:30.000+0000, 2020-04-12T07:05:40.000+0000)</td><td>Class A</td><td>23</td></tr><tr><td>List(2020-04-12T07:16:40.000+0000, 2020-04-12T07:16:50.000+0000)</td><td>Class A</td><td>10</td></tr><tr><td>List(2020-04-12T07:09:40.000+0000, 2020-04-12T07:09:50.000+0000)</td><td>Class A</td><td>20</td></tr><tr><td>List(2020-04-12T07:03:10.000+0000, 2020-04-12T07:03:20.000+0000)</td><td>Class A</td><td>23</td></tr><tr><td>List(2020-04-12T06:47:20.000+0000, 2020-04-12T06:47:30.000+0000)</td><td>Class A</td><td>8</td></tr><tr><td>List(2020-04-12T06:50:20.000+0000, 2020-04-12T06:50:30.000+0000)</td><td>Class A</td><td>24</td></tr><tr><td>List(2020-04-12T06:50:00.000+0000, 2020-04-12T06:50:10.000+0000)</td><td>Class A</td><td>19</td></tr><tr><td>List(2020-04-12T06:57:50.000+0000, 2020-04-12T06:58:00.000+0000)</td><td>Class A</td><td>20</td></tr><tr><td>List(2020-04-12T06:48:50.000+0000, 2020-04-12T06:49:00.000+0000)</td><td>Class A</td><td>22</td></tr><tr><td>List(2020-04-12T07:05:40.000+0000, 2020-04-12T07:05:50.000+0000)</td><td>Class A</td><td>26</td></tr><tr><td>List(2020-04-12T07:16:20.000+0000, 2020-04-12T07:16:30.000+0000)</td><td>Class A</td><td>13</td></tr><tr><td>List(2020-04-12T07:15:10.000+0000, 2020-04-12T07:15:20.000+0000)</td><td>Class A</td><td>12</td></tr><tr><td>List(2020-04-12T07:04:00.000+0000, 2020-04-12T07:04:10.000+0000)</td><td>Class A</td><td>14</td></tr><tr><td>List(2020-04-12T07:02:20.000+0000, 2020-04-12T07:02:30.000+0000)</td><td>Class A</td><td>27</td></tr><tr><td>List(2020-04-12T07:02:30.000+0000, 2020-04-12T07:02:40.000+0000)</td><td>Class A</td><td>31</td></tr><tr><td>List(2020-04-12T06:52:40.000+0000, 2020-04-12T06:52:50.000+0000)</td><td>Class A</td><td>21</td></tr><tr><td>List(2020-04-12T06:54:40.000+0000, 2020-04-12T06:54:50.000+0000)</td><td>Class A</td><td>15</td></tr><tr><td>List(2020-04-12T06:56:10.000+0000, 2020-04-12T06:56:20.000+0000)</td><td>Class A</td><td>24</td></tr><tr><td>List(2020-04-12T07:02:40.000+0000, 2020-04-12T07:02:50.000+0000)</td><td>Class A</td><td>19</td></tr><tr><td>List(2020-04-12T06:49:20.000+0000, 2020-04-12T06:49:30.000+0000)</td><td>Class A</td><td>19</td></tr><tr><td>List(2020-04-12T06:47:30.000+0000, 2020-04-12T06:47:40.000+0000)</td><td>Class A</td><td>10</td></tr><tr><td>List(2020-04-12T07:09:20.000+0000, 2020-04-12T07:09:30.000+0000)</td><td>Class A</td><td>18</td></tr><tr><td>List(2020-04-12T06:52:50.000+0000, 2020-04-12T06:53:00.000+0000)</td><td>Class A</td><td>18</td></tr><tr><td>List(2020-04-12T06:55:30.000+0000, 2020-04-12T06:55:40.000+0000)</td><td>Class A</td><td>21</td></tr><tr><td>List(2020-04-12T06:58:00.000+0000, 2020-04-12T06:58:10.000+0000)</td><td>Class A</td><td>17</td></tr><tr><td>List(2020-04-12T06:57:40.000+0000, 2020-04-12T06:57:50.000+0000)</td><td>Class A</td><td>26</td></tr><tr><td>List(2020-04-12T07:05:10.000+0000, 2020-04-12T07:05:20.000+0000)</td><td>Class A</td><td>16</td></tr><tr><td>List(2020-04-12T07:00:30.000+0000, 2020-04-12T07:00:40.000+0000)</td><td>Class A</td><td>19</td></tr><tr><td>List(2020-04-12T07:01:30.000+0000, 2020-04-12T07:01:40.000+0000)</td><td>Class A</td><td>22</td></tr><tr><td>List(2020-04-12T07:14:00.000+0000, 2020-04-12T07:14:10.000+0000)</td><td>Class A</td><td>22</td></tr><tr><td>List(2020-04-12T06:56:00.000+0000, 2020-04-12T06:56:10.000+0000)</td><td>Class A</td><td>19</td></tr><tr><td>List(2020-04-12T06:56:40.000+0000, 2020-04-12T06:56:50.000+0000)</td><td>Class A</td><td>24</td></tr><tr><td>List(2020-04-12T06:52:00.000+0000, 2020-04-12T06:52:10.000+0000)</td><td>Class A</td><td>19</td></tr><tr><td>List(2020-04-12T06:54:20.000+0000, 2020-04-12T06:54:30.000+0000)</td><td>Class A</td><td>19</td></tr><tr><td>List(2020-04-12T06:53:20.000+0000, 2020-04-12T06:53:30.000+0000)</td><td>Class A</td><td>14</td></tr><tr><td>List(2020-04-12T07:01:50.000+0000, 2020-04-12T07:02:00.000+0000)</td><td>Class A</td><td>23</td></tr><tr><td>List(2020-04-12T07:15:30.000+0000, 2020-04-12T07:15:40.000+0000)</td><td>Class A</td><td>16</td></tr><tr><td>List(2020-04-12T06:56:20.000+0000, 2020-04-12T06:56:30.000+0000)</td><td>Class A</td><td>21</td></tr><tr><td>List(2020-04-12T07:14:20.000+0000, 2020-04-12T07:14:30.000+0000)</td><td>Class A</td><td>16</td></tr><tr><td>List(2020-04-12T07:07:40.000+0000, 2020-04-12T07:07:50.000+0000)</td><td>Class A</td><td>20</td></tr><tr><td>List(2020-04-12T06:54:10.000+0000, 2020-04-12T06:54:20.000+0000)</td><td>Class A</td><td>20</td></tr><tr><td>List(2020-04-12T06:47:50.000+0000, 2020-04-12T06:48:00.000+0000)</td><td>Class A</td><td>19</td></tr><tr><td>List(2020-04-12T07:06:30.000+0000, 2020-04-12T07:06:40.000+0000)</td><td>Class A</td><td>20</td></tr><tr><td>List(2020-04-12T06:53:40.000+0000, 2020-04-12T06:53:50.000+0000)</td><td>Class A</td><td>17</td></tr><tr><td>List(2020-04-12T06:52:20.000+0000, 2020-04-12T06:52:30.000+0000)</td><td>Class A</td><td>19</td></tr><tr><td>List(2020-04-12T07:17:30.000+0000, 2020-04-12T07:17:40.000+0000)</td><td>Class A</td><td>1</td></tr><tr><td>List(2020-04-12T06:59:00.000+0000, 2020-04-12T06:59:10.000+0000)</td><td>Class A</td><td>20</td></tr><tr><td>List(2020-04-12T07:06:40.000+0000, 2020-04-12T07:06:50.000+0000)</td><td>Class A</td><td>26</td></tr><tr><td>List(2020-04-12T06:48:20.000+0000, 2020-04-12T06:48:30.000+0000)</td><td>Class A</td><td>19</td></tr><tr><td>List(2020-04-12T07:07:10.000+0000, 2020-04-12T07:07:20.000+0000)</td><td>Class A</td><td>18</td></tr><tr><td>List(2020-04-12T06:51:50.000+0000, 2020-04-12T06:52:00.000+0000)</td><td>Class A</td><td>23</td></tr><tr><td>List(2020-04-12T06:48:10.000+0000, 2020-04-12T06:48:20.000+0000)</td><td>Class A</td><td>22</td></tr><tr><td>List(2020-04-12T07:14:30.000+0000, 2020-04-12T07:14:40.000+0000)</td><td>Class A</td><td>23</td></tr><tr><td>List(2020-04-12T06:49:00.000+0000, 2020-04-12T06:49:10.000+0000)</td><td>Class A</td><td>35</td></tr><tr><td>List(2020-04-12T07:13:50.000+0000, 2020-04-12T07:14:00.000+0000)</td><td>Class A</td><td>16</td></tr><tr><td>List(2020-04-12T06:51:20.000+0000, 2020-04-12T06:51:30.000+0000)</td><td>Class A</td><td>16</td></tr><tr><td>List(2020-04-12T07:05:50.000+0000, 2020-04-12T07:06:00.000+0000)</td><td>Class A</td><td>20</td></tr><tr><td>List(2020-04-12T07:04:50.000+0000, 2020-04-12T07:05:00.000+0000)</td><td>Class A</td><td>14</td></tr><tr><td>List(2020-04-12T07:15:50.000+0000, 2020-04-12T07:16:00.000+0000)</td><td>Class A</td><td>17</td></tr><tr><td>List(2020-04-12T06:55:20.000+0000, 2020-04-12T06:55:30.000+0000)</td><td>Class A</td><td>21</td></tr><tr><td>List(2020-04-12T07:11:30.000+0000, 2020-04-12T07:11:40.000+0000)</td><td>Class A</td><td>19</td></tr><tr><td>List(2020-04-12T07:04:10.000+0000, 2020-04-12T07:04:20.000+0000)</td><td>Class A</td><td>11</td></tr><tr><td>List(2020-04-12T06:49:40.000+0000, 2020-04-12T06:49:50.000+0000)</td><td>Class A</td><td>23</td></tr><tr><td>List(2020-04-12T06:59:20.000+0000, 2020-04-12T06:59:30.000+0000)</td><td>Class A</td><td>31</td></tr><tr><td>List(2020-04-12T07:03:50.000+0000, 2020-04-12T07:04:00.000+0000)</td><td>Class A</td><td>21</td></tr><tr><td>List(2020-04-12T06:51:40.000+0000, 2020-04-12T06:51:50.000+0000)</td><td>Class A</td><td>22</td></tr><tr><td>List(2020-04-12T06:49:50.000+0000, 2020-04-12T06:50:00.000+0000)</td><td>Class A</td><td>24</td></tr><tr><td>List(2020-04-12T06:58:10.000+0000, 2020-04-12T06:58:20.000+0000)</td><td>Class A</td><td>27</td></tr><tr><td>List(2020-04-12T07:12:10.000+0000, 2020-04-12T07:12:20.000+0000)</td><td>Class A</td><td>19</td></tr><tr><td>List(2020-04-12T07:03:20.000+0000, 2020-04-12T07:03:30.000+0000)</td><td>Class A</td><td>20</td></tr><tr><td>List(2020-04-12T06:55:10.000+0000, 2020-04-12T06:55:20.000+0000)</td><td>Class A</td><td>22</td></tr><tr><td>List(2020-04-12T06:50:10.000+0000, 2020-04-12T06:50:20.000+0000)</td><td>Class A</td><td>19</td></tr><tr><td>List(2020-04-12T06:46:40.000+0000, 2020-04-12T06:46:50.000+0000)</td><td>Class A</td><td>4</td></tr><tr><td>List(2020-04-12T06:54:30.000+0000, 2020-04-12T06:54:40.000+0000)</td><td>Class A</td><td>17</td></tr><tr><td>List(2020-04-12T06:57:30.000+0000, 2020-04-12T06:57:40.000+0000)</td><td>Class A</td><td>19</td></tr><tr><td>List(2020-04-12T07:07:00.000+0000, 2020-04-12T07:07:10.000+0000)</td><td>Class A</td><td>25</td></tr><tr><td>List(2020-04-12T07:08:10.000+0000, 2020-04-12T07:08:20.000+0000)</td><td>Class A</td><td>16</td></tr><tr><td>List(2020-04-12T07:03:00.000+0000, 2020-04-12T07:03:10.000+0000)</td><td>Class A</td><td>17</td></tr><tr><td>List(2020-04-12T07:08:20.000+0000, 2020-04-12T07:08:30.000+0000)</td><td>Class A</td><td>22</td></tr><tr><td>List(2020-04-12T07:10:50.000+0000, 2020-04-12T07:11:00.000+0000)</td><td>Class A</td><td>16</td></tr><tr><td>List(2020-04-12T06:51:00.000+0000, 2020-04-12T06:51:10.000+0000)</td><td>Class A</td><td>19</td></tr><tr><td>List(2020-04-12T07:08:30.000+0000, 2020-04-12T07:08:40.000+0000)</td><td>Class A</td><td>12</td></tr><tr><td>List(2020-04-12T07:13:00.000+0000, 2020-04-12T07:13:10.000+0000)</td><td>Class A</td><td>14</td></tr><tr><td>List(2020-04-12T06:51:30.000+0000, 2020-04-12T06:51:40.000+0000)</td><td>Class A</td><td>22</td></tr><tr><td>List(2020-04-12T06:54:50.000+0000, 2020-04-12T06:55:00.000+0000)</td><td>Class A</td><td>15</td></tr><tr><td>List(2020-04-12T07:04:30.000+0000, 2020-04-12T07:04:40.000+0000)</td><td>Class A</td><td>18</td></tr><tr><td>List(2020-04-12T06:48:40.000+0000, 2020-04-12T06:48:50.000+0000)</td><td>Class A</td><td>14</td></tr><tr><td>List(2020-04-12T07:10:10.000+0000, 2020-04-12T07:10:20.000+0000)</td><td>Class A</td><td>22</td></tr><tr><td>List(2020-04-12T07:00:10.000+0000, 2020-04-12T07:00:20.000+0000)</td><td>Class A</td><td>27</td></tr><tr><td>List(2020-04-12T06:53:30.000+0000, 2020-04-12T06:53:40.000+0000)</td><td>Class A</td><td>18</td></tr><tr><td>List(2020-04-12T07:10:00.000+0000, 2020-04-12T07:10:10.000+0000)</td><td>Class A</td><td>15</td></tr><tr><td>List(2020-04-12T07:17:00.000+0000, 2020-04-12T07:17:10.000+0000)</td><td>Class A</td><td>7</td></tr><tr><td>List(2020-04-12T06:48:30.000+0000, 2020-04-12T06:48:40.000+0000)</td><td>Class A</td><td>17</td></tr><tr><td>List(2020-04-12T07:02:10.000+0000, 2020-04-12T07:02:20.000+0000)</td><td>Class A</td><td>14</td></tr><tr><td>List(2020-04-12T07:01:40.000+0000, 2020-04-12T07:01:50.000+0000)</td><td>Class A</td><td>18</td></tr><tr><td>List(2020-04-12T06:55:00.000+0000, 2020-04-12T06:55:10.000+0000)</td><td>Class A</td><td>14</td></tr><tr><td>List(2020-04-12T07:00:40.000+0000, 2020-04-12T07:00:50.000+0000)</td><td>Class A</td><td>26</td></tr><tr><td>List(2020-04-12T06:58:50.000+0000, 2020-04-12T06:59:00.000+0000)</td><td>Class A</td><td>23</td></tr><tr><td>List(2020-04-12T07:15:40.000+0000, 2020-04-12T07:15:50.000+0000)</td><td>Class A</td><td>20</td></tr><tr><td>List(2020-04-12T07:14:40.000+0000, 2020-04-12T07:14:50.000+0000)</td><td>Class A</td><td>23</td></tr><tr><td>List(2020-04-12T07:14:10.000+0000, 2020-04-12T07:14:20.000+0000)</td><td>Class A</td><td>21</td></tr><tr><td>List(2020-04-12T07:06:00.000+0000, 2020-04-12T07:06:10.000+0000)</td><td>Class A</td><td>31</td></tr><tr><td>List(2020-04-12T07:03:40.000+0000, 2020-04-12T07:03:50.000+0000)</td><td>Class B</td><td>16</td></tr><tr><td>List(2020-04-12T06:58:20.000+0000, 2020-04-12T06:58:30.000+0000)</td><td>Class B</td><td>13</td></tr><tr><td>List(2020-04-12T07:09:50.000+0000, 2020-04-12T07:10:00.000+0000)</td><td>Class B</td><td>23</td></tr><tr><td>List(2020-04-12T06:54:50.000+0000, 2020-04-12T06:55:00.000+0000)</td><td>Class B</td><td>16</td></tr><tr><td>List(2020-04-12T06:58:50.000+0000, 2020-04-12T06:59:00.000+0000)</td><td>Class B</td><td>10</td></tr><tr><td>List(2020-04-12T07:15:30.000+0000, 2020-04-12T07:15:40.000+0000)</td><td>Class B</td><td>21</td></tr><tr><td>List(2020-04-12T07:14:30.000+0000, 2020-04-12T07:14:40.000+0000)</td><td>Class B</td><td>13</td></tr><tr><td>List(2020-04-12T07:09:10.000+0000, 2020-04-12T07:09:20.000+0000)</td><td>Class B</td><td>13</td></tr><tr><td>List(2020-04-12T06:59:40.000+0000, 2020-04-12T06:59:50.000+0000)</td><td>Class B</td><td>7</td></tr><tr><td>List(2020-04-12T07:13:50.000+0000, 2020-04-12T07:14:00.000+0000)</td><td>Class B</td><td>12</td></tr><tr><td>List(2020-04-12T07:17:20.000+0000, 2020-04-12T07:17:30.000+0000)</td><td>Class B</td><td>4</td></tr><tr><td>List(2020-04-12T06:57:50.000+0000, 2020-04-12T06:58:00.000+0000)</td><td>Class B</td><td>13</td></tr><tr><td>List(2020-04-12T07:12:50.000+0000, 2020-04-12T07:13:00.000+0000)</td><td>Class B</td><td>23</td></tr><tr><td>List(2020-04-12T06:50:10.000+0000, 2020-04-12T06:50:20.000+0000)</td><td>Class B</td><td>17</td></tr><tr><td>List(2020-04-12T06:51:10.000+0000, 2020-04-12T06:51:20.000+0000)</td><td>Class B</td><td>17</td></tr><tr><td>List(2020-04-12T07:12:30.000+0000, 2020-04-12T07:12:40.000+0000)</td><td>Class B</td><td>14</td></tr><tr><td>List(2020-04-12T07:08:00.000+0000, 2020-04-12T07:08:10.000+0000)</td><td>Class B</td><td>10</td></tr><tr><td>List(2020-04-12T07:00:20.000+0000, 2020-04-12T07:00:30.000+0000)</td><td>Class B</td><td>11</td></tr><tr><td>List(2020-04-12T07:00:40.000+0000, 2020-04-12T07:00:50.000+0000)</td><td>Class B</td><td>8</td></tr><tr><td>List(2020-04-12T07:14:10.000+0000, 2020-04-12T07:14:20.000+0000)</td><td>Class B</td><td>15</td></tr><tr><td>List(2020-04-12T07:00:30.000+0000, 2020-04-12T07:00:40.000+0000)</td><td>Class B</td><td>11</td></tr><tr><td>List(2020-04-12T07:03:10.000+0000, 2020-04-12T07:03:20.000+0000)</td><td>Class B</td><td>9</td></tr><tr><td>List(2020-04-12T07:07:50.000+0000, 2020-04-12T07:08:00.000+0000)</td><td>Class B</td><td>12</td></tr><tr><td>List(2020-04-12T07:03:20.000+0000, 2020-04-12T07:03:30.000+0000)</td><td>Class B</td><td>15</td></tr><tr><td>List(2020-04-12T07:01:50.000+0000, 2020-04-12T07:02:00.000+0000)</td><td>Class B</td><td>12</td></tr><tr><td>List(2020-04-12T07:16:20.000+0000, 2020-04-12T07:16:30.000+0000)</td><td>Class B</td><td>7</td></tr><tr><td>List(2020-04-12T06:46:30.000+0000, 2020-04-12T06:46:40.000+0000)</td><td>Class B</td><td>1</td></tr><tr><td>List(2020-04-12T07:11:50.000+0000, 2020-04-12T07:12:00.000+0000)</td><td>Class B</td><td>18</td></tr><tr><td>List(2020-04-12T07:16:50.000+0000, 2020-04-12T07:17:00.000+0000)</td><td>Class B</td><td>4</td></tr><tr><td>List(2020-04-12T07:03:50.000+0000, 2020-04-12T07:04:00.000+0000)</td><td>Class B</td><td>17</td></tr><tr><td>List(2020-04-12T07:15:50.000+0000, 2020-04-12T07:16:00.000+0000)</td><td>Class B</td><td>16</td></tr><tr><td>List(2020-04-12T06:57:20.000+0000, 2020-04-12T06:57:30.000+0000)</td><td>Class B</td><td>15</td></tr><tr><td>List(2020-04-12T07:03:30.000+0000, 2020-04-12T07:03:40.000+0000)</td><td>Class B</td><td>20</td></tr><tr><td>List(2020-04-12T06:47:30.000+0000, 2020-04-12T06:47:40.000+0000)</td><td>Class B</td><td>3</td></tr><tr><td>List(2020-04-12T07:05:50.000+0000, 2020-04-12T07:06:00.000+0000)</td><td>Class B</td><td>25</td></tr><tr><td>List(2020-04-12T06:49:50.000+0000, 2020-04-12T06:50:00.000+0000)</td><td>Class B</td><td>26</td></tr><tr><td>List(2020-04-12T06:49:00.000+0000, 2020-04-12T06:49:10.000+0000)</td><td>Class B</td><td>16</td></tr><tr><td>List(2020-04-12T06:58:00.000+0000, 2020-04-12T06:58:10.000+0000)</td><td>Class B</td><td>15</td></tr><tr><td>List(2020-04-12T07:11:30.000+0000, 2020-04-12T07:11:40.000+0000)</td><td>Class B</td><td>18</td></tr><tr><td>List(2020-04-12T06:58:40.000+0000, 2020-04-12T06:58:50.000+0000)</td><td>Class B</td><td>23</td></tr><tr><td>List(2020-04-12T07:10:50.000+0000, 2020-04-12T07:11:00.000+0000)</td><td>Class B</td><td>7</td></tr><tr><td>List(2020-04-12T06:53:30.000+0000, 2020-04-12T06:53:40.000+0000)</td><td>Class B</td><td>11</td></tr><tr><td>List(2020-04-12T07:07:00.000+0000, 2020-04-12T07:07:10.000+0000)</td><td>Class B</td><td>8</td></tr><tr><td>List(2020-04-12T07:14:20.000+0000, 2020-04-12T07:14:30.000+0000)</td><td>Class B</td><td>12</td></tr><tr><td>List(2020-04-12T07:01:40.000+0000, 2020-04-12T07:01:50.000+0000)</td><td>Class B</td><td>11</td></tr><tr><td>List(2020-04-12T07:04:10.000+0000, 2020-04-12T07:04:20.000+0000)</td><td>Class B</td><td>12</td></tr><tr><td>List(2020-04-12T07:11:10.000+0000, 2020-04-12T07:11:20.000+0000)</td><td>Class B</td><td>20</td></tr><tr><td>List(2020-04-12T06:55:10.000+0000, 2020-04-12T06:55:20.000+0000)</td><td>Class B</td><td>11</td></tr><tr><td>List(2020-04-12T06:48:00.000+0000, 2020-04-12T06:48:10.000+0000)</td><td>Class B</td><td>10</td></tr><tr><td>List(2020-04-12T06:47:40.000+0000, 2020-04-12T06:47:50.000+0000)</td><td>Class B</td><td>8</td></tr><tr><td>List(2020-04-12T07:00:50.000+0000, 2020-04-12T07:01:00.000+0000)</td><td>Class B</td><td>15</td></tr><tr><td>List(2020-04-12T07:05:30.000+0000, 2020-04-12T07:05:40.000+0000)</td><td>Class B</td><td>13</td></tr><tr><td>List(2020-04-12T07:14:40.000+0000, 2020-04-12T07:14:50.000+0000)</td><td>Class B</td><td>16</td></tr><tr><td>List(2020-04-12T07:13:00.000+0000, 2020-04-12T07:13:10.000+0000)</td><td>Class B</td><td>10</td></tr><tr><td>List(2020-04-12T07:00:10.000+0000, 2020-04-12T07:00:20.000+0000)</td><td>Class B</td><td>16</td></tr><tr><td>List(2020-04-12T06:54:30.000+0000, 2020-04-12T06:54:40.000+0000)</td><td>Class B</td><td>15</td></tr><tr><td>List(2020-04-12T07:10:10.000+0000, 2020-04-12T07:10:20.000+0000)</td><td>Class B</td><td>17</td></tr><tr><td>List(2020-04-12T07:04:50.000+0000, 2020-04-12T07:05:00.000+0000)</td><td>Class B</td><td>17</td></tr><tr><td>List(2020-04-12T06:50:50.000+0000, 2020-04-12T06:51:00.000+0000)</td><td>Class B</td><td>21</td></tr><tr><td>List(2020-04-12T06:55:00.000+0000, 2020-04-12T06:55:10.000+0000)</td><td>Class B</td><td>15</td></tr><tr><td>List(2020-04-12T07:09:40.000+0000, 2020-04-12T07:09:50.000+0000)</td><td>Class B</td><td>18</td></tr><tr><td>List(2020-04-12T07:02:00.000+0000, 2020-04-12T07:02:10.000+0000)</td><td>Class B</td><td>7</td></tr><tr><td>List(2020-04-12T06:59:10.000+0000, 2020-04-12T06:59:20.000+0000)</td><td>Class B</td><td>8</td></tr><tr><td>List(2020-04-12T07:15:00.000+0000, 2020-04-12T07:15:10.000+0000)</td><td>Class B</td><td>14</td></tr><tr><td>List(2020-04-12T07:13:10.000+0000, 2020-04-12T07:13:20.000+0000)</td><td>Class B</td><td>19</td></tr><tr><td>List(2020-04-12T07:08:10.000+0000, 2020-04-12T07:08:20.000+0000)</td><td>Class B</td><td>11</td></tr><tr><td>List(2020-04-12T07:16:10.000+0000, 2020-04-12T07:16:20.000+0000)</td><td>Class B</td><td>8</td></tr><tr><td>List(2020-04-12T07:13:20.000+0000, 2020-04-12T07:13:30.000+0000)</td><td>Class B</td><td>15</td></tr><tr><td>List(2020-04-12T06:52:30.000+0000, 2020-04-12T06:52:40.000+0000)</td><td>Class B</td><td>16</td></tr><tr><td>List(2020-04-12T07:04:40.000+0000, 2020-04-12T07:04:50.000+0000)</td><td>Class B</td><td>13</td></tr><tr><td>List(2020-04-12T06:54:20.000+0000, 2020-04-12T06:54:30.000+0000)</td><td>Class B</td><td>10</td></tr><tr><td>List(2020-04-12T07:05:10.000+0000, 2020-04-12T07:05:20.000+0000)</td><td>Class B</td><td>13</td></tr><tr><td>List(2020-04-12T06:56:10.000+0000, 2020-04-12T06:56:20.000+0000)</td><td>Class B</td><td>11</td></tr><tr><td>List(2020-04-12T06:59:50.000+0000, 2020-04-12T07:00:00.000+0000)</td><td>Class B</td><td>11</td></tr><tr><td>List(2020-04-12T07:02:40.000+0000, 2020-04-12T07:02:50.000+0000)</td><td>Class B</td><td>14</td></tr><tr><td>List(2020-04-12T06:52:40.000+0000, 2020-04-12T06:52:50.000+0000)</td><td>Class B</td><td>17</td></tr><tr><td>List(2020-04-12T06:52:20.000+0000, 2020-04-12T06:52:30.000+0000)</td><td>Class B</td><td>19</td></tr><tr><td>List(2020-04-12T06:49:30.000+0000, 2020-04-12T06:49:40.000+0000)</td><td>Class B</td><td>20</td></tr><tr><td>List(2020-04-12T06:59:00.000+0000, 2020-04-12T06:59:10.000+0000)</td><td>Class B</td><td>11</td></tr><tr><td>List(2020-04-12T07:13:40.000+0000, 2020-04-12T07:13:50.000+0000)</td><td>Class B</td><td>12</td></tr><tr><td>List(2020-04-12T06:55:20.000+0000, 2020-04-12T06:55:30.000+0000)</td><td>Class B</td><td>15</td></tr><tr><td>List(2020-04-12T07:09:00.000+0000, 2020-04-12T07:09:10.000+0000)</td><td>Class B</td><td>14</td></tr><tr><td>List(2020-04-12T06:53:00.000+0000, 2020-04-12T06:53:10.000+0000)</td><td>Class B</td><td>12</td></tr><tr><td>List(2020-04-12T07:06:10.000+0000, 2020-04-12T07:06:20.000+0000)</td><td>Class B</td><td>14</td></tr><tr><td>List(2020-04-12T07:16:40.000+0000, 2020-04-12T07:16:50.000+0000)</td><td>Class B</td><td>5</td></tr><tr><td>List(2020-04-12T06:56:30.000+0000, 2020-04-12T06:56:40.000+0000)</td><td>Class B</td><td>15</td></tr><tr><td>List(2020-04-12T07:05:00.000+0000, 2020-04-12T07:05:10.000+0000)</td><td>Class B</td><td>6</td></tr><tr><td>List(2020-04-12T06:59:20.000+0000, 2020-04-12T06:59:30.000+0000)</td><td>Class B</td><td>13</td></tr><tr><td>List(2020-04-12T06:54:40.000+0000, 2020-04-12T06:54:50.000+0000)</td><td>Class B</td><td>9</td></tr><tr><td>List(2020-04-12T06:50:20.000+0000, 2020-04-12T06:50:30.000+0000)</td><td>Class B</td><td>17</td></tr><tr><td>List(2020-04-12T07:06:50.000+0000, 2020-04-12T07:07:00.000+0000)</td><td>Class B</td><td>19</td></tr><tr><td>List(2020-04-12T07:15:10.000+0000, 2020-04-12T07:15:20.000+0000)</td><td>Class B</td><td>10</td></tr><tr><td>List(2020-04-12T07:06:00.000+0000, 2020-04-12T07:06:10.000+0000)</td><td>Class B</td><td>17</td></tr><tr><td>List(2020-04-12T07:10:20.000+0000, 2020-04-12T07:10:30.000+0000)</td><td>Class B</td><td>9</td></tr><tr><td>List(2020-04-12T07:14:00.000+0000, 2020-04-12T07:14:10.000+0000)</td><td>Class B</td><td>14</td></tr><tr><td>List(2020-04-12T06:53:40.000+0000, 2020-04-12T06:53:50.000+0000)</td><td>Class B</td><td>26</td></tr><tr><td>List(2020-04-12T06:55:40.000+0000, 2020-04-12T06:55:50.000+0000)</td><td>Class B</td><td>15</td></tr><tr><td>List(2020-04-12T07:07:20.000+0000, 2020-04-12T07:07:30.000+0000)</td><td>Class B</td><td>7</td></tr><tr><td>List(2020-04-12T07:15:40.000+0000, 2020-04-12T07:15:50.000+0000)</td><td>Class B</td><td>25</td></tr><tr><td>List(2020-04-12T07:05:40.000+0000, 2020-04-12T07:05:50.000+0000)</td><td>Class B</td><td>23</td></tr><tr><td>List(2020-04-12T07:09:20.000+0000, 2020-04-12T07:09:30.000+0000)</td><td>Class B</td><td>17</td></tr><tr><td>List(2020-04-12T06:51:20.000+0000, 2020-04-12T06:51:30.000+0000)</td><td>Class B</td><td>13</td></tr><tr><td>List(2020-04-12T06:54:10.000+0000, 2020-04-12T06:54:20.000+0000)</td><td>Class B</td><td>10</td></tr><tr><td>List(2020-04-12T06:47:50.000+0000, 2020-04-12T06:48:00.000+0000)</td><td>Class B</td><td>10</td></tr><tr><td>List(2020-04-12T07:08:40.000+0000, 2020-04-12T07:08:50.000+0000)</td><td>Class B</td><td>14</td></tr><tr><td>List(2020-04-12T06:48:30.000+0000, 2020-04-12T06:48:40.000+0000)</td><td>Class B</td><td>10</td></tr><tr><td>List(2020-04-12T06:57:30.000+0000, 2020-04-12T06:57:40.000+0000)</td><td>Class B</td><td>8</td></tr><tr><td>List(2020-04-12T07:10:00.000+0000, 2020-04-12T07:10:10.000+0000)</td><td>Class B</td><td>13</td></tr><tr><td>List(2020-04-12T06:59:30.000+0000, 2020-04-12T06:59:40.000+0000)</td><td>Class B</td><td>15</td></tr><tr><td>List(2020-04-12T06:49:10.000+0000, 2020-04-12T06:49:20.000+0000)</td><td>Class B</td><td>13</td></tr><tr><td>List(2020-04-12T06:55:50.000+0000, 2020-04-12T06:56:00.000+0000)</td><td>Class B</td><td>9</td></tr><tr><td>List(2020-04-12T06:48:10.000+0000, 2020-04-12T06:48:20.000+0000)</td><td>Class B</td><td>12</td></tr><tr><td>List(2020-04-12T06:51:50.000+0000, 2020-04-12T06:52:00.000+0000)</td><td>Class B</td><td>16</td></tr><tr><td>List(2020-04-12T06:50:40.000+0000, 2020-04-12T06:50:50.000+0000)</td><td>Class B</td><td>17</td></tr><tr><td>List(2020-04-12T06:49:20.000+0000, 2020-04-12T06:49:30.000+0000)</td><td>Class B</td><td>15</td></tr><tr><td>List(2020-04-12T07:10:30.000+0000, 2020-04-12T07:10:40.000+0000)</td><td>Class B</td><td>11</td></tr><tr><td>List(2020-04-12T07:12:40.000+0000, 2020-04-12T07:12:50.000+0000)</td><td>Class B</td><td>13</td></tr><tr><td>List(2020-04-12T07:06:30.000+0000, 2020-04-12T07:06:40.000+0000)</td><td>Class B</td><td>15</td></tr><tr><td>List(2020-04-12T06:54:00.000+0000, 2020-04-12T06:54:10.000+0000)</td><td>Class B</td><td>13</td></tr><tr><td>List(2020-04-12T07:00:00.000+0000, 2020-04-12T07:00:10.000+0000)</td><td>Class B</td><td>13</td></tr><tr><td>List(2020-04-12T06:50:30.000+0000, 2020-04-12T06:50:40.000+0000)</td><td>Class B</td><td>11</td></tr><tr><td>List(2020-04-12T07:11:40.000+0000, 2020-04-12T07:11:50.000+0000)</td><td>Class B</td><td>9</td></tr><tr><td>List(2020-04-12T07:02:50.000+0000, 2020-04-12T07:03:00.000+0000)</td><td>Class B</td><td>12</td></tr><tr><td>List(2020-04-12T07:01:00.000+0000, 2020-04-12T07:01:10.000+0000)</td><td>Class B</td><td>12</td></tr><tr><td>List(2020-04-12T06:52:10.000+0000, 2020-04-12T06:52:20.000+0000)</td><td>Class B</td><td>14</td></tr><tr><td>List(2020-04-12T06:49:40.000+0000, 2020-04-12T06:49:50.000+0000)</td><td>Class B</td><td>14</td></tr><tr><td>List(2020-04-12T07:07:30.000+0000, 2020-04-12T07:07:40.000+0000)</td><td>Class B</td><td>9</td></tr><tr><td>List(2020-04-12T06:57:00.000+0000, 2020-04-12T06:57:10.000+0000)</td><td>Class B</td><td>21</td></tr><tr><td>List(2020-04-12T06:52:50.000+0000, 2020-04-12T06:53:00.000+0000)</td><td>Class B</td><td>19</td></tr><tr><td>List(2020-04-12T06:47:10.000+0000, 2020-04-12T06:47:20.000+0000)</td><td>Class B</td><td>3</td></tr><tr><td>List(2020-04-12T07:05:20.000+0000, 2020-04-12T07:05:30.000+0000)</td><td>Class B</td><td>17</td></tr><tr><td>List(2020-04-12T07:15:20.000+0000, 2020-04-12T07:15:30.000+0000)</td><td>Class B</td><td>22</td></tr><tr><td>List(2020-04-12T07:07:40.000+0000, 2020-04-12T07:07:50.000+0000)</td><td>Class B</td><td>13</td></tr><tr><td>List(2020-04-12T07:08:50.000+0000, 2020-04-12T07:09:00.000+0000)</td><td>Class B</td><td>17</td></tr><tr><td>List(2020-04-12T07:01:20.000+0000, 2020-04-12T07:01:30.000+0000)</td><td>Class B</td><td>13</td></tr><tr><td>List(2020-04-12T07:17:00.000+0000, 2020-04-12T07:17:10.000+0000)</td><td>Class B</td><td>6</td></tr><tr><td>List(2020-04-12T07:12:10.000+0000, 2020-04-12T07:12:20.000+0000)</td><td>Class B</td><td>10</td></tr><tr><td>List(2020-04-12T06:47:00.000+0000, 2020-04-12T06:47:10.000+0000)</td><td>Class B</td><td>2</td></tr><tr><td>List(2020-04-12T06:57:10.000+0000, 2020-04-12T06:57:20.000+0000)</td><td>Class B</td><td>14</td></tr><tr><td>List(2020-04-12T06:50:00.000+0000, 2020-04-12T06:50:10.000+0000)</td><td>Class B</td><td>9</td></tr><tr><td>List(2020-04-12T07:06:20.000+0000, 2020-04-12T07:06:30.000+0000)</td><td>Class B</td><td>18</td></tr><tr><td>List(2020-04-12T06:47:20.000+0000, 2020-04-12T06:47:30.000+0000)</td><td>Class B</td><td>2</td></tr><tr><td>List(2020-04-12T06:56:00.000+0000, 2020-04-12T06:56:10.000+0000)</td><td>Class B</td><td>15</td></tr><tr><td>List(2020-04-12T06:51:40.000+0000, 2020-04-12T06:51:50.000+0000)</td><td>Class B</td><td>9</td></tr><tr><td>List(2020-04-12T07:04:00.000+0000, 2020-04-12T07:04:10.000+0000)</td><td>Class B</td><td>13</td></tr><tr><td>List(2020-04-12T07:17:30.000+0000, 2020-04-12T07:17:40.000+0000)</td><td>Class B</td><td>2</td></tr><tr><td>List(2020-04-12T07:02:20.000+0000, 2020-04-12T07:02:30.000+0000)</td><td>Class B</td><td>14</td></tr><tr><td>List(2020-04-12T07:12:20.000+0000, 2020-04-12T07:12:30.000+0000)</td><td>Class B</td><td>10</td></tr><tr><td>List(2020-04-12T06:52:00.000+0000, 2020-04-12T06:52:10.000+0000)</td><td>Class B</td><td>17</td></tr><tr><td>List(2020-04-12T07:10:40.000+0000, 2020-04-12T07:10:50.000+0000)</td><td>Class B</td><td>10</td></tr><tr><td>List(2020-04-12T06:46:40.000+0000, 2020-04-12T06:46:50.000+0000)</td><td>Class B</td><td>2</td></tr><tr><td>List(2020-04-12T06:48:50.000+0000, 2020-04-12T06:49:00.000+0000)</td><td>Class B</td><td>15</td></tr><tr><td>List(2020-04-12T07:01:10.000+0000, 2020-04-12T07:01:20.000+0000)</td><td>Class B</td><td>10</td></tr><tr><td>List(2020-04-12T06:53:10.000+0000, 2020-04-12T06:53:20.000+0000)</td><td>Class B</td><td>14</td></tr><tr><td>List(2020-04-12T07:04:20.000+0000, 2020-04-12T07:04:30.000+0000)</td><td>Class B</td><td>14</td></tr><tr><td>List(2020-04-12T06:51:00.000+0000, 2020-04-12T06:51:10.000+0000)</td><td>Class B</td><td>14</td></tr><tr><td>List(2020-04-12T07:16:30.000+0000, 2020-04-12T07:16:40.000+0000)</td><td>Class B</td><td>7</td></tr><tr><td>List(2020-04-12T06:56:40.000+0000, 2020-04-12T06:56:50.000+0000)</td><td>Class B</td><td>11</td></tr><tr><td>List(2020-04-12T07:08:30.000+0000, 2020-04-12T07:08:40.000+0000)</td><td>Class B</td><td>13</td></tr><tr><td>List(2020-04-12T07:04:30.000+0000, 2020-04-12T07:04:40.000+0000)</td><td>Class B</td><td>12</td></tr><tr><td>List(2020-04-12T07:03:00.000+0000, 2020-04-12T07:03:10.000+0000)</td><td>Class B</td><td>11</td></tr><tr><td>List(2020-04-12T07:13:30.000+0000, 2020-04-12T07:13:40.000+0000)</td><td>Class B</td><td>11</td></tr><tr><td>List(2020-04-12T06:48:40.000+0000, 2020-04-12T06:48:50.000+0000)</td><td>Class B</td><td>19</td></tr><tr><td>List(2020-04-12T06:58:10.000+0000, 2020-04-12T06:58:20.000+0000)</td><td>Class B</td><td>14</td></tr><tr><td>List(2020-04-12T07:12:00.000+0000, 2020-04-12T07:12:10.000+0000)</td><td>Class B</td><td>22</td></tr><tr><td>List(2020-04-12T07:11:20.000+0000, 2020-04-12T07:11:30.000+0000)</td><td>Class B</td><td>13</td></tr><tr><td>List(2020-04-12T07:09:30.000+0000, 2020-04-12T07:09:40.000+0000)</td><td>Class B</td><td>17</td></tr><tr><td>List(2020-04-12T07:17:10.000+0000, 2020-04-12T07:17:20.000+0000)</td><td>Class B</td><td>2</td></tr><tr><td>List(2020-04-12T07:16:00.000+0000, 2020-04-12T07:16:10.000+0000)</td><td>Class B</td><td>15</td></tr><tr><td>List(2020-04-12T07:01:30.000+0000, 2020-04-12T07:01:40.000+0000)</td><td>Class B</td><td>19</td></tr><tr><td>List(2020-04-12T06:53:50.000+0000, 2020-04-12T06:54:00.000+0000)</td><td>Class B</td><td>19</td></tr><tr><td>List(2020-04-12T07:08:20.000+0000, 2020-04-12T07:08:30.000+0000)</td><td>Class B</td><td>13</td></tr><tr><td>List(2020-04-12T06:58:30.000+0000, 2020-04-12T06:58:40.000+0000)</td><td>Class B</td><td>12</td></tr><tr><td>List(2020-04-12T06:56:20.000+0000, 2020-04-12T06:56:30.000+0000)</td><td>Class B</td><td>15</td></tr><tr><td>List(2020-04-12T06:55:30.000+0000, 2020-04-12T06:55:40.000+0000)</td><td>Class B</td><td>10</td></tr><tr><td>List(2020-04-12T06:46:50.000+0000, 2020-04-12T06:47:00.000+0000)</td><td>Class B</td><td>4</td></tr><tr><td>List(2020-04-12T07:14:50.000+0000, 2020-04-12T07:15:00.000+0000)</td><td>Class B</td><td>7</td></tr><tr><td>List(2020-04-12T07:02:10.000+0000, 2020-04-12T07:02:20.000+0000)</td><td>Class B</td><td>12</td></tr><tr><td>List(2020-04-12T07:07:10.000+0000, 2020-04-12T07:07:20.000+0000)</td><td>Class B</td><td>10</td></tr><tr><td>List(2020-04-12T06:56:50.000+0000, 2020-04-12T06:57:00.000+0000)</td><td>Class B</td><td>23</td></tr><tr><td>List(2020-04-12T06:57:40.000+0000, 2020-04-12T06:57:50.000+0000)</td><td>Class B</td><td>9</td></tr><tr><td>List(2020-04-12T06:53:20.000+0000, 2020-04-12T06:53:30.000+0000)</td><td>Class B</td><td>11</td></tr><tr><td>List(2020-04-12T07:02:30.000+0000, 2020-04-12T07:02:40.000+0000)</td><td>Class B</td><td>23</td></tr><tr><td>List(2020-04-12T07:11:00.000+0000, 2020-04-12T07:11:10.000+0000)</td><td>Class B</td><td>14</td></tr><tr><td>List(2020-04-12T07:06:40.000+0000, 2020-04-12T07:06:50.000+0000)</td><td>Class B</td><td>16</td></tr><tr><td>List(2020-04-12T06:48:20.000+0000, 2020-04-12T06:48:30.000+0000)</td><td>Class B</td><td>13</td></tr><tr><td>List(2020-04-12T06:51:30.000+0000, 2020-04-12T06:51:40.000+0000)</td><td>Class B</td><td>14</td></tr><tr><td>List(2020-04-12T07:06:50.000+0000, 2020-04-12T07:07:00.000+0000)</td><td>Class C</td><td>8</td></tr><tr><td>List(2020-04-12T07:05:50.000+0000, 2020-04-12T07:06:00.000+0000)</td><td>Class C</td><td>15</td></tr><tr><td>List(2020-04-12T06:50:50.000+0000, 2020-04-12T06:51:00.000+0000)</td><td>Class C</td><td>18</td></tr><tr><td>List(2020-04-12T06:58:50.000+0000, 2020-04-12T06:59:00.000+0000)</td><td>Class C</td><td>12</td></tr><tr><td>List(2020-04-12T07:09:00.000+0000, 2020-04-12T07:09:10.000+0000)</td><td>Class C</td><td>10</td></tr><tr><td>List(2020-04-12T07:00:30.000+0000, 2020-04-12T07:00:40.000+0000)</td><td>Class C</td><td>15</td></tr><tr><td>List(2020-04-12T06:47:20.000+0000, 2020-04-12T06:47:30.000+0000)</td><td>Class C</td><td>4</td></tr><tr><td>List(2020-04-12T07:00:40.000+0000, 2020-04-12T07:00:50.000+0000)</td><td>Class C</td><td>15</td></tr><tr><td>List(2020-04-12T07:00:20.000+0000, 2020-04-12T07:00:30.000+0000)</td><td>Class C</td><td>14</td></tr><tr><td>List(2020-04-12T06:51:30.000+0000, 2020-04-12T06:51:40.000+0000)</td><td>Class C</td><td>4</td></tr><tr><td>List(2020-04-12T07:06:10.000+0000, 2020-04-12T07:06:20.000+0000)</td><td>Class C</td><td>15</td></tr><tr><td>List(2020-04-12T07:05:20.000+0000, 2020-04-12T07:05:30.000+0000)</td><td>Class C</td><td>10</td></tr><tr><td>List(2020-04-12T07:03:00.000+0000, 2020-04-12T07:03:10.000+0000)</td><td>Class C</td><td>17</td></tr><tr><td>List(2020-04-12T07:16:00.000+0000, 2020-04-12T07:16:10.000+0000)</td><td>Class C</td><td>10</td></tr><tr><td>List(2020-04-12T07:00:00.000+0000, 2020-04-12T07:00:10.000+0000)</td><td>Class C</td><td>11</td></tr><tr><td>List(2020-04-12T06:50:20.000+0000, 2020-04-12T06:50:30.000+0000)</td><td>Class C</td><td>12</td></tr><tr><td>List(2020-04-12T07:04:50.000+0000, 2020-04-12T07:05:00.000+0000)</td><td>Class C</td><td>13</td></tr><tr><td>List(2020-04-12T06:57:50.000+0000, 2020-04-12T06:58:00.000+0000)</td><td>Class C</td><td>11</td></tr><tr><td>List(2020-04-12T06:54:30.000+0000, 2020-04-12T06:54:40.000+0000)</td><td>Class C</td><td>17</td></tr><tr><td>List(2020-04-12T06:56:30.000+0000, 2020-04-12T06:56:40.000+0000)</td><td>Class C</td><td>18</td></tr><tr><td>List(2020-04-12T07:14:40.000+0000, 2020-04-12T07:14:50.000+0000)</td><td>Class C</td><td>17</td></tr><tr><td>List(2020-04-12T06:58:00.000+0000, 2020-04-12T06:58:10.000+0000)</td><td>Class C</td><td>13</td></tr><tr><td>List(2020-04-12T06:52:50.000+0000, 2020-04-12T06:53:00.000+0000)</td><td>Class C</td><td>13</td></tr><tr><td>List(2020-04-12T06:52:20.000+0000, 2020-04-12T06:52:30.000+0000)</td><td>Class C</td><td>10</td></tr><tr><td>List(2020-04-12T06:52:00.000+0000, 2020-04-12T06:52:10.000+0000)</td><td>Class C</td><td>17</td></tr><tr><td>List(2020-04-12T06:57:00.000+0000, 2020-04-12T06:57:10.000+0000)</td><td>Class C</td><td>14</td></tr><tr><td>List(2020-04-12T07:04:00.000+0000, 2020-04-12T07:04:10.000+0000)</td><td>Class C</td><td>14</td></tr><tr><td>List(2020-04-12T06:50:00.000+0000, 2020-04-12T06:50:10.000+0000)</td><td>Class C</td><td>21</td></tr><tr><td>List(2020-04-12T07:03:40.000+0000, 2020-04-12T07:03:50.000+0000)</td><td>Class C</td><td>10</td></tr><tr><td>List(2020-04-12T06:58:20.000+0000, 2020-04-12T06:58:30.000+0000)</td><td>Class C</td><td>12</td></tr><tr><td>List(2020-04-12T07:08:40.000+0000, 2020-04-12T07:08:50.000+0000)</td><td>Class C</td><td>13</td></tr><tr><td>List(2020-04-12T06:58:30.000+0000, 2020-04-12T06:58:40.000+0000)</td><td>Class C</td><td>13</td></tr><tr><td>List(2020-04-12T07:17:00.000+0000, 2020-04-12T07:17:10.000+0000)</td><td>Class C</td><td>2</td></tr><tr><td>List(2020-04-12T06:54:00.000+0000, 2020-04-12T06:54:10.000+0000)</td><td>Class C</td><td>13</td></tr><tr><td>List(2020-04-12T06:46:40.000+0000, 2020-04-12T06:46:50.000+0000)</td><td>Class C</td><td>1</td></tr><tr><td>List(2020-04-12T07:16:20.000+0000, 2020-04-12T07:16:30.000+0000)</td><td>Class C</td><td>8</td></tr><tr><td>List(2020-04-12T07:07:20.000+0000, 2020-04-12T07:07:30.000+0000)</td><td>Class C</td><td>16</td></tr><tr><td>List(2020-04-12T07:08:20.000+0000, 2020-04-12T07:08:30.000+0000)</td><td>Class C</td><td>10</td></tr><tr><td>List(2020-04-12T07:12:00.000+0000, 2020-04-12T07:12:10.000+0000)</td><td>Class C</td><td>10</td></tr><tr><td>List(2020-04-12T06:53:50.000+0000, 2020-04-12T06:54:00.000+0000)</td><td>Class C</td><td>11</td></tr><tr><td>List(2020-04-12T07:16:10.000+0000, 2020-04-12T07:16:20.000+0000)</td><td>Class C</td><td>14</td></tr><tr><td>List(2020-04-12T07:03:20.000+0000, 2020-04-12T07:03:30.000+0000)</td><td>Class C</td><td>12</td></tr><tr><td>List(2020-04-12T06:56:10.000+0000, 2020-04-12T06:56:20.000+0000)</td><td>Class C</td><td>17</td></tr><tr><td>List(2020-04-12T07:06:00.000+0000, 2020-04-12T07:06:10.000+0000)</td><td>Class C</td><td>20</td></tr><tr><td>List(2020-04-12T06:47:10.000+0000, 2020-04-12T06:47:20.000+0000)</td><td>Class C</td><td>8</td></tr><tr><td>List(2020-04-12T07:06:20.000+0000, 2020-04-12T07:06:30.000+0000)</td><td>Class C</td><td>17</td></tr><tr><td>List(2020-04-12T06:53:20.000+0000, 2020-04-12T06:53:30.000+0000)</td><td>Class C</td><td>18</td></tr><tr><td>List(2020-04-12T06:59:20.000+0000, 2020-04-12T06:59:30.000+0000)</td><td>Class C</td><td>9</td></tr><tr><td>List(2020-04-12T06:47:40.000+0000, 2020-04-12T06:47:50.000+0000)</td><td>Class C</td><td>8</td></tr><tr><td>List(2020-04-12T06:59:30.000+0000, 2020-04-12T06:59:40.000+0000)</td><td>Class C</td><td>15</td></tr><tr><td>List(2020-04-12T07:04:30.000+0000, 2020-04-12T07:04:40.000+0000)</td><td>Class C</td><td>10</td></tr><tr><td>List(2020-04-12T07:13:40.000+0000, 2020-04-12T07:13:50.000+0000)</td><td>Class C</td><td>9</td></tr><tr><td>List(2020-04-12T07:03:30.000+0000, 2020-04-12T07:03:40.000+0000)</td><td>Class C</td><td>14</td></tr><tr><td>List(2020-04-12T07:14:50.000+0000, 2020-04-12T07:15:00.000+0000)</td><td>Class C</td><td>17</td></tr><tr><td>List(2020-04-12T06:59:10.000+0000, 2020-04-12T06:59:20.000+0000)</td><td>Class C</td><td>13</td></tr><tr><td>List(2020-04-12T06:54:20.000+0000, 2020-04-12T06:54:30.000+0000)</td><td>Class C</td><td>9</td></tr><tr><td>List(2020-04-12T07:07:40.000+0000, 2020-04-12T07:07:50.000+0000)</td><td>Class C</td><td>15</td></tr><tr><td>List(2020-04-12T07:07:50.000+0000, 2020-04-12T07:08:00.000+0000)</td><td>Class C</td><td>12</td></tr><tr><td>List(2020-04-12T06:55:50.000+0000, 2020-04-12T06:56:00.000+0000)</td><td>Class C</td><td>15</td></tr><tr><td>List(2020-04-12T07:01:40.000+0000, 2020-04-12T07:01:50.000+0000)</td><td>Class C</td><td>12</td></tr><tr><td>List(2020-04-12T06:48:50.000+0000, 2020-04-12T06:49:00.000+0000)</td><td>Class C</td><td>20</td></tr><tr><td>List(2020-04-12T07:11:50.000+0000, 2020-04-12T07:12:00.000+0000)</td><td>Class C</td><td>20</td></tr><tr><td>List(2020-04-12T06:47:50.000+0000, 2020-04-12T06:48:00.000+0000)</td><td>Class C</td><td>9</td></tr><tr><td>List(2020-04-12T06:48:10.000+0000, 2020-04-12T06:48:20.000+0000)</td><td>Class C</td><td>19</td></tr><tr><td>List(2020-04-12T07:00:10.000+0000, 2020-04-12T07:00:20.000+0000)</td><td>Class C</td><td>17</td></tr><tr><td>List(2020-04-12T07:07:10.000+0000, 2020-04-12T07:07:20.000+0000)</td><td>Class C</td><td>17</td></tr><tr><td>List(2020-04-12T06:55:20.000+0000, 2020-04-12T06:55:30.000+0000)</td><td>Class C</td><td>11</td></tr><tr><td>List(2020-04-12T07:14:10.000+0000, 2020-04-12T07:14:20.000+0000)</td><td>Class C</td><td>13</td></tr><tr><td>List(2020-04-12T07:16:30.000+0000, 2020-04-12T07:16:40.000+0000)</td><td>Class C</td><td>4</td></tr><tr><td>List(2020-04-12T07:11:20.000+0000, 2020-04-12T07:11:30.000+0000)</td><td>Class C</td><td>15</td></tr><tr><td>List(2020-04-12T07:10:50.000+0000, 2020-04-12T07:11:00.000+0000)</td><td>Class C</td><td>17</td></tr><tr><td>List(2020-04-12T07:03:10.000+0000, 2020-04-12T07:03:20.000+0000)</td><td>Class C</td><td>17</td></tr><tr><td>List(2020-04-12T06:55:00.000+0000, 2020-04-12T06:55:10.000+0000)</td><td>Class C</td><td>10</td></tr><tr><td>List(2020-04-12T07:12:30.000+0000, 2020-04-12T07:12:40.000+0000)</td><td>Class C</td><td>9</td></tr><tr><td>List(2020-04-12T07:16:40.000+0000, 2020-04-12T07:16:50.000+0000)</td><td>Class C</td><td>8</td></tr><tr><td>List(2020-04-12T06:59:00.000+0000, 2020-04-12T06:59:10.000+0000)</td><td>Class C</td><td>14</td></tr><tr><td>List(2020-04-12T07:07:00.000+0000, 2020-04-12T07:07:10.000+0000)</td><td>Class C</td><td>17</td></tr><tr><td>List(2020-04-12T07:11:30.000+0000, 2020-04-12T07:11:40.000+0000)</td><td>Class C</td><td>13</td></tr><tr><td>List(2020-04-12T07:05:40.000+0000, 2020-04-12T07:05:50.000+0000)</td><td>Class C</td><td>20</td></tr><tr><td>List(2020-04-12T07:12:10.000+0000, 2020-04-12T07:12:20.000+0000)</td><td>Class C</td><td>11</td></tr><tr><td>List(2020-04-12T06:57:40.000+0000, 2020-04-12T06:57:50.000+0000)</td><td>Class C</td><td>13</td></tr><tr><td>List(2020-04-12T06:49:20.000+0000, 2020-04-12T06:49:30.000+0000)</td><td>Class C</td><td>11</td></tr><tr><td>List(2020-04-12T07:08:50.000+0000, 2020-04-12T07:09:00.000+0000)</td><td>Class C</td><td>17</td></tr><tr><td>List(2020-04-12T07:11:10.000+0000, 2020-04-12T07:11:20.000+0000)</td><td>Class C</td><td>11</td></tr><tr><td>List(2020-04-12T07:14:20.000+0000, 2020-04-12T07:14:30.000+0000)</td><td>Class C</td><td>8</td></tr><tr><td>List(2020-04-12T07:01:10.000+0000, 2020-04-12T07:01:20.000+0000)</td><td>Class C</td><td>20</td></tr><tr><td>List(2020-04-12T06:54:50.000+0000, 2020-04-12T06:55:00.000+0000)</td><td>Class C</td><td>8</td></tr><tr><td>List(2020-04-12T07:17:30.000+0000, 2020-04-12T07:17:40.000+0000)</td><td>Class C</td><td>1</td></tr><tr><td>List(2020-04-12T06:54:10.000+0000, 2020-04-12T06:54:20.000+0000)</td><td>Class C</td><td>11</td></tr><tr><td>List(2020-04-12T07:10:00.000+0000, 2020-04-12T07:10:10.000+0000)</td><td>Class C</td><td>18</td></tr><tr><td>List(2020-04-12T06:49:30.000+0000, 2020-04-12T06:49:40.000+0000)</td><td>Class C</td><td>12</td></tr><tr><td>List(2020-04-12T06:48:30.000+0000, 2020-04-12T06:48:40.000+0000)</td><td>Class C</td><td>16</td></tr><tr><td>List(2020-04-12T07:05:30.000+0000, 2020-04-12T07:05:40.000+0000)</td><td>Class C</td><td>16</td></tr><tr><td>List(2020-04-12T07:09:10.000+0000, 2020-04-12T07:09:20.000+0000)</td><td>Class C</td><td>14</td></tr><tr><td>List(2020-04-12T07:01:20.000+0000, 2020-04-12T07:01:30.000+0000)</td><td>Class C</td><td>14</td></tr><tr><td>List(2020-04-12T07:11:00.000+0000, 2020-04-12T07:11:10.000+0000)</td><td>Class C</td><td>15</td></tr><tr><td>List(2020-04-12T07:12:20.000+0000, 2020-04-12T07:12:30.000+0000)</td><td>Class C</td><td>18</td></tr><tr><td>List(2020-04-12T06:51:40.000+0000, 2020-04-12T06:51:50.000+0000)</td><td>Class C</td><td>12</td></tr><tr><td>List(2020-04-12T06:48:00.000+0000, 2020-04-12T06:48:10.000+0000)</td><td>Class C</td><td>8</td></tr><tr><td>List(2020-04-12T07:13:20.000+0000, 2020-04-12T07:13:30.000+0000)</td><td>Class C</td><td>18</td></tr><tr><td>List(2020-04-12T06:51:10.000+0000, 2020-04-12T06:51:20.000+0000)</td><td>Class C</td><td>14</td></tr><tr><td>List(2020-04-12T07:13:00.000+0000, 2020-04-12T07:13:10.000+0000)</td><td>Class C</td><td>21</td></tr><tr><td>List(2020-04-12T06:49:40.000+0000, 2020-04-12T06:49:50.000+0000)</td><td>Class C</td><td>13</td></tr><tr><td>List(2020-04-12T06:47:00.000+0000, 2020-04-12T06:47:10.000+0000)</td><td>Class C</td><td>5</td></tr><tr><td>List(2020-04-12T06:51:20.000+0000, 2020-04-12T06:51:30.000+0000)</td><td>Class C</td><td>8</td></tr><tr><td>List(2020-04-12T07:13:10.000+0000, 2020-04-12T07:13:20.000+0000)</td><td>Class C</td><td>14</td></tr><tr><td>List(2020-04-12T07:01:30.000+0000, 2020-04-12T07:01:40.000+0000)</td><td>Class C</td><td>20</td></tr><tr><td>List(2020-04-12T07:15:00.000+0000, 2020-04-12T07:15:10.000+0000)</td><td>Class C</td><td>20</td></tr><tr><td>List(2020-04-12T06:50:10.000+0000, 2020-04-12T06:50:20.000+0000)</td><td>Class C</td><td>19</td></tr><tr><td>List(2020-04-12T07:15:40.000+0000, 2020-04-12T07:15:50.000+0000)</td><td>Class C</td><td>14</td></tr><tr><td>List(2020-04-12T06:56:50.000+0000, 2020-04-12T06:57:00.000+0000)</td><td>Class C</td><td>16</td></tr><tr><td>List(2020-04-12T06:53:30.000+0000, 2020-04-12T06:53:40.000+0000)</td><td>Class C</td><td>5</td></tr><tr><td>List(2020-04-12T07:02:30.000+0000, 2020-04-12T07:02:40.000+0000)</td><td>Class C</td><td>11</td></tr><tr><td>List(2020-04-12T07:12:50.000+0000, 2020-04-12T07:13:00.000+0000)</td><td>Class C</td><td>13</td></tr><tr><td>List(2020-04-12T07:04:40.000+0000, 2020-04-12T07:04:50.000+0000)</td><td>Class C</td><td>13</td></tr><tr><td>List(2020-04-12T07:12:40.000+0000, 2020-04-12T07:12:50.000+0000)</td><td>Class C</td><td>13</td></tr><tr><td>List(2020-04-12T07:13:50.000+0000, 2020-04-12T07:14:00.000+0000)</td><td>Class C</td><td>16</td></tr><tr><td>List(2020-04-12T06:50:40.000+0000, 2020-04-12T06:50:50.000+0000)</td><td>Class C</td><td>10</td></tr><tr><td>List(2020-04-12T06:51:00.000+0000, 2020-04-12T06:51:10.000+0000)</td><td>Class C</td><td>11</td></tr><tr><td>List(2020-04-12T07:11:40.000+0000, 2020-04-12T07:11:50.000+0000)</td><td>Class C</td><td>15</td></tr><tr><td>List(2020-04-12T06:48:40.000+0000, 2020-04-12T06:48:50.000+0000)</td><td>Class C</td><td>15</td></tr><tr><td>List(2020-04-12T06:56:40.000+0000, 2020-04-12T06:56:50.000+0000)</td><td>Class C</td><td>20</td></tr><tr><td>List(2020-04-12T07:08:00.000+0000, 2020-04-12T07:08:10.000+0000)</td><td>Class C</td><td>15</td></tr><tr><td>List(2020-04-12T07:09:50.000+0000, 2020-04-12T07:10:00.000+0000)</td><td>Class C</td><td>12</td></tr><tr><td>List(2020-04-12T07:13:30.000+0000, 2020-04-12T07:13:40.000+0000)</td><td>Class C</td><td>17</td></tr><tr><td>List(2020-04-12T07:09:20.000+0000, 2020-04-12T07:09:30.000+0000)</td><td>Class C</td><td>16</td></tr><tr><td>List(2020-04-12T06:54:40.000+0000, 2020-04-12T06:54:50.000+0000)</td><td>Class C</td><td>14</td></tr><tr><td>List(2020-04-12T06:48:20.000+0000, 2020-04-12T06:48:30.000+0000)</td><td>Class C</td><td>17</td></tr><tr><td>List(2020-04-12T07:02:20.000+0000, 2020-04-12T07:02:30.000+0000)</td><td>Class C</td><td>11</td></tr><tr><td>List(2020-04-12T06:56:20.000+0000, 2020-04-12T06:56:30.000+0000)</td><td>Class C</td><td>6</td></tr><tr><td>List(2020-04-12T06:53:00.000+0000, 2020-04-12T06:53:10.000+0000)</td><td>Class C</td><td>11</td></tr><tr><td>List(2020-04-12T07:04:10.000+0000, 2020-04-12T07:04:20.000+0000)</td><td>Class C</td><td>13</td></tr><tr><td>List(2020-04-12T06:58:40.000+0000, 2020-04-12T06:58:50.000+0000)</td><td>Class C</td><td>10</td></tr><tr><td>List(2020-04-12T06:49:10.000+0000, 2020-04-12T06:49:20.000+0000)</td><td>Class C</td><td>24</td></tr><tr><td>List(2020-04-12T07:02:10.000+0000, 2020-04-12T07:02:20.000+0000)</td><td>Class C</td><td>17</td></tr><tr><td>List(2020-04-12T07:06:30.000+0000, 2020-04-12T07:06:40.000+0000)</td><td>Class C</td><td>16</td></tr><tr><td>List(2020-04-12T06:53:10.000+0000, 2020-04-12T06:53:20.000+0000)</td><td>Class C</td><td>12</td></tr><tr><td>List(2020-04-12T07:02:50.000+0000, 2020-04-12T07:03:00.000+0000)</td><td>Class C</td><td>10</td></tr><tr><td>List(2020-04-12T07:16:50.000+0000, 2020-04-12T07:17:00.000+0000)</td><td>Class C</td><td>7</td></tr><tr><td>List(2020-04-12T07:06:40.000+0000, 2020-04-12T07:06:50.000+0000)</td><td>Class C</td><td>15</td></tr><tr><td>List(2020-04-12T06:50:30.000+0000, 2020-04-12T06:50:40.000+0000)</td><td>Class C</td><td>19</td></tr><tr><td>List(2020-04-12T07:15:50.000+0000, 2020-04-12T07:16:00.000+0000)</td><td>Class C</td><td>14</td></tr><tr><td>List(2020-04-12T07:10:10.000+0000, 2020-04-12T07:10:20.000+0000)</td><td>Class C</td><td>14</td></tr><tr><td>List(2020-04-12T07:09:40.000+0000, 2020-04-12T07:09:50.000+0000)</td><td>Class C</td><td>12</td></tr><tr><td>List(2020-04-12T06:55:10.000+0000, 2020-04-12T06:55:20.000+0000)</td><td>Class C</td><td>9</td></tr><tr><td>List(2020-04-12T07:09:30.000+0000, 2020-04-12T07:09:40.000+0000)</td><td>Class C</td><td>15</td></tr><tr><td>List(2020-04-12T07:03:50.000+0000, 2020-04-12T07:04:00.000+0000)</td><td>Class C</td><td>15</td></tr><tr><td>List(2020-04-12T06:51:50.000+0000, 2020-04-12T06:52:00.000+0000)</td><td>Class C</td><td>11</td></tr><tr><td>List(2020-04-12T07:15:10.000+0000, 2020-04-12T07:15:20.000+0000)</td><td>Class C</td><td>13</td></tr><tr><td>List(2020-04-12T07:07:30.000+0000, 2020-04-12T07:07:40.000+0000)</td><td>Class C</td><td>9</td></tr><tr><td>List(2020-04-12T06:52:10.000+0000, 2020-04-12T06:52:20.000+0000)</td><td>Class C</td><td>15</td></tr><tr><td>List(2020-04-12T07:00:50.000+0000, 2020-04-12T07:01:00.000+0000)</td><td>Class C</td><td>10</td></tr><tr><td>List(2020-04-12T07:10:20.000+0000, 2020-04-12T07:10:30.000+0000)</td><td>Class C</td><td>13</td></tr><tr><td>List(2020-04-12T06:52:30.000+0000, 2020-04-12T06:52:40.000+0000)</td><td>Class C</td><td>9</td></tr><tr><td>List(2020-04-12T06:55:30.000+0000, 2020-04-12T06:55:40.000+0000)</td><td>Class C</td><td>17</td></tr><tr><td>List(2020-04-12T06:59:40.000+0000, 2020-04-12T06:59:50.000+0000)</td><td>Class C</td><td>12</td></tr><tr><td>List(2020-04-12T06:57:30.000+0000, 2020-04-12T06:57:40.000+0000)</td><td>Class C</td><td>14</td></tr><tr><td>List(2020-04-12T06:57:20.000+0000, 2020-04-12T06:57:30.000+0000)</td><td>Class C</td><td>9</td></tr><tr><td>List(2020-04-12T06:47:30.000+0000, 2020-04-12T06:47:40.000+0000)</td><td>Class C</td><td>3</td></tr><tr><td>List(2020-04-12T07:04:20.000+0000, 2020-04-12T07:04:30.000+0000)</td><td>Class C</td><td>7</td></tr><tr><td>List(2020-04-12T07:01:50.000+0000, 2020-04-12T07:02:00.000+0000)</td><td>Class C</td><td>12</td></tr><tr><td>List(2020-04-12T07:05:00.000+0000, 2020-04-12T07:05:10.000+0000)</td><td>Class C</td><td>10</td></tr><tr><td>List(2020-04-12T07:02:40.000+0000, 2020-04-12T07:02:50.000+0000)</td><td>Class C</td><td>12</td></tr><tr><td>List(2020-04-12T06:59:50.000+0000, 2020-04-12T07:00:00.000+0000)</td><td>Class C</td><td>8</td></tr><tr><td>List(2020-04-12T07:14:30.000+0000, 2020-04-12T07:14:40.000+0000)</td><td>Class C</td><td>11</td></tr><tr><td>List(2020-04-12T07:10:40.000+0000, 2020-04-12T07:10:50.000+0000)</td><td>Class C</td><td>17</td></tr><tr><td>List(2020-04-12T06:56:00.000+0000, 2020-04-12T06:56:10.000+0000)</td><td>Class C</td><td>15</td></tr><tr><td>List(2020-04-12T07:08:30.000+0000, 2020-04-12T07:08:40.000+0000)</td><td>Class C</td><td>14</td></tr><tr><td>List(2020-04-12T06:49:00.000+0000, 2020-04-12T06:49:10.000+0000)</td><td>Class C</td><td>13</td></tr><tr><td>List(2020-04-12T06:49:50.000+0000, 2020-04-12T06:50:00.000+0000)</td><td>Class C</td><td>15</td></tr><tr><td>List(2020-04-12T06:58:10.000+0000, 2020-04-12T06:58:20.000+0000)</td><td>Class C</td><td>11</td></tr><tr><td>List(2020-04-12T07:14:00.000+0000, 2020-04-12T07:14:10.000+0000)</td><td>Class C</td><td>8</td></tr><tr><td>List(2020-04-12T06:55:40.000+0000, 2020-04-12T06:55:50.000+0000)</td><td>Class C</td><td>10</td></tr><tr><td>List(2020-04-12T07:15:20.000+0000, 2020-04-12T07:15:30.000+0000)</td><td>Class C</td><td>10</td></tr><tr><td>List(2020-04-12T07:02:00.000+0000, 2020-04-12T07:02:10.000+0000)</td><td>Class C</td><td>10</td></tr><tr><td>List(2020-04-12T07:01:00.000+0000, 2020-04-12T07:01:10.000+0000)</td><td>Class C</td><td>14</td></tr><tr><td>List(2020-04-12T07:10:30.000+0000, 2020-04-12T07:10:40.000+0000)</td><td>Class C</td><td>18</td></tr><tr><td>List(2020-04-12T06:53:40.000+0000, 2020-04-12T06:53:50.000+0000)</td><td>Class C</td><td>12</td></tr><tr><td>List(2020-04-12T07:08:10.000+0000, 2020-04-12T07:08:20.000+0000)</td><td>Class C</td><td>18</td></tr><tr><td>List(2020-04-12T07:05:10.000+0000, 2020-04-12T07:05:20.000+0000)</td><td>Class C</td><td>14</td></tr><tr><td>List(2020-04-12T06:57:10.000+0000, 2020-04-12T06:57:20.000+0000)</td><td>Class C</td><td>7</td></tr><tr><td>List(2020-04-12T07:15:30.000+0000, 2020-04-12T07:15:40.000+0000)</td><td>Class C</td><td>12</td></tr><tr><td>List(2020-04-12T06:52:40.000+0000, 2020-04-12T06:52:50.000+0000)</td><td>Class C</td><td>20</td></tr><tr><td>List(2020-04-12T07:17:10.000+0000, 2020-04-12T07:17:20.000+0000)</td><td>Class C</td><td>4</td></tr></tbody></table></div>"
      ]
     },
     "metadata": {},
     "output_type": "display_data"
    }
   ],
   "source": [
    "# TODO\n",
    "display(ipDF, streamName = myStreamName)"
   ]
  },
  {
   "cell_type": "code",
   "execution_count": 18,
   "metadata": {},
   "outputs": [
    {
     "data": {
      "text/html": [
       "<style scoped>\n",
       "  .ansiout {\n",
       "    display: block;\n",
       "    unicode-bidi: embed;\n",
       "    white-space: pre-wrap;\n",
       "    word-wrap: break-word;\n",
       "    word-break: break-all;\n",
       "    font-family: \"Source Code Pro\", \"Menlo\", monospace;;\n",
       "    font-size: 13px;\n",
       "    color: #555;\n",
       "    margin-left: 4px;\n",
       "    line-height: 19px;\n",
       "  }\n",
       "</style>\n",
       "<div class=\"ansiout\">Tests passed!\n",
       "</div>"
      ]
     },
     "metadata": {},
     "output_type": "display_data"
    }
   ],
   "source": [
    "# TEST - Run this cell to test your solution.\n",
    "dbTest(\"SS-04-numActiveStreams\", True, len(spark.streams.active) > 0)\n",
    "\n",
    "print(\"Tests passed!\")"
   ]
  },
  {
   "cell_type": "markdown",
   "metadata": {},
   "source": [
    "Wait until stream is done initializing..."
   ]
  },
  {
   "cell_type": "code",
   "execution_count": 20,
   "metadata": {},
   "outputs": [
    {
     "data": {
      "text/html": [
       "<style scoped>\n",
       "  .ansiout {\n",
       "    display: block;\n",
       "    unicode-bidi: embed;\n",
       "    white-space: pre-wrap;\n",
       "    word-wrap: break-word;\n",
       "    word-break: break-all;\n",
       "    font-family: \"Source Code Pro\", \"Menlo\", monospace;;\n",
       "    font-size: 13px;\n",
       "    color: #555;\n",
       "    margin-left: 4px;\n",
       "    line-height: 19px;\n",
       "  }\n",
       "</style>\n",
       "<div class=\"ansiout\">The stream lab04a_ps is active and ready.\n",
       "</div>"
      ]
     },
     "metadata": {},
     "output_type": "display_data"
    }
   ],
   "source": [
    "untilStreamIsReady(myStreamName)"
   ]
  },
  {
   "cell_type": "markdown",
   "metadata": {},
   "source": [
    "<h2>Exercise 5: Stop streaming jobs</h2>\n",
    "\n",
    "Before we can conclude, we need to shut down all active streams."
   ]
  },
  {
   "cell_type": "code",
   "execution_count": 22,
   "metadata": {},
   "outputs": [
    {
     "data": {
      "text/html": [
       "<style scoped>\n",
       "  .ansiout {\n",
       "    display: block;\n",
       "    unicode-bidi: embed;\n",
       "    white-space: pre-wrap;\n",
       "    word-wrap: break-word;\n",
       "    word-break: break-all;\n",
       "    font-family: \"Source Code Pro\", \"Menlo\", monospace;;\n",
       "    font-size: 13px;\n",
       "    color: #555;\n",
       "    margin-left: 4px;\n",
       "    line-height: 19px;\n",
       "  }\n",
       "</style>\n",
       "<div class=\"ansiout\"></div>"
      ]
     },
     "metadata": {},
     "output_type": "display_data"
    }
   ],
   "source": [
    "# TODO\n",
    "for s in spark.streams.active:   # Iterate over all the active streams\n",
    "  try:\n",
    "    s.stop()                     # Stop the stream\n",
    "    s.awaitTermination()         # Wait for it to stop\n",
    "    \n",
    "  except Exception as e:\n",
    "    # In extream cases, this funtion may throw an ignorable error.\n",
    "    print(\"An [ignorable] error has occured while stoping the stream.\\n\".str(e))   "
   ]
  },
  {
   "cell_type": "code",
   "execution_count": 23,
   "metadata": {},
   "outputs": [
    {
     "data": {
      "text/html": [
       "<style scoped>\n",
       "  .ansiout {\n",
       "    display: block;\n",
       "    unicode-bidi: embed;\n",
       "    white-space: pre-wrap;\n",
       "    word-wrap: break-word;\n",
       "    word-break: break-all;\n",
       "    font-family: \"Source Code Pro\", \"Menlo\", monospace;;\n",
       "    font-size: 13px;\n",
       "    color: #555;\n",
       "    margin-left: 4px;\n",
       "    line-height: 19px;\n",
       "  }\n",
       "</style>\n",
       "<div class=\"ansiout\">Tests passed!\n",
       "</div>"
      ]
     },
     "metadata": {},
     "output_type": "display_data"
    }
   ],
   "source": [
    "# TEST - Run this cell to test your solution.\n",
    "dbTest(\"SS-04-numActiveStreams\", 0, len(spark.streams.active))\n",
    "\n",
    "print(\"Tests passed!\")"
   ]
  },
  {
   "cell_type": "code",
   "execution_count": 25,
   "metadata": {},
   "outputs": [],
   "source": [
    "%run \"../Includes/Classroom-Cleanup\""
   ]
  }
 ],
 "metadata": {
  "kernelspec": {
   "display_name": "Python 3",
   "language": "python",
   "name": "python3"
  },
  "language_info": {
   "codemirror_mode": {
    "name": "ipython",
    "version": 3
   },
   "file_extension": ".py",
   "mimetype": "text/x-python",
   "name": "python",
   "nbconvert_exporter": "python",
   "pygments_lexer": "ipython3",
   "version": "3.7.3"
  },
  "name": "SS 04a - Using Kafka Lab",
  "notebookId": 3227357976396836
 },
 "nbformat": 4,
 "nbformat_minor": 1
}
