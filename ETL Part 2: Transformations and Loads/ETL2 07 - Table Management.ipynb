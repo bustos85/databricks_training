{
 "cells": [
  {
   "cell_type": "code",
   "execution_count": 4,
   "metadata": {},
   "outputs": [],
   "source": [
    "%run \"./Includes/Classroom-Setup\""
   ]
  },
  {
   "cell_type": "markdown",
   "metadata": {},
   "source": [
    "### Optimization of Data Storage with Managed and Unmanaged Tables\n",
    "\n",
    "A **managed table** is a table that manages both the data itself as well as the metadata.  In this case, a `DROP TABLE` command removes both the metadata for the table as well as the data itself.  \n",
    "\n",
    "**Unmanaged tables** manage the metadata from a table such as the schema and data location, but the data itself sits in a different location, often backed by a blob store like the Azure Blob or S3. Dropping an unmanaged table drops only the metadata associated with the table while the data itself remains in place.\n"
   ]
  },
  {
   "cell_type": "markdown",
   "metadata": {},
   "source": [
    "### Writing to a Managed Table\n",
    "\n",
    "Managed tables allow access to data using the Spark SQL API."
   ]
  },
  {
   "cell_type": "markdown",
   "metadata": {},
   "source": [
    "Create a DataFrame."
   ]
  },
  {
   "cell_type": "code",
   "execution_count": 9,
   "metadata": {},
   "outputs": [
    {
     "data": {
      "text/html": [
       "<style scoped>\n",
       "  .table-result-container {\n",
       "    max-height: 300px;\n",
       "    overflow: auto;\n",
       "  }\n",
       "  table, th, td {\n",
       "    border: 1px solid black;\n",
       "    border-collapse: collapse;\n",
       "  }\n",
       "  th, td {\n",
       "    padding: 5px;\n",
       "  }\n",
       "  th {\n",
       "    text-align: left;\n",
       "  }\n",
       "</style><div class='table-result-container'><table class='table-result'><thead style='background-color: white'><tr><th>id</th></tr></thead><tbody><tr><td>1</td></tr><tr><td>2</td></tr><tr><td>3</td></tr><tr><td>4</td></tr><tr><td>5</td></tr><tr><td>6</td></tr><tr><td>7</td></tr><tr><td>8</td></tr><tr><td>9</td></tr><tr><td>10</td></tr><tr><td>11</td></tr><tr><td>12</td></tr><tr><td>13</td></tr><tr><td>14</td></tr><tr><td>15</td></tr><tr><td>16</td></tr><tr><td>17</td></tr><tr><td>18</td></tr><tr><td>19</td></tr><tr><td>20</td></tr><tr><td>21</td></tr><tr><td>22</td></tr><tr><td>23</td></tr><tr><td>24</td></tr><tr><td>25</td></tr><tr><td>26</td></tr><tr><td>27</td></tr><tr><td>28</td></tr><tr><td>29</td></tr><tr><td>30</td></tr><tr><td>31</td></tr><tr><td>32</td></tr><tr><td>33</td></tr><tr><td>34</td></tr><tr><td>35</td></tr><tr><td>36</td></tr><tr><td>37</td></tr><tr><td>38</td></tr><tr><td>39</td></tr><tr><td>40</td></tr><tr><td>41</td></tr><tr><td>42</td></tr><tr><td>43</td></tr><tr><td>44</td></tr><tr><td>45</td></tr><tr><td>46</td></tr><tr><td>47</td></tr><tr><td>48</td></tr><tr><td>49</td></tr><tr><td>50</td></tr><tr><td>51</td></tr><tr><td>52</td></tr><tr><td>53</td></tr><tr><td>54</td></tr><tr><td>55</td></tr><tr><td>56</td></tr><tr><td>57</td></tr><tr><td>58</td></tr><tr><td>59</td></tr><tr><td>60</td></tr><tr><td>61</td></tr><tr><td>62</td></tr><tr><td>63</td></tr><tr><td>64</td></tr><tr><td>65</td></tr><tr><td>66</td></tr><tr><td>67</td></tr><tr><td>68</td></tr><tr><td>69</td></tr><tr><td>70</td></tr><tr><td>71</td></tr><tr><td>72</td></tr><tr><td>73</td></tr><tr><td>74</td></tr><tr><td>75</td></tr><tr><td>76</td></tr><tr><td>77</td></tr><tr><td>78</td></tr><tr><td>79</td></tr><tr><td>80</td></tr><tr><td>81</td></tr><tr><td>82</td></tr><tr><td>83</td></tr><tr><td>84</td></tr><tr><td>85</td></tr><tr><td>86</td></tr><tr><td>87</td></tr><tr><td>88</td></tr><tr><td>89</td></tr><tr><td>90</td></tr><tr><td>91</td></tr><tr><td>92</td></tr><tr><td>93</td></tr><tr><td>94</td></tr><tr><td>95</td></tr><tr><td>96</td></tr><tr><td>97</td></tr><tr><td>98</td></tr><tr><td>99</td></tr></tbody></table></div>"
      ]
     },
     "metadata": {},
     "output_type": "display_data"
    }
   ],
   "source": [
    "df = spark.range(1, 100)\n",
    "\n",
    "display(df)"
   ]
  },
  {
   "cell_type": "markdown",
   "metadata": {},
   "source": [
    "Register the table."
   ]
  },
  {
   "cell_type": "code",
   "execution_count": 11,
   "metadata": {},
   "outputs": [
    {
     "data": {
      "text/html": [
       "<style scoped>\n",
       "  .ansiout {\n",
       "    display: block;\n",
       "    unicode-bidi: embed;\n",
       "    white-space: pre-wrap;\n",
       "    word-wrap: break-word;\n",
       "    word-break: break-all;\n",
       "    font-family: \"Source Code Pro\", \"Menlo\", monospace;;\n",
       "    font-size: 13px;\n",
       "    color: #555;\n",
       "    margin-left: 4px;\n",
       "    line-height: 19px;\n",
       "  }\n",
       "</style>\n",
       "<div class=\"ansiout\"></div>"
      ]
     },
     "metadata": {},
     "output_type": "display_data"
    }
   ],
   "source": [
    "df.write.mode(\"OVERWRITE\").saveAsTable(\"myTableManaged\")"
   ]
  },
  {
   "cell_type": "markdown",
   "metadata": {},
   "source": [
    "Use `DESCRIBE EXTENDED` to describe the contents of the table.  Scroll down to see the table `Type`.\n",
    "\n",
    "Notice the location is also `dbfs:/user/hive/warehouse/< your database >/mytablemanaged`."
   ]
  },
  {
   "cell_type": "code",
   "execution_count": 13,
   "metadata": {},
   "outputs": [
    {
     "data": {
      "text/html": [
       "<style scoped>\n",
       "  .table-result-container {\n",
       "    max-height: 300px;\n",
       "    overflow: auto;\n",
       "  }\n",
       "  table, th, td {\n",
       "    border: 1px solid black;\n",
       "    border-collapse: collapse;\n",
       "  }\n",
       "  th, td {\n",
       "    padding: 5px;\n",
       "  }\n",
       "  th {\n",
       "    text-align: left;\n",
       "  }\n",
       "</style><div class='table-result-container'><table class='table-result'><thead style='background-color: white'><tr><th>col_name</th><th>data_type</th><th>comment</th></tr></thead><tbody><tr><td>id</td><td>bigint</td><td>null</td></tr><tr><td></td><td></td><td></td></tr><tr><td># Detailed Table Information</td><td></td><td></td></tr><tr><td>Database</td><td>jose_manuel_bustos_munoz_everis_com_etl_part_2_etl2_07_table_management_psp</td><td></td></tr><tr><td>Table</td><td>mytablemanaged</td><td></td></tr><tr><td>Owner</td><td>root</td><td></td></tr><tr><td>Created Time</td><td>Tue Apr 14 08:23:18 UTC 2020</td><td></td></tr><tr><td>Last Access</td><td>Thu Jan 01 00:00:00 UTC 1970</td><td></td></tr><tr><td>Created By</td><td>Spark 2.4.4</td><td></td></tr><tr><td>Type</td><td>MANAGED</td><td></td></tr><tr><td>Provider</td><td>parquet</td><td></td></tr><tr><td>Table Properties</td><td>[transient_lastDdlTime=1586852598]</td><td></td></tr><tr><td>Location</td><td>dbfs:/user/hive/warehouse/jose_manuel_bustos_munoz_everis_com_etl_part_2_etl2_07_table_management_psp.db/mytablemanaged</td><td></td></tr><tr><td>Serde Library</td><td>org.apache.hadoop.hive.ql.io.parquet.serde.ParquetHiveSerDe</td><td></td></tr><tr><td>InputFormat</td><td>org.apache.hadoop.hive.ql.io.parquet.MapredParquetInputFormat</td><td></td></tr><tr><td>OutputFormat</td><td>org.apache.hadoop.hive.ql.io.parquet.MapredParquetOutputFormat</td><td></td></tr></tbody></table></div>"
      ]
     },
     "metadata": {},
     "output_type": "display_data"
    }
   ],
   "source": [
    "%sql\n",
    "DESCRIBE EXTENDED myTableManaged"
   ]
  },
  {
   "cell_type": "markdown",
   "metadata": {},
   "source": [
    "### Writing to an Unmanaged Table\n",
    "\n",
    "Write to an unmanaged table by adding an `.option()` that includes a path."
   ]
  },
  {
   "cell_type": "code",
   "execution_count": 15,
   "metadata": {},
   "outputs": [
    {
     "data": {
      "text/html": [
       "<style scoped>\n",
       "  .ansiout {\n",
       "    display: block;\n",
       "    unicode-bidi: embed;\n",
       "    white-space: pre-wrap;\n",
       "    word-wrap: break-word;\n",
       "    word-break: break-all;\n",
       "    font-family: \"Source Code Pro\", \"Menlo\", monospace;;\n",
       "    font-size: 13px;\n",
       "    color: #555;\n",
       "    margin-left: 4px;\n",
       "    line-height: 19px;\n",
       "  }\n",
       "</style>\n",
       "<div class=\"ansiout\"></div>"
      ]
     },
     "metadata": {},
     "output_type": "display_data"
    }
   ],
   "source": [
    "unmanagedPath = f\"{workingDir}/myTableUnmanaged\"\n",
    "\n",
    "df.write.mode(\"OVERWRITE\").option('path', unmanagedPath).saveAsTable(\"myTableUnmanaged\")"
   ]
  },
  {
   "cell_type": "markdown",
   "metadata": {},
   "source": [
    "Now examine the table type and location of the data."
   ]
  },
  {
   "cell_type": "code",
   "execution_count": 17,
   "metadata": {},
   "outputs": [
    {
     "data": {
      "text/html": [
       "<style scoped>\n",
       "  .table-result-container {\n",
       "    max-height: 300px;\n",
       "    overflow: auto;\n",
       "  }\n",
       "  table, th, td {\n",
       "    border: 1px solid black;\n",
       "    border-collapse: collapse;\n",
       "  }\n",
       "  th, td {\n",
       "    padding: 5px;\n",
       "  }\n",
       "  th {\n",
       "    text-align: left;\n",
       "  }\n",
       "</style><div class='table-result-container'><table class='table-result'><thead style='background-color: white'><tr><th>col_name</th><th>data_type</th><th>comment</th></tr></thead><tbody><tr><td>id</td><td>bigint</td><td>null</td></tr><tr><td></td><td></td><td></td></tr><tr><td># Detailed Table Information</td><td></td><td></td></tr><tr><td>Database</td><td>jose_manuel_bustos_munoz_everis_com_etl_part_2_etl2_07_table_management_psp</td><td></td></tr><tr><td>Table</td><td>mytableunmanaged</td><td></td></tr><tr><td>Owner</td><td>root</td><td></td></tr><tr><td>Created Time</td><td>Tue Apr 14 08:24:13 UTC 2020</td><td></td></tr><tr><td>Last Access</td><td>Thu Jan 01 00:00:00 UTC 1970</td><td></td></tr><tr><td>Created By</td><td>Spark 2.4.4</td><td></td></tr><tr><td>Type</td><td>EXTERNAL</td><td></td></tr><tr><td>Provider</td><td>parquet</td><td></td></tr><tr><td>Table Properties</td><td>[transient_lastDdlTime=1586852653]</td><td></td></tr><tr><td>Location</td><td>dbfs:/user/jose.manuel.bustos.munoz@everis.com/etl_part_2/etl2_07_table_management_psp/myTableUnmanaged</td><td></td></tr><tr><td>Serde Library</td><td>org.apache.hadoop.hive.ql.io.parquet.serde.ParquetHiveSerDe</td><td></td></tr><tr><td>InputFormat</td><td>org.apache.hadoop.hive.ql.io.parquet.MapredParquetInputFormat</td><td></td></tr><tr><td>OutputFormat</td><td>org.apache.hadoop.hive.ql.io.parquet.MapredParquetOutputFormat</td><td></td></tr></tbody></table></div>"
      ]
     },
     "metadata": {},
     "output_type": "display_data"
    }
   ],
   "source": [
    "%sql\n",
    "DESCRIBE EXTENDED myTableUnmanaged"
   ]
  },
  {
   "cell_type": "markdown",
   "metadata": {},
   "source": [
    "### Dropping Tables\n",
    "\n",
    "Take a look at how dropping tables operates differently in the two cases below."
   ]
  },
  {
   "cell_type": "markdown",
   "metadata": {},
   "source": [
    "Look at the files backing up the managed table."
   ]
  },
  {
   "cell_type": "code",
   "execution_count": 20,
   "metadata": {},
   "outputs": [
    {
     "data": {
      "text/html": [
       "<style scoped>\n",
       "  .table-result-container {\n",
       "    max-height: 300px;\n",
       "    overflow: auto;\n",
       "  }\n",
       "  table, th, td {\n",
       "    border: 1px solid black;\n",
       "    border-collapse: collapse;\n",
       "  }\n",
       "  th, td {\n",
       "    padding: 5px;\n",
       "  }\n",
       "  th {\n",
       "    text-align: left;\n",
       "  }\n",
       "</style><div class='table-result-container'><table class='table-result'><thead style='background-color: white'><tr><th>path</th><th>name</th><th>size</th></tr></thead><tbody><tr><td>dbfs:/user/hive/warehouse/jose_manuel_bustos_munoz_everis_com_etl_part_2_etl2_07_table_management_psp.db/mytablemanaged/_SUCCESS</td><td>_SUCCESS</td><td>0</td></tr><tr><td>dbfs:/user/hive/warehouse/jose_manuel_bustos_munoz_everis_com_etl_part_2_etl2_07_table_management_psp.db/mytablemanaged/_committed_8123921731873644026</td><td>_committed_8123921731873644026</td><td>824</td></tr><tr><td>dbfs:/user/hive/warehouse/jose_manuel_bustos_munoz_everis_com_etl_part_2_etl2_07_table_management_psp.db/mytablemanaged/_started_8123921731873644026</td><td>_started_8123921731873644026</td><td>0</td></tr><tr><td>dbfs:/user/hive/warehouse/jose_manuel_bustos_munoz_everis_com_etl_part_2_etl2_07_table_management_psp.db/mytablemanaged/part-00000-tid-8123921731873644026-ac800257-735a-4778-b8ad-9936dca9fa98-474-1-c000.snappy.parquet</td><td>part-00000-tid-8123921731873644026-ac800257-735a-4778-b8ad-9936dca9fa98-474-1-c000.snappy.parquet</td><td>494</td></tr><tr><td>dbfs:/user/hive/warehouse/jose_manuel_bustos_munoz_everis_com_etl_part_2_etl2_07_table_management_psp.db/mytablemanaged/part-00001-tid-8123921731873644026-ac800257-735a-4778-b8ad-9936dca9fa98-475-1-c000.snappy.parquet</td><td>part-00001-tid-8123921731873644026-ac800257-735a-4778-b8ad-9936dca9fa98-475-1-c000.snappy.parquet</td><td>494</td></tr><tr><td>dbfs:/user/hive/warehouse/jose_manuel_bustos_munoz_everis_com_etl_part_2_etl2_07_table_management_psp.db/mytablemanaged/part-00002-tid-8123921731873644026-ac800257-735a-4778-b8ad-9936dca9fa98-476-1-c000.snappy.parquet</td><td>part-00002-tid-8123921731873644026-ac800257-735a-4778-b8ad-9936dca9fa98-476-1-c000.snappy.parquet</td><td>499</td></tr><tr><td>dbfs:/user/hive/warehouse/jose_manuel_bustos_munoz_everis_com_etl_part_2_etl2_07_table_management_psp.db/mytablemanaged/part-00003-tid-8123921731873644026-ac800257-735a-4778-b8ad-9936dca9fa98-477-1-c000.snappy.parquet</td><td>part-00003-tid-8123921731873644026-ac800257-735a-4778-b8ad-9936dca9fa98-477-1-c000.snappy.parquet</td><td>494</td></tr><tr><td>dbfs:/user/hive/warehouse/jose_manuel_bustos_munoz_everis_com_etl_part_2_etl2_07_table_management_psp.db/mytablemanaged/part-00004-tid-8123921731873644026-ac800257-735a-4778-b8ad-9936dca9fa98-478-1-c000.snappy.parquet</td><td>part-00004-tid-8123921731873644026-ac800257-735a-4778-b8ad-9936dca9fa98-478-1-c000.snappy.parquet</td><td>493</td></tr><tr><td>dbfs:/user/hive/warehouse/jose_manuel_bustos_munoz_everis_com_etl_part_2_etl2_07_table_management_psp.db/mytablemanaged/part-00005-tid-8123921731873644026-ac800257-735a-4778-b8ad-9936dca9fa98-479-1-c000.snappy.parquet</td><td>part-00005-tid-8123921731873644026-ac800257-735a-4778-b8ad-9936dca9fa98-479-1-c000.snappy.parquet</td><td>499</td></tr><tr><td>dbfs:/user/hive/warehouse/jose_manuel_bustos_munoz_everis_com_etl_part_2_etl2_07_table_management_psp.db/mytablemanaged/part-00006-tid-8123921731873644026-ac800257-735a-4778-b8ad-9936dca9fa98-480-1-c000.snappy.parquet</td><td>part-00006-tid-8123921731873644026-ac800257-735a-4778-b8ad-9936dca9fa98-480-1-c000.snappy.parquet</td><td>494</td></tr><tr><td>dbfs:/user/hive/warehouse/jose_manuel_bustos_munoz_everis_com_etl_part_2_etl2_07_table_management_psp.db/mytablemanaged/part-00007-tid-8123921731873644026-ac800257-735a-4778-b8ad-9936dca9fa98-481-1-c000.snappy.parquet</td><td>part-00007-tid-8123921731873644026-ac800257-735a-4778-b8ad-9936dca9fa98-481-1-c000.snappy.parquet</td><td>499</td></tr></tbody></table></div>"
      ]
     },
     "metadata": {},
     "output_type": "display_data"
    }
   ],
   "source": [
    "hivePath = f\"dbfs:/user/hive/warehouse/{databaseName}.db/mytablemanaged\"\n",
    "\n",
    "display(dbutils.fs.ls(hivePath))"
   ]
  },
  {
   "cell_type": "markdown",
   "metadata": {},
   "source": [
    "Drop the table."
   ]
  },
  {
   "cell_type": "code",
   "execution_count": 22,
   "metadata": {},
   "outputs": [
    {
     "data": {
      "text/html": [
       "<style scoped>\n",
       "  .table-result-container {\n",
       "    max-height: 300px;\n",
       "    overflow: auto;\n",
       "  }\n",
       "  table, th, td {\n",
       "    border: 1px solid black;\n",
       "    border-collapse: collapse;\n",
       "  }\n",
       "  th, td {\n",
       "    padding: 5px;\n",
       "  }\n",
       "  th {\n",
       "    text-align: left;\n",
       "  }\n",
       "</style><div class='table-result-container'><table class='table-result'><thead style='background-color: white'><tr></tr></thead><tbody></tbody></table></div>"
      ]
     },
     "metadata": {},
     "output_type": "display_data"
    }
   ],
   "source": [
    "%sql\n",
    "DROP TABLE myTableManaged"
   ]
  },
  {
   "cell_type": "markdown",
   "metadata": {},
   "source": [
    "Next look at the underlying data."
   ]
  },
  {
   "cell_type": "code",
   "execution_count": 24,
   "metadata": {},
   "outputs": [
    {
     "data": {
      "text/html": [
       "<style scoped>\n",
       "  .ansiout {\n",
       "    display: block;\n",
       "    unicode-bidi: embed;\n",
       "    white-space: pre-wrap;\n",
       "    word-wrap: break-word;\n",
       "    word-break: break-all;\n",
       "    font-family: \"Source Code Pro\", \"Menlo\", monospace;;\n",
       "    font-size: 13px;\n",
       "    color: #555;\n",
       "    margin-left: 4px;\n",
       "    line-height: 19px;\n",
       "  }\n",
       "</style>\n",
       "<div class=\"ansiout\">An error occurred while calling z:com.databricks.backend.daemon.dbutils.FSUtils.ls.\n",
       ": java.io.FileNotFoundException: /user/hive/warehouse/jose_manuel_bustos_munoz_everis_com_etl_part_2_etl2_07_table_management_psp.db/mytablemanaged\n",
       "\tat com.databricks.backend.daemon.data.client.DbfsClient.send0(DbfsClient.scala:115)\n",
       "\tat com.databricks.backend.daemon.data.client.DbfsClient.sendIdempotent(DbfsClient.scala:63)\n",
       "\tat com.databricks.backend.daemon.data.client.DatabricksFileSystemV1.listStatus(DatabricksFileSystemV1.scala:177)\n",
       "\tat com.databricks.backend.daemon.data.client.DatabricksFileSystem.listStatus(DatabricksFileSystem.scala:150)\n",
       "\tat com.databricks.backend.daemon.dbutils.FSUtils$$anonfun$ls$1.apply(DBUtilsCore.scala:86)\n",
       "\tat com.databricks.backend.daemon.dbutils.FSUtils$$anonfun$ls$1.apply(DBUtilsCore.scala:85)\n",
       "\tat com.databricks.backend.daemon.dbutils.FSUtils$.com$databricks$backend$daemon$dbutils$FSUtils$$withFsSafetyCheck(DBUtilsCore.scala:81)\n",
       "\tat com.databricks.backend.daemon.dbutils.FSUtils$.ls(DBUtilsCore.scala:85)\n",
       "\tat com.databricks.backend.daemon.dbutils.FSUtils.ls(DBUtilsCore.scala)\n",
       "\tat sun.reflect.NativeMethodAccessorImpl.invoke0(Native Method)\n",
       "\tat sun.reflect.NativeMethodAccessorImpl.invoke(NativeMethodAccessorImpl.java:62)\n",
       "\tat sun.reflect.DelegatingMethodAccessorImpl.invoke(DelegatingMethodAccessorImpl.java:43)\n",
       "\tat java.lang.reflect.Method.invoke(Method.java:498)\n",
       "\tat py4j.reflection.MethodInvoker.invoke(MethodInvoker.java:244)\n",
       "\tat py4j.reflection.ReflectionEngine.invoke(ReflectionEngine.java:380)\n",
       "\tat py4j.Gateway.invoke(Gateway.java:295)\n",
       "\tat py4j.commands.AbstractCommand.invokeMethod(AbstractCommand.java:132)\n",
       "\tat py4j.commands.CallCommand.execute(CallCommand.java:79)\n",
       "\tat py4j.GatewayConnection.run(GatewayConnection.java:251)\n",
       "\tat java.lang.Thread.run(Thread.java:748)\n",
       "\n",
       "</div>"
      ]
     },
     "metadata": {},
     "output_type": "display_data"
    }
   ],
   "source": [
    "try:\n",
    "  display(dbutils.fs.ls(hivePath))\n",
    "  \n",
    "except Exception as e:\n",
    "  print(e)"
   ]
  },
  {
   "cell_type": "markdown",
   "metadata": {},
   "source": [
    "The data was deleted so spark will not find the underlying data. Perform the same operation with the unmanaged table."
   ]
  },
  {
   "cell_type": "code",
   "execution_count": 26,
   "metadata": {},
   "outputs": [
    {
     "data": {
      "text/html": [
       "<style scoped>\n",
       "  .table-result-container {\n",
       "    max-height: 300px;\n",
       "    overflow: auto;\n",
       "  }\n",
       "  table, th, td {\n",
       "    border: 1px solid black;\n",
       "    border-collapse: collapse;\n",
       "  }\n",
       "  th, td {\n",
       "    padding: 5px;\n",
       "  }\n",
       "  th {\n",
       "    text-align: left;\n",
       "  }\n",
       "</style><div class='table-result-container'><table class='table-result'><thead style='background-color: white'><tr><th>path</th><th>name</th><th>size</th></tr></thead><tbody><tr><td>dbfs:/user/jose.manuel.bustos.munoz@everis.com/etl_part_2/etl2_07_table_management_psp/myTableUnmanaged/_SUCCESS</td><td>_SUCCESS</td><td>0</td></tr><tr><td>dbfs:/user/jose.manuel.bustos.munoz@everis.com/etl_part_2/etl2_07_table_management_psp/myTableUnmanaged/_committed_1253384154319975513</td><td>_committed_1253384154319975513</td><td>824</td></tr><tr><td>dbfs:/user/jose.manuel.bustos.munoz@everis.com/etl_part_2/etl2_07_table_management_psp/myTableUnmanaged/_started_1253384154319975513</td><td>_started_1253384154319975513</td><td>0</td></tr><tr><td>dbfs:/user/jose.manuel.bustos.munoz@everis.com/etl_part_2/etl2_07_table_management_psp/myTableUnmanaged/part-00000-tid-1253384154319975513-cb34ed98-bbe3-4a2f-a1d0-584da37b525b-482-1-c000.snappy.parquet</td><td>part-00000-tid-1253384154319975513-cb34ed98-bbe3-4a2f-a1d0-584da37b525b-482-1-c000.snappy.parquet</td><td>494</td></tr><tr><td>dbfs:/user/jose.manuel.bustos.munoz@everis.com/etl_part_2/etl2_07_table_management_psp/myTableUnmanaged/part-00001-tid-1253384154319975513-cb34ed98-bbe3-4a2f-a1d0-584da37b525b-483-1-c000.snappy.parquet</td><td>part-00001-tid-1253384154319975513-cb34ed98-bbe3-4a2f-a1d0-584da37b525b-483-1-c000.snappy.parquet</td><td>494</td></tr><tr><td>dbfs:/user/jose.manuel.bustos.munoz@everis.com/etl_part_2/etl2_07_table_management_psp/myTableUnmanaged/part-00002-tid-1253384154319975513-cb34ed98-bbe3-4a2f-a1d0-584da37b525b-484-1-c000.snappy.parquet</td><td>part-00002-tid-1253384154319975513-cb34ed98-bbe3-4a2f-a1d0-584da37b525b-484-1-c000.snappy.parquet</td><td>499</td></tr><tr><td>dbfs:/user/jose.manuel.bustos.munoz@everis.com/etl_part_2/etl2_07_table_management_psp/myTableUnmanaged/part-00003-tid-1253384154319975513-cb34ed98-bbe3-4a2f-a1d0-584da37b525b-485-1-c000.snappy.parquet</td><td>part-00003-tid-1253384154319975513-cb34ed98-bbe3-4a2f-a1d0-584da37b525b-485-1-c000.snappy.parquet</td><td>494</td></tr><tr><td>dbfs:/user/jose.manuel.bustos.munoz@everis.com/etl_part_2/etl2_07_table_management_psp/myTableUnmanaged/part-00004-tid-1253384154319975513-cb34ed98-bbe3-4a2f-a1d0-584da37b525b-486-1-c000.snappy.parquet</td><td>part-00004-tid-1253384154319975513-cb34ed98-bbe3-4a2f-a1d0-584da37b525b-486-1-c000.snappy.parquet</td><td>493</td></tr><tr><td>dbfs:/user/jose.manuel.bustos.munoz@everis.com/etl_part_2/etl2_07_table_management_psp/myTableUnmanaged/part-00005-tid-1253384154319975513-cb34ed98-bbe3-4a2f-a1d0-584da37b525b-487-1-c000.snappy.parquet</td><td>part-00005-tid-1253384154319975513-cb34ed98-bbe3-4a2f-a1d0-584da37b525b-487-1-c000.snappy.parquet</td><td>499</td></tr><tr><td>dbfs:/user/jose.manuel.bustos.munoz@everis.com/etl_part_2/etl2_07_table_management_psp/myTableUnmanaged/part-00006-tid-1253384154319975513-cb34ed98-bbe3-4a2f-a1d0-584da37b525b-488-1-c000.snappy.parquet</td><td>part-00006-tid-1253384154319975513-cb34ed98-bbe3-4a2f-a1d0-584da37b525b-488-1-c000.snappy.parquet</td><td>494</td></tr><tr><td>dbfs:/user/jose.manuel.bustos.munoz@everis.com/etl_part_2/etl2_07_table_management_psp/myTableUnmanaged/part-00007-tid-1253384154319975513-cb34ed98-bbe3-4a2f-a1d0-584da37b525b-489-1-c000.snappy.parquet</td><td>part-00007-tid-1253384154319975513-cb34ed98-bbe3-4a2f-a1d0-584da37b525b-489-1-c000.snappy.parquet</td><td>499</td></tr></tbody></table></div>"
      ]
     },
     "metadata": {},
     "output_type": "display_data"
    }
   ],
   "source": [
    "display(dbutils.fs.ls(unmanagedPath))"
   ]
  },
  {
   "cell_type": "markdown",
   "metadata": {},
   "source": [
    "Drop the unmanaged table."
   ]
  },
  {
   "cell_type": "code",
   "execution_count": 28,
   "metadata": {},
   "outputs": [
    {
     "data": {
      "text/html": [
       "<style scoped>\n",
       "  .table-result-container {\n",
       "    max-height: 300px;\n",
       "    overflow: auto;\n",
       "  }\n",
       "  table, th, td {\n",
       "    border: 1px solid black;\n",
       "    border-collapse: collapse;\n",
       "  }\n",
       "  th, td {\n",
       "    padding: 5px;\n",
       "  }\n",
       "  th {\n",
       "    text-align: left;\n",
       "  }\n",
       "</style><div class='table-result-container'><table class='table-result'><thead style='background-color: white'><tr></tr></thead><tbody></tbody></table></div>"
      ]
     },
     "metadata": {},
     "output_type": "display_data"
    }
   ],
   "source": [
    "%sql\n",
    "DROP TABLE myTableUnmanaged"
   ]
  },
  {
   "cell_type": "markdown",
   "metadata": {},
   "source": [
    "See if the data is still there."
   ]
  },
  {
   "cell_type": "code",
   "execution_count": 30,
   "metadata": {},
   "outputs": [
    {
     "data": {
      "text/html": [
       "<style scoped>\n",
       "  .table-result-container {\n",
       "    max-height: 300px;\n",
       "    overflow: auto;\n",
       "  }\n",
       "  table, th, td {\n",
       "    border: 1px solid black;\n",
       "    border-collapse: collapse;\n",
       "  }\n",
       "  th, td {\n",
       "    padding: 5px;\n",
       "  }\n",
       "  th {\n",
       "    text-align: left;\n",
       "  }\n",
       "</style><div class='table-result-container'><table class='table-result'><thead style='background-color: white'><tr><th>path</th><th>name</th><th>size</th></tr></thead><tbody><tr><td>dbfs:/user/jose.manuel.bustos.munoz@everis.com/etl_part_2/etl2_07_table_management_psp/myTableUnmanaged/_SUCCESS</td><td>_SUCCESS</td><td>0</td></tr><tr><td>dbfs:/user/jose.manuel.bustos.munoz@everis.com/etl_part_2/etl2_07_table_management_psp/myTableUnmanaged/_committed_1253384154319975513</td><td>_committed_1253384154319975513</td><td>824</td></tr><tr><td>dbfs:/user/jose.manuel.bustos.munoz@everis.com/etl_part_2/etl2_07_table_management_psp/myTableUnmanaged/_started_1253384154319975513</td><td>_started_1253384154319975513</td><td>0</td></tr><tr><td>dbfs:/user/jose.manuel.bustos.munoz@everis.com/etl_part_2/etl2_07_table_management_psp/myTableUnmanaged/part-00000-tid-1253384154319975513-cb34ed98-bbe3-4a2f-a1d0-584da37b525b-482-1-c000.snappy.parquet</td><td>part-00000-tid-1253384154319975513-cb34ed98-bbe3-4a2f-a1d0-584da37b525b-482-1-c000.snappy.parquet</td><td>494</td></tr><tr><td>dbfs:/user/jose.manuel.bustos.munoz@everis.com/etl_part_2/etl2_07_table_management_psp/myTableUnmanaged/part-00001-tid-1253384154319975513-cb34ed98-bbe3-4a2f-a1d0-584da37b525b-483-1-c000.snappy.parquet</td><td>part-00001-tid-1253384154319975513-cb34ed98-bbe3-4a2f-a1d0-584da37b525b-483-1-c000.snappy.parquet</td><td>494</td></tr><tr><td>dbfs:/user/jose.manuel.bustos.munoz@everis.com/etl_part_2/etl2_07_table_management_psp/myTableUnmanaged/part-00002-tid-1253384154319975513-cb34ed98-bbe3-4a2f-a1d0-584da37b525b-484-1-c000.snappy.parquet</td><td>part-00002-tid-1253384154319975513-cb34ed98-bbe3-4a2f-a1d0-584da37b525b-484-1-c000.snappy.parquet</td><td>499</td></tr><tr><td>dbfs:/user/jose.manuel.bustos.munoz@everis.com/etl_part_2/etl2_07_table_management_psp/myTableUnmanaged/part-00003-tid-1253384154319975513-cb34ed98-bbe3-4a2f-a1d0-584da37b525b-485-1-c000.snappy.parquet</td><td>part-00003-tid-1253384154319975513-cb34ed98-bbe3-4a2f-a1d0-584da37b525b-485-1-c000.snappy.parquet</td><td>494</td></tr><tr><td>dbfs:/user/jose.manuel.bustos.munoz@everis.com/etl_part_2/etl2_07_table_management_psp/myTableUnmanaged/part-00004-tid-1253384154319975513-cb34ed98-bbe3-4a2f-a1d0-584da37b525b-486-1-c000.snappy.parquet</td><td>part-00004-tid-1253384154319975513-cb34ed98-bbe3-4a2f-a1d0-584da37b525b-486-1-c000.snappy.parquet</td><td>493</td></tr><tr><td>dbfs:/user/jose.manuel.bustos.munoz@everis.com/etl_part_2/etl2_07_table_management_psp/myTableUnmanaged/part-00005-tid-1253384154319975513-cb34ed98-bbe3-4a2f-a1d0-584da37b525b-487-1-c000.snappy.parquet</td><td>part-00005-tid-1253384154319975513-cb34ed98-bbe3-4a2f-a1d0-584da37b525b-487-1-c000.snappy.parquet</td><td>499</td></tr><tr><td>dbfs:/user/jose.manuel.bustos.munoz@everis.com/etl_part_2/etl2_07_table_management_psp/myTableUnmanaged/part-00006-tid-1253384154319975513-cb34ed98-bbe3-4a2f-a1d0-584da37b525b-488-1-c000.snappy.parquet</td><td>part-00006-tid-1253384154319975513-cb34ed98-bbe3-4a2f-a1d0-584da37b525b-488-1-c000.snappy.parquet</td><td>494</td></tr><tr><td>dbfs:/user/jose.manuel.bustos.munoz@everis.com/etl_part_2/etl2_07_table_management_psp/myTableUnmanaged/part-00007-tid-1253384154319975513-cb34ed98-bbe3-4a2f-a1d0-584da37b525b-489-1-c000.snappy.parquet</td><td>part-00007-tid-1253384154319975513-cb34ed98-bbe3-4a2f-a1d0-584da37b525b-489-1-c000.snappy.parquet</td><td>499</td></tr></tbody></table></div>"
      ]
     },
     "metadata": {},
     "output_type": "display_data"
    }
   ],
   "source": [
    "display(dbutils.fs.ls(unmanagedPath))"
   ]
  },
  {
   "cell_type": "markdown",
   "metadata": {},
   "source": [
    "## Review\n",
    "**Question:** What happens to the original data when I delete a managed table?  What about an unmanaged table?  \n",
    "**Answer:** Deleting a managed table deletes both the metadata and the data itself. Deleting an unmanaged table does not delete the original data.\n",
    "\n",
    "**Question:** What is a metastore?  \n",
    "**Answer:** A metastore is a repository of metadata such as the location of where data is and the schema information. A metastore does not include the data itself."
   ]
  },
  {
   "cell_type": "code",
   "execution_count": 33,
   "metadata": {},
   "outputs": [],
   "source": [
    "%run \"./Includes/Classroom-Cleanup\""
   ]
  }
 ],
 "metadata": {
  "kernelspec": {
   "display_name": "Python 3",
   "language": "python",
   "name": "python3"
  },
  "language_info": {
   "codemirror_mode": {
    "name": "ipython",
    "version": 3
   },
   "file_extension": ".py",
   "mimetype": "text/x-python",
   "name": "python",
   "nbconvert_exporter": "python",
   "pygments_lexer": "ipython3",
   "version": "3.7.3"
  },
  "name": "ETL2 07 - Table Management",
  "notebookId": 318591916143093
 },
 "nbformat": 4,
 "nbformat_minor": 1
}
